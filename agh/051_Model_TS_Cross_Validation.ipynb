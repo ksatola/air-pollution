{
 "cells": [
  {
   "cell_type": "markdown",
   "metadata": {},
   "source": [
    "```\n",
    "From: https://github.com/ksatola\n",
    "Version: 0.0.5\n",
    "```"
   ]
  },
  {
   "cell_type": "markdown",
   "metadata": {},
   "source": [
    "# Model - PM2.5 - Time Series Cross Validation"
   ]
  },
  {
   "cell_type": "markdown",
   "metadata": {},
   "source": [
    "## Contents\n",
    "\n",
    "- [Time series cross validation](#tscv)\n",
    "\n",
    "XXXXXXX\n",
    "\n",
    "\n",
    "\n",
    "- Hourly prediction\n",
    "    - [Load hourly data](#data_h)\n",
    "    - [Base Modelling](#model_h)\n",
    "    - [Hyper-parameters Tuning](#model_h_tune)\n",
    "- Daily prediction\n",
    "    - [Load daily data](#data_d)\n",
    "    - [Modelling](#model_d)\n",
    "    - [Hyper-parameters Tuning](#model_d_tune)"
   ]
  },
  {
   "cell_type": "code",
   "execution_count": 1,
   "metadata": {},
   "outputs": [],
   "source": [
    "%load_ext autoreload"
   ]
  },
  {
   "cell_type": "code",
   "execution_count": 2,
   "metadata": {},
   "outputs": [],
   "source": [
    "%autoreload 2"
   ]
  },
  {
   "cell_type": "code",
   "execution_count": 3,
   "metadata": {},
   "outputs": [],
   "source": [
    "import sys\n",
    "sys.path.insert(0, '../src')"
   ]
  },
  {
   "cell_type": "code",
   "execution_count": 4,
   "metadata": {},
   "outputs": [],
   "source": [
    "import warnings\n",
    "warnings.filterwarnings('ignore')\n",
    "warnings.simplefilter('ignore')"
   ]
  },
  {
   "cell_type": "code",
   "execution_count": 5,
   "metadata": {},
   "outputs": [],
   "source": [
    "import pandas as pd \n",
    "import numpy as np\n",
    "\n",
    "import matplotlib.pyplot as plt\n",
    "%matplotlib inline"
   ]
  },
  {
   "cell_type": "code",
   "execution_count": 123,
   "metadata": {},
   "outputs": [],
   "source": [
    "from model import (\n",
    "    #get_ensemble_models_for_regression,\n",
    "    #get_analytical_view_for_meta_model,\n",
    "    #fit_base_models,\n",
    "    #fit_meta_model,\n",
    "    #evaluate_models,\n",
    "    #predict_with_super_learner,\n",
    "    split_df_for_ts_modelling_date_range\n",
    ")\n",
    "\n",
    "from model import (\n",
    "    get_pm25_data_for_modelling,\n",
    "    split_df_for_ml_modelling,\n",
    "    get_models_for_regression\n",
    ")\n",
    "\n",
    "from measure import (\n",
    "    get_rmse,\n",
    "    score_ml_models\n",
    ")\n",
    "\n",
    "from plot import (\n",
    "    #plot_train_test_predicted,\n",
    "    plot_observed_vs_predicted,\n",
    "#    plot_observations_to_predictions_relationship,\n",
    "    #fit_theoretical_dist_and_plot\n",
    ")"
   ]
  },
  {
   "cell_type": "markdown",
   "metadata": {},
   "source": [
    "---\n",
    "<a id='tscv'></a>\n",
    "\n",
    "## Time series cross validation\n",
    "\n",
    "Always validate your cross validation by visualizing it.\n",
    "Folds = blocks/chunks\n",
    "Because time series data is not independent identically distributed (i.i.d.) we cannot use the standard cross validation techniques and randomized assignment of observations to different folds. To trust a score of a time series model, tt is crutial to ensure that the training set does not exist in the validation set. For time series cross validation, we must use a technique that always use training data from the past to predict the future.\n",
    "\n",
    "picture with cv folds\n",
    "\n",
    "We can see, that the training data always comes before the validation data.\n",
    "\n",
    "To score our models, a custom scoring function was created. This function calculated RMSE each time an estimator made the prediction.\n",
    "\n",
    "https://scikit-learn.org/stable/modules/cross_validation.html#cross-validation\n",
    "\n",
    "TimeSeriesSplit is a variation of k-fold which returns first  folds as train set and the  th fold as test set. Note that unlike standard cross-validation methods, successive training sets are supersets of those that come before them. Also, it adds all surplus data to the first training partition, which is always used to train the model. This class can be used to cross-validate time series data samples that are observed at fixed time intervals.\n",
    "\n",
    "https://machinelearningmastery.com/backtest-machine-learning-models-time-series-forecasting/\n",
    "\n",
    "Walk Forward Validation\n",
    "After a sensible configuration is chosen for your test-setup, models can be trained and evaluated.\n",
    "\n",
    "Starting at the beginning of the time series, the minimum number of samples in the window is used to train a model.\n",
    "The model makes a prediction for the next time step.\n",
    "The prediction is stored or evaluated against the known value.\n",
    "The window is expanded to include the known value and the process is repeated (go to step 1.)\n",
    "Because this methodology involves moving along the time series one-time step at a time, it is often called Walk Forward Testing or Walk Forward Validation. Additionally, because a sliding or expanding window is used to train a model, this method is also referred to as Rolling Window Analysis or a Rolling Forecast.\n",
    "\n",
    "Walk-forward validation is the gold standard of model evaluation. It is the k-fold cross validation of the time series world and is recommended for your own projects.\n",
    "\n",
    "This capability is currently not available in scikit-learn, although you could contrive the same effect with a carefully configured TimeSeriesSplit.\n",
    "\n",
    "\n",
    "XXXX\n",
    "<img src=\"images/super_learner_algorithm_flow_diagramsss.png\" style=\"width: 800px;\"/>\n",
    "From https://www.degruyter.com/view/journals/sagmb/6/1/article-sagmb.2007.6.1.1309.xml.xml\n",
    "\n",
    "\n"
   ]
  },
  {
   "cell_type": "code",
   "execution_count": 14,
   "metadata": {},
   "outputs": [
    {
     "name": "stderr",
     "output_type": "stream",
     "text": [
      "common.py | 42 | get_pm25_data_for_modelling | 05-Jun-20 21:12:05 | INFO: Dataframe loaded: /Users/ksatola/Documents/git/air-polution/agh/data/dfpm25_2008-2018_daily.hdf\n",
      "common.py | 43 | get_pm25_data_for_modelling | 05-Jun-20 21:12:05 | INFO: Dataframe size: (4019, 1)\n"
     ]
    },
    {
     "data": {
      "text/html": [
       "<div>\n",
       "<style scoped>\n",
       "    .dataframe tbody tr th:only-of-type {\n",
       "        vertical-align: middle;\n",
       "    }\n",
       "\n",
       "    .dataframe tbody tr th {\n",
       "        vertical-align: top;\n",
       "    }\n",
       "\n",
       "    .dataframe thead th {\n",
       "        text-align: right;\n",
       "    }\n",
       "</style>\n",
       "<table border=\"1\" class=\"dataframe\">\n",
       "  <thead>\n",
       "    <tr style=\"text-align: right;\">\n",
       "      <th></th>\n",
       "      <th>pm25</th>\n",
       "    </tr>\n",
       "    <tr>\n",
       "      <th>Datetime</th>\n",
       "      <th></th>\n",
       "    </tr>\n",
       "  </thead>\n",
       "  <tbody>\n",
       "    <tr>\n",
       "      <th>2008-01-01</th>\n",
       "      <td>53.586957</td>\n",
       "    </tr>\n",
       "    <tr>\n",
       "      <th>2008-01-02</th>\n",
       "      <td>30.958333</td>\n",
       "    </tr>\n",
       "    <tr>\n",
       "      <th>2008-01-03</th>\n",
       "      <td>46.104167</td>\n",
       "    </tr>\n",
       "    <tr>\n",
       "      <th>2008-01-04</th>\n",
       "      <td>42.979167</td>\n",
       "    </tr>\n",
       "    <tr>\n",
       "      <th>2008-01-05</th>\n",
       "      <td>57.312500</td>\n",
       "    </tr>\n",
       "  </tbody>\n",
       "</table>\n",
       "</div>"
      ],
      "text/plain": [
       "                 pm25\n",
       "Datetime             \n",
       "2008-01-01  53.586957\n",
       "2008-01-02  30.958333\n",
       "2008-01-03  46.104167\n",
       "2008-01-04  42.979167\n",
       "2008-01-05  57.312500"
      ]
     },
     "execution_count": 14,
     "metadata": {},
     "output_type": "execute_result"
    }
   ],
   "source": [
    "df = get_pm25_data_for_modelling('ts', 'd')\n",
    "df.head()"
   ]
  },
  {
   "cell_type": "code",
   "execution_count": 15,
   "metadata": {},
   "outputs": [],
   "source": [
    "#df = df[-365:].copy()\n",
    "#df = df.reset_index(drop=True)\n",
    "\n",
    "train_range_from_d = '2008-01-01'\n",
    "train_range_to_d = '2018-12-25'\n",
    "test_range_from_d = '2018-12-26'\n",
    "test_range_to_d = None"
   ]
  },
  {
   "cell_type": "code",
   "execution_count": 16,
   "metadata": {},
   "outputs": [
    {
     "name": "stderr",
     "output_type": "stream",
     "text": [
      "common.py | 127 | split_df_for_ts_modelling_date_range | 05-Jun-20 21:12:06 | INFO: Observations: 4019\n",
      "common.py | 128 | split_df_for_ts_modelling_date_range | 05-Jun-20 21:12:06 | INFO: Training Observations: 4012\n",
      "common.py | 129 | split_df_for_ts_modelling_date_range | 05-Jun-20 21:12:06 | INFO: Testing Observations: 7\n",
      "common.py | 131 | split_df_for_ts_modelling_date_range | 05-Jun-20 21:12:06 | INFO: (4019, 1), (4012, 1), (7, 1), 4019\n"
     ]
    }
   ],
   "source": [
    "df_train, df_test = split_df_for_ts_modelling_date_range(df,\n",
    "                                         train_range_from=train_range_from_d,\n",
    "                                         train_range_to=train_range_to_d,\n",
    "                                         test_range_from=test_range_from_d,\n",
    "                                         test_range_to=test_range_to_d)"
   ]
  },
  {
   "cell_type": "code",
   "execution_count": 17,
   "metadata": {},
   "outputs": [
    {
     "name": "stdout",
     "output_type": "stream",
     "text": [
      "('LinearRegression', LinearRegression(copy_X=True, fit_intercept=True, n_jobs=None, normalize=False))\n",
      "('ElasticNet', ElasticNet(alpha=1.0, copy_X=True, fit_intercept=True, l1_ratio=0.5,\n",
      "           max_iter=1000, normalize=False, positive=False, precompute=False,\n",
      "           random_state=None, selection='cyclic', tol=0.0001, warm_start=False))\n",
      "('SVR', SVR(C=1.0, cache_size=200, coef0=0.0, degree=3, epsilon=0.1, gamma='scale',\n",
      "    kernel='rbf', max_iter=-1, shrinking=True, tol=0.001, verbose=False))\n",
      "('DecisionTreeRegressor', DecisionTreeRegressor(ccp_alpha=0.0, criterion='mse', max_depth=None,\n",
      "                      max_features=None, max_leaf_nodes=None,\n",
      "                      min_impurity_decrease=0.0, min_impurity_split=None,\n",
      "                      min_samples_leaf=1, min_samples_split=2,\n",
      "                      min_weight_fraction_leaf=0.0, presort='deprecated',\n",
      "                      random_state=None, splitter='best'))\n",
      "('KNeighborsRegressor', KNeighborsRegressor(algorithm='auto', leaf_size=30, metric='minkowski',\n",
      "                    metric_params=None, n_jobs=None, n_neighbors=5, p=2,\n",
      "                    weights='uniform'))\n",
      "('AdaBoostRegressor', AdaBoostRegressor(base_estimator=None, learning_rate=1.0, loss='linear',\n",
      "                  n_estimators=50, random_state=None))\n",
      "('BaggingRegressor', BaggingRegressor(base_estimator=None, bootstrap=True, bootstrap_features=False,\n",
      "                 max_features=1.0, max_samples=1.0, n_estimators=10,\n",
      "                 n_jobs=None, oob_score=False, random_state=None, verbose=0,\n",
      "                 warm_start=False))\n",
      "('RandomForestRegressor', RandomForestRegressor(bootstrap=True, ccp_alpha=0.0, criterion='mse',\n",
      "                      max_depth=None, max_features='auto', max_leaf_nodes=None,\n",
      "                      max_samples=None, min_impurity_decrease=0.0,\n",
      "                      min_impurity_split=None, min_samples_leaf=1,\n",
      "                      min_samples_split=2, min_weight_fraction_leaf=0.0,\n",
      "                      n_estimators=10, n_jobs=None, oob_score=False,\n",
      "                      random_state=None, verbose=0, warm_start=False))\n",
      "('ExtraTreesRegressor', ExtraTreesRegressor(bootstrap=False, ccp_alpha=0.0, criterion='mse',\n",
      "                    max_depth=None, max_features='auto', max_leaf_nodes=None,\n",
      "                    max_samples=None, min_impurity_decrease=0.0,\n",
      "                    min_impurity_split=None, min_samples_leaf=1,\n",
      "                    min_samples_split=2, min_weight_fraction_leaf=0.0,\n",
      "                    n_estimators=10, n_jobs=None, oob_score=False,\n",
      "                    random_state=None, verbose=0, warm_start=False))\n"
     ]
    }
   ],
   "source": [
    "# Define regression models in scope\n",
    "reg_models = get_models_for_regression()\n",
    "models = []\n",
    "\n",
    "for model in reg_models:\n",
    "    item = (type(model).__name__, model)\n",
    "    models.append(item)\n",
    "    print(item)"
   ]
  },
  {
   "cell_type": "code",
   "execution_count": 18,
   "metadata": {},
   "outputs": [
    {
     "data": {
      "text/plain": [
       "LinearRegression(copy_X=True, fit_intercept=True, n_jobs=None, normalize=False)"
      ]
     },
     "execution_count": 18,
     "metadata": {},
     "output_type": "execute_result"
    }
   ],
   "source": [
    "model = models[0][1]\n",
    "model"
   ]
  },
  {
   "cell_type": "code",
   "execution_count": 83,
   "metadata": {},
   "outputs": [
    {
     "name": "stdout",
     "output_type": "stream",
     "text": [
      "Observations: 2006\n",
      "Training Observations: 1003\n",
      "Testing Observations: 1003\n",
      "Observations: 3009\n",
      "Training Observations: 2006\n",
      "Testing Observations: 1003\n",
      "Observations: 4012\n",
      "Training Observations: 3009\n",
      "Testing Observations: 1003\n"
     ]
    },
    {
     "data": {
      "image/png": "[encoded data removed]",
      "text/plain": [
       "<Figure size 432x288 with 3 Axes>"
      ]
     },
     "metadata": {
      "needs_background": "light"
     },
     "output_type": "display_data"
    }
   ],
   "source": [
    "#from pandas import read_csv\n",
    "from sklearn.model_selection import TimeSeriesSplit\n",
    "#from matplotlib import pyplot\n",
    "#series = read_csv('sunspots.csv', header=0, index_col=0)\n",
    "series = df_train\n",
    "X = series.values\n",
    "splits = TimeSeriesSplit(n_splits=3)\n",
    "plt.figure(1)\n",
    "index = 1\n",
    "for train_index, test_index in splits.split(X):\n",
    "    train = X[train_index]\n",
    "    test = X[test_index]\n",
    "    print('Observations: %d' % (len(train) + len(test)))\n",
    "    print('Training Observations: %d' % (len(train)))\n",
    "    print('Testing Observations: %d' % (len(test)))\n",
    "    plt.subplot(310 + index)\n",
    "    plt.plot(train)\n",
    "    plt.plot([None for i in train] + [x for x in test])\n",
    "    index += 1\n",
    "plt.show()"
   ]
  },
  {
   "cell_type": "code",
   "execution_count": null,
   "metadata": {},
   "outputs": [],
   "source": [
    "df = df_train.copy()\n",
    "model_name = models[0][0]\n",
    "\n",
    "# Create training and validation sets for the \n",
    "train_test_split_position = int(len(df)-365) # first past/future cutoff\n",
    "n_folds = len(df) #train_test_split_position+3\n",
    "n_pred_points = 7\n",
    "\n",
    "\n",
    "\n",
    "pred_rmse = pd.Series()\n",
    "\n",
    "#index = 1\n",
    "\n",
    "for i in range(train_test_split_position, n_folds):\n",
    "    \n",
    "    # For each fold\n",
    "    train = df[0:i].copy()\n",
    "    validation = df[i:i+n_pred_points].copy()\n",
    "    #print(f'train={len(train)}, validation={len(validation)}')\n",
    "    \n",
    "    #print(f'Observations: {len(train) + len(validation)}')\n",
    "    #print(f'Training Observations: {len(train)}')\n",
    "    #print(f'Validation Observations: {len(validation)}')\n",
    "    \n",
    "    #plt.plot(train)\n",
    "    #plt.plot([None for i in train.values[0] + [x for x in test.values[0]]])\n",
    "    #plt.show();\n",
    "    #index += 1\n",
    "    \n",
    "    # Fit the model: Take an average of train\n",
    "    model_fitted = train.mean()\n",
    "    \n",
    "    # Predict for all values in validation\n",
    "    predicted = validation.copy()\n",
    "    predicted['pred'] = model_fitted.values[0]\n",
    "    #print(predicted)\n",
    "    #print(validation)\n",
    "    \n",
    "    rmse = get_rmse(observed=validation['pm25'], predicted=predicted['pred'])\n",
    "    #std_dev = pd.Series()\n",
    "    #std_dev.set_value(label=df.iloc[0:].index[0].strftime(\"%m-%d-%Y\"), value=rmse)\n",
    "    #print(f'{model_name} RMSE {std_dev}')\n",
    "    \n",
    "    #pred_rmse.append(std_dev)\n",
    "    pred_rmse.set_value(label=df.iloc[0:].index[i].strftime(\"%Y-%m-%d\"), value=rmse)"
   ]
  },
  {
   "cell_type": "code",
   "execution_count": 222,
   "metadata": {},
   "outputs": [
    {
     "data": {
      "text/plain": [
       "'2008-01-01 00:00:00'"
      ]
     },
     "execution_count": 222,
     "metadata": {},
     "output_type": "execute_result"
    }
   ],
   "source": [
    "df.iloc[0:].index[0].date().strftime(\"%Y-%m-%d %H:%M:%S\")"
   ]
  },
  {
   "cell_type": "code",
   "execution_count": 223,
   "metadata": {},
   "outputs": [],
   "source": [
    "pred_rmse = pred_rmse.to_frame(name=\"pm25\")\n",
    "pred_rmse.index = pd.to_datetime(pred_rmse.index)"
   ]
  },
  {
   "cell_type": "code",
   "execution_count": 224,
   "metadata": {},
   "outputs": [
    {
     "data": {
      "text/plain": [
       "DatetimeIndex(['2017-12-26', '2017-12-27', '2017-12-28', '2017-12-29',\n",
       "               '2017-12-30', '2017-12-31', '2018-01-01', '2018-01-02',\n",
       "               '2018-01-03', '2018-01-04',\n",
       "               ...\n",
       "               '2018-12-16', '2018-12-17', '2018-12-18', '2018-12-19',\n",
       "               '2018-12-20', '2018-12-21', '2018-12-22', '2018-12-23',\n",
       "               '2018-12-24', '2018-12-25'],\n",
       "              dtype='datetime64[ns]', length=365, freq=None)"
      ]
     },
     "execution_count": 224,
     "metadata": {},
     "output_type": "execute_result"
    }
   ],
   "source": [
    "pred_rmse.index"
   ]
  },
  {
   "cell_type": "code",
   "execution_count": 203,
   "metadata": {},
   "outputs": [
    {
     "data": {
      "text/plain": [
       "22.7006"
      ]
     },
     "execution_count": 203,
     "metadata": {},
     "output_type": "execute_result"
    }
   ],
   "source": [
    "get_rmse(observed=df[train_test_split_position:n_folds], predicted=pred_rmse)"
   ]
  },
  {
   "cell_type": "code",
   "execution_count": 196,
   "metadata": {},
   "outputs": [
    {
     "data": {
      "text/plain": [
       "365"
      ]
     },
     "execution_count": 196,
     "metadata": {},
     "output_type": "execute_result"
    }
   ],
   "source": [
    "len(df[n_train:])"
   ]
  },
  {
   "cell_type": "code",
   "execution_count": 204,
   "metadata": {},
   "outputs": [
    {
     "data": {
      "text/html": [
       "<div>\n",
       "<style scoped>\n",
       "    .dataframe tbody tr th:only-of-type {\n",
       "        vertical-align: middle;\n",
       "    }\n",
       "\n",
       "    .dataframe tbody tr th {\n",
       "        vertical-align: top;\n",
       "    }\n",
       "\n",
       "    .dataframe thead th {\n",
       "        text-align: right;\n",
       "    }\n",
       "</style>\n",
       "<table border=\"1\" class=\"dataframe\">\n",
       "  <thead>\n",
       "    <tr style=\"text-align: right;\">\n",
       "      <th></th>\n",
       "      <th>pm25</th>\n",
       "    </tr>\n",
       "    <tr>\n",
       "      <th>Datetime</th>\n",
       "      <th></th>\n",
       "    </tr>\n",
       "  </thead>\n",
       "  <tbody>\n",
       "    <tr>\n",
       "      <th>2017-12-26</th>\n",
       "      <td>81.461033</td>\n",
       "    </tr>\n",
       "    <tr>\n",
       "      <th>2017-12-27</th>\n",
       "      <td>60.258308</td>\n",
       "    </tr>\n",
       "    <tr>\n",
       "      <th>2017-12-28</th>\n",
       "      <td>27.410467</td>\n",
       "    </tr>\n",
       "    <tr>\n",
       "      <th>2017-12-29</th>\n",
       "      <td>25.027338</td>\n",
       "    </tr>\n",
       "    <tr>\n",
       "      <th>2017-12-30</th>\n",
       "      <td>35.284304</td>\n",
       "    </tr>\n",
       "    <tr>\n",
       "      <th>...</th>\n",
       "      <td>...</td>\n",
       "    </tr>\n",
       "    <tr>\n",
       "      <th>2018-12-21</th>\n",
       "      <td>44.248342</td>\n",
       "    </tr>\n",
       "    <tr>\n",
       "      <th>2018-12-22</th>\n",
       "      <td>7.282959</td>\n",
       "    </tr>\n",
       "    <tr>\n",
       "      <th>2018-12-23</th>\n",
       "      <td>17.058399</td>\n",
       "    </tr>\n",
       "    <tr>\n",
       "      <th>2018-12-24</th>\n",
       "      <td>8.041177</td>\n",
       "    </tr>\n",
       "    <tr>\n",
       "      <th>2018-12-25</th>\n",
       "      <td>15.821442</td>\n",
       "    </tr>\n",
       "  </tbody>\n",
       "</table>\n",
       "<p>365 rows × 1 columns</p>\n",
       "</div>"
      ],
      "text/plain": [
       "                 pm25\n",
       "Datetime             \n",
       "2017-12-26  81.461033\n",
       "2017-12-27  60.258308\n",
       "2017-12-28  27.410467\n",
       "2017-12-29  25.027338\n",
       "2017-12-30  35.284304\n",
       "...               ...\n",
       "2018-12-21  44.248342\n",
       "2018-12-22   7.282959\n",
       "2018-12-23  17.058399\n",
       "2018-12-24   8.041177\n",
       "2018-12-25  15.821442\n",
       "\n",
       "[365 rows x 1 columns]"
      ]
     },
     "execution_count": 204,
     "metadata": {},
     "output_type": "execute_result"
    }
   ],
   "source": [
    "df[train_test_split_position:n_folds]"
   ]
  },
  {
   "cell_type": "code",
   "execution_count": 225,
   "metadata": {},
   "outputs": [
    {
     "data": {
      "image/png": "[encoded data removed]",
      "text/plain": [
       "<Figure size 1440x720 with 1 Axes>"
      ]
     },
     "metadata": {
      "needs_background": "light"
     },
     "output_type": "display_data"
    }
   ],
   "source": [
    "plot_observed_vs_predicted(observed=df[train_test_split_position:n_folds], \n",
    "                           predicted=pred_rmse, \n",
    "                           num_points=50, \n",
    "                           title=model_name,\n",
    "                           label_observed='PM2.5 observed', \n",
    "                           label_predicted='PM2.5 predicted')"
   ]
  },
  {
   "cell_type": "code",
   "execution_count": null,
   "metadata": {},
   "outputs": [],
   "source": []
  },
  {
   "cell_type": "code",
   "execution_count": null,
   "metadata": {},
   "outputs": [],
   "source": []
  },
  {
   "cell_type": "code",
   "execution_count": null,
   "metadata": {},
   "outputs": [],
   "source": []
  },
  {
   "cell_type": "code",
   "execution_count": null,
   "metadata": {},
   "outputs": [],
   "source": []
  },
  {
   "cell_type": "code",
   "execution_count": null,
   "metadata": {},
   "outputs": [],
   "source": []
  },
  {
   "cell_type": "code",
   "execution_count": null,
   "metadata": {},
   "outputs": [],
   "source": []
  },
  {
   "cell_type": "code",
   "execution_count": null,
   "metadata": {},
   "outputs": [],
   "source": []
  },
  {
   "cell_type": "code",
   "execution_count": null,
   "metadata": {},
   "outputs": [],
   "source": []
  },
  {
   "cell_type": "code",
   "execution_count": 41,
   "metadata": {},
   "outputs": [
    {
     "name": "stdout",
     "output_type": "stream",
     "text": [
      "TimeSeriesSplit(max_train_size=None, n_splits=10)\n"
     ]
    },
    {
     "ename": "ValueError",
     "evalue": "x and y must have same first dimension, but have shapes (372,) and (364,)",
     "output_type": "error",
     "traceback": [
      "\u001b[0;31m---------------------------------------------------------------------------\u001b[0m",
      "\u001b[0;31mValueError\u001b[0m                                Traceback (most recent call last)",
      "\u001b[0;32m<ipython-input-41-15cbc168a4b9>\u001b[0m in \u001b[0;36m<module>\u001b[0;34m\u001b[0m\n\u001b[1;32m     16\u001b[0m \u001b[0;32mfor\u001b[0m \u001b[0mtrain\u001b[0m\u001b[0;34m,\u001b[0m \u001b[0mtest\u001b[0m \u001b[0;32min\u001b[0m \u001b[0mcv\u001b[0m\u001b[0;34m.\u001b[0m\u001b[0msplit\u001b[0m\u001b[0;34m(\u001b[0m\u001b[0mX\u001b[0m\u001b[0;34m)\u001b[0m\u001b[0;34m:\u001b[0m\u001b[0;34m\u001b[0m\u001b[0;34m\u001b[0m\u001b[0m\n\u001b[1;32m     17\u001b[0m     \u001b[0;31m# Plot the training data on each iteration, to see the behavior of the CV\u001b[0m\u001b[0;34m\u001b[0m\u001b[0;34m\u001b[0m\u001b[0;34m\u001b[0m\u001b[0m\n\u001b[0;32m---> 18\u001b[0;31m     \u001b[0max\u001b[0m\u001b[0;34m.\u001b[0m\u001b[0mplot\u001b[0m\u001b[0;34m(\u001b[0m\u001b[0mtrain\u001b[0m\u001b[0;34m,\u001b[0m \u001b[0mtest\u001b[0m\u001b[0;34m)\u001b[0m\u001b[0;34m\u001b[0m\u001b[0;34m\u001b[0m\u001b[0m\n\u001b[0m\u001b[1;32m     19\u001b[0m \u001b[0;34m\u001b[0m\u001b[0m\n\u001b[1;32m     20\u001b[0m \u001b[0max\u001b[0m\u001b[0;34m.\u001b[0m\u001b[0mset\u001b[0m\u001b[0;34m(\u001b[0m\u001b[0mtitle\u001b[0m\u001b[0;34m=\u001b[0m\u001b[0;34m'Training data on each CV iteration'\u001b[0m\u001b[0;34m,\u001b[0m \u001b[0mylabel\u001b[0m\u001b[0;34m=\u001b[0m\u001b[0;34m'CV iteration'\u001b[0m\u001b[0;34m)\u001b[0m\u001b[0;34m\u001b[0m\u001b[0;34m\u001b[0m\u001b[0m\n",
      "\u001b[0;32m/usr/local/lib/python3.7/site-packages/matplotlib/__init__.py\u001b[0m in \u001b[0;36minner\u001b[0;34m(ax, data, *args, **kwargs)\u001b[0m\n\u001b[1;32m   1808\u001b[0m                         \u001b[0;34m\"the Matplotlib list!)\"\u001b[0m \u001b[0;34m%\u001b[0m \u001b[0;34m(\u001b[0m\u001b[0mlabel_namer\u001b[0m\u001b[0;34m,\u001b[0m \u001b[0mfunc\u001b[0m\u001b[0;34m.\u001b[0m\u001b[0m__name__\u001b[0m\u001b[0;34m)\u001b[0m\u001b[0;34m,\u001b[0m\u001b[0;34m\u001b[0m\u001b[0;34m\u001b[0m\u001b[0m\n\u001b[1;32m   1809\u001b[0m                         RuntimeWarning, stacklevel=2)\n\u001b[0;32m-> 1810\u001b[0;31m             \u001b[0;32mreturn\u001b[0m \u001b[0mfunc\u001b[0m\u001b[0;34m(\u001b[0m\u001b[0max\u001b[0m\u001b[0;34m,\u001b[0m \u001b[0;34m*\u001b[0m\u001b[0margs\u001b[0m\u001b[0;34m,\u001b[0m \u001b[0;34m**\u001b[0m\u001b[0mkwargs\u001b[0m\u001b[0;34m)\u001b[0m\u001b[0;34m\u001b[0m\u001b[0;34m\u001b[0m\u001b[0m\n\u001b[0m\u001b[1;32m   1811\u001b[0m \u001b[0;34m\u001b[0m\u001b[0m\n\u001b[1;32m   1812\u001b[0m         inner.__doc__ = _add_data_doc(inner.__doc__,\n",
      "\u001b[0;32m/usr/local/lib/python3.7/site-packages/matplotlib/axes/_axes.py\u001b[0m in \u001b[0;36mplot\u001b[0;34m(self, scalex, scaley, *args, **kwargs)\u001b[0m\n\u001b[1;32m   1609\u001b[0m         \u001b[0mkwargs\u001b[0m \u001b[0;34m=\u001b[0m \u001b[0mcbook\u001b[0m\u001b[0;34m.\u001b[0m\u001b[0mnormalize_kwargs\u001b[0m\u001b[0;34m(\u001b[0m\u001b[0mkwargs\u001b[0m\u001b[0;34m,\u001b[0m \u001b[0mmlines\u001b[0m\u001b[0;34m.\u001b[0m\u001b[0mLine2D\u001b[0m\u001b[0;34m.\u001b[0m\u001b[0m_alias_map\u001b[0m\u001b[0;34m)\u001b[0m\u001b[0;34m\u001b[0m\u001b[0;34m\u001b[0m\u001b[0m\n\u001b[1;32m   1610\u001b[0m \u001b[0;34m\u001b[0m\u001b[0m\n\u001b[0;32m-> 1611\u001b[0;31m         \u001b[0;32mfor\u001b[0m \u001b[0mline\u001b[0m \u001b[0;32min\u001b[0m \u001b[0mself\u001b[0m\u001b[0;34m.\u001b[0m\u001b[0m_get_lines\u001b[0m\u001b[0;34m(\u001b[0m\u001b[0;34m*\u001b[0m\u001b[0margs\u001b[0m\u001b[0;34m,\u001b[0m \u001b[0;34m**\u001b[0m\u001b[0mkwargs\u001b[0m\u001b[0;34m)\u001b[0m\u001b[0;34m:\u001b[0m\u001b[0;34m\u001b[0m\u001b[0;34m\u001b[0m\u001b[0m\n\u001b[0m\u001b[1;32m   1612\u001b[0m             \u001b[0mself\u001b[0m\u001b[0;34m.\u001b[0m\u001b[0madd_line\u001b[0m\u001b[0;34m(\u001b[0m\u001b[0mline\u001b[0m\u001b[0;34m)\u001b[0m\u001b[0;34m\u001b[0m\u001b[0;34m\u001b[0m\u001b[0m\n\u001b[1;32m   1613\u001b[0m             \u001b[0mlines\u001b[0m\u001b[0;34m.\u001b[0m\u001b[0mappend\u001b[0m\u001b[0;34m(\u001b[0m\u001b[0mline\u001b[0m\u001b[0;34m)\u001b[0m\u001b[0;34m\u001b[0m\u001b[0;34m\u001b[0m\u001b[0m\n",
      "\u001b[0;32m/usr/local/lib/python3.7/site-packages/matplotlib/axes/_base.py\u001b[0m in \u001b[0;36m_grab_next_args\u001b[0;34m(self, *args, **kwargs)\u001b[0m\n\u001b[1;32m    391\u001b[0m                 \u001b[0mthis\u001b[0m \u001b[0;34m+=\u001b[0m \u001b[0margs\u001b[0m\u001b[0;34m[\u001b[0m\u001b[0;36m0\u001b[0m\u001b[0;34m]\u001b[0m\u001b[0;34m,\u001b[0m\u001b[0;34m\u001b[0m\u001b[0;34m\u001b[0m\u001b[0m\n\u001b[1;32m    392\u001b[0m                 \u001b[0margs\u001b[0m \u001b[0;34m=\u001b[0m \u001b[0margs\u001b[0m\u001b[0;34m[\u001b[0m\u001b[0;36m1\u001b[0m\u001b[0;34m:\u001b[0m\u001b[0;34m]\u001b[0m\u001b[0;34m\u001b[0m\u001b[0;34m\u001b[0m\u001b[0m\n\u001b[0;32m--> 393\u001b[0;31m             \u001b[0;32myield\u001b[0m \u001b[0;32mfrom\u001b[0m \u001b[0mself\u001b[0m\u001b[0;34m.\u001b[0m\u001b[0m_plot_args\u001b[0m\u001b[0;34m(\u001b[0m\u001b[0mthis\u001b[0m\u001b[0;34m,\u001b[0m \u001b[0mkwargs\u001b[0m\u001b[0;34m)\u001b[0m\u001b[0;34m\u001b[0m\u001b[0;34m\u001b[0m\u001b[0m\n\u001b[0m\u001b[1;32m    394\u001b[0m \u001b[0;34m\u001b[0m\u001b[0m\n\u001b[1;32m    395\u001b[0m \u001b[0;34m\u001b[0m\u001b[0m\n",
      "\u001b[0;32m/usr/local/lib/python3.7/site-packages/matplotlib/axes/_base.py\u001b[0m in \u001b[0;36m_plot_args\u001b[0;34m(self, tup, kwargs)\u001b[0m\n\u001b[1;32m    368\u001b[0m             \u001b[0mx\u001b[0m\u001b[0;34m,\u001b[0m \u001b[0my\u001b[0m \u001b[0;34m=\u001b[0m \u001b[0mindex_of\u001b[0m\u001b[0;34m(\u001b[0m\u001b[0mtup\u001b[0m\u001b[0;34m[\u001b[0m\u001b[0;34m-\u001b[0m\u001b[0;36m1\u001b[0m\u001b[0;34m]\u001b[0m\u001b[0;34m)\u001b[0m\u001b[0;34m\u001b[0m\u001b[0;34m\u001b[0m\u001b[0m\n\u001b[1;32m    369\u001b[0m \u001b[0;34m\u001b[0m\u001b[0m\n\u001b[0;32m--> 370\u001b[0;31m         \u001b[0mx\u001b[0m\u001b[0;34m,\u001b[0m \u001b[0my\u001b[0m \u001b[0;34m=\u001b[0m \u001b[0mself\u001b[0m\u001b[0;34m.\u001b[0m\u001b[0m_xy_from_xy\u001b[0m\u001b[0;34m(\u001b[0m\u001b[0mx\u001b[0m\u001b[0;34m,\u001b[0m \u001b[0my\u001b[0m\u001b[0;34m)\u001b[0m\u001b[0;34m\u001b[0m\u001b[0;34m\u001b[0m\u001b[0m\n\u001b[0m\u001b[1;32m    371\u001b[0m \u001b[0;34m\u001b[0m\u001b[0m\n\u001b[1;32m    372\u001b[0m         \u001b[0;32mif\u001b[0m \u001b[0mself\u001b[0m\u001b[0;34m.\u001b[0m\u001b[0mcommand\u001b[0m \u001b[0;34m==\u001b[0m \u001b[0;34m'plot'\u001b[0m\u001b[0;34m:\u001b[0m\u001b[0;34m\u001b[0m\u001b[0;34m\u001b[0m\u001b[0m\n",
      "\u001b[0;32m/usr/local/lib/python3.7/site-packages/matplotlib/axes/_base.py\u001b[0m in \u001b[0;36m_xy_from_xy\u001b[0;34m(self, x, y)\u001b[0m\n\u001b[1;32m    229\u001b[0m         \u001b[0;32mif\u001b[0m \u001b[0mx\u001b[0m\u001b[0;34m.\u001b[0m\u001b[0mshape\u001b[0m\u001b[0;34m[\u001b[0m\u001b[0;36m0\u001b[0m\u001b[0;34m]\u001b[0m \u001b[0;34m!=\u001b[0m \u001b[0my\u001b[0m\u001b[0;34m.\u001b[0m\u001b[0mshape\u001b[0m\u001b[0;34m[\u001b[0m\u001b[0;36m0\u001b[0m\u001b[0;34m]\u001b[0m\u001b[0;34m:\u001b[0m\u001b[0;34m\u001b[0m\u001b[0;34m\u001b[0m\u001b[0m\n\u001b[1;32m    230\u001b[0m             raise ValueError(\"x and y must have same first dimension, but \"\n\u001b[0;32m--> 231\u001b[0;31m                              \"have shapes {} and {}\".format(x.shape, y.shape))\n\u001b[0m\u001b[1;32m    232\u001b[0m         \u001b[0;32mif\u001b[0m \u001b[0mx\u001b[0m\u001b[0;34m.\u001b[0m\u001b[0mndim\u001b[0m \u001b[0;34m>\u001b[0m \u001b[0;36m2\u001b[0m \u001b[0;32mor\u001b[0m \u001b[0my\u001b[0m\u001b[0;34m.\u001b[0m\u001b[0mndim\u001b[0m \u001b[0;34m>\u001b[0m \u001b[0;36m2\u001b[0m\u001b[0;34m:\u001b[0m\u001b[0;34m\u001b[0m\u001b[0;34m\u001b[0m\u001b[0m\n\u001b[1;32m    233\u001b[0m             raise ValueError(\"x and y can be no greater than 2-D, but have \"\n",
      "\u001b[0;31mValueError\u001b[0m: x and y must have same first dimension, but have shapes (372,) and (364,)"
     ]
    },
    {
     "data": {
      "image/png": "[encoded data removed]",
      "text/plain": [
       "<Figure size 432x288 with 1 Axes>"
      ]
     },
     "metadata": {
      "needs_background": "light"
     },
     "output_type": "display_data"
    }
   ],
   "source": [
    "# Import TimeSeriesSplit\n",
    "from sklearn.model_selection import TimeSeriesSplit\n",
    "\n",
    "# Create time-series cross-validation object\n",
    "cv = TimeSeriesSplit(n_splits=10)\n",
    "\n",
    "print(cv)\n",
    "#for train, test in cv.split(df_train):\n",
    "    #print(\"%s %s\" % (train, test))\n",
    "    \n",
    "X = df_train.values\n",
    "y = df_train.index\n",
    "\n",
    "# Iterate through CV splits\n",
    "fig, ax = plt.subplots()\n",
    "for train, test in cv.split(X):\n",
    "    # Plot the training data on each iteration, to see the behavior of the CV\n",
    "    ax.plot(train, test)\n",
    "\n",
    "ax.set(title='Training data on each CV iteration', ylabel='CV iteration')\n",
    "plt.show()"
   ]
  },
  {
   "cell_type": "code",
   "execution_count": null,
   "metadata": {},
   "outputs": [],
   "source": []
  },
  {
   "cell_type": "code",
   "execution_count": null,
   "metadata": {},
   "outputs": [],
   "source": []
  },
  {
   "cell_type": "code",
   "execution_count": null,
   "metadata": {},
   "outputs": [],
   "source": []
  },
  {
   "cell_type": "code",
   "execution_count": null,
   "metadata": {},
   "outputs": [],
   "source": []
  },
  {
   "cell_type": "code",
   "execution_count": null,
   "metadata": {},
   "outputs": [],
   "source": []
  },
  {
   "cell_type": "markdown",
   "metadata": {},
   "source": [
    "---\n",
    "<a id='data_h'></a>\n",
    "\n",
    "## Load hourly data"
   ]
  },
  {
   "cell_type": "code",
   "execution_count": 92,
   "metadata": {},
   "outputs": [
    {
     "name": "stderr",
     "output_type": "stream",
     "text": [
      "common.py | 42 | get_pm25_data_for_modelling | 04-Jun-20 23:04:52 | INFO: Dataframe loaded: /Users/ksatola/Documents/git/air-polution/agh/data/dfpm25_2008-2018_ml_24hours_lags.hdf\n",
      "common.py | 43 | get_pm25_data_for_modelling | 04-Jun-20 23:04:52 | INFO: Dataframe size: (96378, 19)\n"
     ]
    },
    {
     "data": {
      "text/html": [
       "<div>\n",
       "<style scoped>\n",
       "    .dataframe tbody tr th:only-of-type {\n",
       "        vertical-align: middle;\n",
       "    }\n",
       "\n",
       "    .dataframe tbody tr th {\n",
       "        vertical-align: top;\n",
       "    }\n",
       "\n",
       "    .dataframe thead th {\n",
       "        text-align: right;\n",
       "    }\n",
       "</style>\n",
       "<table border=\"1\" class=\"dataframe\">\n",
       "  <thead>\n",
       "    <tr style=\"text-align: right;\">\n",
       "      <th></th>\n",
       "      <th>t</th>\n",
       "      <th>t-1</th>\n",
       "      <th>t-2</th>\n",
       "      <th>t-3</th>\n",
       "      <th>t-4</th>\n",
       "      <th>t-5</th>\n",
       "      <th>t-6</th>\n",
       "      <th>t-7</th>\n",
       "      <th>t-8</th>\n",
       "      <th>t-9</th>\n",
       "      <th>t-10</th>\n",
       "      <th>month</th>\n",
       "      <th>day</th>\n",
       "      <th>hour</th>\n",
       "      <th>dayofyear</th>\n",
       "      <th>weekofyear</th>\n",
       "      <th>dayofweek</th>\n",
       "      <th>quarter</th>\n",
       "      <th>season</th>\n",
       "    </tr>\n",
       "  </thead>\n",
       "  <tbody>\n",
       "    <tr>\n",
       "      <th>0</th>\n",
       "      <td>-18.246170</td>\n",
       "      <td>-13.443917</td>\n",
       "      <td>0.156504</td>\n",
       "      <td>9.915600</td>\n",
       "      <td>10.136910</td>\n",
       "      <td>13.456166</td>\n",
       "      <td>14.163808</td>\n",
       "      <td>14.019144</td>\n",
       "      <td>20.936157</td>\n",
       "      <td>23.611710</td>\n",
       "      <td>28.537801</td>\n",
       "      <td>1</td>\n",
       "      <td>1</td>\n",
       "      <td>11</td>\n",
       "      <td>1</td>\n",
       "      <td>1</td>\n",
       "      <td>1</td>\n",
       "      <td>1</td>\n",
       "      <td>1</td>\n",
       "    </tr>\n",
       "    <tr>\n",
       "      <th>1</th>\n",
       "      <td>-25.839649</td>\n",
       "      <td>-18.246170</td>\n",
       "      <td>-13.443917</td>\n",
       "      <td>0.156504</td>\n",
       "      <td>9.915600</td>\n",
       "      <td>10.136910</td>\n",
       "      <td>13.456166</td>\n",
       "      <td>14.163808</td>\n",
       "      <td>14.019144</td>\n",
       "      <td>20.936157</td>\n",
       "      <td>23.611710</td>\n",
       "      <td>1</td>\n",
       "      <td>1</td>\n",
       "      <td>12</td>\n",
       "      <td>1</td>\n",
       "      <td>1</td>\n",
       "      <td>1</td>\n",
       "      <td>1</td>\n",
       "      <td>1</td>\n",
       "    </tr>\n",
       "    <tr>\n",
       "      <th>2</th>\n",
       "      <td>-16.761822</td>\n",
       "      <td>-25.839649</td>\n",
       "      <td>-18.246170</td>\n",
       "      <td>-13.443917</td>\n",
       "      <td>0.156504</td>\n",
       "      <td>9.915600</td>\n",
       "      <td>10.136910</td>\n",
       "      <td>13.456166</td>\n",
       "      <td>14.163808</td>\n",
       "      <td>14.019144</td>\n",
       "      <td>20.936157</td>\n",
       "      <td>1</td>\n",
       "      <td>1</td>\n",
       "      <td>13</td>\n",
       "      <td>1</td>\n",
       "      <td>1</td>\n",
       "      <td>1</td>\n",
       "      <td>1</td>\n",
       "      <td>1</td>\n",
       "    </tr>\n",
       "    <tr>\n",
       "      <th>3</th>\n",
       "      <td>-6.697300</td>\n",
       "      <td>-16.761822</td>\n",
       "      <td>-25.839649</td>\n",
       "      <td>-18.246170</td>\n",
       "      <td>-13.443917</td>\n",
       "      <td>0.156504</td>\n",
       "      <td>9.915600</td>\n",
       "      <td>10.136910</td>\n",
       "      <td>13.456166</td>\n",
       "      <td>14.163808</td>\n",
       "      <td>14.019144</td>\n",
       "      <td>1</td>\n",
       "      <td>1</td>\n",
       "      <td>14</td>\n",
       "      <td>1</td>\n",
       "      <td>1</td>\n",
       "      <td>1</td>\n",
       "      <td>1</td>\n",
       "      <td>1</td>\n",
       "    </tr>\n",
       "    <tr>\n",
       "      <th>4</th>\n",
       "      <td>-2.515568</td>\n",
       "      <td>-6.697300</td>\n",
       "      <td>-16.761822</td>\n",
       "      <td>-25.839649</td>\n",
       "      <td>-18.246170</td>\n",
       "      <td>-13.443917</td>\n",
       "      <td>0.156504</td>\n",
       "      <td>9.915600</td>\n",
       "      <td>10.136910</td>\n",
       "      <td>13.456166</td>\n",
       "      <td>14.163808</td>\n",
       "      <td>1</td>\n",
       "      <td>1</td>\n",
       "      <td>15</td>\n",
       "      <td>1</td>\n",
       "      <td>1</td>\n",
       "      <td>1</td>\n",
       "      <td>1</td>\n",
       "      <td>1</td>\n",
       "    </tr>\n",
       "  </tbody>\n",
       "</table>\n",
       "</div>"
      ],
      "text/plain": [
       "           t        t-1        t-2        t-3        t-4        t-5  \\\n",
       "0 -18.246170 -13.443917   0.156504   9.915600  10.136910  13.456166   \n",
       "1 -25.839649 -18.246170 -13.443917   0.156504   9.915600  10.136910   \n",
       "2 -16.761822 -25.839649 -18.246170 -13.443917   0.156504   9.915600   \n",
       "3  -6.697300 -16.761822 -25.839649 -18.246170 -13.443917   0.156504   \n",
       "4  -2.515568  -6.697300 -16.761822 -25.839649 -18.246170 -13.443917   \n",
       "\n",
       "         t-6        t-7        t-8        t-9       t-10  month  day  hour  \\\n",
       "0  14.163808  14.019144  20.936157  23.611710  28.537801      1    1    11   \n",
       "1  13.456166  14.163808  14.019144  20.936157  23.611710      1    1    12   \n",
       "2  10.136910  13.456166  14.163808  14.019144  20.936157      1    1    13   \n",
       "3   9.915600  10.136910  13.456166  14.163808  14.019144      1    1    14   \n",
       "4   0.156504   9.915600  10.136910  13.456166  14.163808      1    1    15   \n",
       "\n",
       "   dayofyear  weekofyear  dayofweek  quarter  season  \n",
       "0          1           1          1        1       1  \n",
       "1          1           1          1        1       1  \n",
       "2          1           1          1        1       1  \n",
       "3          1           1          1        1       1  \n",
       "4          1           1          1        1       1  "
      ]
     },
     "execution_count": 92,
     "metadata": {},
     "output_type": "execute_result"
    }
   ],
   "source": [
    "dfh = get_pm25_data_for_modelling('ml', 'h')\n",
    "dfh.head()"
   ]
  },
  {
   "cell_type": "code",
   "execution_count": 93,
   "metadata": {},
   "outputs": [
    {
     "data": {
      "text/plain": [
       "(8760, 19)"
      ]
     },
     "execution_count": 93,
     "metadata": {},
     "output_type": "execute_result"
    }
   ],
   "source": [
    "# Limit training data to 2 last years of hourly data (for performance reasons)\n",
    "df = dfh[-365*24:]\n",
    "df.shape"
   ]
  },
  {
   "cell_type": "code",
   "execution_count": 94,
   "metadata": {},
   "outputs": [
    {
     "data": {
      "text/html": [
       "<div>\n",
       "<style scoped>\n",
       "    .dataframe tbody tr th:only-of-type {\n",
       "        vertical-align: middle;\n",
       "    }\n",
       "\n",
       "    .dataframe tbody tr th {\n",
       "        vertical-align: top;\n",
       "    }\n",
       "\n",
       "    .dataframe thead th {\n",
       "        text-align: right;\n",
       "    }\n",
       "</style>\n",
       "<table border=\"1\" class=\"dataframe\">\n",
       "  <thead>\n",
       "    <tr style=\"text-align: right;\">\n",
       "      <th></th>\n",
       "      <th>t</th>\n",
       "      <th>t-1</th>\n",
       "      <th>t-2</th>\n",
       "      <th>t-3</th>\n",
       "      <th>t-4</th>\n",
       "      <th>t-5</th>\n",
       "      <th>t-6</th>\n",
       "      <th>t-7</th>\n",
       "      <th>t-8</th>\n",
       "      <th>t-9</th>\n",
       "      <th>t-10</th>\n",
       "      <th>month</th>\n",
       "      <th>day</th>\n",
       "      <th>hour</th>\n",
       "      <th>dayofyear</th>\n",
       "      <th>weekofyear</th>\n",
       "      <th>dayofweek</th>\n",
       "      <th>quarter</th>\n",
       "      <th>season</th>\n",
       "    </tr>\n",
       "  </thead>\n",
       "  <tbody>\n",
       "    <tr>\n",
       "      <th>87618</th>\n",
       "      <td>26.797137</td>\n",
       "      <td>-23.627303</td>\n",
       "      <td>-11.066157</td>\n",
       "      <td>-6.896479</td>\n",
       "      <td>-21.893212</td>\n",
       "      <td>-29.155953</td>\n",
       "      <td>-37.303764</td>\n",
       "      <td>-20.646928</td>\n",
       "      <td>-30.484597</td>\n",
       "      <td>-29.887483</td>\n",
       "      <td>-38.440042</td>\n",
       "      <td>1</td>\n",
       "      <td>1</td>\n",
       "      <td>1</td>\n",
       "      <td>1</td>\n",
       "      <td>1</td>\n",
       "      <td>0</td>\n",
       "      <td>1</td>\n",
       "      <td>1</td>\n",
       "    </tr>\n",
       "    <tr>\n",
       "      <th>87619</th>\n",
       "      <td>21.497168</td>\n",
       "      <td>26.797137</td>\n",
       "      <td>-23.627303</td>\n",
       "      <td>-11.066157</td>\n",
       "      <td>-6.896479</td>\n",
       "      <td>-21.893212</td>\n",
       "      <td>-29.155953</td>\n",
       "      <td>-37.303764</td>\n",
       "      <td>-20.646928</td>\n",
       "      <td>-30.484597</td>\n",
       "      <td>-29.887483</td>\n",
       "      <td>1</td>\n",
       "      <td>1</td>\n",
       "      <td>2</td>\n",
       "      <td>1</td>\n",
       "      <td>1</td>\n",
       "      <td>0</td>\n",
       "      <td>1</td>\n",
       "      <td>1</td>\n",
       "    </tr>\n",
       "    <tr>\n",
       "      <th>87620</th>\n",
       "      <td>29.507759</td>\n",
       "      <td>21.497168</td>\n",
       "      <td>26.797137</td>\n",
       "      <td>-23.627303</td>\n",
       "      <td>-11.066157</td>\n",
       "      <td>-6.896479</td>\n",
       "      <td>-21.893212</td>\n",
       "      <td>-29.155953</td>\n",
       "      <td>-37.303764</td>\n",
       "      <td>-20.646928</td>\n",
       "      <td>-30.484597</td>\n",
       "      <td>1</td>\n",
       "      <td>1</td>\n",
       "      <td>3</td>\n",
       "      <td>1</td>\n",
       "      <td>1</td>\n",
       "      <td>0</td>\n",
       "      <td>1</td>\n",
       "      <td>1</td>\n",
       "    </tr>\n",
       "    <tr>\n",
       "      <th>87621</th>\n",
       "      <td>16.637266</td>\n",
       "      <td>29.507759</td>\n",
       "      <td>21.497168</td>\n",
       "      <td>26.797137</td>\n",
       "      <td>-23.627303</td>\n",
       "      <td>-11.066157</td>\n",
       "      <td>-6.896479</td>\n",
       "      <td>-21.893212</td>\n",
       "      <td>-29.155953</td>\n",
       "      <td>-37.303764</td>\n",
       "      <td>-20.646928</td>\n",
       "      <td>1</td>\n",
       "      <td>1</td>\n",
       "      <td>4</td>\n",
       "      <td>1</td>\n",
       "      <td>1</td>\n",
       "      <td>0</td>\n",
       "      <td>1</td>\n",
       "      <td>1</td>\n",
       "    </tr>\n",
       "    <tr>\n",
       "      <th>87622</th>\n",
       "      <td>17.504926</td>\n",
       "      <td>16.637266</td>\n",
       "      <td>29.507759</td>\n",
       "      <td>21.497168</td>\n",
       "      <td>26.797137</td>\n",
       "      <td>-23.627303</td>\n",
       "      <td>-11.066157</td>\n",
       "      <td>-6.896479</td>\n",
       "      <td>-21.893212</td>\n",
       "      <td>-29.155953</td>\n",
       "      <td>-37.303764</td>\n",
       "      <td>1</td>\n",
       "      <td>1</td>\n",
       "      <td>5</td>\n",
       "      <td>1</td>\n",
       "      <td>1</td>\n",
       "      <td>0</td>\n",
       "      <td>1</td>\n",
       "      <td>1</td>\n",
       "    </tr>\n",
       "  </tbody>\n",
       "</table>\n",
       "</div>"
      ],
      "text/plain": [
       "               t        t-1        t-2        t-3        t-4        t-5  \\\n",
       "87618  26.797137 -23.627303 -11.066157  -6.896479 -21.893212 -29.155953   \n",
       "87619  21.497168  26.797137 -23.627303 -11.066157  -6.896479 -21.893212   \n",
       "87620  29.507759  21.497168  26.797137 -23.627303 -11.066157  -6.896479   \n",
       "87621  16.637266  29.507759  21.497168  26.797137 -23.627303 -11.066157   \n",
       "87622  17.504926  16.637266  29.507759  21.497168  26.797137 -23.627303   \n",
       "\n",
       "             t-6        t-7        t-8        t-9       t-10  month  day  \\\n",
       "87618 -37.303764 -20.646928 -30.484597 -29.887483 -38.440042      1    1   \n",
       "87619 -29.155953 -37.303764 -20.646928 -30.484597 -29.887483      1    1   \n",
       "87620 -21.893212 -29.155953 -37.303764 -20.646928 -30.484597      1    1   \n",
       "87621  -6.896479 -21.893212 -29.155953 -37.303764 -20.646928      1    1   \n",
       "87622 -11.066157  -6.896479 -21.893212 -29.155953 -37.303764      1    1   \n",
       "\n",
       "       hour  dayofyear  weekofyear  dayofweek  quarter  season  \n",
       "87618     1          1           1          0        1       1  \n",
       "87619     2          1           1          0        1       1  \n",
       "87620     3          1           1          0        1       1  \n",
       "87621     4          1           1          0        1       1  \n",
       "87622     5          1           1          0        1       1  "
      ]
     },
     "execution_count": 94,
     "metadata": {},
     "output_type": "execute_result"
    }
   ],
   "source": [
    "df.head()"
   ]
  },
  {
   "cell_type": "markdown",
   "metadata": {},
   "source": [
    "---\n",
    "<a id='model_h'></a>\n",
    "\n",
    "## Base Modelling"
   ]
  },
  {
   "cell_type": "code",
   "execution_count": 95,
   "metadata": {},
   "outputs": [],
   "source": [
    "# Train test split\n",
    "X_train, X_test, y_train, y_test = split_df_for_ml_modelling(data=df, \n",
    "                                                             target_col='t', \n",
    "                                                             train_size=0.02) # train_size=0.00024"
   ]
  },
  {
   "cell_type": "code",
   "execution_count": 96,
   "metadata": {},
   "outputs": [
    {
     "data": {
      "text/plain": [
       "(8584, 18)"
      ]
     },
     "execution_count": 96,
     "metadata": {},
     "output_type": "execute_result"
    }
   ],
   "source": [
    "X_train.shape"
   ]
  },
  {
   "cell_type": "code",
   "execution_count": 97,
   "metadata": {},
   "outputs": [
    {
     "data": {
      "text/plain": [
       "(176, 18)"
      ]
     },
     "execution_count": 97,
     "metadata": {},
     "output_type": "execute_result"
    }
   ],
   "source": [
    "X_test.shape"
   ]
  },
  {
   "cell_type": "code",
   "execution_count": 98,
   "metadata": {},
   "outputs": [
    {
     "name": "stdout",
     "output_type": "stream",
     "text": [
      "('LinearRegression', LinearRegression(copy_X=True, fit_intercept=True, n_jobs=None, normalize=False))\n",
      "('ElasticNet', ElasticNet(alpha=1.0, copy_X=True, fit_intercept=True, l1_ratio=0.5,\n",
      "           max_iter=1000, normalize=False, positive=False, precompute=False,\n",
      "           random_state=None, selection='cyclic', tol=0.0001, warm_start=False))\n",
      "('SVR', SVR(C=1.0, cache_size=200, coef0=0.0, degree=3, epsilon=0.1, gamma='scale',\n",
      "    kernel='rbf', max_iter=-1, shrinking=True, tol=0.001, verbose=False))\n",
      "('DecisionTreeRegressor', DecisionTreeRegressor(ccp_alpha=0.0, criterion='mse', max_depth=None,\n",
      "                      max_features=None, max_leaf_nodes=None,\n",
      "                      min_impurity_decrease=0.0, min_impurity_split=None,\n",
      "                      min_samples_leaf=1, min_samples_split=2,\n",
      "                      min_weight_fraction_leaf=0.0, presort='deprecated',\n",
      "                      random_state=None, splitter='best'))\n",
      "('KNeighborsRegressor', KNeighborsRegressor(algorithm='auto', leaf_size=30, metric='minkowski',\n",
      "                    metric_params=None, n_jobs=None, n_neighbors=5, p=2,\n",
      "                    weights='uniform'))\n",
      "('AdaBoostRegressor', AdaBoostRegressor(base_estimator=None, learning_rate=1.0, loss='linear',\n",
      "                  n_estimators=50, random_state=None))\n",
      "('BaggingRegressor', BaggingRegressor(base_estimator=None, bootstrap=True, bootstrap_features=False,\n",
      "                 max_features=1.0, max_samples=1.0, n_estimators=10,\n",
      "                 n_jobs=None, oob_score=False, random_state=None, verbose=0,\n",
      "                 warm_start=False))\n",
      "('RandomForestRegressor', RandomForestRegressor(bootstrap=True, ccp_alpha=0.0, criterion='mse',\n",
      "                      max_depth=None, max_features='auto', max_leaf_nodes=None,\n",
      "                      max_samples=None, min_impurity_decrease=0.0,\n",
      "                      min_impurity_split=None, min_samples_leaf=1,\n",
      "                      min_samples_split=2, min_weight_fraction_leaf=0.0,\n",
      "                      n_estimators=10, n_jobs=None, oob_score=False,\n",
      "                      random_state=None, verbose=0, warm_start=False))\n",
      "('ExtraTreesRegressor', ExtraTreesRegressor(bootstrap=False, ccp_alpha=0.0, criterion='mse',\n",
      "                    max_depth=None, max_features='auto', max_leaf_nodes=None,\n",
      "                    max_samples=None, min_impurity_decrease=0.0,\n",
      "                    min_impurity_split=None, min_samples_leaf=1,\n",
      "                    min_samples_split=2, min_weight_fraction_leaf=0.0,\n",
      "                    n_estimators=10, n_jobs=None, oob_score=False,\n",
      "                    random_state=None, verbose=0, warm_start=False))\n"
     ]
    }
   ],
   "source": [
    "# Define regression models in scope\n",
    "reg_models = get_models_for_regression()\n",
    "models = []\n",
    "\n",
    "for model in reg_models:\n",
    "    item = (type(model).__name__, model)\n",
    "    models.append(item)\n",
    "    print(item)"
   ]
  },
  {
   "cell_type": "code",
   "execution_count": 99,
   "metadata": {},
   "outputs": [
    {
     "name": "stdout",
     "output_type": "stream",
     "text": [
      "LinearRegression, RMSE 5.56711818313286, (std. dev. 0.1985876635301725)\n",
      "ElasticNet, RMSE 5.570228808723629, (std. dev. 0.18766919576955177)\n",
      "SVR, RMSE 7.182387115542616, (std. dev. 0.16268675420669534)\n",
      "DecisionTreeRegressor, RMSE 7.873690915369804, (std. dev. 0.27778285055964064)\n",
      "KNeighborsRegressor, RMSE 6.653434322953375, (std. dev. 0.3006601773427491)\n",
      "AdaBoostRegressor, RMSE 6.429824450932732, (std. dev. 0.10930505848320025)\n",
      "BaggingRegressor, RMSE 5.898093853859504, (std. dev. 0.25298260577679066)\n",
      "RandomForestRegressor, RMSE 5.8841056604815085, (std. dev. 0.21989443125211608)\n",
      "ExtraTreesRegressor, RMSE 5.909062322838997, (std. dev. 0.25022463868645484)\n",
      "CPU times: user 22.3 s, sys: 692 ms, total: 23 s\n",
      "Wall time: 22.4 s\n"
     ]
    }
   ],
   "source": [
    "%%time\n",
    "# Perform initial ranking\n",
    "scores, results, names = score_ml_models(X_train=X_train,\n",
    "                                         y_train=y_train,\n",
    "                                         models=models,\n",
    "                                         n_splits = 5,\n",
    "                                         metric='neg_root_mean_squared_error',\n",
    "                                         metric_label=\"RMSE\", \n",
    "                                         seed=123)\n",
    "for score in scores:\n",
    "    print(score)"
   ]
  },
  {
   "cell_type": "code",
   "execution_count": null,
   "metadata": {},
   "outputs": [],
   "source": [
    "LinearRegression, RMSE 5.56711818313286, (std. dev. 0.1985876635301725)\n",
    "ElasticNet, RMSE 5.570228808723629, (std. dev. 0.18766919576955177)\n",
    "SVR, RMSE 7.182387115542616, (std. dev. 0.16268675420669534)\n",
    "DecisionTreeRegressor, RMSE 7.841333664708597, (std. dev. 0.17552023518416768)\n",
    "KNeighborsRegressor, RMSE 6.653434322953375, (std. dev. 0.3006601773427491)\n",
    "AdaBoostRegressor, RMSE 6.425082457443115, (std. dev. 0.18253907464994834)\n",
    "BaggingRegressor, RMSE 5.921852717688901, (std. dev. 0.20225920292760463)\n",
    "RandomForestRegressor, RMSE 5.939068350982593, (std. dev. 0.2842986689298549)\n",
    "ExtraTreesRegressor, RMSE 5.858054046678829, (std. dev. 0.2381438572224743)\n",
    "CPU times: user 21.1 s, sys: 926 ms, total: 22.1 s\n",
    "Wall time: 21.5 s"
   ]
  },
  {
   "cell_type": "code",
   "execution_count": 100,
   "metadata": {},
   "outputs": [
    {
     "data": {
      "image/png": "[encoded data removed]",
      "text/plain": [
       "<Figure size 1296x576 with 1 Axes>"
      ]
     },
     "metadata": {
      "needs_background": "light"
     },
     "output_type": "display_data"
    }
   ],
   "source": [
    "# Compare Algorithms\n",
    "fig = plt.figure(figsize=(18, 8))\n",
    "fig.suptitle('Algorithms Comparison - RMSE')\n",
    "ax = fig.add_subplot(111)\n",
    "plt.boxplot(results)\n",
    "ax.set_xticklabels(names)\n",
    "plt.savefig('images/ml_comparison_rmse_h.png')\n",
    "plt.show();"
   ]
  },
  {
   "cell_type": "markdown",
   "metadata": {},
   "source": [
    "---\n",
    "<a id='model_h_tune'></a>\n",
    "\n",
    "## Hyper-parameter Tuning\n",
    "\n",
    "`Hyper-parameters` are parameters that are not directly learnt within estimators. It is possible and recommended to search the hyper-parameter space **for the best cross validation score**.\n",
    "\n",
    "While using a grid of parameter settings is currently the most widely used method for parameter optimization (`GridSearchCV`), other search methods have more favourable properties. `RandomizedSearchCV` implements a randomized search over parameters, where each setting is sampled from a distribution over possible parameter values. This has two main benefits over an exhaustive search:\n",
    "\n",
    "- A budget can be chosen independent of the number of parameters and possible values.\n",
    "- Adding parameters that do not influence the performance does not decrease efficiency.\n",
    "\n",
    "Specifying how parameters should be sampled is done using a dictionary, very similar to specifying parameters for `GridSearchCV`. Additionally, a computation budget, being the number of sampled candidates or sampling iterations, is specified using the n_iter parameter. For each parameter, either a distribution over possible values or a list of discrete choices (which will be sampled uniformly) can be specified: loguniform(1, 100) can be used instead of [1, 10, 100]. \n",
    "\n",
    "-----\n",
    "\n",
    "## Grid Search: hyper-parameters tuning\n",
    "https://scikit-learn.org/stable/modules/grid_search.html#grid-search\n",
    "\n",
    "Hyper-parameters are parameters that are not directly learnt within estimators. In scikit-learn they are passed as arguments to the constructor of the estimator classes. Typical examples include C, kernel and gamma for Support Vector Classifier, alpha for Lasso, etc.\n",
    "\n",
    "Some models allow for specialized, efficient parameter search strategies, outlined below. Two generic approaches to sampling search candidates are provided in scikit-learn: for given values, GridSearchCV exhaustively considers all parameter combinations, while RandomizedSearchCV can sample a given number of candidates from a parameter space with a specified distribution.\n",
    "\n",
    "Note that it is common that a small subset of those parameters can have a large impact on the predictive or computation performance of the model while others can be left to their default values. It is recommended to read the docstring of the estimator class to get a finer understanding of their expected behavior, possibly by reading the enclosed reference to the literature.\n",
    "\n",
    "While using a grid of parameter settings is currently the most widely used method for parameter optimization, other search methods have more favourable properties. RandomizedSearchCV implements a randomized search over parameters, where each setting is sampled from a distribution over possible parameter values. This has two main benefits over an exhaustive search:\n",
    "\n",
    "- A budget can be chosen independent of the number of parameters and possible values.\n",
    "\n",
    "- Adding parameters that do not influence the performance does not decrease efficiency.\n",
    "\n",
    "## Cross-validation: evaluating estimator performance\n",
    "https://scikit-learn.org/stable/modules/cross_validation.html\n",
    "\n",
    "Learning the parameters of a prediction function and testing it on the same data is a methodological mistake: a model that would just repeat the labels of the samples that it has just seen would have a perfect score but would fail to predict anything useful on yet-unseen data. This situation is called overfitting. To avoid it, it is common practice when performing a (supervised) machine learning experiment to hold out part of the available data as a test set X_test, y_test.\n",
    "\n",
    "When evaluating different settings (“hyperparameters”) for estimators, such as the C setting that must be manually set for an SVM, there is still a risk of overfitting on the test set because the parameters can be tweaked until the estimator performs optimally. This way, knowledge about the test set can “leak” into the model and evaluation metrics no longer report on generalization performance. To solve this problem, yet another part of the dataset can be held out as a so-called “validation set”: training proceeds on the training set, after which evaluation is done on the validation set, and when the experiment seems to be successful, final evaluation can be done on the test set.\n",
    "\n",
    "However, by partitioning the available data into three sets, we drastically reduce the number of samples which can be used for learning the model, and the results can depend on a particular random choice for the pair of (train, validation) sets.\n",
    "\n",
    "A solution to this problem is a procedure called cross-validation (CV for short). A test set should still be held out for final evaluation, but the validation set is no longer needed when doing CV. In the basic approach, called k-fold CV, the training set is split into k smaller sets (other approaches are described below, but generally follow the same principles). The following procedure is followed for each of the k “folds”:\n",
    "\n",
    "- A model is trained using  of the folds as training data;\n",
    "\n",
    "- the resulting model is validated on the remaining part of the data (i.e., it is used as a test set to compute a performance measure such as accuracy).\n",
    "\n",
    "The performance measure reported by k-fold cross-validation is then the average of the values computed in the loop. This approach can be computationally expensive, but does not waste too much data (as is the case when fixing an arbitrary validation set), which is a major advantage in problems such as inverse inference where the number of samples is very small.\n",
    "\n",
    "dac obrazek ze strony, zrobic source: sklearn\n",
    "\n",
    "## Pipelines and composite estimators\n",
    "https://scikit-learn.org/stable/modules/compose.html\n",
    "\n",
    "Transformers are usually combined with classifiers, regressors or other estimators to build a composite estimator. The most common tool is a Pipeline.\n",
    "\n",
    "Pipeline can be used to chain multiple estimators into one. This is useful as there is often a fixed sequence of steps in processing the data, for example feature selection, normalization and classification. Pipeline serves multiple purposes here:\n",
    "\n",
    "Convenience and encapsulation\n",
    "You only have to call fit and predict once on your data to fit a whole sequence of estimators.\n",
    "\n",
    "Joint parameter selection\n",
    "You can grid search over parameters of all estimators in the pipeline at once.\n",
    "\n",
    "Safety\n",
    "Pipelines help avoid leaking statistics from your test data into the trained model in cross-validation, by ensuring that the same samples are used to train the transformers and predictors.\n",
    "\n",
    "All estimators in a pipeline, except the last one, must be transformers (i.e. must have a transform method). The last estimator may be any type (transformer, classifier, etc.).\n",
    "\n",
    "## Model persistence\n",
    "https://scikit-learn.org/stable/modules/model_persistence.html\n",
    "\n",
    "After training a scikit-learn model, it is desirable to have a way to persist the model for future use without having to retrain. The following section gives you an example of how to persist a model with pickle. \n",
    "\n",
    "pickle (and joblib by extension), has some issues regarding maintainability and security. Because of this,\n",
    "\n",
    "- Never unpickle untrusted data as it could lead to malicious code being executed upon loading.\n",
    "\n",
    "- While models saved using one version of scikit-learn might load in other versions, this is entirely unsupported and inadvisable. It should also be kept in mind that operations performed on such data could give different and unexpected results.\n",
    "\n",
    "In order to rebuild a similar model with future versions of scikit-learn, additional metadata should be saved along the pickled model:\n",
    "\n",
    "- The training data, e.g. a reference to an immutable snapshot\n",
    "\n",
    "- The python source code used to generate the model\n",
    "\n",
    "- The versions of scikit-learn and its dependencies\n",
    "\n",
    "- The cross validation score obtained on the training data\n",
    "\n",
    "- This should make it possible to check that the cross-validation score is in the same range as before.\n",
    "\n",
    "Since a model internal representation may be different on two different architectures, dumping a model on one architecture and loading it on another architecture is not supported.\n",
    "\n",
    "more: https://pyvideo.org/pycon-us-2014/pickles-are-for-delis-not-software.html"
   ]
  },
  {
   "cell_type": "code",
   "execution_count": 25,
   "metadata": {},
   "outputs": [],
   "source": [
    "def perform_grid_search_cv2(X_train, y_train, model, param_grid, scoring, num_folds = 6, seed = 123):\n",
    "\n",
    "    kfold = KFold(n_splits=num_folds, random_state=seed)\n",
    "    grid = GridSearchCV(estimator=model, param_grid=param_grid, scoring=scoring, cv=kfold)\n",
    "    grid_result = grid.fit(X_train, y_train)\n",
    "\n",
    "    means = grid_result.cv_results_['mean_test_score'] \n",
    "    stds = grid_result.cv_results_['std_test_score'] \n",
    "    params = grid_result.cv_results_['params']\n",
    "\n",
    "    #for mean, stdev, param in zip(means, stds, params):\n",
    "        #print(\"{:0.2f} ({:0.2f}) with: {}\".format(mean, stdev, param))\n",
    "    #print('-------')\n",
    "    print(f'Best: {grid_result.best_score_} using {grid_result.best_params_}')"
   ]
  },
  {
   "cell_type": "code",
   "execution_count": 26,
   "metadata": {},
   "outputs": [],
   "source": [
    "#https://towardsdatascience.com/hyperparameter-tuning-c5619e7e6624\n",
    "def perform_random_search_cv2(X_train, y_train, model, param_grid, scoring, num_folds = 6, seed = 123):\n",
    "\n",
    "    kfold = KFold(n_splits=num_folds, random_state=seed)\n",
    "    grid = RandomizedSearchCV(estimator=model,\n",
    "                            param_distributions=param_grid,\n",
    "                            scoring=scoring,\n",
    "                            verbose=1, \n",
    "                            n_jobs=-1,\n",
    "                            n_iter=1000)\n",
    "    grid_result = grid.fit(X_train, y_train)\n",
    "\n",
    "    means = grid_result.cv_results_['mean_test_score'] \n",
    "    stds = grid_result.cv_results_['std_test_score'] \n",
    "    params = grid_result.cv_results_['params']\n",
    "\n",
    "    #for mean, stdev, param in zip(means, stds, params):\n",
    "        #print(\"{:0.2f} ({:0.2f}) with: {}\".format(mean, stdev, param))\n",
    "    #print('-------')\n",
    "    print(f'Best: {grid_result.best_score_} using {grid_result.best_params_}')"
   ]
  },
  {
   "cell_type": "code",
   "execution_count": null,
   "metadata": {},
   "outputs": [],
   "source": [
    "%%time\n",
    "#LinearRegression\n",
    "# https://scikit-learn.org/stable/modules/generated/sklearn.linear_model.ElasticNet.html\n",
    "# Linear regression with combined L1 and L2 priors as regularizer.\n",
    "param_grid = {\n",
    "    \"alpha\": [0.0001, 0.001, 0.01, 0.1, 1],\n",
    "    \"l1_ratio\": np.arange(0.0, 1.0, 0.1),\n",
    "    \"max_iter\": [1, 10, 100, 1000],\n",
    "    \"fit_intercept\": [True, False],\n",
    "    \"selection\": [\"cyclic\", \"random\"]\n",
    "}\n",
    "model = models[1][1]"
   ]
  },
  {
   "cell_type": "code",
   "execution_count": 27,
   "metadata": {},
   "outputs": [
    {
     "name": "stdout",
     "output_type": "stream",
     "text": [
      "Best: -5.559832349894503 using {'alpha': 0.1, 'fit_intercept': True, 'l1_ratio': 0.9, 'max_iter': 10, 'selection': 'cyclic'}\n",
      "CPU times: user 8min 30s, sys: 3min 59s, total: 12min 30s\n",
      "Wall time: 2min 13s\n"
     ]
    }
   ],
   "source": [
    "perform_grid_search_cv2(X_train=X_train, \n",
    "                        y_train=y_train, \n",
    "                        model=model, \n",
    "                        param_grid=param_grid, \n",
    "                        scoring='neg_root_mean_squared_error', \n",
    "                        num_folds=6, \n",
    "                        seed=123)"
   ]
  },
  {
   "cell_type": "code",
   "execution_count": null,
   "metadata": {},
   "outputs": [],
   "source": [
    "Best: -5.559832349894503 using {'alpha': 0.1, 'fit_intercept': True, 'l1_ratio': 0.9, 'max_iter': 10, 'selection': 'cyclic'}\n",
    "CPU times: user 8min 30s, sys: 3min 59s, total: 12min 30s\n",
    "Wall time: 2min 13s"
   ]
  },
  {
   "cell_type": "code",
   "execution_count": 28,
   "metadata": {},
   "outputs": [
    {
     "name": "stdout",
     "output_type": "stream",
     "text": [
      "Fitting 5 folds for each of 800 candidates, totalling 4000 fits\n"
     ]
    },
    {
     "name": "stderr",
     "output_type": "stream",
     "text": [
      "[Parallel(n_jobs=-1)]: Using backend LokyBackend with 8 concurrent workers.\n",
      "[Parallel(n_jobs=-1)]: Done  34 tasks      | elapsed:    2.1s\n",
      "[Parallel(n_jobs=-1)]: Done 976 tasks      | elapsed:   11.4s\n",
      "[Parallel(n_jobs=-1)]: Done 2458 tasks      | elapsed:   27.9s\n",
      "[Parallel(n_jobs=-1)]: Done 2984 tasks      | elapsed:   34.8s\n"
     ]
    },
    {
     "name": "stdout",
     "output_type": "stream",
     "text": [
      "Best: -5.564184376166167 using {'selection': 'cyclic', 'max_iter': 10, 'l1_ratio': 0.9, 'fit_intercept': True, 'alpha': 0.1}\n",
      "CPU times: user 10.8 s, sys: 1.5 s, total: 12.3 s\n",
      "Wall time: 40.9 s\n"
     ]
    },
    {
     "name": "stderr",
     "output_type": "stream",
     "text": [
      "[Parallel(n_jobs=-1)]: Done 3985 out of 4000 | elapsed:   40.7s remaining:    0.2s\n",
      "[Parallel(n_jobs=-1)]: Done 4000 out of 4000 | elapsed:   40.8s finished\n"
     ]
    }
   ],
   "source": [
    "%%time\n",
    "#LinearRegression - Random Search\n",
    "perform_random_search_cv2(X_train=X_train, \n",
    "                        y_train=y_train, \n",
    "                        model=model, \n",
    "                        param_grid=param_grid, \n",
    "                        scoring='neg_root_mean_squared_error', \n",
    "                        num_folds=6, \n",
    "                        seed=123)"
   ]
  },
  {
   "cell_type": "code",
   "execution_count": null,
   "metadata": {},
   "outputs": [],
   "source": [
    "Fitting 5 folds for each of 800 candidates, totalling 4000 fits\n",
    "[Parallel(n_jobs=-1)]: Using backend LokyBackend with 8 concurrent workers.\n",
    "[Parallel(n_jobs=-1)]: Done  34 tasks      | elapsed:    2.1s\n",
    "[Parallel(n_jobs=-1)]: Done 976 tasks      | elapsed:   11.4s\n",
    "[Parallel(n_jobs=-1)]: Done 2458 tasks      | elapsed:   27.9s\n",
    "[Parallel(n_jobs=-1)]: Done 2984 tasks      | elapsed:   34.8s\n",
    "Best: -5.564184376166167 using {'selection': 'cyclic', 'max_iter': 10, 'l1_ratio': 0.9, 'fit_intercept': True, 'alpha': 0.1}\n",
    "CPU times: user 10.8 s, sys: 1.5 s, total: 12.3 s\n",
    "Wall time: 40.9 s\n",
    "[Parallel(n_jobs=-1)]: Done 3985 out of 4000 | elapsed:   40.7s remaining:    0.2s\n",
    "[Parallel(n_jobs=-1)]: Done 4000 out of 4000 | elapsed:   40.8s finished"
   ]
  },
  {
   "cell_type": "code",
   "execution_count": null,
   "metadata": {},
   "outputs": [],
   "source": [
    "%%time\n",
    "#ElasticNet\n",
    "# https://scikit-learn.org/stable/modules/generated/sklearn.linear_model.ElasticNet.html\n",
    "# Linear regression with combined L1 and L2 priors as regularizer.\n",
    "param_grid = {\n",
    "    \"alpha\": [0.0001, 0.001, 0.01, 0.1, 1],\n",
    "    \"l1_ratio\": np.arange(0.0, 1.0, 0.1),\n",
    "    \"max_iter\": [1, 10, 100, 1000],\n",
    "    \"fit_intercept\": [True, False],\n",
    "    \"selection\": [\"cyclic\", \"random\"]\n",
    "}\n",
    "model = models[1][1]"
   ]
  },
  {
   "cell_type": "code",
   "execution_count": 29,
   "metadata": {},
   "outputs": [
    {
     "name": "stdout",
     "output_type": "stream",
     "text": [
      "Best: -5.559832349894503 using {'alpha': 0.1, 'fit_intercept': True, 'l1_ratio': 0.9, 'max_iter': 10, 'selection': 'cyclic'}\n",
      "CPU times: user 8min 53s, sys: 4min 26s, total: 13min 20s\n",
      "Wall time: 2min 33s\n"
     ]
    }
   ],
   "source": [
    "perform_grid_search_cv2(X_train=X_train, \n",
    "                        y_train=y_train, \n",
    "                        model=model, \n",
    "                        param_grid=param_grid, \n",
    "                        scoring='neg_root_mean_squared_error', \n",
    "                        num_folds=6, \n",
    "                        seed=123)"
   ]
  },
  {
   "cell_type": "code",
   "execution_count": null,
   "metadata": {},
   "outputs": [],
   "source": [
    "Best: -5.559832349894503 using {'alpha': 0.1, 'fit_intercept': True, 'l1_ratio': 0.9, 'max_iter': 10, 'selection': 'cyclic'}\n",
    "CPU times: user 8min 53s, sys: 4min 26s, total: 13min 20s\n",
    "Wall time: 2min 33s"
   ]
  },
  {
   "cell_type": "code",
   "execution_count": 31,
   "metadata": {},
   "outputs": [
    {
     "name": "stdout",
     "output_type": "stream",
     "text": [
      "Fitting 5 folds for each of 800 candidates, totalling 4000 fits\n"
     ]
    },
    {
     "name": "stderr",
     "output_type": "stream",
     "text": [
      "[Parallel(n_jobs=-1)]: Using backend LokyBackend with 8 concurrent workers.\n",
      "[Parallel(n_jobs=-1)]: Done  34 tasks      | elapsed:    2.0s\n",
      "[Parallel(n_jobs=-1)]: Done 560 tasks      | elapsed:    7.2s\n",
      "[Parallel(n_jobs=-1)]: Done 1146 tasks      | elapsed:   22.4s\n",
      "[Parallel(n_jobs=-1)]: Done 1632 tasks      | elapsed:   34.2s\n",
      "[Parallel(n_jobs=-1)]: Done 3000 tasks      | elapsed:   48.2s\n"
     ]
    },
    {
     "name": "stdout",
     "output_type": "stream",
     "text": [
      "Best: -5.5639353632257675 using {'selection': 'random', 'max_iter': 100, 'l1_ratio': 0.7000000000000001, 'fit_intercept': True, 'alpha': 0.1}\n",
      "CPU times: user 14.9 s, sys: 1.61 s, total: 16.5 s\n",
      "Wall time: 56.4 s\n"
     ]
    },
    {
     "name": "stderr",
     "output_type": "stream",
     "text": [
      "[Parallel(n_jobs=-1)]: Done 4000 out of 4000 | elapsed:   56.4s finished\n"
     ]
    }
   ],
   "source": [
    "%%time\n",
    "#ElasticNet - Random Search\n",
    "perform_random_search_cv2(X_train=X_train, \n",
    "                        y_train=y_train, \n",
    "                        model=model, \n",
    "                        param_grid=param_grid, \n",
    "                        scoring='neg_root_mean_squared_error', \n",
    "                        num_folds=6, \n",
    "                        seed=123)"
   ]
  },
  {
   "cell_type": "code",
   "execution_count": null,
   "metadata": {},
   "outputs": [],
   "source": [
    "Fitting 5 folds for each of 800 candidates, totalling 4000 fits\n",
    "[Parallel(n_jobs=-1)]: Using backend LokyBackend with 8 concurrent workers.\n",
    "[Parallel(n_jobs=-1)]: Done  34 tasks      | elapsed:    2.0s\n",
    "[Parallel(n_jobs=-1)]: Done 560 tasks      | elapsed:    7.2s\n",
    "[Parallel(n_jobs=-1)]: Done 1146 tasks      | elapsed:   22.4s\n",
    "[Parallel(n_jobs=-1)]: Done 1632 tasks      | elapsed:   34.2s\n",
    "[Parallel(n_jobs=-1)]: Done 3000 tasks      | elapsed:   48.2s\n",
    "Best: -5.5639353632257675 using {'selection': 'random', 'max_iter': 100, 'l1_ratio': 0.7000000000000001, 'fit_intercept': True, 'alpha': 0.1}\n",
    "CPU times: user 14.9 s, sys: 1.61 s, total: 16.5 s\n",
    "Wall time: 56.4 s\n",
    "[Parallel(n_jobs=-1)]: Done 4000 out of 4000 | elapsed:   56.4s finished"
   ]
  },
  {
   "cell_type": "code",
   "execution_count": null,
   "metadata": {},
   "outputs": [],
   "source": [
    "# Excluded\n",
    "%%time\n",
    "#DecisionTreeRegressor\n",
    "# https://scikit-learn.org/stable/modules/generated/sklearn.tree.DecisionTreeRegressor.html\n",
    "# Decision Trees (DTs) are a non-parametric supervised learning method used for classification and regression. The goal is to create a model that predicts the value of a target variable by learning simple decision rules inferred from the data features.\n",
    "param_grid = {\n",
    "    \"criterion\": [\"mse\", \"friedman_mse\", \"mae\"],\n",
    "    \"splitter\": [\"best\", \"random\"],\n",
    "    \"max_depth\": range(2, 16, 2),\n",
    "    \"min_samples_split\": range(2, 16, 2),\n",
    "    \"min_samples_leaf\": range(2, 16, 2),\n",
    "    \"max_features\": [\"auto\", \"sqrt\", \"log2\"],\n",
    "    \"ccp_alpha\": [0.001, 0.01, 0.1, 0, 1, 10, 100, 1000]\n",
    "}\n",
    "model = models[3][1]\n",
    "perform_grid_search_cv2(X_train=X_train, \n",
    "                        y_train=y_train, \n",
    "                        model=model, \n",
    "                        param_grid=param_grid, \n",
    "                        scoring='neg_root_mean_squared_error', \n",
    "                        num_folds=6, \n",
    "                        seed=123)"
   ]
  },
  {
   "cell_type": "code",
   "execution_count": 34,
   "metadata": {},
   "outputs": [
    {
     "name": "stdout",
     "output_type": "stream",
     "text": [
      "Best: -5.563871725667823 using {'base_estimator': LinearRegression(copy_X=True, fit_intercept=True, n_jobs=None, normalize=False), 'bootstrap': True, 'n_estimators': 500, 'n_jobs': -1}\n",
      "CPU times: user 1min 10s, sys: 1.73 s, total: 1min 11s\n",
      "Wall time: 6min 13s\n"
     ]
    }
   ],
   "source": [
    "%%time\n",
    "#BaggingRegressor\n",
    "# https://scikit-learn.org/stable/modules/generated/sklearn.ensemble.BaggingRegressor.html\n",
    "# https://www.programcreek.com/python/example/85938/sklearn.ensemble.BaggingRegressor\n",
    "# A Bagging regressor is an ensemble meta-estimator that fits base regressors each on random subsets of the original dataset and then aggregate their individual predictions (either by voting or by averaging) to form a final prediction. Such a meta-estimator can typically be used as a way to reduce the variance of a black-box estimator (e.g., a decision tree), by introducing randomization into its construction procedure and then making an ensemble out of it.\n",
    "# The base estimator to fit on random subsets of the dataset. If None, then the base estimator is a decision tree.\n",
    "param_grid = {\n",
    "    \"base_estimator\": [models[0][1]],\n",
    "    \"n_estimators\": [100, 200, 500, 1000, 5000, 10000],\n",
    "    \"bootstrap\": [True, False],\n",
    "    \"n_jobs\": [-1]\n",
    "}\n",
    "model = models[6][1]\n",
    "perform_grid_search_cv2(X_train=X_train, \n",
    "                        y_train=y_train, \n",
    "                        model=model, \n",
    "                        param_grid=param_grid, \n",
    "                        scoring='neg_root_mean_squared_error', \n",
    "                        num_folds=6, \n",
    "                        seed=123)"
   ]
  },
  {
   "cell_type": "code",
   "execution_count": null,
   "metadata": {},
   "outputs": [],
   "source": [
    "Best: -5.563871725667823 using {'base_estimator': LinearRegression(copy_X=True, fit_intercept=True, n_jobs=None, normalize=False), 'bootstrap': True, 'n_estimators': 500, 'n_jobs': -1}\n",
    "CPU times: user 1min 10s, sys: 1.73 s, total: 1min 11s\n",
    "Wall time: 6min 13s"
   ]
  },
  {
   "cell_type": "code",
   "execution_count": 35,
   "metadata": {},
   "outputs": [
    {
     "name": "stdout",
     "output_type": "stream",
     "text": [
      "Fitting 5 folds for each of 12 candidates, totalling 60 fits\n"
     ]
    },
    {
     "name": "stderr",
     "output_type": "stream",
     "text": [
      "[Parallel(n_jobs=-1)]: Using backend LokyBackend with 8 concurrent workers.\n",
      "[Parallel(n_jobs=-1)]: Done  34 tasks      | elapsed:  1.3min\n",
      "[Parallel(n_jobs=-1)]: Done  60 out of  60 | elapsed:  4.1min finished\n"
     ]
    },
    {
     "name": "stdout",
     "output_type": "stream",
     "text": [
      "Best: -5.566746325950773 using {'n_jobs': -1, 'n_estimators': 200, 'bootstrap': True, 'base_estimator': LinearRegression(copy_X=True, fit_intercept=True, n_jobs=None, normalize=False)}\n",
      "CPU times: user 443 ms, sys: 46.1 ms, total: 489 ms\n",
      "Wall time: 4min 5s\n"
     ]
    }
   ],
   "source": [
    "%%time\n",
    "#BaggingRegressor - Random Search\n",
    "perform_random_search_cv2(X_train=X_train, \n",
    "                        y_train=y_train, \n",
    "                        model=model, \n",
    "                        param_grid=param_grid, \n",
    "                        scoring='neg_root_mean_squared_error', \n",
    "                        num_folds=6, \n",
    "                        seed=123)"
   ]
  },
  {
   "cell_type": "code",
   "execution_count": null,
   "metadata": {},
   "outputs": [],
   "source": [
    "Fitting 5 folds for each of 12 candidates, totalling 60 fits\n",
    "[Parallel(n_jobs=-1)]: Using backend LokyBackend with 8 concurrent workers.\n",
    "[Parallel(n_jobs=-1)]: Done  34 tasks      | elapsed:  1.3min\n",
    "[Parallel(n_jobs=-1)]: Done  60 out of  60 | elapsed:  4.1min finished\n",
    "Best: -5.566746325950773 using {'n_jobs': -1, 'n_estimators': 200, 'bootstrap': True, 'base_estimator': LinearRegression(copy_X=True, fit_intercept=True, n_jobs=None, normalize=False)}\n",
    "CPU times: user 443 ms, sys: 46.1 ms, total: 489 ms\n",
    "Wall time: 4min 5s"
   ]
  },
  {
   "cell_type": "code",
   "execution_count": 42,
   "metadata": {},
   "outputs": [
    {
     "name": "stdout",
     "output_type": "stream",
     "text": [
      "CPU times: user 6 µs, sys: 0 ns, total: 6 µs\n",
      "Wall time: 8.11 µs\n"
     ]
    }
   ],
   "source": [
    "%%time\n",
    "#RandomForestRegressor\n",
    "# https://scikit-learn.org/stable/modules/generated/sklearn.ensemble.RandomForestRegressor.html\n",
    "# https://www.programcreek.com/python/example/85938/sklearn.ensemble.BaggingRegressor\n",
    "# A random forest is a meta estimator that fits a number of classifying decision trees on various sub-samples of the dataset and uses averaging to improve the predictive accuracy and control over-fitting. The sub-sample size is controlled with the max_samples parameter if bootstrap=True (default), otherwise the whole dataset is used to build each tree.\n",
    "param_grid = {\n",
    "    \"n_estimators\": [100, 200, 500],#, 1000, 5000, 10000],\n",
    "    #\"criterion\": [\"mse\", \"mae\"],\n",
    "    #\"bootstrap\": [True, False],\n",
    "    \"ccp_alpha\": [0.001, 0.01, 0.1, 0, 1, 10],#, 100, 1000],\n",
    "    \"max_depth\": [10, 20, 30, 40, None],#50, 60, 70, 80, 90, 100, None],\n",
    "    \"max_features\": [\"auto\", \"sqrt\", \"log2\"],\n",
    "    \"min_samples_leaf\": [1, 2, 4],\n",
    "    #\"min_samples_split\": range(2, 16, 2),\n",
    "    \"n_jobs\": [-1]\n",
    "}\n",
    "model = models[7][1]"
   ]
  },
  {
   "cell_type": "code",
   "execution_count": null,
   "metadata": {},
   "outputs": [],
   "source": [
    "%%time\n",
    "perform_grid_search_cv2(X_train=X_train, \n",
    "                        y_train=y_train, \n",
    "                        model=model, \n",
    "                        param_grid=param_grid, \n",
    "                        scoring='neg_root_mean_squared_error', \n",
    "                        num_folds=6, \n",
    "                        seed=123)"
   ]
  },
  {
   "cell_type": "code",
   "execution_count": 43,
   "metadata": {},
   "outputs": [
    {
     "name": "stdout",
     "output_type": "stream",
     "text": [
      "Fitting 5 folds for each of 810 candidates, totalling 4050 fits\n"
     ]
    },
    {
     "name": "stderr",
     "output_type": "stream",
     "text": [
      "[Parallel(n_jobs=-1)]: Using backend LokyBackend with 8 concurrent workers.\n",
      "[Parallel(n_jobs=-1)]: Done  34 tasks      | elapsed:  1.5min\n",
      "[Parallel(n_jobs=-1)]: Done 184 tasks      | elapsed:  9.2min\n",
      "[Parallel(n_jobs=-1)]: Done 434 tasks      | elapsed: 30.5min\n",
      "[Parallel(n_jobs=-1)]: Done 784 tasks      | elapsed: 46.8min\n",
      "[Parallel(n_jobs=-1)]: Done 1234 tasks      | elapsed: 78.1min\n",
      "[Parallel(n_jobs=-1)]: Done 1784 tasks      | elapsed: 109.5min\n",
      "[Parallel(n_jobs=-1)]: Done 2434 tasks      | elapsed: 139.0min\n",
      "[Parallel(n_jobs=-1)]: Done 3184 tasks      | elapsed: 175.4min\n",
      "[Parallel(n_jobs=-1)]: Done 4034 tasks      | elapsed: 229.0min\n",
      "[Parallel(n_jobs=-1)]: Done 4050 out of 4050 | elapsed: 229.4min finished\n"
     ]
    },
    {
     "name": "stdout",
     "output_type": "stream",
     "text": [
      "Best: -5.611958006937581 using {'n_jobs': -1, 'n_estimators': 500, 'min_samples_leaf': 4, 'max_features': 'auto', 'max_depth': 10, 'ccp_alpha': 0}\n",
      "CPU times: user 1min 3s, sys: 4.94 s, total: 1min 8s\n",
      "Wall time: 3h 49min 30s\n"
     ]
    }
   ],
   "source": [
    "%%time\n",
    "#RandomForestRegressor - Random Search\n",
    "perform_random_search_cv2(X_train=X_train, \n",
    "                        y_train=y_train, \n",
    "                        model=model, \n",
    "                        param_grid=param_grid, \n",
    "                        scoring='neg_root_mean_squared_error', \n",
    "                        num_folds=6, \n",
    "                        seed=123)"
   ]
  },
  {
   "cell_type": "code",
   "execution_count": null,
   "metadata": {},
   "outputs": [],
   "source": [
    "Fitting 5 folds for each of 810 candidates, totalling 4050 fits\n",
    "[Parallel(n_jobs=-1)]: Using backend LokyBackend with 8 concurrent workers.\n",
    "[Parallel(n_jobs=-1)]: Done  34 tasks      | elapsed:  1.5min\n",
    "[Parallel(n_jobs=-1)]: Done 184 tasks      | elapsed:  9.2min\n",
    "[Parallel(n_jobs=-1)]: Done 434 tasks      | elapsed: 30.5min\n",
    "[Parallel(n_jobs=-1)]: Done 784 tasks      | elapsed: 46.8min\n",
    "[Parallel(n_jobs=-1)]: Done 1234 tasks      | elapsed: 78.1min\n",
    "[Parallel(n_jobs=-1)]: Done 1784 tasks      | elapsed: 109.5min\n",
    "[Parallel(n_jobs=-1)]: Done 2434 tasks      | elapsed: 139.0min\n",
    "[Parallel(n_jobs=-1)]: Done 3184 tasks      | elapsed: 175.4min\n",
    "[Parallel(n_jobs=-1)]: Done 4034 tasks      | elapsed: 229.0min\n",
    "[Parallel(n_jobs=-1)]: Done 4050 out of 4050 | elapsed: 229.4min finished\n",
    "Best: -5.611958006937581 using {'n_jobs': -1, 'n_estimators': 500, 'min_samples_leaf': 4, 'max_features': 'auto', 'max_depth': 10, 'ccp_alpha': 0}\n",
    "CPU times: user 1min 3s, sys: 4.94 s, total: 1min 8s\n",
    "Wall time: 3h 49min 30s"
   ]
  },
  {
   "cell_type": "code",
   "execution_count": 44,
   "metadata": {},
   "outputs": [
    {
     "name": "stdout",
     "output_type": "stream",
     "text": [
      "CPU times: user 6 µs, sys: 0 ns, total: 6 µs\n",
      "Wall time: 9.06 µs\n"
     ]
    }
   ],
   "source": [
    "%%time\n",
    "#ExtraTreesRegressor\n",
    "# https://scikit-learn.org/stable/modules/generated/sklearn.ensemble.ExtraTreesRegressor.html\n",
    "# https://www.programcreek.com/python/example/102434/sklearn.ensemble.ExtraTreesRegressor\n",
    "# This class implements a meta estimator that fits a number of randomized decision trees (a.k.a. extra-trees) on various sub-samples of the dataset and uses averaging to improve the predictive accuracy and control over-fitting.\n",
    "param_grid = {\n",
    "    \"n_estimators\": [100, 200, 500],#, 1000, 5000, 10000],\n",
    "    #\"criterion\": [\"mse\", \"mae\"],\n",
    "    #\"bootstrap\": [True, False],\n",
    "    \"ccp_alpha\": [0.001, 0.01, 0.1, 0, 1, 10],#, 100, 1000],\n",
    "    \"max_depth\": [10, 20, 30, 40, None],#50, 60, 70, 80, 90, 100, None],\n",
    "    #\"max_features\": [\"auto\", \"sqrt\", \"log2\"],\n",
    "    \"min_samples_leaf\": [1, 2, 4],\n",
    "    #\"min_samples_split\": range(2, 16, 2),\n",
    "    \"n_jobs\": [-1]\n",
    "}\n",
    "model = models[8][1]"
   ]
  },
  {
   "cell_type": "code",
   "execution_count": null,
   "metadata": {},
   "outputs": [],
   "source": [
    "perform_grid_search_cv2(X_train=X_train, \n",
    "                        y_train=y_train, \n",
    "                        model=model, \n",
    "                        param_grid=param_grid, \n",
    "                        scoring='neg_root_mean_squared_error', \n",
    "                        num_folds=6, \n",
    "                        seed=123)"
   ]
  },
  {
   "cell_type": "code",
   "execution_count": null,
   "metadata": {},
   "outputs": [],
   "source": []
  },
  {
   "cell_type": "code",
   "execution_count": 45,
   "metadata": {},
   "outputs": [
    {
     "name": "stdout",
     "output_type": "stream",
     "text": [
      "Fitting 5 folds for each of 270 candidates, totalling 1350 fits\n"
     ]
    },
    {
     "name": "stderr",
     "output_type": "stream",
     "text": [
      "[Parallel(n_jobs=-1)]: Using backend LokyBackend with 8 concurrent workers.\n",
      "[Parallel(n_jobs=-1)]: Done  34 tasks      | elapsed:   20.4s\n",
      "[Parallel(n_jobs=-1)]: Done 184 tasks      | elapsed: 11.3min\n",
      "[Parallel(n_jobs=-1)]: Done 434 tasks      | elapsed: 33.8min\n",
      "[Parallel(n_jobs=-1)]: Done 784 tasks      | elapsed: 58.9min\n",
      "[Parallel(n_jobs=-1)]: Done 1234 tasks      | elapsed: 93.3min\n",
      "[Parallel(n_jobs=-1)]: Done 1350 out of 1350 | elapsed: 107.5min finished\n"
     ]
    },
    {
     "name": "stdout",
     "output_type": "stream",
     "text": [
      "Best: -5.550630838028553 using {'n_jobs': -1, 'n_estimators': 500, 'min_samples_leaf': 4, 'max_depth': 20, 'ccp_alpha': 0}\n",
      "CPU times: user 23.8 s, sys: 2.48 s, total: 26.3 s\n",
      "Wall time: 1h 47min 34s\n"
     ]
    }
   ],
   "source": [
    "%%time\n",
    "#ExtraTreesRegressor - Random Search\n",
    "perform_random_search_cv2(X_train=X_train, \n",
    "                        y_train=y_train, \n",
    "                        model=model, \n",
    "                        param_grid=param_grid, \n",
    "                        scoring='neg_root_mean_squared_error', \n",
    "                        num_folds=6, \n",
    "                        seed=123)"
   ]
  },
  {
   "cell_type": "code",
   "execution_count": null,
   "metadata": {},
   "outputs": [],
   "source": [
    "Fitting 5 folds for each of 270 candidates, totalling 1350 fits\n",
    "[Parallel(n_jobs=-1)]: Using backend LokyBackend with 8 concurrent workers.\n",
    "[Parallel(n_jobs=-1)]: Done  34 tasks      | elapsed:   20.4s\n",
    "[Parallel(n_jobs=-1)]: Done 184 tasks      | elapsed: 11.3min\n",
    "[Parallel(n_jobs=-1)]: Done 434 tasks      | elapsed: 33.8min\n",
    "[Parallel(n_jobs=-1)]: Done 784 tasks      | elapsed: 58.9min\n",
    "[Parallel(n_jobs=-1)]: Done 1234 tasks      | elapsed: 93.3min\n",
    "[Parallel(n_jobs=-1)]: Done 1350 out of 1350 | elapsed: 107.5min finished\n",
    "Best: -5.550630838028553 using {'n_jobs': -1, 'n_estimators': 500, 'min_samples_leaf': 4, 'max_depth': 20, 'ccp_alpha': 0}\n",
    "CPU times: user 23.8 s, sys: 2.48 s, total: 26.3 s\n",
    "Wall time: 1h 47min 34s"
   ]
  },
  {
   "cell_type": "markdown",
   "metadata": {},
   "source": [
    "### Evaluate best models on test dataset"
   ]
  },
  {
   "cell_type": "code",
   "execution_count": 88,
   "metadata": {},
   "outputs": [],
   "source": [
    "from sklearn.linear_model import LinearRegression\n",
    "from sklearn.linear_model import ElasticNet\n",
    "from sklearn.ensemble import BaggingRegressor\n",
    "from sklearn.ensemble import RandomForestRegressor\n",
    "from sklearn.ensemble import ExtraTreesRegressor"
   ]
  },
  {
   "cell_type": "code",
   "execution_count": 89,
   "metadata": {},
   "outputs": [
    {
     "name": "stdout",
     "output_type": "stream",
     "text": [
      "('LinearRegression', LinearRegression(copy_X=True,\n",
      "                 fit_intercept={'alpha': 0.1, 'fit_intercept': True,\n",
      "                                'l1_ratio': 0.9, 'max_iter': 10,\n",
      "                                'selection': 'cyclic'},\n",
      "                 n_jobs=None, normalize=False))\n",
      "('ElasticNet', ElasticNet(alpha=0.1, copy_X=True, fit_intercept=True, l1_ratio=0.9,\n",
      "           max_iter=10, normalize=False, positive=False, precompute=False,\n",
      "           random_state=None, selection='cyclic', tol=0.0001, warm_start=False))\n",
      "('BaggingRegressor', BaggingRegressor(base_estimator=LinearRegression(copy_X=True,\n",
      "                                                 fit_intercept=True,\n",
      "                                                 n_jobs=None, normalize=False),\n",
      "                 bootstrap=True, bootstrap_features=False, max_features=1.0,\n",
      "                 max_samples=1.0, n_estimators=500, n_jobs=-1, oob_score=False,\n",
      "                 random_state=None, verbose=0, warm_start=False))\n",
      "('RandomForestRegressor', RandomForestRegressor(bootstrap=True, ccp_alpha=0, criterion='mse',\n",
      "                      max_depth=10, max_features='auto', max_leaf_nodes=None,\n",
      "                      max_samples=None, min_impurity_decrease=0.0,\n",
      "                      min_impurity_split=None, min_samples_leaf=4,\n",
      "                      min_samples_split=2, min_weight_fraction_leaf=0.0,\n",
      "                      n_estimators=500, n_jobs=-1, oob_score=False,\n",
      "                      random_state=None, verbose=0, warm_start=False))\n",
      "('ExtraTreesRegressor', ExtraTreesRegressor(bootstrap=False, ccp_alpha=0, criterion='mse', max_depth=20,\n",
      "                    max_features='auto', max_leaf_nodes=None, max_samples=None,\n",
      "                    min_impurity_decrease=0.0, min_impurity_split=None,\n",
      "                    min_samples_leaf=4, min_samples_split=2,\n",
      "                    min_weight_fraction_leaf=0.0, n_estimators=500, n_jobs=-1,\n",
      "                    oob_score=False, random_state=None, verbose=0,\n",
      "                    warm_start=False))\n"
     ]
    }
   ],
   "source": [
    "best_models = [\n",
    "    LinearRegression({'selection': 'cyclic', 'max_iter': 10, 'l1_ratio': 0.9, 'fit_intercept': True, 'alpha': 0.1}),\n",
    "    ElasticNet(**{'alpha': 0.1, 'fit_intercept': True, 'l1_ratio': 0.9, 'max_iter': 10, 'selection': 'cyclic'}),\n",
    "    BaggingRegressor(**{'base_estimator': LinearRegression(copy_X=True, fit_intercept=True, n_jobs=None, normalize=False), 'bootstrap': True, 'n_estimators': 500, 'n_jobs': -1}),\n",
    "    RandomForestRegressor(**{'n_jobs': -1, 'n_estimators': 500, 'min_samples_leaf': 4, 'max_features': 'auto', 'max_depth': 10, 'ccp_alpha': 0}),\n",
    "    ExtraTreesRegressor(**{'n_jobs': -1, 'n_estimators': 500, 'min_samples_leaf': 4, 'max_depth': 20, 'ccp_alpha': 0})\n",
    "]\n",
    "\n",
    "models = []\n",
    "\n",
    "for model in best_models:\n",
    "    item = (type(model).__name__, model)\n",
    "    models.append(item)\n",
    "    print(item)"
   ]
  },
  {
   "cell_type": "code",
   "execution_count": 90,
   "metadata": {},
   "outputs": [
    {
     "name": "stdout",
     "output_type": "stream",
     "text": [
      "LinearRegression, RMSE 6.828320349509234, (std. dev. 1.1765435471515016)\n",
      "ElasticNet, RMSE 6.362445093286155, (std. dev. 1.3735950444778768)\n",
      "BaggingRegressor, RMSE 6.741902866871671, (std. dev. 1.2375756214055105)\n",
      "RandomForestRegressor, RMSE 7.470411301420557, (std. dev. 3.266147545644302)\n",
      "ExtraTreesRegressor, RMSE 7.629586333849936, (std. dev. 3.1862423905356776)\n"
     ]
    }
   ],
   "source": [
    "scores, results, names = score_ml_models(X_train=X_test,\n",
    "                                         y_train=y_test,\n",
    "                                         models=models,\n",
    "                                         n_splits = 5,\n",
    "                                         metric='neg_root_mean_squared_error',\n",
    "                                         metric_label=\"RMSE\", \n",
    "                                         seed=123)\n",
    "\n",
    "for score in scores:\n",
    "    print(score)"
   ]
  },
  {
   "cell_type": "markdown",
   "metadata": {},
   "source": [
    "---\n",
    "<a id='data_d'></a>\n",
    "\n",
    "## Load daily data"
   ]
  },
  {
   "cell_type": "code",
   "execution_count": 101,
   "metadata": {},
   "outputs": [
    {
     "name": "stderr",
     "output_type": "stream",
     "text": [
      "common.py | 42 | get_pm25_data_for_modelling | 04-Jun-20 23:06:19 | INFO: Dataframe loaded: /Users/ksatola/Documents/git/air-polution/agh/data/dfpm25_2008-2018_ml_7days_lags.hdf\n",
      "common.py | 43 | get_pm25_data_for_modelling | 04-Jun-20 23:06:19 | INFO: Dataframe size: (4014, 13)\n"
     ]
    },
    {
     "data": {
      "text/html": [
       "<div>\n",
       "<style scoped>\n",
       "    .dataframe tbody tr th:only-of-type {\n",
       "        vertical-align: middle;\n",
       "    }\n",
       "\n",
       "    .dataframe tbody tr th {\n",
       "        vertical-align: top;\n",
       "    }\n",
       "\n",
       "    .dataframe thead th {\n",
       "        text-align: right;\n",
       "    }\n",
       "</style>\n",
       "<table border=\"1\" class=\"dataframe\">\n",
       "  <thead>\n",
       "    <tr style=\"text-align: right;\">\n",
       "      <th></th>\n",
       "      <th>t</th>\n",
       "      <th>t-1</th>\n",
       "      <th>t-3</th>\n",
       "      <th>t-4</th>\n",
       "      <th>t-5</th>\n",
       "      <th>month</th>\n",
       "      <th>day</th>\n",
       "      <th>hour</th>\n",
       "      <th>dayofyear</th>\n",
       "      <th>weekofyear</th>\n",
       "      <th>dayofweek</th>\n",
       "      <th>quarter</th>\n",
       "      <th>season</th>\n",
       "    </tr>\n",
       "  </thead>\n",
       "  <tbody>\n",
       "    <tr>\n",
       "      <th>0</th>\n",
       "      <td>4.290823</td>\n",
       "      <td>7.381350</td>\n",
       "      <td>5.134971</td>\n",
       "      <td>-16.374909</td>\n",
       "      <td>-47.645172</td>\n",
       "      <td>1</td>\n",
       "      <td>6</td>\n",
       "      <td>0</td>\n",
       "      <td>6</td>\n",
       "      <td>1</td>\n",
       "      <td>6</td>\n",
       "      <td>1</td>\n",
       "      <td>1</td>\n",
       "    </tr>\n",
       "    <tr>\n",
       "      <th>1</th>\n",
       "      <td>13.625808</td>\n",
       "      <td>4.290823</td>\n",
       "      <td>17.628909</td>\n",
       "      <td>5.134971</td>\n",
       "      <td>-16.374909</td>\n",
       "      <td>1</td>\n",
       "      <td>7</td>\n",
       "      <td>0</td>\n",
       "      <td>7</td>\n",
       "      <td>2</td>\n",
       "      <td>0</td>\n",
       "      <td>1</td>\n",
       "      <td>1</td>\n",
       "    </tr>\n",
       "    <tr>\n",
       "      <th>2</th>\n",
       "      <td>-21.621035</td>\n",
       "      <td>13.625808</td>\n",
       "      <td>7.381350</td>\n",
       "      <td>17.628909</td>\n",
       "      <td>5.134971</td>\n",
       "      <td>1</td>\n",
       "      <td>8</td>\n",
       "      <td>0</td>\n",
       "      <td>8</td>\n",
       "      <td>2</td>\n",
       "      <td>1</td>\n",
       "      <td>1</td>\n",
       "      <td>1</td>\n",
       "    </tr>\n",
       "    <tr>\n",
       "      <th>3</th>\n",
       "      <td>8.678291</td>\n",
       "      <td>-21.621035</td>\n",
       "      <td>4.290823</td>\n",
       "      <td>7.381350</td>\n",
       "      <td>17.628909</td>\n",
       "      <td>1</td>\n",
       "      <td>9</td>\n",
       "      <td>0</td>\n",
       "      <td>9</td>\n",
       "      <td>2</td>\n",
       "      <td>2</td>\n",
       "      <td>1</td>\n",
       "      <td>1</td>\n",
       "    </tr>\n",
       "    <tr>\n",
       "      <th>4</th>\n",
       "      <td>11.641890</td>\n",
       "      <td>8.678291</td>\n",
       "      <td>13.625808</td>\n",
       "      <td>4.290823</td>\n",
       "      <td>7.381350</td>\n",
       "      <td>1</td>\n",
       "      <td>10</td>\n",
       "      <td>0</td>\n",
       "      <td>10</td>\n",
       "      <td>2</td>\n",
       "      <td>3</td>\n",
       "      <td>1</td>\n",
       "      <td>1</td>\n",
       "    </tr>\n",
       "  </tbody>\n",
       "</table>\n",
       "</div>"
      ],
      "text/plain": [
       "           t        t-1        t-3        t-4        t-5  month  day  hour  \\\n",
       "0   4.290823   7.381350   5.134971 -16.374909 -47.645172      1    6     0   \n",
       "1  13.625808   4.290823  17.628909   5.134971 -16.374909      1    7     0   \n",
       "2 -21.621035  13.625808   7.381350  17.628909   5.134971      1    8     0   \n",
       "3   8.678291 -21.621035   4.290823   7.381350  17.628909      1    9     0   \n",
       "4  11.641890   8.678291  13.625808   4.290823   7.381350      1   10     0   \n",
       "\n",
       "   dayofyear  weekofyear  dayofweek  quarter  season  \n",
       "0          6           1          6        1       1  \n",
       "1          7           2          0        1       1  \n",
       "2          8           2          1        1       1  \n",
       "3          9           2          2        1       1  \n",
       "4         10           2          3        1       1  "
      ]
     },
     "execution_count": 101,
     "metadata": {},
     "output_type": "execute_result"
    }
   ],
   "source": [
    "dfd = get_pm25_data_for_modelling('ml', 'd')\n",
    "dfd.head()"
   ]
  },
  {
   "cell_type": "markdown",
   "metadata": {},
   "source": [
    "---\n",
    "<a id='model_d'></a>\n",
    "\n",
    "## Modelling"
   ]
  },
  {
   "cell_type": "code",
   "execution_count": 102,
   "metadata": {},
   "outputs": [],
   "source": [
    "# Train test split\n",
    "X_train, X_test, y_train, y_test = split_df_for_ml_modelling(data=dfd, \n",
    "                                                             target_col='t', \n",
    "                                                             train_size=0.02) # train_size=0.00024"
   ]
  },
  {
   "cell_type": "code",
   "execution_count": 103,
   "metadata": {},
   "outputs": [
    {
     "data": {
      "text/plain": [
       "(3933, 12)"
      ]
     },
     "execution_count": 103,
     "metadata": {},
     "output_type": "execute_result"
    }
   ],
   "source": [
    "X_train.shape"
   ]
  },
  {
   "cell_type": "code",
   "execution_count": 104,
   "metadata": {},
   "outputs": [
    {
     "data": {
      "text/plain": [
       "(81, 12)"
      ]
     },
     "execution_count": 104,
     "metadata": {},
     "output_type": "execute_result"
    }
   ],
   "source": [
    "X_test.shape"
   ]
  },
  {
   "cell_type": "code",
   "execution_count": 105,
   "metadata": {},
   "outputs": [
    {
     "name": "stdout",
     "output_type": "stream",
     "text": [
      "('LinearRegression', LinearRegression(copy_X=True, fit_intercept=True, n_jobs=None, normalize=False))\n",
      "('ElasticNet', ElasticNet(alpha=1.0, copy_X=True, fit_intercept=True, l1_ratio=0.5,\n",
      "           max_iter=1000, normalize=False, positive=False, precompute=False,\n",
      "           random_state=None, selection='cyclic', tol=0.0001, warm_start=False))\n",
      "('SVR', SVR(C=1.0, cache_size=200, coef0=0.0, degree=3, epsilon=0.1, gamma='scale',\n",
      "    kernel='rbf', max_iter=-1, shrinking=True, tol=0.001, verbose=False))\n",
      "('DecisionTreeRegressor', DecisionTreeRegressor(ccp_alpha=0.0, criterion='mse', max_depth=None,\n",
      "                      max_features=None, max_leaf_nodes=None,\n",
      "                      min_impurity_decrease=0.0, min_impurity_split=None,\n",
      "                      min_samples_leaf=1, min_samples_split=2,\n",
      "                      min_weight_fraction_leaf=0.0, presort='deprecated',\n",
      "                      random_state=None, splitter='best'))\n",
      "('KNeighborsRegressor', KNeighborsRegressor(algorithm='auto', leaf_size=30, metric='minkowski',\n",
      "                    metric_params=None, n_jobs=None, n_neighbors=5, p=2,\n",
      "                    weights='uniform'))\n",
      "('AdaBoostRegressor', AdaBoostRegressor(base_estimator=None, learning_rate=1.0, loss='linear',\n",
      "                  n_estimators=50, random_state=None))\n",
      "('BaggingRegressor', BaggingRegressor(base_estimator=None, bootstrap=True, bootstrap_features=False,\n",
      "                 max_features=1.0, max_samples=1.0, n_estimators=10,\n",
      "                 n_jobs=None, oob_score=False, random_state=None, verbose=0,\n",
      "                 warm_start=False))\n",
      "('RandomForestRegressor', RandomForestRegressor(bootstrap=True, ccp_alpha=0.0, criterion='mse',\n",
      "                      max_depth=None, max_features='auto', max_leaf_nodes=None,\n",
      "                      max_samples=None, min_impurity_decrease=0.0,\n",
      "                      min_impurity_split=None, min_samples_leaf=1,\n",
      "                      min_samples_split=2, min_weight_fraction_leaf=0.0,\n",
      "                      n_estimators=10, n_jobs=None, oob_score=False,\n",
      "                      random_state=None, verbose=0, warm_start=False))\n",
      "('ExtraTreesRegressor', ExtraTreesRegressor(bootstrap=False, ccp_alpha=0.0, criterion='mse',\n",
      "                    max_depth=None, max_features='auto', max_leaf_nodes=None,\n",
      "                    max_samples=None, min_impurity_decrease=0.0,\n",
      "                    min_impurity_split=None, min_samples_leaf=1,\n",
      "                    min_samples_split=2, min_weight_fraction_leaf=0.0,\n",
      "                    n_estimators=10, n_jobs=None, oob_score=False,\n",
      "                    random_state=None, verbose=0, warm_start=False))\n"
     ]
    }
   ],
   "source": [
    "# Define regression models in scope\n",
    "reg_models = get_models_for_regression()\n",
    "models = []\n",
    "\n",
    "for model in reg_models:\n",
    "    item = (type(model).__name__, model)\n",
    "    models.append(item)\n",
    "    print(item)"
   ]
  },
  {
   "cell_type": "code",
   "execution_count": 106,
   "metadata": {},
   "outputs": [
    {
     "name": "stdout",
     "output_type": "stream",
     "text": [
      "LinearRegression, RMSE 13.143886676634612, (std. dev. 0.42758394413212353)\n",
      "ElasticNet, RMSE 13.131853794028634, (std. dev. 0.43576815454789974)\n",
      "SVR, RMSE 13.823720574691311, (std. dev. 0.2945517705423598)\n",
      "DecisionTreeRegressor, RMSE 19.18873823140993, (std. dev. 0.8872352989071995)\n",
      "KNeighborsRegressor, RMSE 14.588892279746142, (std. dev. 0.4463272629786315)\n",
      "AdaBoostRegressor, RMSE 13.854147945337223, (std. dev. 0.33244863460665397)\n",
      "BaggingRegressor, RMSE 14.350252355219094, (std. dev. 0.29953723885220973)\n",
      "RandomForestRegressor, RMSE 14.455900445749682, (std. dev. 0.24241607280346159)\n",
      "ExtraTreesRegressor, RMSE 14.509192727169573, (std. dev. 0.32735725010262295)\n",
      "CPU times: user 5.84 s, sys: 274 ms, total: 6.11 s\n",
      "Wall time: 5.38 s\n"
     ]
    }
   ],
   "source": [
    "%%time\n",
    "# Perform initial ranking\n",
    "scores, results, names = score_ml_models(X_train=X_train,\n",
    "                                         y_train=y_train,\n",
    "                                         models=models,\n",
    "                                         n_splits = 5,\n",
    "                                         metric='neg_root_mean_squared_error',\n",
    "                                         metric_label=\"RMSE\", \n",
    "                                         seed=123)\n",
    "for score in scores:\n",
    "    print(score)"
   ]
  },
  {
   "cell_type": "code",
   "execution_count": 107,
   "metadata": {},
   "outputs": [
    {
     "data": {
      "image/png": "[encoded data removed]",
      "text/plain": [
       "<Figure size 1296x576 with 1 Axes>"
      ]
     },
     "metadata": {
      "needs_background": "light"
     },
     "output_type": "display_data"
    }
   ],
   "source": [
    "# Compare Algorithms\n",
    "fig = plt.figure(figsize=(18, 8))\n",
    "fig.suptitle('Algorithms Comparison - RMSE')\n",
    "ax = fig.add_subplot(111)\n",
    "plt.boxplot(results)\n",
    "ax.set_xticklabels(names)\n",
    "plt.savefig('images/ml_comparison_rmse_d.png')\n",
    "plt.show();"
   ]
  },
  {
   "cell_type": "markdown",
   "metadata": {},
   "source": [
    "---\n",
    "<a id='model_d_tune'></a>\n",
    "\n",
    "## Hyper-parameter Tuning"
   ]
  },
  {
   "cell_type": "code",
   "execution_count": 108,
   "metadata": {},
   "outputs": [
    {
     "name": "stdout",
     "output_type": "stream",
     "text": [
      "CPU times: user 16 µs, sys: 8 µs, total: 24 µs\n",
      "Wall time: 25.7 µs\n"
     ]
    }
   ],
   "source": [
    "%%time\n",
    "# LinearRegression\n",
    "param_grid = {\n",
    "    \"alpha\": [0.0001, 0.001, 0.01, 0.1, 1],\n",
    "    \"l1_ratio\": np.arange(0.0, 1.0, 0.1),\n",
    "    \"max_iter\": [1, 10, 100, 1000],\n",
    "    \"fit_intercept\": [True, False],\n",
    "    \"selection\": [\"cyclic\", \"random\"]\n",
    "}\n",
    "model = models[1][1]"
   ]
  },
  {
   "cell_type": "code",
   "execution_count": 110,
   "metadata": {},
   "outputs": [
    {
     "name": "stdout",
     "output_type": "stream",
     "text": [
      "Best: -13.126226564857761 using {'alpha': 1, 'fit_intercept': False, 'l1_ratio': 0.7000000000000001, 'max_iter': 10, 'selection': 'random'}\n",
      "CPU times: user 2min 20s, sys: 19.7 s, total: 2min 40s\n",
      "Wall time: 41.4 s\n"
     ]
    }
   ],
   "source": [
    "%%time\n",
    "perform_grid_search_cv2(X_train=X_train, \n",
    "                        y_train=y_train, \n",
    "                        model=model, \n",
    "                        param_grid=param_grid, \n",
    "                        scoring='neg_root_mean_squared_error', \n",
    "                        num_folds=6, \n",
    "                        seed=123)"
   ]
  },
  {
   "cell_type": "code",
   "execution_count": null,
   "metadata": {},
   "outputs": [],
   "source": [
    "Best: -13.126226564857761 using {'alpha': 1, 'fit_intercept': False, 'l1_ratio': 0.7000000000000001, 'max_iter': 10, 'selection': 'random'}\n",
    "CPU times: user 2min 20s, sys: 19.7 s, total: 2min 40s\n",
    "Wall time: 41.4 s"
   ]
  },
  {
   "cell_type": "code",
   "execution_count": 111,
   "metadata": {},
   "outputs": [
    {
     "name": "stdout",
     "output_type": "stream",
     "text": [
      "CPU times: user 18 µs, sys: 2 µs, total: 20 µs\n",
      "Wall time: 21.7 µs\n"
     ]
    }
   ],
   "source": [
    "%%time\n",
    "# ElasticNet\n",
    "param_grid = {\n",
    "    \"alpha\": [0.0001, 0.001, 0.01, 0.1, 1],\n",
    "    \"l1_ratio\": np.arange(0.0, 1.0, 0.1),\n",
    "    \"max_iter\": [1, 10, 100, 1000],\n",
    "    \"fit_intercept\": [True, False],\n",
    "    \"selection\": [\"cyclic\", \"random\"]\n",
    "}\n",
    "model = models[1][1]"
   ]
  },
  {
   "cell_type": "code",
   "execution_count": 112,
   "metadata": {},
   "outputs": [
    {
     "name": "stdout",
     "output_type": "stream",
     "text": [
      "Best: -13.12422705933348 using {'alpha': 1, 'fit_intercept': False, 'l1_ratio': 0.6000000000000001, 'max_iter': 10, 'selection': 'random'}\n",
      "CPU times: user 2min 31s, sys: 22.5 s, total: 2min 53s\n",
      "Wall time: 46.1 s\n"
     ]
    }
   ],
   "source": [
    "%%time\n",
    "perform_grid_search_cv2(X_train=X_train, \n",
    "                        y_train=y_train, \n",
    "                        model=model, \n",
    "                        param_grid=param_grid, \n",
    "                        scoring='neg_root_mean_squared_error', \n",
    "                        num_folds=6, \n",
    "                        seed=123)"
   ]
  },
  {
   "cell_type": "code",
   "execution_count": null,
   "metadata": {},
   "outputs": [],
   "source": [
    "Best: -13.12422705933348 using {'alpha': 1, 'fit_intercept': False, 'l1_ratio': 0.6000000000000001, 'max_iter': 10, 'selection': 'random'}\n",
    "CPU times: user 2min 31s, sys: 22.5 s, total: 2min 53s\n",
    "Wall time: 46.1 s"
   ]
  },
  {
   "cell_type": "code",
   "execution_count": 117,
   "metadata": {},
   "outputs": [
    {
     "name": "stdout",
     "output_type": "stream",
     "text": [
      "CPU times: user 17 µs, sys: 224 µs, total: 241 µs\n",
      "Wall time: 507 µs\n"
     ]
    }
   ],
   "source": [
    "%%time\n",
    "#SVR\n",
    "# https://scikit-learn.org/stable/modules/generated/sklearn.svm.SVR.html\n",
    "# Epsilon-Support Vector Regression. \n",
    "# The method of Support Vector Classification can be extended to solve regression problems. This method is called Support Vector Regression.\n",
    "# The model produced by support vector classification (as described above) depends only on a subset of the training data, because the cost function for building the model does not care about training points that lie beyond the margin. Analogously, the model produced by Support Vector Regression depends only on a subset of the training data, because the cost function ignores samples whose prediction is close to their target.\n",
    "param_grid = {\n",
    "    \"kernel\": [\"linear\", \"rbf\"],#, \"poly\", \"sigmoid\"], \n",
    "    \"degree\": [3],#[1, 2, 3, 4],\n",
    "    \"C\": [1.5, 10],\n",
    "    #\"gamma\": [\"scale\", \"auto\"],\n",
    "    'epsilon':[0.01, 0.1, 0.2, 0.3, 0.5]\n",
    "}\n",
    "model = models[2][1]"
   ]
  },
  {
   "cell_type": "code",
   "execution_count": null,
   "metadata": {},
   "outputs": [],
   "source": [
    "%%time\n",
    "perform_grid_search_cv2(X_train=X_train, \n",
    "                        y_train=y_train, \n",
    "                        model=model, \n",
    "                        param_grid=param_grid, \n",
    "                        scoring='neg_root_mean_squared_error', \n",
    "                        num_folds=6, \n",
    "                        seed=123)"
   ]
  },
  {
   "cell_type": "code",
   "execution_count": 118,
   "metadata": {},
   "outputs": [
    {
     "name": "stdout",
     "output_type": "stream",
     "text": [
      "Fitting 5 folds for each of 20 candidates, totalling 100 fits\n"
     ]
    },
    {
     "name": "stderr",
     "output_type": "stream",
     "text": [
      "[Parallel(n_jobs=-1)]: Using backend LokyBackend with 8 concurrent workers.\n",
      "[Parallel(n_jobs=-1)]: Done  34 tasks      | elapsed:  2.5min\n",
      "[Parallel(n_jobs=-1)]: Done 100 out of 100 | elapsed: 24.2min finished\n"
     ]
    },
    {
     "name": "stdout",
     "output_type": "stream",
     "text": [
      "Best: -13.141117773500117 using {'kernel': 'linear', 'epsilon': 0.5, 'degree': 3, 'C': 10}\n",
      "CPU times: user 3min 28s, sys: 1.08 s, total: 3min 29s\n",
      "Wall time: 27min 44s\n"
     ]
    }
   ],
   "source": [
    "%%time\n",
    "#SVR  - Random Search\n",
    "perform_random_search_cv2(X_train=X_train, \n",
    "                        y_train=y_train, \n",
    "                        model=model, \n",
    "                        param_grid=param_grid, \n",
    "                        scoring='neg_root_mean_squared_error', \n",
    "                        num_folds=6, \n",
    "                        seed=123)"
   ]
  },
  {
   "cell_type": "code",
   "execution_count": null,
   "metadata": {},
   "outputs": [],
   "source": [
    "Fitting 5 folds for each of 20 candidates, totalling 100 fits\n",
    "[Parallel(n_jobs=-1)]: Using backend LokyBackend with 8 concurrent workers.\n",
    "[Parallel(n_jobs=-1)]: Done  34 tasks      | elapsed:  2.5min\n",
    "[Parallel(n_jobs=-1)]: Done 100 out of 100 | elapsed: 24.2min finished\n",
    "Best: -13.141117773500117 using {'kernel': 'linear', 'epsilon': 0.5, 'degree': 3, 'C': 10}\n",
    "CPU times: user 3min 28s, sys: 1.08 s, total: 3min 29s\n",
    "Wall time: 27min 44s"
   ]
  },
  {
   "cell_type": "code",
   "execution_count": 123,
   "metadata": {},
   "outputs": [
    {
     "name": "stdout",
     "output_type": "stream",
     "text": [
      "CPU times: user 11 µs, sys: 45 µs, total: 56 µs\n",
      "Wall time: 103 µs\n"
     ]
    }
   ],
   "source": [
    "%%time\n",
    "#AdaBoostRegressor\n",
    "# https://scikit-learn.org/stable/modules/generated/sklearn.ensemble.AdaBoostRegressor.html#sklearn.ensemble.AdaBoostRegressor\n",
    "# An AdaBoost [1] regressor is a meta-estimator that begins by fitting a regressor on the original dataset and then fits additional \n",
    "# copies of the regressor on the same dataset but where the weights of instances are adjusted according to the error of the current prediction. \n",
    "# As such, subsequent regressors focus more on difficult cases.\n",
    "# The base estimator from which the boosted ensemble is built. If None, then the base estimator is DecisionTreeRegressor(max_depth=3).\n",
    "param_grid = {\n",
    "    \"base_estimator\": [models[0][1]],\n",
    "    \"n_estimators\": [100, 200, 500],#, 1000, 5000, 10000],\n",
    "    \"loss\": [\"linear\", \"square\", \"exponential\"]\n",
    "}\n",
    "model = models[5][1]"
   ]
  },
  {
   "cell_type": "code",
   "execution_count": 124,
   "metadata": {},
   "outputs": [
    {
     "name": "stdout",
     "output_type": "stream",
     "text": [
      "Fitting 5 folds for each of 9 candidates, totalling 45 fits\n"
     ]
    },
    {
     "name": "stderr",
     "output_type": "stream",
     "text": [
      "[Parallel(n_jobs=-1)]: Using backend LokyBackend with 8 concurrent workers.\n"
     ]
    },
    {
     "name": "stdout",
     "output_type": "stream",
     "text": [
      "Best: -13.376934994077676 using {'n_estimators': 200, 'loss': 'linear', 'base_estimator': LinearRegression(copy_X=True, fit_intercept=True, n_jobs=None, normalize=False)}\n",
      "CPU times: user 328 ms, sys: 114 ms, total: 442 ms\n",
      "Wall time: 2.15 s\n"
     ]
    },
    {
     "name": "stderr",
     "output_type": "stream",
     "text": [
      "[Parallel(n_jobs=-1)]: Done  45 out of  45 | elapsed:    2.1s finished\n"
     ]
    }
   ],
   "source": [
    "%%time\n",
    "#AdaBoostRegressor - Random Search\n",
    "perform_random_search_cv2(X_train=X_train, \n",
    "                        y_train=y_train, \n",
    "                        model=model, \n",
    "                        param_grid=param_grid, \n",
    "                        scoring='neg_root_mean_squared_error', \n",
    "                        num_folds=6, \n",
    "                        seed=123)"
   ]
  },
  {
   "cell_type": "code",
   "execution_count": null,
   "metadata": {},
   "outputs": [],
   "source": [
    "Fitting 5 folds for each of 9 candidates, totalling 45 fits\n",
    "[Parallel(n_jobs=-1)]: Using backend LokyBackend with 8 concurrent workers.\n",
    "Best: -13.376934994077676 using {'n_estimators': 200, 'loss': 'linear', 'base_estimator': LinearRegression(copy_X=True, fit_intercept=True, n_jobs=None, normalize=False)}\n",
    "CPU times: user 328 ms, sys: 114 ms, total: 442 ms\n",
    "Wall time: 2.15 s\n",
    "[Parallel(n_jobs=-1)]: Done  45 out of  45 | elapsed:    2.1s finished"
   ]
  },
  {
   "cell_type": "code",
   "execution_count": 125,
   "metadata": {},
   "outputs": [
    {
     "name": "stdout",
     "output_type": "stream",
     "text": [
      "CPU times: user 7 µs, sys: 7 µs, total: 14 µs\n",
      "Wall time: 16.9 µs\n"
     ]
    }
   ],
   "source": [
    "%%time\n",
    "#BaggingRegressor\n",
    "# https://scikit-learn.org/stable/modules/generated/sklearn.ensemble.BaggingRegressor.html\n",
    "# https://www.programcreek.com/python/example/85938/sklearn.ensemble.BaggingRegressor\n",
    "# A Bagging regressor is an ensemble meta-estimator that fits base regressors each on random subsets of the original dataset and then aggregate their individual predictions (either by voting or by averaging) to form a final prediction. Such a meta-estimator can typically be used as a way to reduce the variance of a black-box estimator (e.g., a decision tree), by introducing randomization into its construction procedure and then making an ensemble out of it.\n",
    "# The base estimator to fit on random subsets of the dataset. If None, then the base estimator is a decision tree.\n",
    "param_grid = {\n",
    "    \"base_estimator\": [models[0][1]],\n",
    "    \"n_estimators\": [100, 200, 500, 1000, 5000, 10000],\n",
    "    \"bootstrap\": [True, False],\n",
    "    \"n_jobs\": [-1]\n",
    "}\n",
    "model = models[6][1]"
   ]
  },
  {
   "cell_type": "code",
   "execution_count": null,
   "metadata": {},
   "outputs": [],
   "source": [
    "%%time\n",
    "perform_grid_search_cv2(X_train=X_train, \n",
    "                        y_train=y_train, \n",
    "                        model=model, \n",
    "                        param_grid=param_grid, \n",
    "                        scoring='neg_root_mean_squared_error', \n",
    "                        num_folds=6, \n",
    "                        seed=123)"
   ]
  },
  {
   "cell_type": "code",
   "execution_count": 126,
   "metadata": {},
   "outputs": [
    {
     "name": "stdout",
     "output_type": "stream",
     "text": [
      "Fitting 5 folds for each of 12 candidates, totalling 60 fits\n"
     ]
    },
    {
     "name": "stderr",
     "output_type": "stream",
     "text": [
      "[Parallel(n_jobs=-1)]: Using backend LokyBackend with 8 concurrent workers.\n",
      "[Parallel(n_jobs=-1)]: Done  34 tasks      | elapsed:   30.4s\n"
     ]
    },
    {
     "name": "stdout",
     "output_type": "stream",
     "text": [
      "Best: -13.141310202266377 using {'n_jobs': -1, 'n_estimators': 100, 'bootstrap': True, 'base_estimator': LinearRegression(copy_X=True, fit_intercept=True, n_jobs=None, normalize=False)}\n",
      "CPU times: user 313 ms, sys: 30.2 ms, total: 343 ms\n",
      "Wall time: 1min 45s\n"
     ]
    },
    {
     "name": "stderr",
     "output_type": "stream",
     "text": [
      "[Parallel(n_jobs=-1)]: Done  60 out of  60 | elapsed:  1.8min finished\n"
     ]
    }
   ],
   "source": [
    "%%time\n",
    "#BaggingRegressor - Random Search\n",
    "perform_random_search_cv2(X_train=X_train, \n",
    "                        y_train=y_train, \n",
    "                        model=model, \n",
    "                        param_grid=param_grid, \n",
    "                        scoring='neg_root_mean_squared_error', \n",
    "                        num_folds=6, \n",
    "                        seed=123)"
   ]
  },
  {
   "cell_type": "code",
   "execution_count": null,
   "metadata": {},
   "outputs": [],
   "source": [
    "Fitting 5 folds for each of 12 candidates, totalling 60 fits\n",
    "[Parallel(n_jobs=-1)]: Using backend LokyBackend with 8 concurrent workers.\n",
    "[Parallel(n_jobs=-1)]: Done  34 tasks      | elapsed:   30.4s\n",
    "Best: -13.141310202266377 using {'n_jobs': -1, 'n_estimators': 100, 'bootstrap': True, 'base_estimator': LinearRegression(copy_X=True, fit_intercept=True, n_jobs=None, normalize=False)}\n",
    "CPU times: user 313 ms, sys: 30.2 ms, total: 343 ms\n",
    "Wall time: 1min 45s\n",
    "[Parallel(n_jobs=-1)]: Done  60 out of  60 | elapsed:  1.8min finished"
   ]
  },
  {
   "cell_type": "code",
   "execution_count": null,
   "metadata": {},
   "outputs": [],
   "source": []
  },
  {
   "cell_type": "markdown",
   "metadata": {},
   "source": [
    "### Evaluate best models on test dataset"
   ]
  },
  {
   "cell_type": "code",
   "execution_count": 129,
   "metadata": {},
   "outputs": [],
   "source": [
    "from sklearn.linear_model import LinearRegression\n",
    "from sklearn.linear_model import ElasticNet\n",
    "from sklearn.svm import SVR\n",
    "from sklearn.ensemble import AdaBoostRegressor\n",
    "from sklearn.ensemble import BaggingRegressor"
   ]
  },
  {
   "cell_type": "code",
   "execution_count": 130,
   "metadata": {},
   "outputs": [
    {
     "name": "stdout",
     "output_type": "stream",
     "text": [
      "('LinearRegression', LinearRegression(copy_X=True,\n",
      "                 fit_intercept={'alpha': 1, 'fit_intercept': False,\n",
      "                                'l1_ratio': 0.7000000000000001, 'max_iter': 10,\n",
      "                                'selection': 'random'},\n",
      "                 n_jobs=None, normalize=False))\n",
      "('ElasticNet', ElasticNet(alpha=1, copy_X=True, fit_intercept=False,\n",
      "           l1_ratio=0.6000000000000001, max_iter=10, normalize=False,\n",
      "           positive=False, precompute=False, random_state=None,\n",
      "           selection='random', tol=0.0001, warm_start=False))\n",
      "('SVR', SVR(C=10, cache_size=200, coef0=0.0, degree=3, epsilon=0.5, gamma='scale',\n",
      "    kernel='linear', max_iter=-1, shrinking=True, tol=0.001, verbose=False))\n",
      "('AdaBoostRegressor', AdaBoostRegressor(base_estimator=LinearRegression(copy_X=True,\n",
      "                                                  fit_intercept=True,\n",
      "                                                  n_jobs=None,\n",
      "                                                  normalize=False),\n",
      "                  learning_rate=1.0, loss='linear', n_estimators=200,\n",
      "                  random_state=None))\n",
      "('BaggingRegressor', BaggingRegressor(base_estimator=LinearRegression(copy_X=True,\n",
      "                                                 fit_intercept=True,\n",
      "                                                 n_jobs=None, normalize=False),\n",
      "                 bootstrap=True, bootstrap_features=False, max_features=1.0,\n",
      "                 max_samples=1.0, n_estimators=100, n_jobs=-1, oob_score=False,\n",
      "                 random_state=None, verbose=0, warm_start=False))\n"
     ]
    }
   ],
   "source": [
    "best_models = [\n",
    "    LinearRegression({'alpha': 1, 'fit_intercept': False, 'l1_ratio': 0.7000000000000001, 'max_iter': 10, 'selection': 'random'}),\n",
    "    ElasticNet(**{'alpha': 1, 'fit_intercept': False, 'l1_ratio': 0.6000000000000001, 'max_iter': 10, 'selection': 'random'}),\n",
    "    SVR(**{'kernel': 'linear', 'epsilon': 0.5, 'degree': 3, 'C': 10}),\n",
    "    AdaBoostRegressor(**{'n_estimators': 200, 'loss': 'linear', 'base_estimator': LinearRegression(copy_X=True, fit_intercept=True, n_jobs=None, normalize=False)}),\n",
    "    BaggingRegressor(**{'n_jobs': -1, 'n_estimators': 100, 'bootstrap': True, 'base_estimator': LinearRegression(copy_X=True, fit_intercept=True, n_jobs=None, normalize=False)})\n",
    "]\n",
    "\n",
    "models = []\n",
    "\n",
    "for model in best_models:\n",
    "    item = (type(model).__name__, model)\n",
    "    models.append(item)\n",
    "    print(item)"
   ]
  },
  {
   "cell_type": "code",
   "execution_count": 131,
   "metadata": {},
   "outputs": [
    {
     "name": "stdout",
     "output_type": "stream",
     "text": [
      "LinearRegression, RMSE 13.048955489499978, (std. dev. 1.579505939681471)\n",
      "ElasticNet, RMSE 11.967137144731709, (std. dev. 1.209049991528524)\n",
      "SVR, RMSE 11.798205904606231, (std. dev. 1.5691210883592683)\n",
      "AdaBoostRegressor, RMSE 14.214767389976393, (std. dev. 1.5669097096940707)\n",
      "BaggingRegressor, RMSE 12.913849222119717, (std. dev. 1.5620223443945112)\n"
     ]
    }
   ],
   "source": [
    "scores, results, names = score_ml_models(X_train=X_test,\n",
    "                                         y_train=y_test,\n",
    "                                         models=models,\n",
    "                                         n_splits = 5,\n",
    "                                         metric='neg_root_mean_squared_error',\n",
    "                                         metric_label=\"RMSE\", \n",
    "                                         seed=123)\n",
    "\n",
    "for score in scores:\n",
    "    print(score)"
   ]
  },
  {
   "cell_type": "code",
   "execution_count": null,
   "metadata": {},
   "outputs": [],
   "source": [
    "LinearRegression, RMSE 13.048955489499978, (std. dev. 1.579505939681471)\n",
    "ElasticNet, RMSE 11.967137144731709, (std. dev. 1.209049991528524)\n",
    "SVR, RMSE 11.798205904606231, (std. dev. 1.5691210883592683)\n",
    "AdaBoostRegressor, RMSE 14.214767389976393, (std. dev. 1.5669097096940707)\n",
    "BaggingRegressor, RMSE 12.913849222119717, (std. dev. 1.5620223443945112)"
   ]
  },
  {
   "cell_type": "markdown",
   "metadata": {},
   "source": [
    "## Model persistence"
   ]
  },
  {
   "cell_type": "code",
   "execution_count": null,
   "metadata": {},
   "outputs": [],
   "source": [
    "from joblib import dump, load\n",
    "dump(model, 'model.joblib') \n",
    "model2 = load('model.joblib')\n",
    "model2.predict(X[0:20])"
   ]
  },
  {
   "cell_type": "code",
   "execution_count": null,
   "metadata": {},
   "outputs": [],
   "source": []
  }
 ],
 "metadata": {
  "kernelspec": {
   "display_name": "Python 3",
   "language": "python",
   "name": "python3"
  },
  "language_info": {
   "codemirror_mode": {
    "name": "ipython",
    "version": 3
   },
   "file_extension": ".py",
   "mimetype": "text/x-python",
   "name": "python",
   "nbconvert_exporter": "python",
   "pygments_lexer": "ipython3",
   "version": "3.7.6"
  }
 },
 "nbformat": 4,
 "nbformat_minor": 4
}
