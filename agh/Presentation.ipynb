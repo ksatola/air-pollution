{
 "cells": [
  {
   "cell_type": "markdown",
   "metadata": {},
   "source": [
    "\n",
    "- LSTM forecast example: https://github.com/huseinzol05/Stock-Prediction-Models/blob/master/deep-learning/how-to-forecast.ipynb\n",
    "\n",
    "\n",
    "\n"
   ]
  },
  {
   "cell_type": "code",
   "execution_count": null,
   "metadata": {},
   "outputs": [],
   "source": []
  },
  {
   "cell_type": "markdown",
   "metadata": {},
   "source": [
    "# Czynniki poza PM2.5 mogace miec wplyw na forecst\n",
    "- model tez moze nie przewidywac np. COVID-19, powietrze jest czyststrze, bo czesc zakladow nie pracuje, ludzi mniej jezdza, itp."
   ]
  },
  {
   "cell_type": "code",
   "execution_count": null,
   "metadata": {},
   "outputs": [],
   "source": []
  },
  {
   "cell_type": "markdown",
   "metadata": {},
   "source": [
    "Zbudowac narzedzie (data product)\n",
    "\t- wczytac dane\n",
    "\t- analiza + obrobka (rozklady, corelacje, inne)\n",
    "\t- analytical view\n",
    "\t- odp. na pytania + forecatsty (trend lines)\n",
    "\t- wszystko programistycznie correct (notebooks + python code)\n",
    "\t- web application z interaktywnymi wykresami i mozliwoscia wyboru parametrow\n",
    "\t\t- zoom, klikam/hover for more data, itp.\n",
    "\t- opis slowno-muzyczny\n",
    "\t- literatura + references\n",
    "\t- use code repo\n",
    "\t- zrobic folder i python environment\n",
    "- mozna pokazac heatmaps (y: godziny, x: dni tygodnia, lub miesiaca) lub (y: dni miesiaca, x timeline z miesiacami i latami), kolorem stezenia roznych pylow, itp.\n",
    "- mozna porownac heatmaps side-by-side of: temperature, wind, i konkretny pyl lub kila pylow\n",
    "- mozna pokazac trend lines\n",
    "- mozna pokazac lines\n",
    "\n",
    "    \n",
    "- zglosic aplikacje i forecaster do portali?\n",
    "- Piotr Kleczkowski (AGH), auto ksiazki SMOG, dac mu znac o inicjatywie (https://skos.agh.edu.pl/osoba/piotr-kleczkowski-1402.html)"
   ]
  },
  {
   "cell_type": "code",
   "execution_count": null,
   "metadata": {},
   "outputs": [],
   "source": [
    "Technical solution\n",
    "Approach / pipelines\n",
    "\n",
    "zrobic obrazek z architektura rozwiazania (web app, plotly/dash/heroku)\n",
    "oraz data flow i jakie tools/libraries are used for each step\n",
    "\n",
    "data/ETL pipeline\n",
    "ml pipeline\n",
    "Narzedzia\n",
    "\t\t- automatyzacja\n",
    "\t\t- pipelines\n",
    "\t\t- interaktywna aplikacja webowa\n",
    "Plot.ly\n",
    "Python\n",
    "Pandas/Numpy\n",
    "Dash app published in heroku -> zob. udemy course i heroku docs - czy wystarczy miejsca na dane?\n",
    "- Opis czym jest Dash i Plotly mozna wziac z:\n",
    "\thttps://docs.google.com/document/d/1DjWL2DxLiRaBrlD3ELyQlCBRu7UQuuWfgjv9LncNp_M/edit#\n",
    "opisac jak utworzyć srodowisko projektowe 010 notebbok\n"
   ]
  },
  {
   "cell_type": "markdown",
   "metadata": {},
   "source": [
    "TODO: ARIMA examples:\n",
    "- https://towardsdatascience.com/time-series-in-python-exponential-smoothing-and-arima-processes-2c67f2a52788\n",
    "- https://towardsdatascience.com/time-series-in-python-part-2-dealing-with-seasonal-data-397a65b74051"
   ]
  },
  {
   "cell_type": "markdown",
   "metadata": {},
   "source": [
    "next\n",
    "- https://courses.analyticsvidhya.com/collections?category=free&page=2\n",
    "- https://www.machinelearningplus.com/plots/top-50-matplotlib-visualizations-the-master-plots-python/"
   ]
  }
 ],
 "metadata": {
  "kernelspec": {
   "display_name": "Python 3",
   "language": "python",
   "name": "python3"
  },
  "language_info": {
   "codemirror_mode": {
    "name": "ipython",
    "version": 3
   },
   "file_extension": ".py",
   "mimetype": "text/x-python",
   "name": "python",
   "nbconvert_exporter": "python",
   "pygments_lexer": "ipython3",
   "version": "3.7.6"
  }
 },
 "nbformat": 4,
 "nbformat_minor": 4
}
