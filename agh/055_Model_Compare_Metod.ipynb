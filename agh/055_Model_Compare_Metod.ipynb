{
 "cells": [
  {
   "cell_type": "markdown",
   "metadata": {},
   "source": [
    "```\n",
    "From: https://github.com/ksatola\n",
    "Version: 0.1.0\n",
    "```"
   ]
  },
  {
   "cell_type": "markdown",
   "metadata": {},
   "source": [
    "# Model - Performance Comparison Method"
   ]
  },
  {
   "cell_type": "markdown",
   "metadata": {},
   "source": [
    "## Contents\n",
    "\n",
    "- [Model Performance Comparison Method Description](#base)\n",
    "- [Load daily data and model](#data_d)\n",
    "- [Model Performance Comparison Method](#method)"
   ]
  },
  {
   "cell_type": "code",
   "execution_count": 2,
   "metadata": {},
   "outputs": [],
   "source": [
    "%load_ext autoreload"
   ]
  },
  {
   "cell_type": "code",
   "execution_count": 3,
   "metadata": {},
   "outputs": [],
   "source": [
    "%autoreload 2"
   ]
  },
  {
   "cell_type": "code",
   "execution_count": 4,
   "metadata": {},
   "outputs": [],
   "source": [
    "import sys\n",
    "sys.path.insert(0, '../src')"
   ]
  },
  {
   "cell_type": "code",
   "execution_count": 5,
   "metadata": {},
   "outputs": [],
   "source": [
    "import warnings\n",
    "warnings.filterwarnings('ignore')"
   ]
  },
  {
   "cell_type": "code",
   "execution_count": 12,
   "metadata": {},
   "outputs": [],
   "source": [
    "import pandas as pd \n",
    "import numpy as np\n",
    "\n",
    "#from pandas.plotting import lag_plot\n",
    "#from pandas.plotting import autocorrelation_plot\n",
    "\n",
    "#from statsmodels.graphics.tsaplots import plot_acf\n",
    "\n",
    "\n",
    "from statsmodels.tsa.ar_model import AR\n",
    "from statsmodels.tsa.arima_model import ARMA\n",
    "from statsmodels.tsa.arima_model import ARIMA\n",
    "\n",
    "import matplotlib.pyplot as plt\n",
    "%matplotlib inline"
   ]
  },
  {
   "cell_type": "code",
   "execution_count": 149,
   "metadata": {},
   "outputs": [],
   "source": [
    "from model import (\n",
    "    get_pm25_data_for_modelling,\n",
    "#    get_best_arima_params_for_time_series,\n",
    "#    get_df_for_lags_columns\n",
    ")\n",
    "\n",
    "from measure import (\n",
    "#    get_model_power,\n",
    "    get_rmse\n",
    ")\n",
    "\n",
    "from plot import (\n",
    "    #plot_train_test_predicted,\n",
    "    plot_observed_vs_predicted,\n",
    "#    plot_observations_to_predictions_relationship,\n",
    "    #fit_theoretical_dist_and_plot,\n",
    "    plot_observed_vs_predicted_with_error\n",
    ")\n",
    "\n",
    "#from stats import (\n",
    "#    adfuller_test\n",
    "#)"
   ]
  },
  {
   "cell_type": "markdown",
   "metadata": {},
   "source": [
    "---\n",
    "<a id='base'></a>\n",
    "\n",
    "## Model Performance Comparison Method Description\n",
    "\n",
    "XXXXXX - text in Final notebook"
   ]
  },
  {
   "cell_type": "markdown",
   "metadata": {},
   "source": [
    "---\n",
    "<a id='data_d'></a>\n",
    "\n",
    "## Load daily data and model"
   ]
  },
  {
   "cell_type": "code",
   "execution_count": 8,
   "metadata": {},
   "outputs": [
    {
     "name": "stderr",
     "output_type": "stream",
     "text": [
      "common.py | 42 | get_pm25_data_for_modelling | 07-Jun-20 21:10:17 | INFO: Dataframe loaded: /Users/ksatola/Documents/git/air-polution/agh/data/dfpm25_2008-2018_daily.hdf\n",
      "common.py | 43 | get_pm25_data_for_modelling | 07-Jun-20 21:10:17 | INFO: Dataframe size: (4019, 1)\n"
     ]
    },
    {
     "data": {
      "text/html": [
       "<div>\n",
       "<style scoped>\n",
       "    .dataframe tbody tr th:only-of-type {\n",
       "        vertical-align: middle;\n",
       "    }\n",
       "\n",
       "    .dataframe tbody tr th {\n",
       "        vertical-align: top;\n",
       "    }\n",
       "\n",
       "    .dataframe thead th {\n",
       "        text-align: right;\n",
       "    }\n",
       "</style>\n",
       "<table border=\"1\" class=\"dataframe\">\n",
       "  <thead>\n",
       "    <tr style=\"text-align: right;\">\n",
       "      <th></th>\n",
       "      <th>pm25</th>\n",
       "    </tr>\n",
       "    <tr>\n",
       "      <th>Datetime</th>\n",
       "      <th></th>\n",
       "    </tr>\n",
       "  </thead>\n",
       "  <tbody>\n",
       "    <tr>\n",
       "      <th>2008-01-01</th>\n",
       "      <td>53.586957</td>\n",
       "    </tr>\n",
       "    <tr>\n",
       "      <th>2008-01-02</th>\n",
       "      <td>30.958333</td>\n",
       "    </tr>\n",
       "    <tr>\n",
       "      <th>2008-01-03</th>\n",
       "      <td>46.104167</td>\n",
       "    </tr>\n",
       "    <tr>\n",
       "      <th>2008-01-04</th>\n",
       "      <td>42.979167</td>\n",
       "    </tr>\n",
       "    <tr>\n",
       "      <th>2008-01-05</th>\n",
       "      <td>57.312500</td>\n",
       "    </tr>\n",
       "  </tbody>\n",
       "</table>\n",
       "</div>"
      ],
      "text/plain": [
       "                 pm25\n",
       "Datetime             \n",
       "2008-01-01  53.586957\n",
       "2008-01-02  30.958333\n",
       "2008-01-03  46.104167\n",
       "2008-01-04  42.979167\n",
       "2008-01-05  57.312500"
      ]
     },
     "execution_count": 8,
     "metadata": {},
     "output_type": "execute_result"
    }
   ],
   "source": [
    "dfd = get_pm25_data_for_modelling('ts', 'd')\n",
    "dfd.head()"
   ]
  },
  {
   "cell_type": "code",
   "execution_count": 9,
   "metadata": {},
   "outputs": [],
   "source": [
    "model_name = 'AR'"
   ]
  },
  {
   "cell_type": "code",
   "execution_count": 11,
   "metadata": {},
   "outputs": [],
   "source": [
    "df = dfd.copy()"
   ]
  },
  {
   "cell_type": "code",
   "execution_count": 23,
   "metadata": {},
   "outputs": [],
   "source": [
    "# Define first past/future cutoff point in time offset (1 year of data)\n",
    "#cut_off_offset = 365*24 # for hourly data\n",
    "cut_off_offset = 365 # for daily data\n",
    "\n",
    "# Predict for X points\n",
    "#n_pred_points = 24 # for hourly data\n",
    "n_pred_points = 7 # for daily data\n",
    "\n",
    "# Set datetime format for index\n",
    "#dt_format = \"%Y-%m-%d %H:%M:%S\" # for hourly data\n",
    "#dt_format = \"%Y-%m-%d\" # for daily data\n",
    "\n",
    "# Set proper frequency for modelling\n",
    "# https://pandas.pydata.org/pandas-docs/stable/user_guide/timeseries.html#offset-aliases\n",
    "#df.index = pd.DatetimeIndex(df.index).to_period('H') # for hourly data\n",
    "#df.index = pd.DatetimeIndex(df.index).to_period('D') # for daily data"
   ]
  },
  {
   "cell_type": "markdown",
   "metadata": {},
   "source": [
    "### Train test split"
   ]
  },
  {
   "cell_type": "code",
   "execution_count": 14,
   "metadata": {},
   "outputs": [],
   "source": [
    "# Create train / test datasets\n",
    "X = df.dropna()\n",
    "df_train = X[1:len(X)-cut_off_offset]\n",
    "df_test = X[len(X)-cut_off_offset:]"
   ]
  },
  {
   "cell_type": "code",
   "execution_count": 15,
   "metadata": {},
   "outputs": [
    {
     "data": {
      "text/plain": [
       "(3653, 1)"
      ]
     },
     "execution_count": 15,
     "metadata": {},
     "output_type": "execute_result"
    }
   ],
   "source": [
    "df_train.shape"
   ]
  },
  {
   "cell_type": "code",
   "execution_count": 16,
   "metadata": {},
   "outputs": [
    {
     "data": {
      "text/plain": [
       "(365, 1)"
      ]
     },
     "execution_count": 16,
     "metadata": {},
     "output_type": "execute_result"
    }
   ],
   "source": [
    "df_test.shape"
   ]
  },
  {
   "cell_type": "markdown",
   "metadata": {},
   "source": [
    "### Train the model"
   ]
  },
  {
   "cell_type": "code",
   "execution_count": 17,
   "metadata": {},
   "outputs": [],
   "source": [
    "# Train the model / the model proposes the ideal number of lags for forecasting\n",
    "model = AR(df_train)\n",
    "model_fitted = model.fit()"
   ]
  },
  {
   "cell_type": "markdown",
   "metadata": {},
   "source": [
    "In the above, we are simply creating a testing and training dataset and then creating and fitting our AR() model. The AR() function tries to estimate the number of lags for the prediction. Once you’ve fit the model, you can look at the chosen lag and parameters of the model using some simple print statements."
   ]
  },
  {
   "cell_type": "code",
   "execution_count": 18,
   "metadata": {},
   "outputs": [
    {
     "data": {
      "text/plain": [
       "<statsmodels.tsa.ar_model.ARResultsWrapper at 0x1230f7b10>"
      ]
     },
     "execution_count": 18,
     "metadata": {},
     "output_type": "execute_result"
    }
   ],
   "source": [
    "model_fitted"
   ]
  },
  {
   "cell_type": "code",
   "execution_count": 19,
   "metadata": {},
   "outputs": [
    {
     "name": "stdout",
     "output_type": "stream",
     "text": [
      "The lag value chose is: 30\n"
     ]
    }
   ],
   "source": [
    "print(f'The lag value chose is: {model_fitted.k_ar}')"
   ]
  },
  {
   "cell_type": "code",
   "execution_count": 20,
   "metadata": {},
   "outputs": [
    {
     "name": "stdout",
     "output_type": "stream",
     "text": [
      "The coefficients of the model are:\n",
      " const       3.254686\n",
      "L1.pm25     0.702070\n",
      "L2.pm25    -0.144036\n",
      "L3.pm25     0.078781\n",
      "L4.pm25    -0.012828\n",
      "L5.pm25     0.002850\n",
      "L6.pm25     0.018810\n",
      "L7.pm25     0.026406\n",
      "L8.pm25     0.040924\n",
      "L9.pm25     0.008997\n",
      "L10.pm25   -0.038482\n",
      "L11.pm25    0.040293\n",
      "L12.pm25    0.076362\n",
      "L13.pm25   -0.011441\n",
      "L14.pm25    0.049392\n",
      "L15.pm25   -0.055448\n",
      "L16.pm25    0.066617\n",
      "L17.pm25   -0.002334\n",
      "L18.pm25   -0.003607\n",
      "L19.pm25    0.056132\n",
      "L20.pm25   -0.013051\n",
      "L21.pm25    0.066457\n",
      "L22.pm25   -0.004800\n",
      "L23.pm25    0.003229\n",
      "L24.pm25   -0.039893\n",
      "L25.pm25    0.012186\n",
      "L26.pm25    0.016868\n",
      "L27.pm25   -0.036194\n",
      "L28.pm25    0.018096\n",
      "L29.pm25   -0.022881\n",
      "L30.pm25    0.014114\n",
      "dtype: float64\n"
     ]
    }
   ],
   "source": [
    "print(f'The coefficients of the model are:\\n {model_fitted.params}')"
   ]
  },
  {
   "cell_type": "markdown",
   "metadata": {},
   "source": [
    "---\n",
    "<a id='method'></a>\n",
    "\n",
    "## The method"
   ]
  },
  {
   "cell_type": "code",
   "execution_count": 21,
   "metadata": {},
   "outputs": [],
   "source": [
    "# In / Out of sample prediction (AR model)\n",
    "# There will be a different function ca be different per different type of model\n",
    "\n",
    "def predict_ar(X: list, coef: list) -> float:\n",
    "    yhat = 0.0\n",
    "    #print(f'coef -> {coef}')\n",
    "    #print(f'X -> {X}')\n",
    "    for i in range(1, len(coef)):\n",
    "        # X values must be applied/indexed backwards as we travel back in the past\n",
    "        yhat += coef[i] * X[-i]\n",
    "        #print(coef[i], X[i], yhat)\n",
    "    return yhat + coef[0]"
   ]
  },
  {
   "cell_type": "code",
   "execution_count": 120,
   "metadata": {},
   "outputs": [],
   "source": [
    "# This function shows the method of different algorithms comparison\n",
    "def walk_forward_model_validation(data: pd.DataFrame, \n",
    "                            col_name: str, \n",
    "                            model_params: list, \n",
    "                            cut_off_offset:int = 365, \n",
    "                            n_pred_points: int = 1, \n",
    "                            n_folds: int = -1):\n",
    "    \n",
    "    # Take entire dataset and splits it to train/test \n",
    "    # according to train_test_split_position using cut_off_offset\n",
    "    train_test_split_position = int(len(data)-cut_off_offset)    \n",
    "    max_n_folds = len(data) - train_test_split_position\n",
    "    \n",
    "    if n_folds < 1:\n",
    "        last_n_folds_pos = len(data)\n",
    "    else:\n",
    "        if n_folds > max_n_folds:\n",
    "            last_n_folds_pos = max_n_folds\n",
    "        else:\n",
    "            last_n_folds_pos = train_test_split_position + n_folds\n",
    "    \n",
    "    #print(range(train_test_split_position, n_folds))\n",
    "    \n",
    "    # A list of data frames with results from each fold n_pred_points predictions\n",
    "    fold_results = []\n",
    "    \n",
    "    # Do this for each data point in the test part\n",
    "    for i in range(train_test_split_position, last_n_folds_pos):\n",
    "        \n",
    "        # For each fold\n",
    "        history = data[0:i].copy()\n",
    "        future = data[i:i+n_pred_points].copy()\n",
    "        \n",
    "        #print(f'history.shape {history.shape}')\n",
    "        #print(f'future.shape {future.shape}')\n",
    "        #print(history.head(1))\n",
    "        #print(future.head(10))\n",
    "        \n",
    "        predicted = []\n",
    "        \n",
    "        # Forecast values for n_pred_points\n",
    "        for j in range(len(future)):\n",
    "            \n",
    "            #print(history.tail(5))\n",
    "            \n",
    "            # Get prediction for t+1 lag\n",
    "            yhat = predict_ar(history[col_name].tail(len(model_params)+1).tolist(), model_params)\n",
    "            #print(list(reversed(history[col_name].tail().tolist())))\n",
    "            \n",
    "            #history[col_name].tail(len(model_params)).tolist()\n",
    "\n",
    "            # Add it as a predicted value\n",
    "            predicted.append(yhat)\n",
    "            #print(predicted)\n",
    "\n",
    "            # Create a new row with the next data point index from df_test\n",
    "            # Extend history with the last predicted value\n",
    "            history = history.append(future[j:j+1])\n",
    "            \n",
    "            # Replace observed value with predicted value\n",
    "            history.loc[future[j:j+1].index] = [yhat]\n",
    "            \n",
    "        # Summarize results for the fold\n",
    "        # Each row represents next predicted lag\n",
    "        df_fold_observed = future[col_name].copy() # observed\n",
    "        df_fold_predicted = history[-n_pred_points:].copy() # predicted\n",
    "        df_fold_results = pd.concat([df_fold_observed, df_fold_predicted], axis=1)\n",
    "        df_fold_results.columns = ['observed', 'predicted']\n",
    "        \n",
    "        df_fold_results['error'] = np.abs(df_fold_results['observed'] - df_fold_results['predicted']) # error\n",
    "        df_fold_results['abs_error'] = np.abs(df_fold_results['observed'] - df_fold_results['predicted']) # absolute error\n",
    "        \n",
    "        fold_results.append(df_fold_results)\n",
    "        #print(df_fold_results)\n",
    "    \n",
    "    return fold_results"
   ]
  },
  {
   "cell_type": "code",
   "execution_count": 121,
   "metadata": {},
   "outputs": [],
   "source": [
    "# Testing\n",
    "fold_results = walk_forward_model_validation(data=df, \n",
    "                                         col_name='pm25', \n",
    "                                         model_params=[3.254686, 0.702070, -0.144036], \n",
    "                                         cut_off_offset=cut_off_offset, \n",
    "                                         n_pred_points=n_pred_points, \n",
    "                                         n_folds=1)"
   ]
  },
  {
   "cell_type": "code",
   "execution_count": 27,
   "metadata": {},
   "outputs": [
    {
     "data": {
      "text/plain": [
       "1"
      ]
     },
     "execution_count": 27,
     "metadata": {},
     "output_type": "execute_result"
    }
   ],
   "source": [
    "len(fold_results)"
   ]
  },
  {
   "cell_type": "code",
   "execution_count": 28,
   "metadata": {},
   "outputs": [
    {
     "data": {
      "text/html": [
       "<div>\n",
       "<style scoped>\n",
       "    .dataframe tbody tr th:only-of-type {\n",
       "        vertical-align: middle;\n",
       "    }\n",
       "\n",
       "    .dataframe tbody tr th {\n",
       "        vertical-align: top;\n",
       "    }\n",
       "\n",
       "    .dataframe thead th {\n",
       "        text-align: right;\n",
       "    }\n",
       "</style>\n",
       "<table border=\"1\" class=\"dataframe\">\n",
       "  <thead>\n",
       "    <tr style=\"text-align: right;\">\n",
       "      <th></th>\n",
       "      <th>observed</th>\n",
       "      <th>predicted</th>\n",
       "      <th>error</th>\n",
       "      <th>abs_error</th>\n",
       "    </tr>\n",
       "    <tr>\n",
       "      <th>Datetime</th>\n",
       "      <th></th>\n",
       "      <th></th>\n",
       "      <th></th>\n",
       "      <th></th>\n",
       "    </tr>\n",
       "  </thead>\n",
       "  <tbody>\n",
       "    <tr>\n",
       "      <th>2018-01-02</th>\n",
       "      <td>67.991848</td>\n",
       "      <td>38.338665</td>\n",
       "      <td>29.653182</td>\n",
       "      <td>29.653182</td>\n",
       "    </tr>\n",
       "    <tr>\n",
       "      <th>2018-01-03</th>\n",
       "      <td>16.026950</td>\n",
       "      <td>22.536039</td>\n",
       "      <td>6.509089</td>\n",
       "      <td>6.509089</td>\n",
       "    </tr>\n",
       "    <tr>\n",
       "      <th>2018-01-04</th>\n",
       "      <td>14.590020</td>\n",
       "      <td>13.554415</td>\n",
       "      <td>1.035605</td>\n",
       "      <td>1.035605</td>\n",
       "    </tr>\n",
       "    <tr>\n",
       "      <th>2018-01-05</th>\n",
       "      <td>22.094854</td>\n",
       "      <td>9.524833</td>\n",
       "      <td>12.570021</td>\n",
       "      <td>12.570021</td>\n",
       "    </tr>\n",
       "    <tr>\n",
       "      <th>2018-01-06</th>\n",
       "      <td>62.504217</td>\n",
       "      <td>7.989462</td>\n",
       "      <td>54.514755</td>\n",
       "      <td>54.514755</td>\n",
       "    </tr>\n",
       "    <tr>\n",
       "      <th>2018-01-07</th>\n",
       "      <td>43.929804</td>\n",
       "      <td>7.491929</td>\n",
       "      <td>36.437876</td>\n",
       "      <td>36.437876</td>\n",
       "    </tr>\n",
       "    <tr>\n",
       "      <th>2018-01-08</th>\n",
       "      <td>22.088192</td>\n",
       "      <td>7.363774</td>\n",
       "      <td>14.724417</td>\n",
       "      <td>14.724417</td>\n",
       "    </tr>\n",
       "  </tbody>\n",
       "</table>\n",
       "</div>"
      ],
      "text/plain": [
       "             observed  predicted      error  abs_error\n",
       "Datetime                                              \n",
       "2018-01-02  67.991848  38.338665  29.653182  29.653182\n",
       "2018-01-03  16.026950  22.536039   6.509089   6.509089\n",
       "2018-01-04  14.590020  13.554415   1.035605   1.035605\n",
       "2018-01-05  22.094854   9.524833  12.570021  12.570021\n",
       "2018-01-06  62.504217   7.989462  54.514755  54.514755\n",
       "2018-01-07  43.929804   7.491929  36.437876  36.437876\n",
       "2018-01-08  22.088192   7.363774  14.724417  14.724417"
      ]
     },
     "execution_count": 28,
     "metadata": {},
     "output_type": "execute_result"
    }
   ],
   "source": [
    "fold_results[0]"
   ]
  },
  {
   "cell_type": "code",
   "execution_count": 29,
   "metadata": {},
   "outputs": [],
   "source": [
    "# One point forecast - part 1\n",
    "\n",
    "# See Train the model section above"
   ]
  },
  {
   "cell_type": "code",
   "execution_count": 30,
   "metadata": {},
   "outputs": [
    {
     "data": {
      "text/plain": [
       "pandas.core.series.Series"
      ]
     },
     "execution_count": 30,
     "metadata": {},
     "output_type": "execute_result"
    }
   ],
   "source": [
    "type(model_fitted.params)"
   ]
  },
  {
   "cell_type": "code",
   "execution_count": 129,
   "metadata": {},
   "outputs": [
    {
     "name": "stdout",
     "output_type": "stream",
     "text": [
      "365\n",
      "             observed  predicted      error  abs_error\n",
      "Datetime                                              \n",
      "2018-01-02  67.991848  49.379772  18.612076  18.612076\n",
      "2018-01-03  16.026950  46.310684  30.283734  30.283734\n",
      "2018-01-04  14.590020  42.722729  28.132708  28.132708\n",
      "2018-01-05  22.094854  36.818753  14.723899  14.723899\n",
      "2018-01-06  62.504217  39.552410  22.951806  22.951806\n",
      "2018-01-07  43.929804  44.885109   0.955304   0.955304\n",
      "2018-01-08  22.088192  47.602331  25.514139  25.514139\n"
     ]
    }
   ],
   "source": [
    "# One point forecast - part 2\n",
    "\n",
    "fold_results = walk_forward_model_validation(data=df, \n",
    "                                         col_name='pm25', \n",
    "                                         model_params=model_fitted.params[:], \n",
    "                                         cut_off_offset=cut_off_offset, \n",
    "                                         n_pred_points=n_pred_points, \n",
    "                                         n_folds=-1)\n",
    "print(len(fold_results))\n",
    "print(fold_results[0])"
   ]
  },
  {
   "cell_type": "code",
   "execution_count": 123,
   "metadata": {},
   "outputs": [
    {
     "data": {
      "text/html": [
       "<div>\n",
       "<style scoped>\n",
       "    .dataframe tbody tr th:only-of-type {\n",
       "        vertical-align: middle;\n",
       "    }\n",
       "\n",
       "    .dataframe tbody tr th {\n",
       "        vertical-align: top;\n",
       "    }\n",
       "\n",
       "    .dataframe thead th {\n",
       "        text-align: right;\n",
       "    }\n",
       "</style>\n",
       "<table border=\"1\" class=\"dataframe\">\n",
       "  <thead>\n",
       "    <tr style=\"text-align: right;\">\n",
       "      <th></th>\n",
       "      <th>observed</th>\n",
       "      <th>predicted</th>\n",
       "      <th>error</th>\n",
       "      <th>abs_error</th>\n",
       "    </tr>\n",
       "    <tr>\n",
       "      <th>Datetime</th>\n",
       "      <th></th>\n",
       "      <th></th>\n",
       "      <th></th>\n",
       "      <th></th>\n",
       "    </tr>\n",
       "  </thead>\n",
       "  <tbody>\n",
       "    <tr>\n",
       "      <th>2018-12-26</th>\n",
       "      <td>NaN</td>\n",
       "      <td>17.102352</td>\n",
       "      <td>NaN</td>\n",
       "      <td>NaN</td>\n",
       "    </tr>\n",
       "  </tbody>\n",
       "</table>\n",
       "</div>"
      ],
      "text/plain": [
       "            observed  predicted  error  abs_error\n",
       "Datetime                                         \n",
       "2018-12-26       NaN  17.102352    NaN        NaN"
      ]
     },
     "execution_count": 123,
     "metadata": {},
     "output_type": "execute_result"
    }
   ],
   "source": [
    "fold_results[359][:1]"
   ]
  },
  {
   "cell_type": "markdown",
   "metadata": {},
   "source": [
    "---\n",
    "<a id='metric'></a>\n",
    "\n",
    "## The metric"
   ]
  },
  {
   "cell_type": "code",
   "execution_count": 135,
   "metadata": {},
   "outputs": [
    {
     "data": {
      "text/plain": [
       "9.407572067039105"
      ]
     },
     "execution_count": 135,
     "metadata": {},
     "output_type": "execute_result"
    }
   ],
   "source": [
    "# Calculate RMSE for each fold\n",
    "\n",
    "show_n_points_of_forecast = 1\n",
    "\n",
    "start_index = show_n_points_of_forecast - 1\n",
    "end_index = show_n_points_of_forecast\n",
    "\n",
    "rmse_for_folds = []\n",
    "\n",
    "i = 0\n",
    "\n",
    "# n_pred_points results from the end contain NaNs\n",
    "for fold in fold_results[:len(fold_results)-n_pred_points]:\n",
    "    \n",
    "    i += 1\n",
    "    \n",
    "    rmse = get_rmse(observed=fold[start_index:end_index]['observed'], \n",
    "                    predicted=fold[start_index:end_index]['predicted'])\n",
    "    rmse_for_folds.append(rmse)\n",
    "    #print(f'{i:03} = {model_name} RMSE {rmse}')\n",
    "    \n",
    "\n",
    "# Calculate Mean RMSE for show_n_points_of_forecast\n",
    "\n",
    "pd.Series(rmse_for_folds).mean()"
   ]
  },
  {
   "cell_type": "code",
   "execution_count": 136,
   "metadata": {},
   "outputs": [],
   "source": [
    "def get_mean_folds_rmse_for_n_prediction_points(fold_results: list, n_pred_points: int = 1):\n",
    "    # For each fold and number of prediction points calculate rmse\n",
    "    # Returns a list of mean folds RMSE for n_pred_points (starting at 1)\n",
    "    \n",
    "    mean_rmse_for_prediction_points = []\n",
    "    \n",
    "    # Fo each number od prediction points\n",
    "    for i in range(1, n_pred_points+1):\n",
    "        \n",
    "        show_n_points_of_forecast = i\n",
    "        start_index = show_n_points_of_forecast - 1\n",
    "        end_index = show_n_points_of_forecast\n",
    "    \n",
    "        rmse_for_folds = []\n",
    "    \n",
    "        # For each fold\n",
    "        # n_pred_points results from the end contain NaNs\n",
    "        for fold in fold_results[:len(fold_results)-n_pred_points]:\n",
    "\n",
    "            rmse = get_rmse(observed=fold[start_index:end_index]['observed'], \n",
    "                            predicted=fold[start_index:end_index]['predicted'])\n",
    "            rmse_for_folds.append(rmse)\n",
    "            #print(f'{i:03} = {model_name} RMSE {rmse}')\n",
    "            \n",
    "        # Calculate average RMSE for a prediction point\n",
    "        mean_rmse_for_prediction_point = pd.Series(rmse_for_folds).mean()\n",
    "        mean_rmse_for_prediction_points.append(mean_rmse_for_prediction_point)\n",
    "\n",
    "    return mean_rmse_for_prediction_points"
   ]
  },
  {
   "cell_type": "code",
   "execution_count": 154,
   "metadata": {},
   "outputs": [
    {
     "name": "stdout",
     "output_type": "stream",
     "text": [
      "CPU times: user 6.41 s, sys: 64.9 ms, total: 6.48 s\n",
      "Wall time: 7.74 s\n"
     ]
    },
    {
     "data": {
      "text/plain": [
       "[9.407572067039105,\n",
       " 12.302882402234635,\n",
       " 12.889160614525139,\n",
       " 13.248969832402235,\n",
       " 13.538120949720671,\n",
       " 13.71186312849162,\n",
       " 13.83969469273743]"
      ]
     },
     "execution_count": 154,
     "metadata": {},
     "output_type": "execute_result"
    }
   ],
   "source": [
    "%%time\n",
    "# Returns a list of mean folds RMSE for n_pred_points (starting at 1)\n",
    "res = get_mean_folds_rmse_for_n_prediction_points(fold_results=fold_results, n_pred_points=n_pred_points)\n",
    "res"
   ]
  },
  {
   "cell_type": "code",
   "execution_count": 170,
   "metadata": {},
   "outputs": [
    {
     "data": {
      "text/html": [
       "<div>\n",
       "<style scoped>\n",
       "    .dataframe tbody tr th:only-of-type {\n",
       "        vertical-align: middle;\n",
       "    }\n",
       "\n",
       "    .dataframe tbody tr th {\n",
       "        vertical-align: top;\n",
       "    }\n",
       "\n",
       "    .dataframe thead th {\n",
       "        text-align: right;\n",
       "    }\n",
       "</style>\n",
       "<table border=\"1\" class=\"dataframe\">\n",
       "  <thead>\n",
       "    <tr style=\"text-align: right;\">\n",
       "      <th></th>\n",
       "      <th>AR</th>\n",
       "      <th>AR2</th>\n",
       "      <th>AR3</th>\n",
       "    </tr>\n",
       "  </thead>\n",
       "  <tbody>\n",
       "    <tr>\n",
       "      <th>1</th>\n",
       "      <td>9.407572</td>\n",
       "      <td>9.407572</td>\n",
       "      <td>9.407572</td>\n",
       "    </tr>\n",
       "    <tr>\n",
       "      <th>2</th>\n",
       "      <td>12.302882</td>\n",
       "      <td>12.302882</td>\n",
       "      <td>12.302882</td>\n",
       "    </tr>\n",
       "    <tr>\n",
       "      <th>3</th>\n",
       "      <td>12.889161</td>\n",
       "      <td>12.889161</td>\n",
       "      <td>12.889161</td>\n",
       "    </tr>\n",
       "    <tr>\n",
       "      <th>4</th>\n",
       "      <td>13.248970</td>\n",
       "      <td>13.248970</td>\n",
       "      <td>13.248970</td>\n",
       "    </tr>\n",
       "    <tr>\n",
       "      <th>5</th>\n",
       "      <td>13.538121</td>\n",
       "      <td>13.538121</td>\n",
       "      <td>13.538121</td>\n",
       "    </tr>\n",
       "    <tr>\n",
       "      <th>6</th>\n",
       "      <td>13.711863</td>\n",
       "      <td>13.711863</td>\n",
       "      <td>13.711863</td>\n",
       "    </tr>\n",
       "    <tr>\n",
       "      <th>7</th>\n",
       "      <td>13.839695</td>\n",
       "      <td>13.839695</td>\n",
       "      <td>13.839695</td>\n",
       "    </tr>\n",
       "  </tbody>\n",
       "</table>\n",
       "</div>"
      ],
      "text/plain": [
       "          AR        AR2        AR3\n",
       "1   9.407572   9.407572   9.407572\n",
       "2  12.302882  12.302882  12.302882\n",
       "3  12.889161  12.889161  12.889161\n",
       "4  13.248970  13.248970  13.248970\n",
       "5  13.538121  13.538121  13.538121\n",
       "6  13.711863  13.711863  13.711863\n",
       "7  13.839695  13.839695  13.839695"
      ]
     },
     "execution_count": 170,
     "metadata": {},
     "output_type": "execute_result"
    }
   ],
   "source": [
    "index = np.arange(1, n_pred_points+1)\n",
    "final_comparison_results = pd.DataFrame(data=res, columns=['AR'], index=index)\n",
    "\n",
    "# Add another results\n",
    "res2 = pd.DataFrame(data=res, columns=['AR2'], index=index)\n",
    "res3 = pd.DataFrame(data=res, columns=['AR3'], index=index)\n",
    "\n",
    "cols = [final_comparison_results, res2, res3]\n",
    "\n",
    "# Combine everything\n",
    "final_comparison_results = pd.concat(cols, axis=1)\n",
    "\n",
    "# Index / rows -> n_pred_points\n",
    "# Columns\n",
    "final_comparison_results"
   ]
  },
  {
   "cell_type": "code",
   "execution_count": 171,
   "metadata": {},
   "outputs": [
    {
     "data": {
      "text/html": [
       "<div>\n",
       "<style scoped>\n",
       "    .dataframe tbody tr th:only-of-type {\n",
       "        vertical-align: middle;\n",
       "    }\n",
       "\n",
       "    .dataframe tbody tr th {\n",
       "        vertical-align: top;\n",
       "    }\n",
       "\n",
       "    .dataframe thead th {\n",
       "        text-align: right;\n",
       "    }\n",
       "</style>\n",
       "<table border=\"1\" class=\"dataframe\">\n",
       "  <thead>\n",
       "    <tr style=\"text-align: right;\">\n",
       "      <th></th>\n",
       "      <th>1</th>\n",
       "      <th>2</th>\n",
       "      <th>3</th>\n",
       "      <th>4</th>\n",
       "      <th>5</th>\n",
       "      <th>6</th>\n",
       "      <th>7</th>\n",
       "    </tr>\n",
       "  </thead>\n",
       "  <tbody>\n",
       "    <tr>\n",
       "      <th>AR</th>\n",
       "      <td>9.407572</td>\n",
       "      <td>12.302882</td>\n",
       "      <td>12.889161</td>\n",
       "      <td>13.24897</td>\n",
       "      <td>13.538121</td>\n",
       "      <td>13.711863</td>\n",
       "      <td>13.839695</td>\n",
       "    </tr>\n",
       "    <tr>\n",
       "      <th>AR2</th>\n",
       "      <td>9.407572</td>\n",
       "      <td>12.302882</td>\n",
       "      <td>12.889161</td>\n",
       "      <td>13.24897</td>\n",
       "      <td>13.538121</td>\n",
       "      <td>13.711863</td>\n",
       "      <td>13.839695</td>\n",
       "    </tr>\n",
       "    <tr>\n",
       "      <th>AR3</th>\n",
       "      <td>9.407572</td>\n",
       "      <td>12.302882</td>\n",
       "      <td>12.889161</td>\n",
       "      <td>13.24897</td>\n",
       "      <td>13.538121</td>\n",
       "      <td>13.711863</td>\n",
       "      <td>13.839695</td>\n",
       "    </tr>\n",
       "  </tbody>\n",
       "</table>\n",
       "</div>"
      ],
      "text/plain": [
       "            1          2          3         4          5          6          7\n",
       "AR   9.407572  12.302882  12.889161  13.24897  13.538121  13.711863  13.839695\n",
       "AR2  9.407572  12.302882  12.889161  13.24897  13.538121  13.711863  13.839695\n",
       "AR3  9.407572  12.302882  12.889161  13.24897  13.538121  13.711863  13.839695"
      ]
     },
     "execution_count": 171,
     "metadata": {},
     "output_type": "execute_result"
    }
   ],
   "source": [
    "# Transpose for better visibility\n",
    "# Columns -> n_pred_points for easch fold\n",
    "# Rows -> algorithms\n",
    "final_comparison_results.T\n",
    "\n",
    "# pokolorowac tabelke (min/max)"
   ]
  },
  {
   "cell_type": "markdown",
   "metadata": {},
   "source": [
    "---\n",
    "<a id='visual'></a>\n",
    "\n",
    "## Visual representation"
   ]
  },
  {
   "cell_type": "code",
   "execution_count": 138,
   "metadata": {},
   "outputs": [],
   "source": [
    "# One point forecast - part 3\n",
    "\n",
    "show_n_points_of_foreacst = 1\n",
    "\n",
    "start_index = show_n_points_of_foreacst - 1\n",
    "end_index = show_n_points_of_foreacst\n",
    "\n",
    "observed = pd.Series()\n",
    "predicted = pd.Series()\n",
    "error = pd.Series()\n",
    "\n",
    "# n_pred_points results from the end contain NaNs\n",
    "for fold in fold_results[:len(fold_results)-n_pred_points]:\n",
    "    observed = observed.append(fold[start_index:end_index]['observed'])\n",
    "    predicted = predicted.append(fold[start_index:end_index]['predicted'])\n",
    "    error = error.append(fold[start_index:end_index]['error'])\n",
    "#print(observed.shape)\n",
    "#observed.head()"
   ]
  },
  {
   "cell_type": "code",
   "execution_count": 151,
   "metadata": {},
   "outputs": [],
   "source": [
    "# Zooming\n",
    "start_date = '2018-11'\n",
    "end_date = '2018-11-30'"
   ]
  },
  {
   "cell_type": "code",
   "execution_count": 173,
   "metadata": {},
   "outputs": [
    {
     "data": {
      "image/png": "[encoded data removed]",
      "text/plain": [
       "<Figure size 1440x720 with 1 Axes>"
      ]
     },
     "metadata": {
      "needs_background": "light"
     },
     "output_type": "display_data"
    }
   ],
   "source": [
    "plot_observed_vs_predicted(observed=observed[start_date:end_date],\n",
    "                           predicted=predicted[start_date:end_date],\n",
    "                           num_points=cut_off_offset,\n",
    "                           title=model_name,\n",
    "                           label_observed='PM2.5 observed',\n",
    "                           label_predicted='PM2.5 predicted',\n",
    "                           show_grid = True,\n",
    "                           save_path='images/pm25_obs_vs_pred_365_h_ref_simple_averageXXXREMOVE.png')"
   ]
  },
  {
   "cell_type": "code",
   "execution_count": 174,
   "metadata": {},
   "outputs": [
    {
     "data": {
      "image/png": "[encoded data removed]",
      "text/plain": [
       "<Figure size 1440x720 with 1 Axes>"
      ]
     },
     "metadata": {
      "needs_background": "light"
     },
     "output_type": "display_data"
    }
   ],
   "source": [
    "plot_observed_vs_predicted_with_error(observed=observed[start_date:end_date],\n",
    "                                      predicted=predicted[start_date:end_date],\n",
    "                                      error=error[start_date:end_date],\n",
    "                                      num_points=cut_off_offset,\n",
    "                                      title=model_name,\n",
    "                                      label_observed='PM2.5 observed',\n",
    "                                      label_predicted='PM2.5 predicted', \n",
    "                                      label_error='Mean RMSE predition on test data',\n",
    "                                      show_grid = True,\n",
    "                                      save_path='images/pm25_obs_vs_pred_365_h_ref_simple_averageXXXREMOVE.png')"
   ]
  },
  {
   "cell_type": "code",
   "execution_count": null,
   "metadata": {},
   "outputs": [],
   "source": []
  }
 ],
 "metadata": {
  "kernelspec": {
   "display_name": "Python 3",
   "language": "python",
   "name": "python3"
  },
  "language_info": {
   "codemirror_mode": {
    "name": "ipython",
    "version": 3
   },
   "file_extension": ".py",
   "mimetype": "text/x-python",
   "name": "python",
   "nbconvert_exporter": "python",
   "pygments_lexer": "ipython3",
   "version": "3.7.6"
  }
 },
 "nbformat": 4,
 "nbformat_minor": 4
}
