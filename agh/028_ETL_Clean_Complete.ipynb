{
 "cells": [
  {
   "cell_type": "markdown",
   "metadata": {},
   "source": [
    "```\n",
    "From: https://github.com/ksatola\n",
    "Version: 1.0.0\n",
    "```"
   ]
  },
  {
   "cell_type": "markdown",
   "metadata": {},
   "source": [
    "# Execute end-to-end ETL\n",
    "\n",
    "## Table of Contents\n",
    "\n",
    "- [Pollution ETL](#pol)\n",
    "- [Weather ETL](#wea)\n",
    "- [Analytical View Combined](#com)"
   ]
  },
  {
   "cell_type": "code",
   "execution_count": 1,
   "metadata": {},
   "outputs": [],
   "source": [
    "%load_ext autoreload"
   ]
  },
  {
   "cell_type": "code",
   "execution_count": 2,
   "metadata": {},
   "outputs": [],
   "source": [
    "%autoreload 2"
   ]
  },
  {
   "cell_type": "code",
   "execution_count": 3,
   "metadata": {},
   "outputs": [],
   "source": [
    "import sys\n",
    "sys.path.insert(0, '../src')"
   ]
  },
  {
   "cell_type": "code",
   "execution_count": 7,
   "metadata": {},
   "outputs": [],
   "source": [
    "import pandas as pd\n",
    "import numpy as np\n",
    "import time\n",
    "import os\n",
    "import random\n",
    "import re\n",
    "import fnmatch\n",
    "\n",
    "from pathlib import Path\n",
    "import zipfile\n",
    "import csv\n",
    "\n",
    "import requests\n",
    "import urllib.request\n",
    "from bs4 import BeautifulSoup"
   ]
  },
  {
   "cell_type": "code",
   "execution_count": 5,
   "metadata": {},
   "outputs": [],
   "source": [
    "pd.set_option('display.max_columns', None)\n",
    "pd.set_option('display.max_rows', None)\n",
    "pd.set_option('display.width', 1000)"
   ]
  },
  {
   "cell_type": "code",
   "execution_count": 6,
   "metadata": {},
   "outputs": [],
   "source": [
    "from prepare import (\n",
    "    \n",
    "    extract_archived_data,\n",
    "    get_files_for_name_pattern,\n",
    "    \n",
    "    get_gios_pollution_data_files,\n",
    "    get_pollutant_measures_for_locations,\n",
    "    build_gios_analytical_view,\n",
    "    \n",
    "    get_imgw_yearly_weather_data_files,\n",
    "    parse_imgw_metadata,\n",
    "    build_imgw_analytical_view,\n",
    ")"
   ]
  },
  {
   "cell_type": "markdown",
   "metadata": {},
   "source": [
    "---\n",
    "<a id='pol'></a>"
   ]
  },
  {
   "cell_type": "markdown",
   "metadata": {},
   "source": [
    "## Pollution ETL"
   ]
  },
  {
   "cell_type": "code",
   "execution_count": null,
   "metadata": {},
   "outputs": [],
   "source": [
    "# Web scraping - download GIOS data files\n",
    "\n",
    "%%time\n",
    "\n",
    "download_base_url = 'http://powietrze.gios.gov.pl/pjp/archives'\n",
    "path_to_save = \"/Users/ksatola/Documents/git/air-polution/data/gios/etl\"\n",
    "\n",
    "get_gios_pollution_data_files(download_base_url, path_to_save)"
   ]
  },
  {
   "cell_type": "code",
   "execution_count": null,
   "metadata": {},
   "outputs": [],
   "source": [
    "# Extract files to folders\n",
    "\n",
    "%%time\n",
    "\n",
    "source_dir = '/Users/ksatola/Documents/git/air-polution/data/gios/etl'\n",
    "target_dir = '/Users/ksatola/Documents/git/air-polution/data/gios/etl/extracted/'\n",
    "file_search_pattern = '*.zip'\n",
    "\n",
    "extract_archived_data(source_dir, target_dir, file_search_pattern)"
   ]
  },
  {
   "cell_type": "code",
   "execution_count": null,
   "metadata": {},
   "outputs": [],
   "source": [
    "# Data transformation\n",
    "\n",
    "# Emission measurement stations codes in the Krakow area\n",
    "\n",
    "ems_codes = [\n",
    "    \n",
    "    # Active stations\n",
    "    'MpKrakOsPias', # from 2016-01-01, pm25, pm10, http://powietrze.gios.gov.pl/pjp/current/station_details/info/10139\n",
    "    'MpKrakWadow',  # from 2017-01-01, pm25, pm10, http://powietrze.gios.gov.pl/pjp/current/station_details/info/10447\n",
    "    'MpKrakSwoszo', # from 2019-01-01, pm10, http://powietrze.gios.gov.pl/pjp/current/station_details/info/11303\n",
    "    'MpKrakZloRog', # from 2016-01-01, pm10, http://powietrze.gios.gov.pl/pjp/current/station_details/info/10123\n",
    "    'MpKrakAlKras', # from 2003-01-01, pm25, pm10, CO, NO2, NOx, benzen, http://powietrze.gios.gov.pl/pjp/current/station_details/info/400\n",
    "    'MpKrakBujaka', # from 2010-01-01, pm25, pm10, CO, NO2, NOx, benzen, SO2, O3 http://powietrze.gios.gov.pl/pjp/current/station_details/info/401\n",
    "    'MpKrakBulwar', # from 2003-01-01, pm25, pm10, CO, NO2, NOx, benzen, SO2, http://powietrze.gios.gov.pl/pjp/current/station_details/info/402\n",
    "    'MpKrakDietla', # from 2016-01-01, pm10, NO2, NOx, http://powietrze.gios.gov.pl/pjp/current/station_details/info/10121\n",
    "    \n",
    "    # Old codes and historical stations\n",
    "    'MpKrakowWIOSAKra6117', # MpKrakAlKras\n",
    "    'MpKrakowWIOSBuja6119', # MpKrakBujaka\n",
    "    'MpKrakowWIOSBulw6118', # MpKrakBulwar\n",
    "    'MpKrakowWIOSPrad6115', # closed on 2010-02-28\n",
    "    'MpKrakowWSSEKapi6108', # closed on 2009-12-31\n",
    "    'MpKrakowWSSEPrad6102', # closed on 2004-12-31\n",
    "    'MpKrakowWSSERPod6113', # closed on 2004-12-31\n",
    "    'MpKrakTelime'          # closed on 2018-06-01\n",
    "]"
   ]
  },
  {
   "cell_type": "code",
   "execution_count": null,
   "metadata": {},
   "outputs": [],
   "source": [
    "source_dir = '/Users/ksatola/Documents/git/air-polution/data/gios/etl/extracted/'\n",
    "\n",
    "years = [\n",
    "    '2000',\n",
    "    '2001',\n",
    "    '2002',\n",
    "    '2003',\n",
    "    '2004',\n",
    "    '2005',\n",
    "    '2006',\n",
    "    '2007',\n",
    "    '2008',\n",
    "    '2009',\n",
    "    '2010',\n",
    "    '2011',\n",
    "    '2012',\n",
    "    '2013',\n",
    "    '2014',\n",
    "    '2015',\n",
    "    '2016',\n",
    "    '2017',\n",
    "    '2018',\n",
    "    '2019'\n",
    "]"
   ]
  },
  {
   "cell_type": "code",
   "execution_count": null,
   "metadata": {},
   "outputs": [],
   "source": [
    "# Build 1g analytical view\n",
    "\n",
    "%%time\n",
    "\n",
    "df_1g = build_gios_analytical_view(years=years, sampling_freq='1g', root_folder=source_dir, ems_codes=ems_codes)"
   ]
  },
  {
   "cell_type": "code",
   "execution_count": null,
   "metadata": {},
   "outputs": [],
   "source": [
    "# Create a save directory if not exists\n",
    "save_dir = '/Users/ksatola/Documents/git/air-polution/data/final'\n",
    "Path(save_dir).mkdir(parents=True, exist_ok=True)"
   ]
  },
  {
   "cell_type": "code",
   "execution_count": null,
   "metadata": {},
   "outputs": [],
   "source": [
    "# Save\n",
    "gios_1g_all_file = '/Users/ksatola/Documents/git/air-polution/data/final/gios_1g_all.csv'\n",
    "df_1g.to_csv(gios_1g_all_file, encoding=\"utf-8\", index=True)"
   ]
  },
  {
   "cell_type": "code",
   "execution_count": null,
   "metadata": {},
   "outputs": [],
   "source": [
    "# Test read\n",
    "df_1g_read = pd.read_csv(gios_1g_all_file, encoding='utf-8', sep=\",\", index_col=\"Datetime\")\n",
    "df_1g_read.head()"
   ]
  },
  {
   "cell_type": "code",
   "execution_count": null,
   "metadata": {},
   "outputs": [],
   "source": [
    "assert df_1g.shape == df_1g_read.shape"
   ]
  },
  {
   "cell_type": "code",
   "execution_count": null,
   "metadata": {},
   "outputs": [],
   "source": [
    "# Build 24g analytical view\n",
    "\n",
    "%%time\n",
    "\n",
    "df_24g = build_gios_analytical_view(years=years, sampling_freq='24g', root_folder=source_dir, ems_codes=ems_codes)"
   ]
  },
  {
   "cell_type": "code",
   "execution_count": null,
   "metadata": {},
   "outputs": [],
   "source": [
    "# Create a save directory if not exists\n",
    "save_dir = '/Users/ksatola/Documents/git/air-polution/data/final'\n",
    "Path(save_dir).mkdir(parents=True, exist_ok=True)"
   ]
  },
  {
   "cell_type": "code",
   "execution_count": null,
   "metadata": {},
   "outputs": [],
   "source": [
    "# Save\n",
    "gios_24g_all_file = '/Users/ksatola/Documents/git/air-polution/data/final/gios_24g_all.csv'\n",
    "df_24g.to_csv(gios_24g_all_file, encoding=\"utf-8\", index=True)"
   ]
  },
  {
   "cell_type": "code",
   "execution_count": null,
   "metadata": {},
   "outputs": [],
   "source": [
    "# Test read\n",
    "df_24g_read = pd.read_csv(gios_24g_all_file, encoding='utf-8', sep=\",\", index_col=\"Datetime\")\n",
    "df_24g_read.head()"
   ]
  },
  {
   "cell_type": "code",
   "execution_count": null,
   "metadata": {},
   "outputs": [],
   "source": [
    "assert df_24g.shape == df_24g_read.shape"
   ]
  },
  {
   "cell_type": "markdown",
   "metadata": {},
   "source": [
    "---\n",
    "<a id='wea'></a>"
   ]
  },
  {
   "cell_type": "markdown",
   "metadata": {},
   "source": [
    "## Weather ETL"
   ]
  },
  {
   "cell_type": "code",
   "execution_count": null,
   "metadata": {},
   "outputs": [],
   "source": [
    "years = [\n",
    "    '2001',\n",
    "    '2002',\n",
    "    '2003',\n",
    "    '2004',\n",
    "    '2005',\n",
    "    '2006',\n",
    "    '2007',\n",
    "    '2008',\n",
    "    '2009',\n",
    "    '2010',\n",
    "    '2011',\n",
    "    '2012',\n",
    "    '2013',\n",
    "    '2014',\n",
    "    '2015',\n",
    "    '2016',\n",
    "    '2017',\n",
    "    '2018',\n",
    "    '2019'\n",
    "]\n",
    "\n",
    "download_base_url = 'https://dane.imgw.pl/data/dane_pomiarowo_obserwacyjne/dane_meteorologiczne/terminowe/synop'\n",
    "path_to_save = \"/Users/ksatola/Documents/git/air-polution/data/imgw/etl\""
   ]
  },
  {
   "cell_type": "code",
   "execution_count": null,
   "metadata": {},
   "outputs": [],
   "source": [
    "# Web scraping - download IMGW data files\n",
    "\n",
    "%%time\n",
    "\n",
    "get_imgw_yearly_weather_data_files(years, download_base_url, path_to_save)"
   ]
  },
  {
   "cell_type": "code",
   "execution_count": null,
   "metadata": {},
   "outputs": [],
   "source": [
    "# Unpack and flatten files\n",
    "\n",
    "%%time\n",
    "\n",
    "source_dir = '/Users/ksatola/Documents/git/air-polution/data/imgw/etl/'\n",
    "target_dir = '/Users/ksatola/Documents/git/air-polution/data/imgw/etl/extracted/'\n",
    "file_search_pattern = '*.zip'\n",
    "\n",
    "extract_archived_data(source_dir, target_dir, file_search_pattern)"
   ]
  },
  {
   "cell_type": "code",
   "execution_count": null,
   "metadata": {},
   "outputs": [],
   "source": [
    "# Prepare column names\n",
    "\n",
    "%%timeit\n",
    "\n",
    "file_input = '/Users/ksatola/Documents/git/air-polution/data/imgw/etl/metadata/s_t_format_corrected_input.txt'\n",
    "file_output = '/Users/ksatola/Documents/git/air-polution/data/imgw/etl/metadata/s_t_format_corrected_output.csv'\n",
    "\n",
    "parse_imgw_metadata(file_input, file_output, input_encoding=\"cp1250\", output_encoding=\"utf-8\")"
   ]
  },
  {
   "cell_type": "code",
   "execution_count": null,
   "metadata": {},
   "outputs": [],
   "source": [
    "# Build 1g analytical view\n",
    "\n",
    "columns = '/Users/ksatola/Documents/git/air-polution/data/imgw/etl/metadata/s_t_format_corrected_output.csv'\n",
    "source_dir = '/Users/ksatola/Documents/git/air-polution/data/imgw/etl/extracted/'\n",
    "file_search_pattern = '*.csv'\n",
    "\n",
    "# Synoptic stations codes in the Krakow area\n",
    "sms_codes = [\n",
    "    \"250190410\", # \"KRAKÓW HISTORYCZNE\"\n",
    "    \"350190566\", # \"KRAKÓW-BALICE\"\n",
    "    \"250199987\", # \"KRAKÓW-BIELANY-KLASZTOR\"\n",
    "    \"250209979\", # \"KRAKÓW-ŁĘG\"\n",
    "    \"250190390\", # \"KRAKÓW-OBSERWATORIUM\"\n",
    "    \"250199984\", # \"KRAKÓW-SWOSZOWICE\"\n",
    "    \"250190470\" # \"KRAKÓW-WOLA JUSTOWSKA\"\n",
    "]"
   ]
  },
  {
   "cell_type": "code",
   "execution_count": null,
   "metadata": {},
   "outputs": [],
   "source": [
    "%%time\n",
    "\n",
    "df = build_imgw_analytical_view(source_dir, columns, file_search_pattern, sms_codes)"
   ]
  },
  {
   "cell_type": "code",
   "execution_count": null,
   "metadata": {},
   "outputs": [],
   "source": [
    "# Create a save directory if not exists\n",
    "save_dir = '/Users/ksatola/Documents/git/air-polution/data/final'\n",
    "Path(save_dir).mkdir(parents=True, exist_ok=True)"
   ]
  },
  {
   "cell_type": "code",
   "execution_count": null,
   "metadata": {},
   "outputs": [],
   "source": [
    "# Save\n",
    "imgw_all_file = '/Users/ksatola/Documents/git/air-polution/data/final/imgw_all.csv'\n",
    "df.to_csv(imgw_all_file, encoding=\"utf-8\", index=True)"
   ]
  },
  {
   "cell_type": "code",
   "execution_count": null,
   "metadata": {},
   "outputs": [],
   "source": [
    "# Test read\n",
    "\n",
    "# when without low_memory=False\n",
    "# https://pandas.pydata.org/pandas-docs/stable/reference/api/pandas.errors.DtypeWarning.html\n",
    "#/Users/ksatola/anaconda3/lib/python3.7/site-packages/IPython/core/interactiveshell.py:3058: \n",
    "# DtypeWarning: Columns (6,12,13,14,34,52,53,54,56,58,59,61,62,64,101,102) have mixed types. \n",
    "# Specify dtype option on import or set low_memory=False.\n",
    "# interactivity=interactivity, compiler=compiler, result=result)\n",
    "\n",
    "df_read = pd.read_csv(imgw_all_file, encoding='utf-8', sep=\",\", index_col=\"Datetime\", low_memory=False)\n",
    "df_read.head()"
   ]
  },
  {
   "cell_type": "code",
   "execution_count": null,
   "metadata": {},
   "outputs": [],
   "source": [
    "assert df.shape[1] == df_read.shape[1]"
   ]
  },
  {
   "cell_type": "markdown",
   "metadata": {},
   "source": [
    "---\n",
    "<a id='com'></a>"
   ]
  },
  {
   "cell_type": "markdown",
   "metadata": {},
   "source": [
    "## Analytical View Combined"
   ]
  },
  {
   "cell_type": "markdown",
   "metadata": {},
   "source": [
    "This is will be completed in next iterations."
   ]
  },
  {
   "cell_type": "code",
   "execution_count": null,
   "metadata": {},
   "outputs": [],
   "source": []
  }
 ],
 "metadata": {
  "kernelspec": {
   "display_name": "Python 3",
   "language": "python",
   "name": "python3"
  },
  "language_info": {
   "codemirror_mode": {
    "name": "ipython",
    "version": 3
   },
   "file_extension": ".py",
   "mimetype": "text/x-python",
   "name": "python",
   "nbconvert_exporter": "python",
   "pygments_lexer": "ipython3",
   "version": "3.7.6"
  }
 },
 "nbformat": 4,
 "nbformat_minor": 4
}
