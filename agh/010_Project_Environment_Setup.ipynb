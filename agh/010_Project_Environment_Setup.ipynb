{
 "cells": [
  {
   "cell_type": "markdown",
   "metadata": {},
   "source": [
    "```\n",
    "From: https://github.com/ksatola\n",
    "Version: 0.1.0\n",
    "```"
   ]
  },
  {
   "cell_type": "markdown",
   "metadata": {},
   "source": [
    "# Project Environment Setup (macOS Mojave)\n",
    "\n",
    "## Table of Contents\n",
    "\n",
    "- [Introduction](#intro)\n",
    "- [Python](#python)\n",
    "- [Python virtual environment for the project](#env)\n",
    "- [Managing python packages](#packages)\n",
    "- [Git source code repository](#git)\n",
    "- [Jupyter Notebook/Lab for experimentation and prototyping](#jupyter)\n",
    "- [PyCharm as an Integrated Development Environment](#ide)"
   ]
  },
  {
   "cell_type": "markdown",
   "metadata": {},
   "source": [
    "---\n",
    "<a id='intro'></a>"
   ]
  },
  {
   "cell_type": "markdown",
   "metadata": {},
   "source": [
    "## Introduction\n",
    "\n",
    "There are a few technical options (environments) for data science project: Python, R, cloud analytical services (AWS SageMaker, Azure ML) or locally installed software like IBM SPSS or KNIME, to name a few. The approach and toolkit should be chosen based not only on the data scientist's personal preference and professional skills but mainly based on how it would fit the business problem solution' s requirements, cost and timing. How the data product is meant to be used and maintaned after it is created, by whom and how frequent are other factors which should impact technical decisions. Last but not least, it is a good practice to strive for consistency which makes the learning curve for all team members shallower, this is valid not only for a single project but also for a portfolio of all projects being executed in a company, institution or any other kind of organization."
   ]
  },
  {
   "cell_type": "markdown",
   "metadata": {},
   "source": [
    "---\n",
    "<a id='python'></a>"
   ]
  },
  {
   "cell_type": "markdown",
   "metadata": {},
   "source": [
    "## Python\n",
    "\n",
    "This project's technical components will be based mainly on Python-related tools and modules. Mainly because most of the components needed are natively available in Python, but also because the final data product is a web app which we want to be able to customize. Building all the pieces in Python, allows full flexibility and increases the speed of combining different components. It also makes it easier to combine ready-to-use components with custom code getting us to the specified point faster. \n",
    "\n",
    "To install Python 3, go to [python.org](https://www.python.org/downloads/) download webpage, dowload and install the **latest Python 3 version** available for your platform. For more detailed instructions, see [Using Python on a Macintosh](https://docs.python.org/3/using/mac.html) or [Installing Python 3 on Mac OS X](https://docs.python-guide.org/starting/install3/osx/)."
   ]
  },
  {
   "cell_type": "markdown",
   "metadata": {},
   "source": [
    "---\n",
    "<a id='env'></a>"
   ]
  },
  {
   "cell_type": "markdown",
   "metadata": {},
   "source": [
    "## Python Virtual Environment\n",
    "\n",
    "**Virtualenv** is a tool that lets you create an isolated Python environment for your project. It creates an environment that has its own installation directories, that doesn’t share dependencies with other virtualenv environments. You can also configure what version of Python you want to use for each individual environment. It's very much recommended to use virtualenv when dealing with Python applications.\n",
    "\n",
    "Remember to add venv to your project's `.gitignore` file so you don't include all of that in your source code (for details see the section about **Git**).\n",
    "\n",
    "It is preferable to install big packages (like Numpy), or packages you always use (like IPython) globally (unless you need different versions of these packages for different projects). All the rest should be installed in a virtualenv.\n",
    "\n",
    "For more, see [macOS Setup Guide - Virtualenv](https://sourabhbajaj.com/mac-setup/Python/virtualenv.html) or [Virtualenv documentation](https://virtualenv.pypa.io/en/latest/)."
   ]
  },
  {
   "cell_type": "markdown",
   "metadata": {},
   "source": [
    "Open the **Terminal** window and navigate to the folder. The next step is installing the Python virtual environment.\n",
    "\n",
    "```\n",
    "$ cd /Users/ksatola/Documents/git/air-polution\n",
    "$ pwd\n",
    "```"
   ]
  },
  {
   "cell_type": "markdown",
   "metadata": {},
   "source": [
    "Install a **Python virtual environment**.\n",
    "```\n",
    "$ pip3 install virtualenv\n",
    "```"
   ]
  },
  {
   "cell_type": "markdown",
   "metadata": {},
   "source": [
    "Create a virtual environment for the project. While in the project folder:\n",
    "\n",
    "```\n",
    "$ virtualenv venv\n",
    "```"
   ]
  },
  {
   "cell_type": "markdown",
   "metadata": {},
   "source": [
    "Start the environment:\n",
    "\n",
    "```\n",
    "# bash \n",
    "$ source venv/bin/activate\n",
    "\n",
    "#fish\n",
    "$ source venv/bin/activate.fish\n",
    "```"
   ]
  },
  {
   "cell_type": "markdown",
   "metadata": {},
   "source": [
    "After the work is done, deactive the environment:\n",
    "\n",
    "```\n",
    "$ deactivate\n",
    "```"
   ]
  },
  {
   "cell_type": "markdown",
   "metadata": {},
   "source": [
    "---\n",
    "<a id='packages'></a>"
   ]
  },
  {
   "cell_type": "markdown",
   "metadata": {},
   "source": [
    "## Managing python packages\n",
    "\n",
    "### Install\n",
    "\n",
    "In the **Terminal** in the project folder run:\n",
    "\n",
    "```\n",
    "(venv) $ pip install matplotlib\n",
    "(venv) $ pip install pandas\n",
    "(venv) $ pip install jupyterlab\n",
    "(venv) $ pip install qgrid\n",
    "(venv) $ pip install tree\n",
    "```"
   ]
  },
  {
   "cell_type": "markdown",
   "metadata": {},
   "source": [
    "### Document\n",
    "To document installed packages and save them in a requirements.txt file for further faster installation:\n",
    "\n",
    "```\n",
    "$ pip freeze > requirements.txt\n",
    "```\n",
    "\n",
    "To install all dependencies from the file:\n",
    "\n",
    "```\n",
    "$ pip install -r requirements.txt\n",
    "```"
   ]
  },
  {
   "cell_type": "markdown",
   "metadata": {},
   "source": [
    "To document the project folders structure using **tree**, a recursive directory listing command that produces a depth indented listing of files:\n",
    "\n",
    "```\n",
    "$ tree -L 1\n",
    "\n",
    ".\n",
    "├── README.md\n",
    "├── data\n",
    "├── notebooks\n",
    "├── requirements.txt\n",
    "├── src\n",
    "├── text\n",
    "└── venv\n",
    "```"
   ]
  },
  {
   "cell_type": "markdown",
   "metadata": {},
   "source": [
    "---\n",
    "<a id='git'></a>"
   ]
  },
  {
   "cell_type": "markdown",
   "metadata": {},
   "source": [
    "## Git source code repository\n",
    "\n",
    "**Git** is a free and open source distributed version control system designed to handle everything from small to very large projects with speed and efficiency. We will use **git** and its free web version ([github](https://github.com/)) to manage and share the code."
   ]
  },
  {
   "cell_type": "markdown",
   "metadata": {},
   "source": [
    "Check if you have `git` installed:\n",
    "\n",
    "```\n",
    "$ git --version\n",
    "\n",
    "git version 2.20.1 (Apple Git-117)\n",
    "```\n",
    "\n",
    "If **git** is not installed you will be prompted to install it. A recommended way of installing **git** on macOS (10.9 or above) is by installing **XCode Command Line Tools**. You can also install **git** using a binary installer from https://git-scm.com/download/mac."
   ]
  },
  {
   "cell_type": "markdown",
   "metadata": {},
   "source": [
    "To create a **git repository** (for example in `github.com`), in the **Terminal** navigate to the parent folder location where the repository folder should be created and clone the repository:\n",
    "\n",
    "```\n",
    "$ cd /Users/ksatola/Documents/git/\n",
    "$ git clone https://github.com/ksatola/air-polution.git\n",
    "```"
   ]
  },
  {
   "cell_type": "markdown",
   "metadata": {},
   "source": [
    "Go to the created folder containing all other project resources. The initial folder tree should look like this:\n",
    "\n",
    "```\n",
    "$ cd air-polution\n",
    "\n",
    "$ tree -L 1\n",
    "\n",
    ".\n",
    "├── data\n",
    "├── notebooks\n",
    "├── src\n",
    "└── text\n",
    "```"
   ]
  },
  {
   "cell_type": "markdown",
   "metadata": {},
   "source": [
    "Configure basic setting for your local **git** repository:\n",
    "\n",
    "```\n",
    "$ git config --global user.name \"ksatola\"\n",
    "$ git config --global user.email \"krzysztof@satola.net\"\n",
    "$ git config -l\n",
    "```"
   ]
  },
  {
   "cell_type": "markdown",
   "metadata": {},
   "source": [
    "Create `.gitignore` file to exclude `text/`, `notebooks/`, `data/`, `venv/` and `.idea` folders/files from being managed by **git**. The content of these folders contain binaries or other resources which we do not want to store in **git** and send across to the `origin` repository, as they can have significant volume, are not in TXT format (so cannot be properly managed by **git**) or contain personal settings which differer among developers and should be kept locally (otherwise they would override their settings every time when pulling/pushing from/to the remote repository. "
   ]
  },
  {
   "cell_type": "markdown",
   "metadata": {},
   "source": [
    "Simple one-branch **git** flow:\n",
    "\n",
    "```\n",
    "(venv) $ git status\n",
    "(venv) $ git pull\n",
    "(venv) $ git add .\n",
    "(venv) $ git commit -m \"FEAT: git repo and python configuration update\"\n",
    "(venv) $ git push\n",
    "```\n",
    "For more about **git** and how to use it read [Github Atlassian tutorial](https://www.atlassian.com/git/tutorials/what-is-git)."
   ]
  },
  {
   "cell_type": "markdown",
   "metadata": {},
   "source": [
    "---\n",
    "<a id='jupyter'></a>"
   ]
  },
  {
   "cell_type": "markdown",
   "metadata": {},
   "source": [
    "## Jupyter Notebook/Lab for experimentation and prototyping\n",
    "\n",
    "The **JupyterLab** is a web-based interactive development environment for Jupyter notebooks, code, and data. The **Jupyter Notebook** is an open-source web application that allows you to create and share documents that contain live code, equations, visualizations and narrative text. Uses include: data cleaning and transformation, numerical simulation, statistical modeling, data visualization, machine learning, and much more.\n",
    "\n",
    "In most cases **JupyterLab** and **Jupyter Notebook** are interchangeable and any of them can be used to read notebooks created for this project, the first has programming like IDE interface (configurable and sizeable windows and tabs), the second is a classic version of the tool.\n",
    "\n",
    "For more read [installation instructions](https://jupyter.org/install.html)."
   ]
  },
  {
   "cell_type": "markdown",
   "metadata": {},
   "source": [
    "---\n",
    "<a id='ide'></a>"
   ]
  },
  {
   "cell_type": "markdown",
   "metadata": {},
   "source": [
    "## PyCharm as an Integrated Development Environment"
   ]
  },
  {
   "cell_type": "markdown",
   "metadata": {},
   "source": [
    "**PyCharm** belongs to JetBrains family of software development tools, and is described by their authors as \"The Python IDE for Professional Developers\". It is full-fledged integrated programming environment (IDE) with many configuration and extension options. It is a good choice for Python programming as it can be used for free (Community Edition) and supports good programming practices.\n",
    "\n",
    "To start using **PyCharm**, after [installing it](https://www.jetbrains.com/pycharm/download/#section=mac), create a new **PyCharm** project in the folder cloned from the **git** repository. It will configure the **PyCharm** project inside the folder adding a hidden folder `.idea`).\n",
    "\n",
    "For more read (https://www.jetbrains.com/pycharm/)."
   ]
  },
  {
   "cell_type": "markdown",
   "metadata": {},
   "source": [
    "In **PyCharm** right-click on project folders in the `Project` tab, and choose from the context menu `Mark Directory As`:\n",
    "- excluded: venv, notebooks, data, text\n",
    "- sources root: src\n",
    "\n",
    "This will make **PyCharm** working faster."
   ]
  },
  {
   "cell_type": "code",
   "execution_count": null,
   "metadata": {},
   "outputs": [],
   "source": []
  }
 ],
 "metadata": {
  "kernelspec": {
   "display_name": "Python 3",
   "language": "python",
   "name": "python3"
  },
  "language_info": {
   "codemirror_mode": {
    "name": "ipython",
    "version": 3
   },
   "file_extension": ".py",
   "mimetype": "text/x-python",
   "name": "python",
   "nbconvert_exporter": "python",
   "pygments_lexer": "ipython3",
   "version": "3.8.3"
  }
 },
 "nbformat": 4,
 "nbformat_minor": 4
}
