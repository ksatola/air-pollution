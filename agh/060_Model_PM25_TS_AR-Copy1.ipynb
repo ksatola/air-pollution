{
 "cells": [
  {
   "cell_type": "markdown",
   "metadata": {},
   "source": [
    "```\n",
    "From: https://github.com/ksatola\n",
    "Version: 0.1.0\n",
    "```"
   ]
  },
  {
   "cell_type": "markdown",
   "metadata": {},
   "source": [
    "# Model - PM2.5 - Autoregression (AR)"
   ]
  },
  {
   "cell_type": "markdown",
   "metadata": {},
   "source": [
    "## Contents\n",
    "\n",
    "- [Autoregression (AR) modelling](#base)\n",
    "- Hourly forecast\n",
    "    - [Load hourly data](#data_h)\n",
    "    - [Diagnostics](#diag_h)\n",
    "    - [Modelling](#model_h)\n",
    "- Daily forecast\n",
    "    - [Load daily data](#data_d)\n",
    "    - [Diagnostics](#diag_d)\n",
    "    - [Modelling](#model_d)"
   ]
  },
  {
   "cell_type": "code",
   "execution_count": 1,
   "metadata": {},
   "outputs": [],
   "source": [
    "%load_ext autoreload"
   ]
  },
  {
   "cell_type": "code",
   "execution_count": 2,
   "metadata": {},
   "outputs": [],
   "source": [
    "%autoreload 2"
   ]
  },
  {
   "cell_type": "code",
   "execution_count": 3,
   "metadata": {},
   "outputs": [],
   "source": [
    "import sys\n",
    "sys.path.insert(0, '../src')"
   ]
  },
  {
   "cell_type": "code",
   "execution_count": 4,
   "metadata": {},
   "outputs": [],
   "source": [
    "import warnings\n",
    "warnings.filterwarnings('ignore')"
   ]
  },
  {
   "cell_type": "code",
   "execution_count": 5,
   "metadata": {},
   "outputs": [],
   "source": [
    "import pandas as pd \n",
    "import numpy as np\n",
    "\n",
    "from pandas.plotting import lag_plot\n",
    "from pandas.plotting import autocorrelation_plot\n",
    "\n",
    "from statsmodels.graphics.tsaplots import plot_acf\n",
    "\n",
    "from statsmodels.tsa.arima_model import ARMA\n",
    "\n",
    "import matplotlib.pyplot as plt\n",
    "%matplotlib inline"
   ]
  },
  {
   "cell_type": "code",
   "execution_count": 132,
   "metadata": {},
   "outputs": [
    {
     "name": "stderr",
     "output_type": "stream",
     "text": [
      "[autoreload of plot failed: Traceback (most recent call last):\n",
      "  File \"/usr/local/lib/python3.7/site-packages/IPython/extensions/autoreload.py\", line 245, in check\n",
      "    superreload(m, reload, self.old_objects)\n",
      "  File \"/usr/local/lib/python3.7/site-packages/IPython/extensions/autoreload.py\", line 434, in superreload\n",
      "    module = reload(module)\n",
      "  File \"/usr/local/Cellar/python/3.7.6_1/Frameworks/Python.framework/Versions/3.7/lib/python3.7/imp.py\", line 314, in reload\n",
      "    return importlib.reload(module)\n",
      "  File \"/usr/local/Cellar/python/3.7.6_1/Frameworks/Python.framework/Versions/3.7/lib/python3.7/importlib/__init__.py\", line 169, in reload\n",
      "    _bootstrap._exec(spec, module)\n",
      "  File \"<frozen importlib._bootstrap>\", line 630, in _exec\n",
      "  File \"<frozen importlib._bootstrap_external>\", line 728, in exec_module\n",
      "  File \"<frozen importlib._bootstrap>\", line 219, in _call_with_frames_removed\n",
      "  File \"../src/plot/__init__.py\", line 3, in <module>\n",
      "    from .ts_plots import (\n",
      "ImportError: cannot import name 'plot_observed_vs_predicted_with_error' from 'plot.ts_plots' (../src/plot/ts_plots.py)\n",
      "]\n"
     ]
    },
    {
     "ename": "ImportError",
     "evalue": "cannot import name 'plot_observed_vs_predicted_with_error' from 'plot' (../src/plot/__init__.py)",
     "output_type": "error",
     "traceback": [
      "\u001b[0;31m---------------------------------------------------------------------------\u001b[0m",
      "\u001b[0;31mImportError\u001b[0m                               Traceback (most recent call last)",
      "\u001b[0;32m<ipython-input-132-b9328122db52>\u001b[0m in \u001b[0;36m<module>\u001b[0;34m\u001b[0m\n\u001b[1;32m     10\u001b[0m )\n\u001b[1;32m     11\u001b[0m \u001b[0;34m\u001b[0m\u001b[0m\n\u001b[0;32m---> 12\u001b[0;31m from plot import (\n\u001b[0m\u001b[1;32m     13\u001b[0m     \u001b[0;31m#plot_train_test_predicted,\u001b[0m\u001b[0;34m\u001b[0m\u001b[0;34m\u001b[0m\u001b[0;34m\u001b[0m\u001b[0m\n\u001b[1;32m     14\u001b[0m     \u001b[0mplot_observed_vs_predicted\u001b[0m\u001b[0;34m,\u001b[0m\u001b[0;34m\u001b[0m\u001b[0;34m\u001b[0m\u001b[0m\n",
      "\u001b[0;31mImportError\u001b[0m: cannot import name 'plot_observed_vs_predicted_with_error' from 'plot' (../src/plot/__init__.py)"
     ]
    }
   ],
   "source": [
    "from model import (\n",
    "    get_pm25_data_for_modelling,\n",
    "    get_best_arima_params_for_time_series,\n",
    "    get_df_for_lags_columns\n",
    ")\n",
    "\n",
    "from measure import (\n",
    "    get_model_power,\n",
    "    get_rmse\n",
    ")\n",
    "\n",
    "from plot import (\n",
    "    #plot_train_test_predicted,\n",
    "    plot_observed_vs_predicted,\n",
    "    plot_observations_to_predictions_relationship,\n",
    "    #fit_theoretical_dist_and_plot,\n",
    "    plot_observed_vs_predicted_with_error\n",
    ")\n",
    "\n",
    "from stats import (\n",
    "    adfuller_test\n",
    ")"
   ]
  },
  {
   "cell_type": "markdown",
   "metadata": {},
   "source": [
    "---\n",
    "<a id='base'></a>\n",
    "\n",
    "## Autoregression (AR) modelling\n",
    "\n",
    "Autoregression modeling is a modeling technique used for time series data that assumes linear continuation of the series so that previous values in the time series can be used to predict futures values. \n",
    "\n",
    "Autoregression technique is similar to linear regression where, you’re taking all of the previous data points to build a model to predict a future data point using a simple linear model. With the autoregression model, your’e using previous data points and using them to predict future data point(s) but with multiple lag variables."
   ]
  },
  {
   "cell_type": "markdown",
   "metadata": {},
   "source": [
    "---\n",
    "<a id='data_h'></a>\n",
    "\n",
    "## Load hourly data"
   ]
  },
  {
   "cell_type": "code",
   "execution_count": 7,
   "metadata": {},
   "outputs": [
    {
     "name": "stderr",
     "output_type": "stream",
     "text": [
      "common.py | 42 | get_pm25_data_for_modelling | 07-Jun-20 19:56:04 | INFO: Dataframe loaded: /Users/ksatola/Documents/git/air-polution/agh/data/dfpm25_2008-2018_daily.hdf\n",
      "common.py | 43 | get_pm25_data_for_modelling | 07-Jun-20 19:56:04 | INFO: Dataframe size: (4019, 1)\n"
     ]
    },
    {
     "data": {
      "text/html": [
       "<div>\n",
       "<style scoped>\n",
       "    .dataframe tbody tr th:only-of-type {\n",
       "        vertical-align: middle;\n",
       "    }\n",
       "\n",
       "    .dataframe tbody tr th {\n",
       "        vertical-align: top;\n",
       "    }\n",
       "\n",
       "    .dataframe thead th {\n",
       "        text-align: right;\n",
       "    }\n",
       "</style>\n",
       "<table border=\"1\" class=\"dataframe\">\n",
       "  <thead>\n",
       "    <tr style=\"text-align: right;\">\n",
       "      <th></th>\n",
       "      <th>pm25</th>\n",
       "    </tr>\n",
       "    <tr>\n",
       "      <th>Datetime</th>\n",
       "      <th></th>\n",
       "    </tr>\n",
       "  </thead>\n",
       "  <tbody>\n",
       "    <tr>\n",
       "      <th>2008-01-01</th>\n",
       "      <td>53.586957</td>\n",
       "    </tr>\n",
       "    <tr>\n",
       "      <th>2008-01-02</th>\n",
       "      <td>30.958333</td>\n",
       "    </tr>\n",
       "    <tr>\n",
       "      <th>2008-01-03</th>\n",
       "      <td>46.104167</td>\n",
       "    </tr>\n",
       "    <tr>\n",
       "      <th>2008-01-04</th>\n",
       "      <td>42.979167</td>\n",
       "    </tr>\n",
       "    <tr>\n",
       "      <th>2008-01-05</th>\n",
       "      <td>57.312500</td>\n",
       "    </tr>\n",
       "  </tbody>\n",
       "</table>\n",
       "</div>"
      ],
      "text/plain": [
       "                 pm25\n",
       "Datetime             \n",
       "2008-01-01  53.586957\n",
       "2008-01-02  30.958333\n",
       "2008-01-03  46.104167\n",
       "2008-01-04  42.979167\n",
       "2008-01-05  57.312500"
      ]
     },
     "execution_count": 7,
     "metadata": {},
     "output_type": "execute_result"
    }
   ],
   "source": [
    "##### ZMIENIC 'd' na 'h'\n",
    "dfh = get_pm25_data_for_modelling('ts', 'd')\n",
    "dfh.head()"
   ]
  },
  {
   "cell_type": "code",
   "execution_count": 8,
   "metadata": {},
   "outputs": [],
   "source": [
    "model_name = 'AR'"
   ]
  },
  {
   "cell_type": "code",
   "execution_count": 9,
   "metadata": {},
   "outputs": [],
   "source": [
    "df = dfh.copy()"
   ]
  },
  {
   "cell_type": "code",
   "execution_count": 10,
   "metadata": {},
   "outputs": [],
   "source": [
    "from statsmodels.tsa.ar_model import AR\n",
    "from statsmodels.tsa.arima_model import ARIMA"
   ]
  },
  {
   "cell_type": "code",
   "execution_count": 11,
   "metadata": {},
   "outputs": [],
   "source": [
    "# Define first past/future cutoff point in time offset (1 year of data)\n",
    "#cut_off_offset = 365*24 # for hourly data\n",
    "cut_off_offset = 365 # for daily data\n",
    "\n",
    "# Set datetime format for index\n",
    "#dt_format = \"%Y-%m-%d %H:%M:%S\" # for hourly data\n",
    "dt_format = \"%Y-%m-%d\" # for daily data\n",
    "\n",
    "# Set proper frequency for modelling\n",
    "# https://pandas.pydata.org/pandas-docs/stable/user_guide/timeseries.html#offset-aliases\n",
    "#df.index = pd.DatetimeIndex(df.index).to_period('H') # for hourly data\n",
    "#df.index = pd.DatetimeIndex(df.index).to_period('D') # for daily data"
   ]
  },
  {
   "cell_type": "code",
   "execution_count": 12,
   "metadata": {},
   "outputs": [],
   "source": [
    "# Create train / test datasets\n",
    "X = df.dropna()\n",
    "df_train = X[1:len(X)-cut_off_offset]\n",
    "df_test = X[len(X)-cut_off_offset:]"
   ]
  },
  {
   "cell_type": "code",
   "execution_count": 13,
   "metadata": {},
   "outputs": [
    {
     "data": {
      "text/plain": [
       "(3653, 1)"
      ]
     },
     "execution_count": 13,
     "metadata": {},
     "output_type": "execute_result"
    }
   ],
   "source": [
    "df_train.shape"
   ]
  },
  {
   "cell_type": "code",
   "execution_count": 14,
   "metadata": {},
   "outputs": [
    {
     "data": {
      "text/plain": [
       "(365, 1)"
      ]
     },
     "execution_count": 14,
     "metadata": {},
     "output_type": "execute_result"
    }
   ],
   "source": [
    "df_test.shape"
   ]
  },
  {
   "cell_type": "code",
   "execution_count": 15,
   "metadata": {},
   "outputs": [],
   "source": [
    "# Train the model\n",
    "model = AR(df_train)\n",
    "model_fitted = model.fit()"
   ]
  },
  {
   "cell_type": "markdown",
   "metadata": {},
   "source": [
    "In the above, we are simply creating a testing and training dataset and then creating and fitting our AR() model. The AR() function tries to estimate the number of lags for the prediction. Once you’ve fit the model, you can look at the chosen lag and parameters of the model using some simple print statements."
   ]
  },
  {
   "cell_type": "code",
   "execution_count": 16,
   "metadata": {},
   "outputs": [
    {
     "data": {
      "text/plain": [
       "<statsmodels.tsa.ar_model.ARResultsWrapper at 0x12b40fc10>"
      ]
     },
     "execution_count": 16,
     "metadata": {},
     "output_type": "execute_result"
    }
   ],
   "source": [
    "model_fitted"
   ]
  },
  {
   "cell_type": "code",
   "execution_count": 17,
   "metadata": {},
   "outputs": [
    {
     "name": "stdout",
     "output_type": "stream",
     "text": [
      "The lag value chose is: 30\n"
     ]
    }
   ],
   "source": [
    "print(f'The lag value chose is: {model_fitted.k_ar}')"
   ]
  },
  {
   "cell_type": "code",
   "execution_count": 18,
   "metadata": {},
   "outputs": [
    {
     "name": "stdout",
     "output_type": "stream",
     "text": [
      "The coefficients of the model are:\n",
      " const       3.254686\n",
      "L1.pm25     0.702070\n",
      "L2.pm25    -0.144036\n",
      "L3.pm25     0.078781\n",
      "L4.pm25    -0.012828\n",
      "L5.pm25     0.002850\n",
      "L6.pm25     0.018810\n",
      "L7.pm25     0.026406\n",
      "L8.pm25     0.040924\n",
      "L9.pm25     0.008997\n",
      "L10.pm25   -0.038482\n",
      "L11.pm25    0.040293\n",
      "L12.pm25    0.076362\n",
      "L13.pm25   -0.011441\n",
      "L14.pm25    0.049392\n",
      "L15.pm25   -0.055448\n",
      "L16.pm25    0.066617\n",
      "L17.pm25   -0.002334\n",
      "L18.pm25   -0.003607\n",
      "L19.pm25    0.056132\n",
      "L20.pm25   -0.013051\n",
      "L21.pm25    0.066457\n",
      "L22.pm25   -0.004800\n",
      "L23.pm25    0.003229\n",
      "L24.pm25   -0.039893\n",
      "L25.pm25    0.012186\n",
      "L26.pm25    0.016868\n",
      "L27.pm25   -0.036194\n",
      "L28.pm25    0.018096\n",
      "L29.pm25   -0.022881\n",
      "L30.pm25    0.014114\n",
      "dtype: float64\n"
     ]
    }
   ],
   "source": [
    "print(f'The coefficients of the model are:\\n {model_fitted.params}')"
   ]
  },
  {
   "cell_type": "code",
   "execution_count": 19,
   "metadata": {},
   "outputs": [],
   "source": [
    "# Prepare history data frame with lagged columns"
   ]
  },
  {
   "cell_type": "code",
   "execution_count": 100,
   "metadata": {},
   "outputs": [],
   "source": [
    "# Out of sample prediction\n",
    "\n",
    "def predict_ar(X: list, coef: list) -> float:\n",
    "    yhat = 0.0\n",
    "    #print(f'coef -> {coef}')\n",
    "    #print(f'X -> {X}')\n",
    "    for i in range(1, len(coef)):\n",
    "        # X values must be applied backwards as we travel back in the past\n",
    "        yhat += coef[i] * X[-i]\n",
    "        #print(coef[i], X[i], yhat)\n",
    "    return yhat + coef[0]\n",
    "\n",
    "from sklearn.metrics import mean_squared_error\n",
    "def calculate_rmse_for_row(row):\n",
    "    #return get_rmse(observed=row['observed'], predicted=row['predicted'])\n",
    "    #return round(mean_squared_error(row['observed'], row['predicted']), 4)\n",
    "    pass\n",
    "\n",
    "\n",
    "# ZMien nazwe na walk forward model validation method\n",
    "def predict_out_of_sample_ar2(data: pd.DataFrame, col_name: str, model_params: list, cut_off_offset:int = 365, n_pred_points: int = 1, n_folds: int = -1):\n",
    "    \n",
    "    # it takes entire dataset and splits it to train/test according to train_test_split_position using cut_off_offset\n",
    "    train_test_split_position = int(len(data)-cut_off_offset)    \n",
    "    max_n_folds = len(data) - train_test_split_position\n",
    "    \n",
    "    if n_folds < 1:\n",
    "        last_n_folds_pos = len(data)\n",
    "    else:\n",
    "        if n_folds > max_n_folds:\n",
    "            last_n_folds_pos = max_n_folds\n",
    "        else:\n",
    "            last_n_folds_pos = train_test_split_position + n_folds\n",
    "    \n",
    "    #print(range(train_test_split_position, n_folds))\n",
    "    \n",
    "    # A list of data frames with results from each fold n_pred_points predictions\n",
    "    fold_results = []\n",
    "    \n",
    "    # Do this for each data point in the test part\n",
    "    for i in range(train_test_split_position, last_n_folds_pos):\n",
    "        \n",
    "        # For each fold\n",
    "        history = data[0:i].copy()\n",
    "        future = data[i:i+n_pred_points].copy()\n",
    "        \n",
    "        #print(f'history.shape {history.shape}')\n",
    "        #print(f'future.shape {future.shape}')\n",
    "        #print(history.head(1))\n",
    "        #print(future.head(10))\n",
    "        \n",
    "        predicted = []\n",
    "        \n",
    "        # Forecast values for n_pred_points\n",
    "        for j in range(len(future)):\n",
    "            \n",
    "            #print(history.tail(5))\n",
    "            \n",
    "            # Get prediction for t+1 lag\n",
    "            yhat = predict_ar(history[col_name].tail(len(model_params)+1).tolist(), model_params)\n",
    "            #print(list(reversed(history[col_name].tail().tolist())))\n",
    "            \n",
    "            #history[col_name].tail(len(model_params)).tolist()\n",
    "\n",
    "            # Add it as a predicted value\n",
    "            predicted.append(yhat)\n",
    "            #print(predicted)\n",
    "\n",
    "            # Create a new row with the next data point index from df_test\n",
    "            # Extend history with the last predicted value\n",
    "            history = history.append(future[j:j+1])\n",
    "            \n",
    "            # Replace observed value with predicted value\n",
    "            history.loc[future[j:j+1].index] = [yhat]\n",
    "            \n",
    "        # Summarize results for the fold\n",
    "        # Each row represents next predicted lag\n",
    "        df_fold_observed = future[col_name].copy() # observed\n",
    "        df_fold_predicted = history[-n_pred_points:].copy() # predicted\n",
    "        df_fold_results = pd.concat([df_fold_observed, df_fold_predicted], axis=1)\n",
    "        df_fold_results.columns = ['observed', 'predicted']\n",
    "        \n",
    "        df_fold_results['error'] = np.abs(df_fold_results['observed'] - df_fold_results['predicted']) # error\n",
    "        df_fold_results['abs_error'] = np.abs(df_fold_results['observed'] - df_fold_results['predicted']) # absolute error\n",
    "        \n",
    "        fold_results.append(df_fold_results)\n",
    "        #print(df_fold_results)\n",
    "    \n",
    "    return fold_results"
   ]
  },
  {
   "cell_type": "code",
   "execution_count": 101,
   "metadata": {},
   "outputs": [],
   "source": [
    "#fold_results = predict_out_of_sample_ar2(model_params=[3.254686, 0.702070, -0.144036], data=df, col_name='pm25', n_pred_points=5)\n",
    "#fold_results = predict_out_of_sample_ar2(model_params=model_fitted.params, data=df, col_name='pm25', n_pred_points=1)\n",
    "#df_compared.head()\n",
    "\n",
    "#cut_off_offset = 365*24 # for hourly data\n",
    "cut_off_offset = 365 # for daily data\n",
    "\n",
    "# Predict for X points\n",
    "#n_pred_points = 24 # for hourly data\n",
    "n_pred_points = 7 # for daily data\n",
    "\n",
    "fold_results = predict_out_of_sample_ar2(data=df, \n",
    "                                         col_name='pm25', \n",
    "                                         model_params=[3.254686, 0.702070, -0.144036], \n",
    "                                         cut_off_offset=cut_off_offset, \n",
    "                                         n_pred_points=n_pred_points, \n",
    "                                         n_folds=1)"
   ]
  },
  {
   "cell_type": "code",
   "execution_count": 102,
   "metadata": {},
   "outputs": [
    {
     "data": {
      "text/plain": [
       "1"
      ]
     },
     "execution_count": 102,
     "metadata": {},
     "output_type": "execute_result"
    }
   ],
   "source": [
    "len(fold_results)"
   ]
  },
  {
   "cell_type": "code",
   "execution_count": 103,
   "metadata": {},
   "outputs": [
    {
     "data": {
      "text/html": [
       "<div>\n",
       "<style scoped>\n",
       "    .dataframe tbody tr th:only-of-type {\n",
       "        vertical-align: middle;\n",
       "    }\n",
       "\n",
       "    .dataframe tbody tr th {\n",
       "        vertical-align: top;\n",
       "    }\n",
       "\n",
       "    .dataframe thead th {\n",
       "        text-align: right;\n",
       "    }\n",
       "</style>\n",
       "<table border=\"1\" class=\"dataframe\">\n",
       "  <thead>\n",
       "    <tr style=\"text-align: right;\">\n",
       "      <th></th>\n",
       "      <th>observed</th>\n",
       "      <th>predicted</th>\n",
       "      <th>error</th>\n",
       "      <th>abs_error</th>\n",
       "    </tr>\n",
       "    <tr>\n",
       "      <th>Datetime</th>\n",
       "      <th></th>\n",
       "      <th></th>\n",
       "      <th></th>\n",
       "      <th></th>\n",
       "    </tr>\n",
       "  </thead>\n",
       "  <tbody>\n",
       "    <tr>\n",
       "      <th>2018-01-02</th>\n",
       "      <td>67.991848</td>\n",
       "      <td>38.338665</td>\n",
       "      <td>29.653182</td>\n",
       "      <td>29.653182</td>\n",
       "    </tr>\n",
       "    <tr>\n",
       "      <th>2018-01-03</th>\n",
       "      <td>16.026950</td>\n",
       "      <td>22.536039</td>\n",
       "      <td>6.509089</td>\n",
       "      <td>6.509089</td>\n",
       "    </tr>\n",
       "    <tr>\n",
       "      <th>2018-01-04</th>\n",
       "      <td>14.590020</td>\n",
       "      <td>13.554415</td>\n",
       "      <td>1.035605</td>\n",
       "      <td>1.035605</td>\n",
       "    </tr>\n",
       "    <tr>\n",
       "      <th>2018-01-05</th>\n",
       "      <td>22.094854</td>\n",
       "      <td>9.524833</td>\n",
       "      <td>12.570021</td>\n",
       "      <td>12.570021</td>\n",
       "    </tr>\n",
       "    <tr>\n",
       "      <th>2018-01-06</th>\n",
       "      <td>62.504217</td>\n",
       "      <td>7.989462</td>\n",
       "      <td>54.514755</td>\n",
       "      <td>54.514755</td>\n",
       "    </tr>\n",
       "    <tr>\n",
       "      <th>2018-01-07</th>\n",
       "      <td>43.929804</td>\n",
       "      <td>7.491929</td>\n",
       "      <td>36.437876</td>\n",
       "      <td>36.437876</td>\n",
       "    </tr>\n",
       "    <tr>\n",
       "      <th>2018-01-08</th>\n",
       "      <td>22.088192</td>\n",
       "      <td>7.363774</td>\n",
       "      <td>14.724417</td>\n",
       "      <td>14.724417</td>\n",
       "    </tr>\n",
       "  </tbody>\n",
       "</table>\n",
       "</div>"
      ],
      "text/plain": [
       "             observed  predicted      error  abs_error\n",
       "Datetime                                              \n",
       "2018-01-02  67.991848  38.338665  29.653182  29.653182\n",
       "2018-01-03  16.026950  22.536039   6.509089   6.509089\n",
       "2018-01-04  14.590020  13.554415   1.035605   1.035605\n",
       "2018-01-05  22.094854   9.524833  12.570021  12.570021\n",
       "2018-01-06  62.504217   7.989462  54.514755  54.514755\n",
       "2018-01-07  43.929804   7.491929  36.437876  36.437876\n",
       "2018-01-08  22.088192   7.363774  14.724417  14.724417"
      ]
     },
     "execution_count": 103,
     "metadata": {},
     "output_type": "execute_result"
    }
   ],
   "source": [
    "fold_results[0]"
   ]
  },
  {
   "cell_type": "code",
   "execution_count": 99,
   "metadata": {},
   "outputs": [
    {
     "ename": "SyntaxError",
     "evalue": "invalid syntax (<ipython-input-99-135e2caa04ac>, line 3)",
     "output_type": "error",
     "traceback": [
      "\u001b[0;36m  File \u001b[0;32m\"<ipython-input-99-135e2caa04ac>\"\u001b[0;36m, line \u001b[0;32m3\u001b[0m\n\u001b[0;31m    dac trenowanie modelu i przyfotowanie danych\u001b[0m\n\u001b[0m                 ^\u001b[0m\n\u001b[0;31mSyntaxError\u001b[0m\u001b[0;31m:\u001b[0m invalid syntax\n"
     ]
    }
   ],
   "source": [
    "# One point forecast - part 1\n",
    "\n",
    "dac trenowanie modelu i przyfotowanie danych"
   ]
  },
  {
   "cell_type": "code",
   "execution_count": 39,
   "metadata": {},
   "outputs": [
    {
     "data": {
      "text/plain": [
       "pandas.core.series.Series"
      ]
     },
     "execution_count": 39,
     "metadata": {},
     "output_type": "execute_result"
    }
   ],
   "source": [
    "type(model_fitted.params)"
   ]
  },
  {
   "cell_type": "code",
   "execution_count": 104,
   "metadata": {},
   "outputs": [
    {
     "name": "stdout",
     "output_type": "stream",
     "text": [
      "365\n",
      "             observed  predicted      error  abs_error\n",
      "Datetime                                              \n",
      "2018-01-02  67.991848  49.379772  18.612076  18.612076\n",
      "2018-01-03  16.026950  46.310684  30.283734  30.283734\n",
      "2018-01-04  14.590020  42.722729  28.132708  28.132708\n",
      "2018-01-05  22.094854  36.818753  14.723899  14.723899\n",
      "2018-01-06  62.504217  39.552410  22.951806  22.951806\n",
      "2018-01-07  43.929804  44.885109   0.955304   0.955304\n",
      "2018-01-08  22.088192  47.602331  25.514139  25.514139\n"
     ]
    }
   ],
   "source": [
    "# One point forecast - part 2\n",
    "\n",
    "#cut_off_offset = 365*24 # for hourly data\n",
    "cut_off_offset = 365 # for daily data\n",
    "\n",
    "# Predict for X points\n",
    "#n_pred_points = 24 # for hourly data\n",
    "n_pred_points = 7 # for daily data\n",
    "\n",
    "fold_results = predict_out_of_sample_ar2(data=df, \n",
    "                                         col_name='pm25', \n",
    "                                         model_params=model_fitted.params[:], \n",
    "                                         cut_off_offset=cut_off_offset, \n",
    "                                         n_pred_points=n_pred_points, \n",
    "                                         n_folds=-1)\n",
    "\n",
    "\n",
    "print(len(fold_results))\n",
    "print(fold_results[0])"
   ]
  },
  {
   "cell_type": "code",
   "execution_count": 105,
   "metadata": {},
   "outputs": [
    {
     "data": {
      "text/html": [
       "<div>\n",
       "<style scoped>\n",
       "    .dataframe tbody tr th:only-of-type {\n",
       "        vertical-align: middle;\n",
       "    }\n",
       "\n",
       "    .dataframe tbody tr th {\n",
       "        vertical-align: top;\n",
       "    }\n",
       "\n",
       "    .dataframe thead th {\n",
       "        text-align: right;\n",
       "    }\n",
       "</style>\n",
       "<table border=\"1\" class=\"dataframe\">\n",
       "  <thead>\n",
       "    <tr style=\"text-align: right;\">\n",
       "      <th></th>\n",
       "      <th>observed</th>\n",
       "      <th>predicted</th>\n",
       "      <th>error</th>\n",
       "      <th>abs_error</th>\n",
       "    </tr>\n",
       "    <tr>\n",
       "      <th>Datetime</th>\n",
       "      <th></th>\n",
       "      <th></th>\n",
       "      <th></th>\n",
       "      <th></th>\n",
       "    </tr>\n",
       "  </thead>\n",
       "  <tbody>\n",
       "    <tr>\n",
       "      <th>2018-01-02</th>\n",
       "      <td>67.991848</td>\n",
       "      <td>49.379772</td>\n",
       "      <td>18.612076</td>\n",
       "      <td>18.612076</td>\n",
       "    </tr>\n",
       "  </tbody>\n",
       "</table>\n",
       "</div>"
      ],
      "text/plain": [
       "             observed  predicted      error  abs_error\n",
       "Datetime                                              \n",
       "2018-01-02  67.991848  49.379772  18.612076  18.612076"
      ]
     },
     "execution_count": 105,
     "metadata": {},
     "output_type": "execute_result"
    }
   ],
   "source": [
    "fold_results[0][:1]"
   ]
  },
  {
   "cell_type": "code",
   "execution_count": 130,
   "metadata": {},
   "outputs": [],
   "source": [
    "# One point forecast - part 3\n",
    "\n",
    "show_n_points_of_foreacst = 3\n",
    "\n",
    "start_index = show_n_points_of_foreacst - 1\n",
    "end_index = show_n_points_of_foreacst\n",
    "\n",
    "observed = pd.Series()\n",
    "predicted = pd.Series()\n",
    "for fold in fold_results:\n",
    "    # Take first row (1 step prediction)\n",
    "    observed = observed.append(fold[start_index:end_index]['observed'])\n",
    "    predicted = predicted.append(fold[start_index:end_index]['predicted'])\n",
    "#print(observed.shape)\n",
    "#observed.head()"
   ]
  },
  {
   "cell_type": "code",
   "execution_count": null,
   "metadata": {},
   "outputs": [],
   "source": [
    "plot_observed_vs_predicted_wi(observed=observed, \n",
    "                           predicted=predicted, \n",
    "                           num_points=cut_off_offset*20, \n",
    "                           title=model_name,\n",
    "                           label_observed='PM2.5 observed', \n",
    "                           label_predicted='PM2.5 predicted', \n",
    "                           save_path='images/pm25_obs_vs_pred_365_h_ref_simple_averageXXXREMOVE.png')"
   ]
  },
  {
   "cell_type": "code",
   "execution_count": 131,
   "metadata": {},
   "outputs": [
    {
     "data": {
      "image/png": "[encoded data removed]",
      "text/plain": [
       "<Figure size 1440x720 with 1 Axes>"
      ]
     },
     "metadata": {
      "needs_background": "light"
     },
     "output_type": "display_data"
    }
   ],
   "source": [
    "# This plot does show combined x-days forecast for specified data points for model quality comparison.\n",
    "\n",
    "plot_observed_vs_predicted(observed=observed, \n",
    "                           predicted=predicted, \n",
    "                           num_points=cut_off_offset*20, \n",
    "                           title=model_name,\n",
    "                           label_observed='PM2.5 observed', \n",
    "                           label_predicted='PM2.5 predicted', \n",
    "                           save_path='images/pm25_obs_vs_pred_365_h_ref_simple_averageXXXREMOVE.png')"
   ]
  },
  {
   "cell_type": "code",
   "execution_count": null,
   "metadata": {},
   "outputs": [],
   "source": []
  },
  {
   "cell_type": "code",
   "execution_count": null,
   "metadata": {},
   "outputs": [],
   "source": []
  },
  {
   "cell_type": "code",
   "execution_count": null,
   "metadata": {},
   "outputs": [],
   "source": []
  },
  {
   "cell_type": "code",
   "execution_count": null,
   "metadata": {},
   "outputs": [],
   "source": []
  },
  {
   "cell_type": "code",
   "execution_count": null,
   "metadata": {},
   "outputs": [],
   "source": []
  },
  {
   "cell_type": "code",
   "execution_count": null,
   "metadata": {},
   "outputs": [],
   "source": []
  },
  {
   "cell_type": "code",
   "execution_count": null,
   "metadata": {},
   "outputs": [],
   "source": [
    "df_test.index[len(df_test)-1].strftime(dt_format)"
   ]
  },
  {
   "cell_type": "code",
   "execution_count": null,
   "metadata": {},
   "outputs": [],
   "source": []
  },
  {
   "cell_type": "code",
   "execution_count": null,
   "metadata": {},
   "outputs": [],
   "source": []
  },
  {
   "cell_type": "code",
   "execution_count": null,
   "metadata": {},
   "outputs": [],
   "source": [
    "def perform_walk_forward_validation(data: pd.DataFrame, \n",
    "                                    model_fit,\n",
    "                                    model_predict,\n",
    "                                    train_test_split_position: int, \n",
    "                                    n_folds: int, \n",
    "                                    n_pred_points: int, \n",
    "                                    dt_format: str,\n",
    "                                   s_name: str) -> pd.Series:\n",
    "    tsfolds_rmse = pd.Series()\n",
    "\n",
    "    for i in range(train_test_split_position, n_folds):\n",
    "\n",
    "        # For each fold\n",
    "        train = data[0:i].copy()\n",
    "        validation = data[i:i+n_pred_points].copy()\n",
    "\n",
    "        # Fit the model: Take an average of train\n",
    "        model_fitted = model_fit(data=train)\n",
    "\n",
    "        # Predict for all values in validation\n",
    "        predicted = validation.copy()\n",
    "        \n",
    "        #print(len(train))\n",
    "        #print(len(validation))\n",
    "        #print(len(predicted))\n",
    "        #print(model_fitted.values[0])\n",
    "        \n",
    "        predicted['pred'] = model_predict(model_fitted, predicted)\n",
    "\n",
    "        rmse = get_rmse(observed=validation[s_name], predicted=predicted['pred'])\n",
    "        tsfolds_rmse.set_value(label=df.iloc[0:].index[i].strftime(dt_format), value=rmse)\n",
    "        \n",
    "    # Convert to data frame and datetime index\n",
    "    tsfolds_rmse = tsfolds_rmse.to_frame(name=s_name)\n",
    "    tsfolds_rmse.index = pd.to_datetime(tsfolds_rmse.index)\n",
    "        \n",
    "    return tsfolds_rmse"
   ]
  },
  {
   "cell_type": "code",
   "execution_count": null,
   "metadata": {},
   "outputs": [],
   "source": []
  },
  {
   "cell_type": "code",
   "execution_count": null,
   "metadata": {},
   "outputs": [],
   "source": []
  },
  {
   "cell_type": "code",
   "execution_count": null,
   "metadata": {},
   "outputs": [],
   "source": []
  },
  {
   "cell_type": "code",
   "execution_count": null,
   "metadata": {},
   "outputs": [],
   "source": []
  },
  {
   "cell_type": "code",
   "execution_count": null,
   "metadata": {},
   "outputs": [],
   "source": []
  },
  {
   "cell_type": "code",
   "execution_count": null,
   "metadata": {},
   "outputs": [],
   "source": []
  },
  {
   "cell_type": "code",
   "execution_count": null,
   "metadata": {},
   "outputs": [],
   "source": []
  },
  {
   "cell_type": "code",
   "execution_count": null,
   "metadata": {},
   "outputs": [],
   "source": []
  },
  {
   "cell_type": "code",
   "execution_count": null,
   "metadata": {},
   "outputs": [],
   "source": []
  },
  {
   "cell_type": "code",
   "execution_count": null,
   "metadata": {},
   "outputs": [],
   "source": []
  },
  {
   "cell_type": "code",
   "execution_count": null,
   "metadata": {},
   "outputs": [],
   "source": []
  },
  {
   "cell_type": "code",
   "execution_count": null,
   "metadata": {},
   "outputs": [],
   "source": [
    "from datetime import datetime"
   ]
  },
  {
   "cell_type": "code",
   "execution_count": null,
   "metadata": {},
   "outputs": [],
   "source": [
    "# make in sample predictions \n",
    "#predictions = model_fitted.predict(start=len(df_train), end=len(df_train) + len(df_test) - 1, dynamic=False)\n",
    "predictions = model_fitted.predict(start=datetime(2017, 1, 1), end=datetime(2019, 1, 1), dynamic=False)"
   ]
  },
  {
   "cell_type": "code",
   "execution_count": null,
   "metadata": {},
   "outputs": [],
   "source": [
    "predictions.shape"
   ]
  },
  {
   "cell_type": "code",
   "execution_count": null,
   "metadata": {},
   "outputs": [],
   "source": [
    "plot_observed_vs_predicted(observed=df_train, \n",
    "                           predicted=predictions, \n",
    "                           num_points=cut_off_offset*2, \n",
    "                           title=model_name,\n",
    "                           label_observed='PM2.5 observed', \n",
    "                           label_predicted='PM2.5 predicted', \n",
    "                           save_path='images/pm25_obs_vs_pred_365_h_ref_simple_averageXXXREMOVE.png')"
   ]
  },
  {
   "cell_type": "code",
   "execution_count": null,
   "metadata": {},
   "outputs": [],
   "source": [
    "predictions"
   ]
  },
  {
   "cell_type": "code",
   "execution_count": null,
   "metadata": {},
   "outputs": [],
   "source": [
    "https://machinelearningmastery.com/make-manual-predictions-arima-models-python/"
   ]
  },
  {
   "cell_type": "code",
   "execution_count": null,
   "metadata": {},
   "outputs": [],
   "source": [
    "# Make out of sample predictions (on a test set)\n",
    "\n"
   ]
  },
  {
   "cell_type": "code",
   "execution_count": null,
   "metadata": {},
   "outputs": [],
   "source": [
    "get_df_for_lags_columns(data=df, col_name='pm25', n_lags=10, remove_nans=True).head(10+1)"
   ]
  },
  {
   "cell_type": "code",
   "execution_count": null,
   "metadata": {},
   "outputs": [],
   "source": [
    "model = ARIMA(df_train, order=(1,0,0))\n",
    "model_fit = model.fit()\n",
    "ar_coef = model_fit.arparams\n",
    "predict(ar_coef, df_test)"
   ]
  },
  {
   "cell_type": "code",
   "execution_count": null,
   "metadata": {},
   "outputs": [],
   "source": [
    "#history = [x for x in df_train]\n",
    "#print(history)\n",
    "predictions = []\n",
    "\n",
    "for t in range(len(df_test)):\n",
    "    model = ARIMA(df_train, order=(1,0,0))\n",
    "    model_fit = model.fit()\n",
    "    ar_coef = model_fit.arparams\n",
    "    \n",
    "    yhat = predict(ar_coef, history)\n",
    "    predictions.append(yhat)\n",
    "    obs = df_test[t]\n",
    "    history.append(obs)\n",
    "    print('>predicted=%.3f, expected=%.3f' % (yhat, obs))\n",
    "\n",
    "rmse = sqrt(mean_squared_error(test, predictions))\n",
    "print('Test RMSE: %.3f' % rmse)"
   ]
  },
  {
   "cell_type": "code",
   "execution_count": null,
   "metadata": {},
   "outputs": [],
   "source": []
  },
  {
   "cell_type": "code",
   "execution_count": null,
   "metadata": {},
   "outputs": [],
   "source": []
  },
  {
   "cell_type": "code",
   "execution_count": null,
   "metadata": {},
   "outputs": [],
   "source": []
  },
  {
   "cell_type": "code",
   "execution_count": null,
   "metadata": {},
   "outputs": [],
   "source": [
    "model.params"
   ]
  },
  {
   "cell_type": "code",
   "execution_count": null,
   "metadata": {},
   "outputs": [],
   "source": [
    "series = df_train['pm25']\n",
    "test_series = df_test['pm25']\n",
    "\n",
    "print(series)\n",
    "\n",
    "model_fitted = ARIMA(series, order).fit()\n",
    "print(model_fitted.params)\n",
    "\n",
    "test_model = ARIMA(test_series, order).fit()\n",
    "test_model.predict()#, start=0, end=len(test_series)-1)"
   ]
  },
  {
   "cell_type": "code",
   "execution_count": null,
   "metadata": {},
   "outputs": [],
   "source": [
    "#%%time\n",
    "# Make out of sample predictions (on a test set)\n",
    "#p = model_fitted.k_ar\n",
    "#p = 3\n",
    "order = (3, 0, 0)\n",
    "train_model = ARIMA(df_train, order=order).fit()\n",
    "test_model = ARIMA(df_test, order=order).fit()\n",
    "#predictions = \n",
    "test_model.predict(test_model.params)"
   ]
  },
  {
   "cell_type": "code",
   "execution_count": null,
   "metadata": {},
   "outputs": [],
   "source": [
    "df_test['pm25'].head()"
   ]
  },
  {
   "cell_type": "code",
   "execution_count": null,
   "metadata": {},
   "outputs": [],
   "source": [
    "predictions.head()"
   ]
  },
  {
   "cell_type": "code",
   "execution_count": null,
   "metadata": {},
   "outputs": [],
   "source": [
    "(df_test.shape, predictions.shape)"
   ]
  },
  {
   "cell_type": "code",
   "execution_count": null,
   "metadata": {},
   "outputs": [],
   "source": []
  },
  {
   "cell_type": "code",
   "execution_count": null,
   "metadata": {},
   "outputs": [],
   "source": []
  },
  {
   "cell_type": "code",
   "execution_count": null,
   "metadata": {},
   "outputs": [],
   "source": []
  },
  {
   "cell_type": "code",
   "execution_count": null,
   "metadata": {},
   "outputs": [],
   "source": []
  },
  {
   "cell_type": "code",
   "execution_count": null,
   "metadata": {},
   "outputs": [],
   "source": []
  },
  {
   "cell_type": "code",
   "execution_count": null,
   "metadata": {},
   "outputs": [],
   "source": [
    "plot_observed_vs_predicted(observed=df_test, \n",
    "                           predicted=predictions, \n",
    "                           num_points=cut_off_offset, \n",
    "                           title=model_name,\n",
    "                           label_observed='PM2.5 observed', \n",
    "                           label_predicted='PM2.5 predicted', \n",
    "                           save_path='images/pm25_obs_vs_pred_365_h_ref_simple_average.png')"
   ]
  },
  {
   "cell_type": "markdown",
   "metadata": {},
   "source": [
    "---\n",
    "<a id='diag_h'></a>\n",
    "\n",
    "## Diagnostics"
   ]
  },
  {
   "cell_type": "code",
   "execution_count": null,
   "metadata": {},
   "outputs": [],
   "source": [
    "# Plot the time series against its lag1\n",
    "plt.figure(figsize=(10, 10))\n",
    "lag_plot(df)\n",
    "plt.show();"
   ]
  },
  {
   "cell_type": "code",
   "execution_count": null,
   "metadata": {},
   "outputs": [],
   "source": [
    "# Calculate autocorrelation coefficient\n",
    "df1 = pd.concat([df, df.shift(1)], axis=1)\n",
    "df1.columns = ['t', 't-1']\n",
    "df1.head()"
   ]
  },
  {
   "cell_type": "code",
   "execution_count": null,
   "metadata": {},
   "outputs": [],
   "source": [
    "df1.corr(method='pearson')"
   ]
  },
  {
   "cell_type": "code",
   "execution_count": null,
   "metadata": {},
   "outputs": [],
   "source": [
    "# Plot the autocorrelation plot of the dataset\n",
    "plt.figure(figsize=(20, 10))\n",
    "autocorrelation_plot(df)\n",
    "plt.show();"
   ]
  },
  {
   "cell_type": "code",
   "execution_count": null,
   "metadata": {},
   "outputs": [],
   "source": [
    "# Plot the AutoCorrelation Function, using candle sticks\n",
    "fig, (ax) = plt.subplots(1, 1, figsize=(20, 10))\n",
    "plot_acf(df, ax=ax, lags=90000)\n",
    "plt.show();"
   ]
  },
  {
   "cell_type": "code",
   "execution_count": null,
   "metadata": {},
   "outputs": [],
   "source": [
    "# Plot the AutoCorrelation Function, using candle sticks\n",
    "fig, (ax) = plt.subplots(1, 1, figsize=(20, 10))\n",
    "plot_acf(df, ax=ax, lags=100)\n",
    "plt.show();"
   ]
  },
  {
   "cell_type": "code",
   "execution_count": null,
   "metadata": {},
   "outputs": [],
   "source": [
    "adfuller_test(df)"
   ]
  },
  {
   "cell_type": "markdown",
   "metadata": {},
   "source": [
    "What we can see here is yearly and daily cycles and the most influencing (autocorrelated) hourly lags being closer to the observation point at lag 0. For statistical times eries modelling, we must decompose our"
   ]
  },
  {
   "cell_type": "markdown",
   "metadata": {},
   "source": [
    "---\n",
    "<a id='model_h'></a>\n",
    "\n",
    "## Modelling"
   ]
  },
  {
   "cell_type": "markdown",
   "metadata": {},
   "source": [
    "In statistical time series models, fitting the model means estimating its paraneters. In case of AR model, the only parameter to estimate is number of autocorrelated lags"
   ]
  },
  {
   "cell_type": "code",
   "execution_count": null,
   "metadata": {},
   "outputs": [],
   "source": [
    "%%time\n",
    "# Find best parameters (grid-search)\n",
    "best_results = get_best_arima_params_for_time_series(data=df, \n",
    "                                                     seasonal=False, \n",
    "                                                     max_param_range_p=5, \n",
    "                                                     max_param_range_d=0, \n",
    "                                                     max_param_range_q=0) # AR model"
   ]
  },
  {
   "cell_type": "code",
   "execution_count": null,
   "metadata": {},
   "outputs": [],
   "source": [
    "best_results"
   ]
  },
  {
   "cell_type": "code",
   "execution_count": null,
   "metadata": {},
   "outputs": [],
   "source": [
    "SARIMAX(5, 0, 0) - AIC:687066.8937108214\n",
    "Best model is ARIMA(5, 0, 0) with AIC of 687066.8937108214\n",
    "CPU times: user 20.8 s, sys: 2.4 s, total: 23.2 s\n",
    "Wall time: 8.14 s"
   ]
  },
  {
   "cell_type": "code",
   "execution_count": null,
   "metadata": {},
   "outputs": [],
   "source": [
    "# Estimating model\n",
    "\n",
    "# Fit an AR(5) model\n",
    "model = ARMA(df, order=(5,0))\n",
    "result = model.fit()  # use fit() to estimate model\n",
    "\n",
    "# Estimated parameters\n",
    "print(result.summary())\n",
    "\n",
    "# True parameters\n",
    "print(f'True parameters:\\n{result.params}')"
   ]
  },
  {
   "cell_type": "markdown",
   "metadata": {},
   "source": [
    "**Estimated parameters are close to true parameters. All AR coefficients are statistically significant.**"
   ]
  },
  {
   "cell_type": "code",
   "execution_count": null,
   "metadata": {},
   "outputs": [],
   "source": [
    "df.tail(24)"
   ]
  },
  {
   "cell_type": "code",
   "execution_count": null,
   "metadata": {},
   "outputs": [],
   "source": [
    "# https://www.statsmodels.org/dev/generated/statsmodels.tsa.arima_model.ARMAResults.predict.html#statsmodels.tsa.arima_model.ARMAResults.predict\n",
    "# dynamic = use in-sample predictions\n",
    "pred = result.predict(start='2018-12-31 01:00:00', end='2019-01-01 00:00:00', dynamic=False)\n",
    "pred"
   ]
  },
  {
   "cell_type": "code",
   "execution_count": null,
   "metadata": {},
   "outputs": [],
   "source": [
    "# Forecasting (in sample)\n",
    "# Start the forecast 24 data points before the end of the point series\n",
    "\n",
    "result.plot_predict(start='2018-12-31 01:00:00', end='2019-01-01 00:00:00', dynamic=False)\n",
    "plt.show();"
   ]
  },
  {
   "cell_type": "code",
   "execution_count": null,
   "metadata": {},
   "outputs": [],
   "source": [
    "# Forecasting (out of sample)\n",
    "forecast = result.forecast(24)\n",
    "plt.plot(forecast[0])\n",
    "#plt.ylim(0, 40)\n",
    "plt.show();"
   ]
  },
  {
   "cell_type": "code",
   "execution_count": null,
   "metadata": {},
   "outputs": [],
   "source": [
    "observed = df.iloc[-24:, 0]\n",
    "predicted = pred\n",
    "\n",
    "plot_observed_vs_predicted(observed=observed, \n",
    "                           predicted=predicted, \n",
    "                           num_points=125,\n",
    "                           title=\"AR Forecast\",\n",
    "                           label_observed='Observations', \n",
    "                           label_predicted='Predictions')"
   ]
  },
  {
   "cell_type": "code",
   "execution_count": null,
   "metadata": {},
   "outputs": [],
   "source": [
    "plot_observations_to_predictions_relationship(observed=observed, \n",
    "                                         predicted=predicted, \n",
    "                                         title=\"AR(5)\",\n",
    "                                         label_observed='Observations',\n",
    "                                         label_predicted='Predictions')"
   ]
  },
  {
   "cell_type": "code",
   "execution_count": null,
   "metadata": {},
   "outputs": [],
   "source": [
    "rmse, r = get_model_power(df.iloc[-24:, 0], pred)\n",
    "print(f'Naive forecast RMSE: {rmse:.4f}')\n",
    "print(f'Naive forecast correlation coefficient of the observed-to-predicted values percent change: {r:.4f}')"
   ]
  },
  {
   "cell_type": "markdown",
   "metadata": {},
   "source": [
    "---\n",
    "<a id='data_d'></a>\n",
    "\n",
    "## Load daily data"
   ]
  },
  {
   "cell_type": "code",
   "execution_count": null,
   "metadata": {},
   "outputs": [],
   "source": [
    "data_file = data_path + 'dfpm25_2008-2018_daily.hdf'\n",
    "\n",
    "df = pd.read_hdf(path_or_buf=data_file, key=\"df\")\n",
    "print(f'Dataframe size: {df.shape}')\n",
    "df.head()"
   ]
  },
  {
   "cell_type": "markdown",
   "metadata": {},
   "source": [
    "---\n",
    "<a id='diag_d'></a>\n",
    "\n",
    "## Diagnostics"
   ]
  },
  {
   "cell_type": "code",
   "execution_count": null,
   "metadata": {},
   "outputs": [],
   "source": [
    "# Plot the time series against its lag\n",
    "lag_plot(df)\n",
    "plt.show();"
   ]
  },
  {
   "cell_type": "code",
   "execution_count": null,
   "metadata": {},
   "outputs": [],
   "source": [
    "# Calculate autocorrelation coefficient\n",
    "#values = pd.DataFrame(vacation.values)\n",
    "df1 = pd.concat([df, df.shift(1)], axis=1)\n",
    "df1.columns = ['t', 't-1']\n",
    "#df1.head()\n",
    "df1.corr(method='pearson')"
   ]
  },
  {
   "cell_type": "code",
   "execution_count": null,
   "metadata": {},
   "outputs": [],
   "source": [
    "# Plot the autocorrelation plot of the dataset\n",
    "plt.figure(figsize=(10, 6))\n",
    "autocorrelation_plot(df)\n",
    "plt.show();"
   ]
  },
  {
   "cell_type": "code",
   "execution_count": null,
   "metadata": {},
   "outputs": [],
   "source": [
    "# Plot the AutoCorrelation Function, using candle sticks\n",
    "plt.figure(figsize=(12, 6))\n",
    "fig, (ax) = plt.subplots(1, 1, figsize=(20, 8))\n",
    "plot_acf(df, ax=ax, lags=200)\n",
    "plt.show();"
   ]
  },
  {
   "cell_type": "markdown",
   "metadata": {},
   "source": [
    "---\n",
    "<a id='model_d'></a>\n",
    "\n",
    "## Modelling"
   ]
  },
  {
   "cell_type": "code",
   "execution_count": null,
   "metadata": {},
   "outputs": [],
   "source": [
    "%%time\n",
    "# Find best parameters (grid-search)\n",
    "best_results = get_best_arima_params_for_time_series(data=df, \n",
    "                                                     seasonal=False, \n",
    "                                                     max_param_range_p=5, \n",
    "                                                     max_param_range_d=0, \n",
    "                                                     max_param_range_q=0) # AR model"
   ]
  },
  {
   "cell_type": "code",
   "execution_count": null,
   "metadata": {},
   "outputs": [],
   "source": [
    "best_results"
   ]
  },
  {
   "cell_type": "code",
   "execution_count": null,
   "metadata": {},
   "outputs": [],
   "source": [
    "# Estimating model\n",
    "\n",
    "# Fit an AR(5) model\n",
    "model = ARMA(df, order=(5,0))\n",
    "result = model.fit()  # use fit() to estimate model\n",
    "\n",
    "# Estimated parameters\n",
    "print(result.summary())\n",
    "\n",
    "# True parameters\n",
    "print(f'True parameters:{result.params}')"
   ]
  },
  {
   "cell_type": "markdown",
   "metadata": {},
   "source": [
    "**Estimated parameters are close to true parameters. All AR coefficients but L4 are statistically significant.**"
   ]
  },
  {
   "cell_type": "code",
   "execution_count": null,
   "metadata": {},
   "outputs": [],
   "source": [
    "df.tail(7)"
   ]
  },
  {
   "cell_type": "code",
   "execution_count": null,
   "metadata": {},
   "outputs": [],
   "source": [
    "# https://www.statsmodels.org/dev/generated/statsmodels.tsa.arima_model.ARMAResults.predict.html#statsmodels.tsa.arima_model.ARMAResults.predict\n",
    "# dynamic = use in-sample predictions\n",
    "pred = result.predict(start='2018-12-26', end='2019-01-01', dynamic=False)\n",
    "pred"
   ]
  },
  {
   "cell_type": "code",
   "execution_count": null,
   "metadata": {},
   "outputs": [],
   "source": [
    "# Forecasting (in-sample)\n",
    "# Start the forecast 7 data points before the end of the point series\n",
    "\n",
    "result.plot_predict(start='2018-12-26', end='2019-01-08', dynamic=False)\n",
    "plt.show();"
   ]
  },
  {
   "cell_type": "code",
   "execution_count": null,
   "metadata": {},
   "outputs": [],
   "source": [
    "# Forecasting (out of sample)\n",
    "forecast = result.forecast(7)\n",
    "plt.plot(forecast[0])\n",
    "#plt.ylim(0, 40)\n",
    "plt.show();"
   ]
  },
  {
   "cell_type": "code",
   "execution_count": null,
   "metadata": {},
   "outputs": [],
   "source": [
    "observed = df.iloc[-7:, 0]\n",
    "predicted = pred\n",
    "\n",
    "plot_observed_vs_predicted(observed=observed, \n",
    "                           predicted=predicted, \n",
    "                           num_points=125,\n",
    "                           title=\"AR Forecast\",\n",
    "                           label_observed='Observations', \n",
    "                           label_predicted='Predictions')"
   ]
  },
  {
   "cell_type": "code",
   "execution_count": null,
   "metadata": {},
   "outputs": [],
   "source": [
    "plot_observations_to_predictions_relationship(observed=observed, \n",
    "                                         predicted=predicted, \n",
    "                                         title=\"AR(5)\",\n",
    "                                         label_observed='Observations',\n",
    "                                         label_predicted='Predictions')"
   ]
  },
  {
   "cell_type": "code",
   "execution_count": null,
   "metadata": {},
   "outputs": [],
   "source": [
    "rmse, r = get_model_power(df.iloc[-7:, 0], pred)\n",
    "print(f'Naive forecast RMSE: {rmse:.4f}')\n",
    "print(f'Naive forecast correlation coefficient of the observed-to-predicted values percent change: {r:.4f}')"
   ]
  },
  {
   "cell_type": "code",
   "execution_count": null,
   "metadata": {},
   "outputs": [],
   "source": []
  }
 ],
 "metadata": {
  "kernelspec": {
   "display_name": "Python 3",
   "language": "python",
   "name": "python3"
  },
  "language_info": {
   "codemirror_mode": {
    "name": "ipython",
    "version": 3
   },
   "file_extension": ".py",
   "mimetype": "text/x-python",
   "name": "python",
   "nbconvert_exporter": "python",
   "pygments_lexer": "ipython3",
   "version": "3.7.6"
  }
 },
 "nbformat": 4,
 "nbformat_minor": 4
}
