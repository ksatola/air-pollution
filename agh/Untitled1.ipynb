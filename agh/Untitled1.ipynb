{
 "cells": [
  {
   "cell_type": "code",
   "execution_count": 14,
   "metadata": {},
   "outputs": [],
   "source": [
    "import pandas as pd\n",
    "import numpy as np\n",
    "\n",
    "import pyarrow\n",
    "\n",
    "import matplotlib.pyplot as plt\n",
    "\n",
    "from sklearn.model_selection import train_test_split\n",
    "\n",
    "#!conda install -c conda-forge xgboost\n",
    "import xgboost as xgb\n",
    "\n",
    "%matplotlib inline\n",
    "\n",
    "from sklearn.model_selection import KFold\n",
    "from sklearn.model_selection import cross_val_score\n",
    "from sklearn.model_selection import GridSearchCV\n",
    "\n",
    "from sklearn.linear_model import LinearRegression\n",
    "from sklearn.linear_model import ElasticNet\n",
    "\n",
    "from sklearn.metrics import r2_score\n",
    "\n",
    "from pickle import dump\n",
    "from pickle import load"
   ]
  },
  {
   "cell_type": "code",
   "execution_count": 3,
   "metadata": {},
   "outputs": [
    {
     "name": "stdout",
     "output_type": "stream",
     "text": [
      "Dataframe size: (4012, 17)\n"
     ]
    },
    {
     "data": {
      "text/html": [
       "<div>\n",
       "<style scoped>\n",
       "    .dataframe tbody tr th:only-of-type {\n",
       "        vertical-align: middle;\n",
       "    }\n",
       "\n",
       "    .dataframe tbody tr th {\n",
       "        vertical-align: top;\n",
       "    }\n",
       "\n",
       "    .dataframe thead th {\n",
       "        text-align: right;\n",
       "    }\n",
       "</style>\n",
       "<table border=\"1\" class=\"dataframe\">\n",
       "  <thead>\n",
       "    <tr style=\"text-align: right;\">\n",
       "      <th></th>\n",
       "      <th>t</th>\n",
       "      <th>t-1</th>\n",
       "      <th>t-2</th>\n",
       "      <th>t-3</th>\n",
       "      <th>t-4</th>\n",
       "      <th>t-5</th>\n",
       "      <th>t-6</th>\n",
       "      <th>t-7</th>\n",
       "      <th>year</th>\n",
       "      <th>month</th>\n",
       "      <th>day</th>\n",
       "      <th>hour</th>\n",
       "      <th>dayofyear</th>\n",
       "      <th>weekofyear</th>\n",
       "      <th>dayofweek</th>\n",
       "      <th>quarter</th>\n",
       "      <th>season</th>\n",
       "    </tr>\n",
       "  </thead>\n",
       "  <tbody>\n",
       "    <tr>\n",
       "      <th>0</th>\n",
       "      <td>45.041667</td>\n",
       "      <td>46.083333</td>\n",
       "      <td>36.062500</td>\n",
       "      <td>57.312500</td>\n",
       "      <td>42.979167</td>\n",
       "      <td>46.104167</td>\n",
       "      <td>30.958333</td>\n",
       "      <td>53.586957</td>\n",
       "      <td>2008</td>\n",
       "      <td>1</td>\n",
       "      <td>8</td>\n",
       "      <td>0</td>\n",
       "      <td>8</td>\n",
       "      <td>2</td>\n",
       "      <td>1</td>\n",
       "      <td>1</td>\n",
       "      <td>1</td>\n",
       "    </tr>\n",
       "    <tr>\n",
       "      <th>1</th>\n",
       "      <td>101.375000</td>\n",
       "      <td>45.041667</td>\n",
       "      <td>46.083333</td>\n",
       "      <td>36.062500</td>\n",
       "      <td>57.312500</td>\n",
       "      <td>42.979167</td>\n",
       "      <td>46.104167</td>\n",
       "      <td>30.958333</td>\n",
       "      <td>2008</td>\n",
       "      <td>1</td>\n",
       "      <td>9</td>\n",
       "      <td>0</td>\n",
       "      <td>9</td>\n",
       "      <td>2</td>\n",
       "      <td>2</td>\n",
       "      <td>1</td>\n",
       "      <td>1</td>\n",
       "    </tr>\n",
       "    <tr>\n",
       "      <th>2</th>\n",
       "      <td>110.083333</td>\n",
       "      <td>101.375000</td>\n",
       "      <td>45.041667</td>\n",
       "      <td>46.083333</td>\n",
       "      <td>36.062500</td>\n",
       "      <td>57.312500</td>\n",
       "      <td>42.979167</td>\n",
       "      <td>46.104167</td>\n",
       "      <td>2008</td>\n",
       "      <td>1</td>\n",
       "      <td>10</td>\n",
       "      <td>0</td>\n",
       "      <td>10</td>\n",
       "      <td>2</td>\n",
       "      <td>3</td>\n",
       "      <td>1</td>\n",
       "      <td>1</td>\n",
       "    </tr>\n",
       "    <tr>\n",
       "      <th>3</th>\n",
       "      <td>141.833333</td>\n",
       "      <td>110.083333</td>\n",
       "      <td>101.375000</td>\n",
       "      <td>45.041667</td>\n",
       "      <td>46.083333</td>\n",
       "      <td>36.062500</td>\n",
       "      <td>57.312500</td>\n",
       "      <td>42.979167</td>\n",
       "      <td>2008</td>\n",
       "      <td>1</td>\n",
       "      <td>11</td>\n",
       "      <td>0</td>\n",
       "      <td>11</td>\n",
       "      <td>2</td>\n",
       "      <td>4</td>\n",
       "      <td>1</td>\n",
       "      <td>1</td>\n",
       "    </tr>\n",
       "    <tr>\n",
       "      <th>4</th>\n",
       "      <td>47.625000</td>\n",
       "      <td>141.833333</td>\n",
       "      <td>110.083333</td>\n",
       "      <td>101.375000</td>\n",
       "      <td>45.041667</td>\n",
       "      <td>46.083333</td>\n",
       "      <td>36.062500</td>\n",
       "      <td>57.312500</td>\n",
       "      <td>2008</td>\n",
       "      <td>1</td>\n",
       "      <td>12</td>\n",
       "      <td>0</td>\n",
       "      <td>12</td>\n",
       "      <td>2</td>\n",
       "      <td>5</td>\n",
       "      <td>1</td>\n",
       "      <td>1</td>\n",
       "    </tr>\n",
       "  </tbody>\n",
       "</table>\n",
       "</div>"
      ],
      "text/plain": [
       "            t         t-1         t-2         t-3        t-4        t-5  \\\n",
       "0   45.041667   46.083333   36.062500   57.312500  42.979167  46.104167   \n",
       "1  101.375000   45.041667   46.083333   36.062500  57.312500  42.979167   \n",
       "2  110.083333  101.375000   45.041667   46.083333  36.062500  57.312500   \n",
       "3  141.833333  110.083333  101.375000   45.041667  46.083333  36.062500   \n",
       "4   47.625000  141.833333  110.083333  101.375000  45.041667  46.083333   \n",
       "\n",
       "         t-6        t-7  year  month  day  hour  dayofyear  weekofyear  \\\n",
       "0  30.958333  53.586957  2008      1    8     0          8           2   \n",
       "1  46.104167  30.958333  2008      1    9     0          9           2   \n",
       "2  42.979167  46.104167  2008      1   10     0         10           2   \n",
       "3  57.312500  42.979167  2008      1   11     0         11           2   \n",
       "4  36.062500  57.312500  2008      1   12     0         12           2   \n",
       "\n",
       "   dayofweek  quarter  season  \n",
       "0          1        1       1  \n",
       "1          2        1       1  \n",
       "2          3        1       1  \n",
       "3          4        1       1  \n",
       "4          5        1       1  "
      ]
     },
     "execution_count": 3,
     "metadata": {},
     "output_type": "execute_result"
    }
   ],
   "source": [
    "data_path = '/Users/ksatola/Documents/git/air-polution/agh/data/'\n",
    "data_file = data_path + 'dfpm25_2008-2018_ml_7days_lags.hdf'\n",
    "\n",
    "df = pd.read_hdf(path_or_buf=data_file, key=\"df\")\n",
    "print(f'Dataframe size: {df.shape}')\n",
    "df.head()"
   ]
  },
  {
   "cell_type": "code",
   "execution_count": 4,
   "metadata": {},
   "outputs": [],
   "source": [
    "# Split dataset into independent variables dataset columns and dependent variable column\n",
    "X = df.iloc[:, 1:]\n",
    "y = df.iloc[:, :1]\n",
    "#y.head()"
   ]
  },
  {
   "cell_type": "code",
   "execution_count": 5,
   "metadata": {},
   "outputs": [],
   "source": [
    "# Train test split\n",
    "X_train, X_test, y_train, y_test = train_test_split(X, \n",
    "                                                    y, \n",
    "                                                    test_size = 0.5, \n",
    "                                                    random_state = 123)"
   ]
  },
  {
   "cell_type": "code",
   "execution_count": 19,
   "metadata": {},
   "outputs": [],
   "source": [
    "num_folds = 6\n",
    "seed = 123"
   ]
  },
  {
   "cell_type": "code",
   "execution_count": 8,
   "metadata": {},
   "outputs": [],
   "source": [
    "models = []\n",
    "models.append(('LR', LinearRegression()))\n",
    "models.append(('EN', ElasticNet()))"
   ]
  },
  {
   "cell_type": "code",
   "execution_count": 22,
   "metadata": {},
   "outputs": [],
   "source": [
    "def score_models(models, scoring):\n",
    "    names = []\n",
    "    results = []\n",
    "    output = []\n",
    "    \n",
    "    for name, model in models:\n",
    "        names.append(name)\n",
    "        try:\n",
    "            # Not all scoring metrics are available for all models\n",
    "            \n",
    "            kfold = KFold(n_splits=num_folds, random_state=seed)\n",
    "            cv_results = cross_val_score(model, X_train, y_train, cv=kfold, scoring=scoring)\n",
    "            results.append(cv_results)\n",
    "            output.append('Model {}, mean accuracy {:0.2f}, (std. dev. {:0.2f})'.format(name, cv_results.mean(), cv_results.std()))\n",
    "        except:\n",
    "            output.append('Model {} {} metric unavailable)'.format(name, scoring))\n",
    "        \n",
    "    return output, results, names"
   ]
  },
  {
   "cell_type": "code",
   "execution_count": 25,
   "metadata": {},
   "outputs": [
    {
     "name": "stdout",
     "output_type": "stream",
     "text": [
      "Model LR, mean accuracy 0.52, (std. dev. 0.10)\n",
      "[array([0.63629187, 0.45294277, 0.33198449, 0.60397151, 0.57510284,\n",
      "       0.53279603]), array([0.62203061, 0.43764003, 0.34750155, 0.60964924, 0.57797759,\n",
      "       0.52230395])]\n",
      "Model EN, mean accuracy 0.52, (std. dev. 0.10)\n",
      "[array([0.63629187, 0.45294277, 0.33198449, 0.60397151, 0.57510284,\n",
      "       0.53279603]), array([0.62203061, 0.43764003, 0.34750155, 0.60964924, 0.57797759,\n",
      "       0.52230395])]\n"
     ]
    },
    {
     "name": "stderr",
     "output_type": "stream",
     "text": [
      "/usr/local/lib/python3.7/site-packages/sklearn/model_selection/_split.py:296: FutureWarning: Setting a random_state has no effect since shuffle is False. This will raise an error in 0.24. You should leave random_state to its default (None), or set shuffle=True.\n",
      "  FutureWarning\n",
      "/usr/local/lib/python3.7/site-packages/sklearn/model_selection/_split.py:296: FutureWarning: Setting a random_state has no effect since shuffle is False. This will raise an error in 0.24. You should leave random_state to its default (None), or set shuffle=True.\n",
      "  FutureWarning\n"
     ]
    }
   ],
   "source": [
    "scores, results, names = score_models(models, 'r2')\n",
    "for score in scores:\n",
    "    print(score)\n",
    "    print(results)"
   ]
  },
  {
   "cell_type": "code",
   "execution_count": 24,
   "metadata": {},
   "outputs": [
    {
     "name": "stdout",
     "output_type": "stream",
     "text": [
      "Model LR, mean accuracy 0.53, (std. dev. 0.10)\n",
      "Model EN, mean accuracy 0.53, (std. dev. 0.10)\n"
     ]
    },
    {
     "name": "stderr",
     "output_type": "stream",
     "text": [
      "/usr/local/lib/python3.7/site-packages/sklearn/model_selection/_split.py:296: FutureWarning: Setting a random_state has no effect since shuffle is False. This will raise an error in 0.24. You should leave random_state to its default (None), or set shuffle=True.\n",
      "  FutureWarning\n",
      "/usr/local/lib/python3.7/site-packages/sklearn/model_selection/_split.py:296: FutureWarning: Setting a random_state has no effect since shuffle is False. This will raise an error in 0.24. You should leave random_state to its default (None), or set shuffle=True.\n",
      "  FutureWarning\n"
     ]
    }
   ],
   "source": [
    "scores, results, names = score_models(models, 'explained_variance')\n",
    "for score in scores:\n",
    "    print(score)"
   ]
  },
  {
   "cell_type": "code",
   "execution_count": null,
   "metadata": {},
   "outputs": [],
   "source": []
  }
 ],
 "metadata": {
  "kernelspec": {
   "display_name": "Python 3",
   "language": "python",
   "name": "python3"
  },
  "language_info": {
   "codemirror_mode": {
    "name": "ipython",
    "version": 3
   },
   "file_extension": ".py",
   "mimetype": "text/x-python",
   "name": "python",
   "nbconvert_exporter": "python",
   "pygments_lexer": "ipython3",
   "version": "3.7.6"
  }
 },
 "nbformat": 4,
 "nbformat_minor": 4
}
