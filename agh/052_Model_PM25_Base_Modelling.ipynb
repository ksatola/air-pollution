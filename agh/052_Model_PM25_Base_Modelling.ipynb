{
 "cells": [
  {
   "cell_type": "markdown",
   "metadata": {},
   "source": [
    "```\n",
    "From: https://github.com/ksatola\n",
    "Version: 0.1.0\n",
    "```"
   ]
  },
  {
   "cell_type": "markdown",
   "metadata": {},
   "source": [
    "# Model - PM2.5 - Machine Learning Baseline Reference Models"
   ]
  },
  {
   "cell_type": "markdown",
   "metadata": {},
   "source": [
    "## Contents\n",
    "\n",
    "- [Persistence Baseline Model for Forecasting](#base)\n",
    "- [Load hourly data](#data_h)\n",
    "- [Load daily data](#data_d)\n",
    "- Naive Forecasting\n",
    "    - [Zero Rule Algorithm](#saf)\n",
    "    - [Persistence Model](#per)\n",
    "- Moving Average Forecasts\n",
    "    - [Simple Moving Average](#sma)\n",
    "    - [Exponential Moving Average](#ema)"
   ]
  },
  {
   "cell_type": "code",
   "execution_count": 1,
   "metadata": {},
   "outputs": [],
   "source": [
    "%load_ext autoreload"
   ]
  },
  {
   "cell_type": "code",
   "execution_count": 2,
   "metadata": {},
   "outputs": [],
   "source": [
    "%autoreload 2"
   ]
  },
  {
   "cell_type": "code",
   "execution_count": 3,
   "metadata": {},
   "outputs": [],
   "source": [
    "import sys\n",
    "sys.path.insert(0, '../src')"
   ]
  },
  {
   "cell_type": "code",
   "execution_count": 4,
   "metadata": {},
   "outputs": [],
   "source": [
    "import warnings\n",
    "warnings.filterwarnings('ignore')\n",
    "warnings.simplefilter('ignore')"
   ]
  },
  {
   "cell_type": "code",
   "execution_count": 14,
   "metadata": {},
   "outputs": [],
   "source": [
    "import pandas as pd \n",
    "\n",
    "import matplotlib.pyplot as plt\n",
    "%matplotlib inline"
   ]
  },
  {
   "cell_type": "code",
   "execution_count": 79,
   "metadata": {},
   "outputs": [],
   "source": [
    "from model import (\n",
    "    #get_ensemble_models_for_regression,\n",
    "    #get_analytical_view_for_meta_model,\n",
    "    #fit_base_models,\n",
    "    #fit_meta_model,\n",
    "    #evaluate_models,\n",
    "    #predict_with_super_learner\n",
    "    get_pm25_data_for_modelling,\n",
    "    split_df_for_ts_modelling_percentage,\n",
    "    split_df_for_ts_modelling_date_range\n",
    ")\n",
    "\n",
    "from measure import (\n",
    "    get_rmse\n",
    ")\n",
    "\n",
    "from plot import (\n",
    "    plot_observed_vs_predicted,\n",
    "    plot_train_test_predicted\n",
    ")"
   ]
  },
  {
   "cell_type": "markdown",
   "metadata": {},
   "source": [
    "---\n",
    "<a id='base'></a>\n",
    "\n",
    "## Persistence Baseline Model for Forecasting\n",
    "\n",
    "Establishing a baseline is essential on any time series forecasting problem. A baseline in performance gives you an idea of how well all other models will actually perform on your problem.\n",
    "\n",
    "A baseline in forecast performance provides a point of comparison. It is a point of reference for all other modeling techniques on your problem. If a model achieves performance at or below the baseline, the technique should be fixed or abandoned. \n",
    "\n",
    "The technique used to generate a forecast to calculate the baseline performance must be easy to implement and naive of problem-specific details. Once prepared, you then need to select a naive technique that you can use to make a forecast and calculate the baseline performance. Three properties of a good technique for making a baseline forecast are: \n",
    "\n",
    "- **Simple:** A method that requires little or no training or intelligence.\n",
    "- **Fast:** A method that is fast to implement and computationally trivial to make a prediction.\n",
    "- **Repeatable:** A method that is deterministic, meaning that it produces an expected output given the same input.\n",
    "\n",
    "There can be many naive forecast methods, here we examine two:\n",
    "\n",
    "- **Simple Average Forecast (Zero Rule Algorithm)**\n",
    "- **Persistence Model**\n",
    "\n",
    "## Moving Average Forecasts\n",
    "\n",
    "With the `moving average approach` we take n values previously known, calculate their average and take it as the next value. This new value is then added to the training set and a new average of n lags is calculated to predict the next point (and so on). As a forecasting method, there are situations where this technique works the best.\n",
    "\n",
    "`Moving average smoothing` is a naive and effective technique in time series forecasting. It can be used for data preparation, feature engineering, and even directly for making predictions.\n",
    "\n",
    "Smoothing is a technique applied to time series to remove the fine-grained variation between time steps. The hope of smoothing is to remove noise and better expose the signal of the underlying causal processes. `Moving averages` are a simple and common type of smoothing used in time series analysis and time series forecasting.\n",
    "\n",
    "Moving average is a backbone to many algorithms, and one such algorithm is `Autoregressive Integrated Moving Average Model (ARIMA)`, which uses moving averages to make time series data predictions.\n",
    "\n",
    "There are various types of moving averages:\n",
    "\n",
    "- **Simple Moving Average (SMA):** uses a sliding window to take the average over a set number of time periods. It is an equally weighted mean of the previous n data.\n",
    "- **Cumulative Moving Average (CMA):** Unlike simple moving average which drops the oldest observation as the new one gets added, cumulative moving average considers all prior observations. CMA averages out all of the previous data up until the current data point, which make it very similar to the `Simple Average Forecast` technique.\n",
    "- **Exponential Moving Average (EMA):** gives more weight to the recent observations and as a result of which, it can be a better model or better capture the movement of the trend in a faster way. EMA's reaction is directly proportional to the pattern of the data. Since EMAs give a higher weight on recent data than on older data, they are more responsive to the latest data points value changes as compared to SMAs."
   ]
  },
  {
   "cell_type": "markdown",
   "metadata": {},
   "source": [
    "---\n",
    "<a id='data_h'></a>\n",
    "\n",
    "## Load hourly data"
   ]
  },
  {
   "cell_type": "code",
   "execution_count": 120,
   "metadata": {},
   "outputs": [
    {
     "name": "stderr",
     "output_type": "stream",
     "text": [
      "common.py | 42 | get_pm25_data_for_modelling | 01-Jun-20 17:24:18 | INFO: Dataframe loaded: /Users/ksatola/Documents/git/air-polution/agh/data/dfpm25_2008-2018_hourly.hdf\n",
      "common.py | 43 | get_pm25_data_for_modelling | 01-Jun-20 17:24:18 | INFO: Dataframe size: (96388, 1)\n"
     ]
    },
    {
     "data": {
      "text/html": [
       "<div>\n",
       "<style scoped>\n",
       "    .dataframe tbody tr th:only-of-type {\n",
       "        vertical-align: middle;\n",
       "    }\n",
       "\n",
       "    .dataframe tbody tr th {\n",
       "        vertical-align: top;\n",
       "    }\n",
       "\n",
       "    .dataframe thead th {\n",
       "        text-align: right;\n",
       "    }\n",
       "</style>\n",
       "<table border=\"1\" class=\"dataframe\">\n",
       "  <thead>\n",
       "    <tr style=\"text-align: right;\">\n",
       "      <th></th>\n",
       "      <th>pm25</th>\n",
       "    </tr>\n",
       "    <tr>\n",
       "      <th>Datetime</th>\n",
       "      <th></th>\n",
       "    </tr>\n",
       "  </thead>\n",
       "  <tbody>\n",
       "    <tr>\n",
       "      <th>2008-01-01 01:00:00</th>\n",
       "      <td>92.0</td>\n",
       "    </tr>\n",
       "    <tr>\n",
       "      <th>2008-01-01 02:00:00</th>\n",
       "      <td>81.0</td>\n",
       "    </tr>\n",
       "    <tr>\n",
       "      <th>2008-01-01 03:00:00</th>\n",
       "      <td>73.0</td>\n",
       "    </tr>\n",
       "    <tr>\n",
       "      <th>2008-01-01 04:00:00</th>\n",
       "      <td>60.5</td>\n",
       "    </tr>\n",
       "    <tr>\n",
       "      <th>2008-01-01 05:00:00</th>\n",
       "      <td>61.0</td>\n",
       "    </tr>\n",
       "  </tbody>\n",
       "</table>\n",
       "</div>"
      ],
      "text/plain": [
       "                     pm25\n",
       "Datetime                 \n",
       "2008-01-01 01:00:00  92.0\n",
       "2008-01-01 02:00:00  81.0\n",
       "2008-01-01 03:00:00  73.0\n",
       "2008-01-01 04:00:00  60.5\n",
       "2008-01-01 05:00:00  61.0"
      ]
     },
     "execution_count": 120,
     "metadata": {},
     "output_type": "execute_result"
    }
   ],
   "source": [
    "dfh = get_pm25_data_for_modelling('ts', 'h')\n",
    "dfh.head()"
   ]
  },
  {
   "cell_type": "code",
   "execution_count": 121,
   "metadata": {},
   "outputs": [
    {
     "data": {
      "text/html": [
       "<div>\n",
       "<style scoped>\n",
       "    .dataframe tbody tr th:only-of-type {\n",
       "        vertical-align: middle;\n",
       "    }\n",
       "\n",
       "    .dataframe tbody tr th {\n",
       "        vertical-align: top;\n",
       "    }\n",
       "\n",
       "    .dataframe thead th {\n",
       "        text-align: right;\n",
       "    }\n",
       "</style>\n",
       "<table border=\"1\" class=\"dataframe\">\n",
       "  <thead>\n",
       "    <tr style=\"text-align: right;\">\n",
       "      <th></th>\n",
       "      <th>pm25</th>\n",
       "    </tr>\n",
       "    <tr>\n",
       "      <th>Datetime</th>\n",
       "      <th></th>\n",
       "    </tr>\n",
       "  </thead>\n",
       "  <tbody>\n",
       "    <tr>\n",
       "      <th>2018-12-31 01:00:00</th>\n",
       "      <td>7.23137</td>\n",
       "    </tr>\n",
       "    <tr>\n",
       "      <th>2018-12-31 02:00:00</th>\n",
       "      <td>6.82297</td>\n",
       "    </tr>\n",
       "    <tr>\n",
       "      <th>2018-12-31 03:00:00</th>\n",
       "      <td>6.34370</td>\n",
       "    </tr>\n",
       "    <tr>\n",
       "      <th>2018-12-31 04:00:00</th>\n",
       "      <td>6.05348</td>\n",
       "    </tr>\n",
       "    <tr>\n",
       "      <th>2018-12-31 05:00:00</th>\n",
       "      <td>5.36824</td>\n",
       "    </tr>\n",
       "    <tr>\n",
       "      <th>2018-12-31 06:00:00</th>\n",
       "      <td>5.25741</td>\n",
       "    </tr>\n",
       "    <tr>\n",
       "      <th>2018-12-31 07:00:00</th>\n",
       "      <td>5.23353</td>\n",
       "    </tr>\n",
       "    <tr>\n",
       "      <th>2018-12-31 08:00:00</th>\n",
       "      <td>4.78421</td>\n",
       "    </tr>\n",
       "    <tr>\n",
       "      <th>2018-12-31 09:00:00</th>\n",
       "      <td>5.68586</td>\n",
       "    </tr>\n",
       "    <tr>\n",
       "      <th>2018-12-31 10:00:00</th>\n",
       "      <td>7.02653</td>\n",
       "    </tr>\n",
       "    <tr>\n",
       "      <th>2018-12-31 11:00:00</th>\n",
       "      <td>6.94473</td>\n",
       "    </tr>\n",
       "    <tr>\n",
       "      <th>2018-12-31 12:00:00</th>\n",
       "      <td>9.01751</td>\n",
       "    </tr>\n",
       "    <tr>\n",
       "      <th>2018-12-31 13:00:00</th>\n",
       "      <td>7.00000</td>\n",
       "    </tr>\n",
       "    <tr>\n",
       "      <th>2018-12-31 14:00:00</th>\n",
       "      <td>11.88660</td>\n",
       "    </tr>\n",
       "    <tr>\n",
       "      <th>2018-12-31 15:00:00</th>\n",
       "      <td>9.90000</td>\n",
       "    </tr>\n",
       "    <tr>\n",
       "      <th>2018-12-31 16:00:00</th>\n",
       "      <td>9.70000</td>\n",
       "    </tr>\n",
       "    <tr>\n",
       "      <th>2018-12-31 17:00:00</th>\n",
       "      <td>19.40750</td>\n",
       "    </tr>\n",
       "    <tr>\n",
       "      <th>2018-12-31 18:00:00</th>\n",
       "      <td>18.89650</td>\n",
       "    </tr>\n",
       "    <tr>\n",
       "      <th>2018-12-31 19:00:00</th>\n",
       "      <td>19.31820</td>\n",
       "    </tr>\n",
       "    <tr>\n",
       "      <th>2018-12-31 20:00:00</th>\n",
       "      <td>23.69900</td>\n",
       "    </tr>\n",
       "    <tr>\n",
       "      <th>2018-12-31 21:00:00</th>\n",
       "      <td>32.63080</td>\n",
       "    </tr>\n",
       "    <tr>\n",
       "      <th>2018-12-31 22:00:00</th>\n",
       "      <td>31.08010</td>\n",
       "    </tr>\n",
       "    <tr>\n",
       "      <th>2018-12-31 23:00:00</th>\n",
       "      <td>33.20280</td>\n",
       "    </tr>\n",
       "    <tr>\n",
       "      <th>2019-01-01 00:00:00</th>\n",
       "      <td>36.60740</td>\n",
       "    </tr>\n",
       "  </tbody>\n",
       "</table>\n",
       "</div>"
      ],
      "text/plain": [
       "                         pm25\n",
       "Datetime                     \n",
       "2018-12-31 01:00:00   7.23137\n",
       "2018-12-31 02:00:00   6.82297\n",
       "2018-12-31 03:00:00   6.34370\n",
       "2018-12-31 04:00:00   6.05348\n",
       "2018-12-31 05:00:00   5.36824\n",
       "2018-12-31 06:00:00   5.25741\n",
       "2018-12-31 07:00:00   5.23353\n",
       "2018-12-31 08:00:00   4.78421\n",
       "2018-12-31 09:00:00   5.68586\n",
       "2018-12-31 10:00:00   7.02653\n",
       "2018-12-31 11:00:00   6.94473\n",
       "2018-12-31 12:00:00   9.01751\n",
       "2018-12-31 13:00:00   7.00000\n",
       "2018-12-31 14:00:00  11.88660\n",
       "2018-12-31 15:00:00   9.90000\n",
       "2018-12-31 16:00:00   9.70000\n",
       "2018-12-31 17:00:00  19.40750\n",
       "2018-12-31 18:00:00  18.89650\n",
       "2018-12-31 19:00:00  19.31820\n",
       "2018-12-31 20:00:00  23.69900\n",
       "2018-12-31 21:00:00  32.63080\n",
       "2018-12-31 22:00:00  31.08010\n",
       "2018-12-31 23:00:00  33.20280\n",
       "2019-01-01 00:00:00  36.60740"
      ]
     },
     "execution_count": 121,
     "metadata": {},
     "output_type": "execute_result"
    }
   ],
   "source": [
    "dfh.tail(24)"
   ]
  },
  {
   "cell_type": "code",
   "execution_count": 122,
   "metadata": {},
   "outputs": [],
   "source": [
    "train_range_from_h = '2008-01-01 02:00:00'\n",
    "train_range_to_h = '2018-12-30 23:00:00'\n",
    "test_range_from_h = '2018-12-31 01:00:00'\n",
    "test_range_to_h = None"
   ]
  },
  {
   "cell_type": "markdown",
   "metadata": {},
   "source": [
    "---\n",
    "<a id='data_d'></a>\n",
    "\n",
    "## Load daily data"
   ]
  },
  {
   "cell_type": "code",
   "execution_count": 123,
   "metadata": {},
   "outputs": [
    {
     "name": "stderr",
     "output_type": "stream",
     "text": [
      "common.py | 42 | get_pm25_data_for_modelling | 01-Jun-20 17:24:20 | INFO: Dataframe loaded: /Users/ksatola/Documents/git/air-polution/agh/data/dfpm25_2008-2018_daily.hdf\n",
      "common.py | 43 | get_pm25_data_for_modelling | 01-Jun-20 17:24:20 | INFO: Dataframe size: (4019, 1)\n"
     ]
    },
    {
     "data": {
      "text/html": [
       "<div>\n",
       "<style scoped>\n",
       "    .dataframe tbody tr th:only-of-type {\n",
       "        vertical-align: middle;\n",
       "    }\n",
       "\n",
       "    .dataframe tbody tr th {\n",
       "        vertical-align: top;\n",
       "    }\n",
       "\n",
       "    .dataframe thead th {\n",
       "        text-align: right;\n",
       "    }\n",
       "</style>\n",
       "<table border=\"1\" class=\"dataframe\">\n",
       "  <thead>\n",
       "    <tr style=\"text-align: right;\">\n",
       "      <th></th>\n",
       "      <th>pm25</th>\n",
       "    </tr>\n",
       "    <tr>\n",
       "      <th>Datetime</th>\n",
       "      <th></th>\n",
       "    </tr>\n",
       "  </thead>\n",
       "  <tbody>\n",
       "    <tr>\n",
       "      <th>2008-01-01</th>\n",
       "      <td>53.586957</td>\n",
       "    </tr>\n",
       "    <tr>\n",
       "      <th>2008-01-02</th>\n",
       "      <td>30.958333</td>\n",
       "    </tr>\n",
       "    <tr>\n",
       "      <th>2008-01-03</th>\n",
       "      <td>46.104167</td>\n",
       "    </tr>\n",
       "    <tr>\n",
       "      <th>2008-01-04</th>\n",
       "      <td>42.979167</td>\n",
       "    </tr>\n",
       "    <tr>\n",
       "      <th>2008-01-05</th>\n",
       "      <td>57.312500</td>\n",
       "    </tr>\n",
       "  </tbody>\n",
       "</table>\n",
       "</div>"
      ],
      "text/plain": [
       "                 pm25\n",
       "Datetime             \n",
       "2008-01-01  53.586957\n",
       "2008-01-02  30.958333\n",
       "2008-01-03  46.104167\n",
       "2008-01-04  42.979167\n",
       "2008-01-05  57.312500"
      ]
     },
     "execution_count": 123,
     "metadata": {},
     "output_type": "execute_result"
    }
   ],
   "source": [
    "dfd = get_pm25_data_for_modelling('ts', 'd')\n",
    "dfd.head()"
   ]
  },
  {
   "cell_type": "code",
   "execution_count": 124,
   "metadata": {},
   "outputs": [
    {
     "data": {
      "text/html": [
       "<div>\n",
       "<style scoped>\n",
       "    .dataframe tbody tr th:only-of-type {\n",
       "        vertical-align: middle;\n",
       "    }\n",
       "\n",
       "    .dataframe tbody tr th {\n",
       "        vertical-align: top;\n",
       "    }\n",
       "\n",
       "    .dataframe thead th {\n",
       "        text-align: right;\n",
       "    }\n",
       "</style>\n",
       "<table border=\"1\" class=\"dataframe\">\n",
       "  <thead>\n",
       "    <tr style=\"text-align: right;\">\n",
       "      <th></th>\n",
       "      <th>pm25</th>\n",
       "    </tr>\n",
       "    <tr>\n",
       "      <th>Datetime</th>\n",
       "      <th></th>\n",
       "    </tr>\n",
       "  </thead>\n",
       "  <tbody>\n",
       "    <tr>\n",
       "      <th>2018-12-26</th>\n",
       "      <td>17.102352</td>\n",
       "    </tr>\n",
       "    <tr>\n",
       "      <th>2018-12-27</th>\n",
       "      <td>15.274438</td>\n",
       "    </tr>\n",
       "    <tr>\n",
       "      <th>2018-12-28</th>\n",
       "      <td>18.614863</td>\n",
       "    </tr>\n",
       "    <tr>\n",
       "      <th>2018-12-29</th>\n",
       "      <td>16.241051</td>\n",
       "    </tr>\n",
       "    <tr>\n",
       "      <th>2018-12-30</th>\n",
       "      <td>15.514396</td>\n",
       "    </tr>\n",
       "    <tr>\n",
       "      <th>2018-12-31</th>\n",
       "      <td>12.595460</td>\n",
       "    </tr>\n",
       "    <tr>\n",
       "      <th>2019-01-01</th>\n",
       "      <td>36.607400</td>\n",
       "    </tr>\n",
       "  </tbody>\n",
       "</table>\n",
       "</div>"
      ],
      "text/plain": [
       "                 pm25\n",
       "Datetime             \n",
       "2018-12-26  17.102352\n",
       "2018-12-27  15.274438\n",
       "2018-12-28  18.614863\n",
       "2018-12-29  16.241051\n",
       "2018-12-30  15.514396\n",
       "2018-12-31  12.595460\n",
       "2019-01-01  36.607400"
      ]
     },
     "execution_count": 124,
     "metadata": {},
     "output_type": "execute_result"
    }
   ],
   "source": [
    "dfd.tail(7)"
   ]
  },
  {
   "cell_type": "code",
   "execution_count": 125,
   "metadata": {},
   "outputs": [],
   "source": [
    "train_range_from_d = '2008-01-01'\n",
    "train_range_to_d = '2018-12-25'\n",
    "test_range_from_d = '2018-12-26'\n",
    "test_range_to_d = None"
   ]
  },
  {
   "cell_type": "markdown",
   "metadata": {},
   "source": [
    "---\n",
    "<a id='saf'></a>\n",
    "\n",
    "## Simple Average Forecast (Zero Rule Algorithm)\n",
    "The most common baseline method for supervised machine learning is the `Zero Rule algorithm`. This algorithm predicts the majority class in the case of classification, or the average outcome in the case of regression. \n",
    "\n",
    "<img src=\"images/ts_002_simple_average.png\" style=\"width: 800px;\"/>\n",
    "\n",
    "With the `Simple Average Forecast` approach we take all the values previously known, calculate the average and take it as all the next values.\n",
    "\n",
    "This method is better from the `Persistence Model` (below) as it does not depend on the value of the last train dataset observation, instead it uses calculated once mean of the entire train dataset. Simple average and naive forecasting predict a constant value.\n",
    "\n",
    "For a sesonal data we have here, this approach can be more fair (on average) but because of existing outliers, will be constantly wrong in most cases."
   ]
  },
  {
   "cell_type": "code",
   "execution_count": 126,
   "metadata": {},
   "outputs": [],
   "source": [
    "model_name = 'Simple Average Forecast'"
   ]
  },
  {
   "cell_type": "markdown",
   "metadata": {},
   "source": [
    "### 24-Hour Prediction"
   ]
  },
  {
   "cell_type": "code",
   "execution_count": 127,
   "metadata": {},
   "outputs": [
    {
     "data": {
      "text/html": [
       "<div>\n",
       "<style scoped>\n",
       "    .dataframe tbody tr th:only-of-type {\n",
       "        vertical-align: middle;\n",
       "    }\n",
       "\n",
       "    .dataframe tbody tr th {\n",
       "        vertical-align: top;\n",
       "    }\n",
       "\n",
       "    .dataframe thead th {\n",
       "        text-align: right;\n",
       "    }\n",
       "</style>\n",
       "<table border=\"1\" class=\"dataframe\">\n",
       "  <thead>\n",
       "    <tr style=\"text-align: right;\">\n",
       "      <th></th>\n",
       "      <th>pm25</th>\n",
       "    </tr>\n",
       "    <tr>\n",
       "      <th>Datetime</th>\n",
       "      <th></th>\n",
       "    </tr>\n",
       "  </thead>\n",
       "  <tbody>\n",
       "    <tr>\n",
       "      <th>2008-01-01 01:00:00</th>\n",
       "      <td>92.0</td>\n",
       "    </tr>\n",
       "    <tr>\n",
       "      <th>2008-01-01 02:00:00</th>\n",
       "      <td>81.0</td>\n",
       "    </tr>\n",
       "    <tr>\n",
       "      <th>2008-01-01 03:00:00</th>\n",
       "      <td>73.0</td>\n",
       "    </tr>\n",
       "    <tr>\n",
       "      <th>2008-01-01 04:00:00</th>\n",
       "      <td>60.5</td>\n",
       "    </tr>\n",
       "    <tr>\n",
       "      <th>2008-01-01 05:00:00</th>\n",
       "      <td>61.0</td>\n",
       "    </tr>\n",
       "  </tbody>\n",
       "</table>\n",
       "</div>"
      ],
      "text/plain": [
       "                     pm25\n",
       "Datetime                 \n",
       "2008-01-01 01:00:00  92.0\n",
       "2008-01-01 02:00:00  81.0\n",
       "2008-01-01 03:00:00  73.0\n",
       "2008-01-01 04:00:00  60.5\n",
       "2008-01-01 05:00:00  61.0"
      ]
     },
     "execution_count": 127,
     "metadata": {},
     "output_type": "execute_result"
    }
   ],
   "source": [
    "df = dfh\n",
    "df.head()"
   ]
  },
  {
   "cell_type": "code",
   "execution_count": 128,
   "metadata": {},
   "outputs": [
    {
     "name": "stderr",
     "output_type": "stream",
     "text": [
      "common.py | 127 | split_df_for_ts_modelling_date_range | 01-Jun-20 17:24:27 | INFO: Observations: 96388\n",
      "common.py | 128 | split_df_for_ts_modelling_date_range | 01-Jun-20 17:24:27 | INFO: Training Observations: 96362\n",
      "common.py | 129 | split_df_for_ts_modelling_date_range | 01-Jun-20 17:24:27 | INFO: Testing Observations: 24\n",
      "common.py | 131 | split_df_for_ts_modelling_date_range | 01-Jun-20 17:24:27 | INFO: (96388, 1), (96362, 1), (24, 1), 96386\n"
     ]
    }
   ],
   "source": [
    "df_train, df_test = split_df_for_ts_modelling_date_range(df,\n",
    "                                         train_range_from=train_range_from_h,\n",
    "                                         train_range_to=train_range_to_h,\n",
    "                                         test_range_from=test_range_from_h,\n",
    "                                         test_range_to=test_range_to_h)"
   ]
  },
  {
   "cell_type": "code",
   "execution_count": 129,
   "metadata": {},
   "outputs": [
    {
     "data": {
      "text/plain": [
       "pm25    37.201709\n",
       "dtype: float64"
      ]
     },
     "execution_count": 129,
     "metadata": {},
     "output_type": "execute_result"
    }
   ],
   "source": [
    "# Fit the model: Take an average of entire known dataset\n",
    "model_fitted = df_train.mean()\n",
    "model_fitted"
   ]
  },
  {
   "cell_type": "code",
   "execution_count": 130,
   "metadata": {},
   "outputs": [
    {
     "data": {
      "text/html": [
       "<div>\n",
       "<style scoped>\n",
       "    .dataframe tbody tr th:only-of-type {\n",
       "        vertical-align: middle;\n",
       "    }\n",
       "\n",
       "    .dataframe tbody tr th {\n",
       "        vertical-align: top;\n",
       "    }\n",
       "\n",
       "    .dataframe thead th {\n",
       "        text-align: right;\n",
       "    }\n",
       "</style>\n",
       "<table border=\"1\" class=\"dataframe\">\n",
       "  <thead>\n",
       "    <tr style=\"text-align: right;\">\n",
       "      <th></th>\n",
       "      <th>pm25</th>\n",
       "      <th>pred</th>\n",
       "    </tr>\n",
       "    <tr>\n",
       "      <th>Datetime</th>\n",
       "      <th></th>\n",
       "      <th></th>\n",
       "    </tr>\n",
       "  </thead>\n",
       "  <tbody>\n",
       "    <tr>\n",
       "      <th>2018-12-31 01:00:00</th>\n",
       "      <td>7.23137</td>\n",
       "      <td>37.201709</td>\n",
       "    </tr>\n",
       "    <tr>\n",
       "      <th>2018-12-31 02:00:00</th>\n",
       "      <td>6.82297</td>\n",
       "      <td>37.201709</td>\n",
       "    </tr>\n",
       "    <tr>\n",
       "      <th>2018-12-31 03:00:00</th>\n",
       "      <td>6.34370</td>\n",
       "      <td>37.201709</td>\n",
       "    </tr>\n",
       "    <tr>\n",
       "      <th>2018-12-31 04:00:00</th>\n",
       "      <td>6.05348</td>\n",
       "      <td>37.201709</td>\n",
       "    </tr>\n",
       "    <tr>\n",
       "      <th>2018-12-31 05:00:00</th>\n",
       "      <td>5.36824</td>\n",
       "      <td>37.201709</td>\n",
       "    </tr>\n",
       "    <tr>\n",
       "      <th>2018-12-31 06:00:00</th>\n",
       "      <td>5.25741</td>\n",
       "      <td>37.201709</td>\n",
       "    </tr>\n",
       "    <tr>\n",
       "      <th>2018-12-31 07:00:00</th>\n",
       "      <td>5.23353</td>\n",
       "      <td>37.201709</td>\n",
       "    </tr>\n",
       "    <tr>\n",
       "      <th>2018-12-31 08:00:00</th>\n",
       "      <td>4.78421</td>\n",
       "      <td>37.201709</td>\n",
       "    </tr>\n",
       "    <tr>\n",
       "      <th>2018-12-31 09:00:00</th>\n",
       "      <td>5.68586</td>\n",
       "      <td>37.201709</td>\n",
       "    </tr>\n",
       "    <tr>\n",
       "      <th>2018-12-31 10:00:00</th>\n",
       "      <td>7.02653</td>\n",
       "      <td>37.201709</td>\n",
       "    </tr>\n",
       "    <tr>\n",
       "      <th>2018-12-31 11:00:00</th>\n",
       "      <td>6.94473</td>\n",
       "      <td>37.201709</td>\n",
       "    </tr>\n",
       "    <tr>\n",
       "      <th>2018-12-31 12:00:00</th>\n",
       "      <td>9.01751</td>\n",
       "      <td>37.201709</td>\n",
       "    </tr>\n",
       "    <tr>\n",
       "      <th>2018-12-31 13:00:00</th>\n",
       "      <td>7.00000</td>\n",
       "      <td>37.201709</td>\n",
       "    </tr>\n",
       "    <tr>\n",
       "      <th>2018-12-31 14:00:00</th>\n",
       "      <td>11.88660</td>\n",
       "      <td>37.201709</td>\n",
       "    </tr>\n",
       "    <tr>\n",
       "      <th>2018-12-31 15:00:00</th>\n",
       "      <td>9.90000</td>\n",
       "      <td>37.201709</td>\n",
       "    </tr>\n",
       "    <tr>\n",
       "      <th>2018-12-31 16:00:00</th>\n",
       "      <td>9.70000</td>\n",
       "      <td>37.201709</td>\n",
       "    </tr>\n",
       "    <tr>\n",
       "      <th>2018-12-31 17:00:00</th>\n",
       "      <td>19.40750</td>\n",
       "      <td>37.201709</td>\n",
       "    </tr>\n",
       "    <tr>\n",
       "      <th>2018-12-31 18:00:00</th>\n",
       "      <td>18.89650</td>\n",
       "      <td>37.201709</td>\n",
       "    </tr>\n",
       "    <tr>\n",
       "      <th>2018-12-31 19:00:00</th>\n",
       "      <td>19.31820</td>\n",
       "      <td>37.201709</td>\n",
       "    </tr>\n",
       "    <tr>\n",
       "      <th>2018-12-31 20:00:00</th>\n",
       "      <td>23.69900</td>\n",
       "      <td>37.201709</td>\n",
       "    </tr>\n",
       "    <tr>\n",
       "      <th>2018-12-31 21:00:00</th>\n",
       "      <td>32.63080</td>\n",
       "      <td>37.201709</td>\n",
       "    </tr>\n",
       "    <tr>\n",
       "      <th>2018-12-31 22:00:00</th>\n",
       "      <td>31.08010</td>\n",
       "      <td>37.201709</td>\n",
       "    </tr>\n",
       "    <tr>\n",
       "      <th>2018-12-31 23:00:00</th>\n",
       "      <td>33.20280</td>\n",
       "      <td>37.201709</td>\n",
       "    </tr>\n",
       "    <tr>\n",
       "      <th>2019-01-01 00:00:00</th>\n",
       "      <td>36.60740</td>\n",
       "      <td>37.201709</td>\n",
       "    </tr>\n",
       "  </tbody>\n",
       "</table>\n",
       "</div>"
      ],
      "text/plain": [
       "                         pm25       pred\n",
       "Datetime                                \n",
       "2018-12-31 01:00:00   7.23137  37.201709\n",
       "2018-12-31 02:00:00   6.82297  37.201709\n",
       "2018-12-31 03:00:00   6.34370  37.201709\n",
       "2018-12-31 04:00:00   6.05348  37.201709\n",
       "2018-12-31 05:00:00   5.36824  37.201709\n",
       "2018-12-31 06:00:00   5.25741  37.201709\n",
       "2018-12-31 07:00:00   5.23353  37.201709\n",
       "2018-12-31 08:00:00   4.78421  37.201709\n",
       "2018-12-31 09:00:00   5.68586  37.201709\n",
       "2018-12-31 10:00:00   7.02653  37.201709\n",
       "2018-12-31 11:00:00   6.94473  37.201709\n",
       "2018-12-31 12:00:00   9.01751  37.201709\n",
       "2018-12-31 13:00:00   7.00000  37.201709\n",
       "2018-12-31 14:00:00  11.88660  37.201709\n",
       "2018-12-31 15:00:00   9.90000  37.201709\n",
       "2018-12-31 16:00:00   9.70000  37.201709\n",
       "2018-12-31 17:00:00  19.40750  37.201709\n",
       "2018-12-31 18:00:00  18.89650  37.201709\n",
       "2018-12-31 19:00:00  19.31820  37.201709\n",
       "2018-12-31 20:00:00  23.69900  37.201709\n",
       "2018-12-31 21:00:00  32.63080  37.201709\n",
       "2018-12-31 22:00:00  31.08010  37.201709\n",
       "2018-12-31 23:00:00  33.20280  37.201709\n",
       "2019-01-01 00:00:00  36.60740  37.201709"
      ]
     },
     "execution_count": 130,
     "metadata": {},
     "output_type": "execute_result"
    }
   ],
   "source": [
    "# Predict\n",
    "predicted = df_test.copy()\n",
    "predicted['pred'] = model_fitted.values[0]\n",
    "predicted"
   ]
  },
  {
   "cell_type": "code",
   "execution_count": 131,
   "metadata": {},
   "outputs": [
    {
     "data": {
      "image/png": "[encoded data removed]",
      "text/plain": [
       "<Figure size 1440x720 with 1 Axes>"
      ]
     },
     "metadata": {
      "needs_background": "light"
     },
     "output_type": "display_data"
    }
   ],
   "source": [
    "plot_observed_vs_predicted(observed=df_test['pm25'], \n",
    "                           predicted=predicted['pred'], \n",
    "                           num_points=50, \n",
    "                           title=model_name,\n",
    "                           label_observed='PM2.5 observed', \n",
    "                           label_predicted='PM2.5 predicted')"
   ]
  },
  {
   "cell_type": "code",
   "execution_count": 132,
   "metadata": {},
   "outputs": [
    {
     "name": "stdout",
     "output_type": "stream",
     "text": [
      "Simple Average Forecast RMSE 25.615\n"
     ]
    }
   ],
   "source": [
    "rmse = get_rmse(observed=df_test['pm25'], predicted=predicted['pred'])\n",
    "print(f'{model_name} RMSE {rmse}')"
   ]
  },
  {
   "cell_type": "markdown",
   "metadata": {},
   "source": [
    "### 7-Day Prediction"
   ]
  },
  {
   "cell_type": "code",
   "execution_count": 133,
   "metadata": {},
   "outputs": [
    {
     "data": {
      "text/html": [
       "<div>\n",
       "<style scoped>\n",
       "    .dataframe tbody tr th:only-of-type {\n",
       "        vertical-align: middle;\n",
       "    }\n",
       "\n",
       "    .dataframe tbody tr th {\n",
       "        vertical-align: top;\n",
       "    }\n",
       "\n",
       "    .dataframe thead th {\n",
       "        text-align: right;\n",
       "    }\n",
       "</style>\n",
       "<table border=\"1\" class=\"dataframe\">\n",
       "  <thead>\n",
       "    <tr style=\"text-align: right;\">\n",
       "      <th></th>\n",
       "      <th>pm25</th>\n",
       "    </tr>\n",
       "    <tr>\n",
       "      <th>Datetime</th>\n",
       "      <th></th>\n",
       "    </tr>\n",
       "  </thead>\n",
       "  <tbody>\n",
       "    <tr>\n",
       "      <th>2008-01-01</th>\n",
       "      <td>53.586957</td>\n",
       "    </tr>\n",
       "    <tr>\n",
       "      <th>2008-01-02</th>\n",
       "      <td>30.958333</td>\n",
       "    </tr>\n",
       "    <tr>\n",
       "      <th>2008-01-03</th>\n",
       "      <td>46.104167</td>\n",
       "    </tr>\n",
       "    <tr>\n",
       "      <th>2008-01-04</th>\n",
       "      <td>42.979167</td>\n",
       "    </tr>\n",
       "    <tr>\n",
       "      <th>2008-01-05</th>\n",
       "      <td>57.312500</td>\n",
       "    </tr>\n",
       "  </tbody>\n",
       "</table>\n",
       "</div>"
      ],
      "text/plain": [
       "                 pm25\n",
       "Datetime             \n",
       "2008-01-01  53.586957\n",
       "2008-01-02  30.958333\n",
       "2008-01-03  46.104167\n",
       "2008-01-04  42.979167\n",
       "2008-01-05  57.312500"
      ]
     },
     "execution_count": 133,
     "metadata": {},
     "output_type": "execute_result"
    }
   ],
   "source": [
    "df = dfd\n",
    "df.head()"
   ]
  },
  {
   "cell_type": "code",
   "execution_count": 134,
   "metadata": {},
   "outputs": [
    {
     "name": "stderr",
     "output_type": "stream",
     "text": [
      "common.py | 127 | split_df_for_ts_modelling_date_range | 01-Jun-20 17:24:40 | INFO: Observations: 4019\n",
      "common.py | 128 | split_df_for_ts_modelling_date_range | 01-Jun-20 17:24:40 | INFO: Training Observations: 4012\n",
      "common.py | 129 | split_df_for_ts_modelling_date_range | 01-Jun-20 17:24:40 | INFO: Testing Observations: 7\n",
      "common.py | 131 | split_df_for_ts_modelling_date_range | 01-Jun-20 17:24:40 | INFO: (4019, 1), (4012, 1), (7, 1), 4019\n"
     ]
    }
   ],
   "source": [
    "df_train, df_test = split_df_for_ts_modelling_date_range(df,\n",
    "                                         train_range_from=train_range_from_d,\n",
    "                                         train_range_to=train_range_to_d,\n",
    "                                         test_range_from=test_range_from_d,\n",
    "                                         test_range_to=test_range_to_d)"
   ]
  },
  {
   "cell_type": "code",
   "execution_count": 135,
   "metadata": {},
   "outputs": [
    {
     "data": {
      "text/plain": [
       "pm25    37.228923\n",
       "dtype: float64"
      ]
     },
     "execution_count": 135,
     "metadata": {},
     "output_type": "execute_result"
    }
   ],
   "source": [
    "# Fit the model: Take an average of entire known dataset\n",
    "model_fitted = df_train.mean()\n",
    "model_fitted"
   ]
  },
  {
   "cell_type": "code",
   "execution_count": 136,
   "metadata": {},
   "outputs": [
    {
     "data": {
      "text/html": [
       "<div>\n",
       "<style scoped>\n",
       "    .dataframe tbody tr th:only-of-type {\n",
       "        vertical-align: middle;\n",
       "    }\n",
       "\n",
       "    .dataframe tbody tr th {\n",
       "        vertical-align: top;\n",
       "    }\n",
       "\n",
       "    .dataframe thead th {\n",
       "        text-align: right;\n",
       "    }\n",
       "</style>\n",
       "<table border=\"1\" class=\"dataframe\">\n",
       "  <thead>\n",
       "    <tr style=\"text-align: right;\">\n",
       "      <th></th>\n",
       "      <th>pm25</th>\n",
       "      <th>pred</th>\n",
       "    </tr>\n",
       "    <tr>\n",
       "      <th>Datetime</th>\n",
       "      <th></th>\n",
       "      <th></th>\n",
       "    </tr>\n",
       "  </thead>\n",
       "  <tbody>\n",
       "    <tr>\n",
       "      <th>2018-12-26</th>\n",
       "      <td>17.102352</td>\n",
       "      <td>37.228923</td>\n",
       "    </tr>\n",
       "    <tr>\n",
       "      <th>2018-12-27</th>\n",
       "      <td>15.274438</td>\n",
       "      <td>37.228923</td>\n",
       "    </tr>\n",
       "    <tr>\n",
       "      <th>2018-12-28</th>\n",
       "      <td>18.614863</td>\n",
       "      <td>37.228923</td>\n",
       "    </tr>\n",
       "    <tr>\n",
       "      <th>2018-12-29</th>\n",
       "      <td>16.241051</td>\n",
       "      <td>37.228923</td>\n",
       "    </tr>\n",
       "    <tr>\n",
       "      <th>2018-12-30</th>\n",
       "      <td>15.514396</td>\n",
       "      <td>37.228923</td>\n",
       "    </tr>\n",
       "    <tr>\n",
       "      <th>2018-12-31</th>\n",
       "      <td>12.595460</td>\n",
       "      <td>37.228923</td>\n",
       "    </tr>\n",
       "    <tr>\n",
       "      <th>2019-01-01</th>\n",
       "      <td>36.607400</td>\n",
       "      <td>37.228923</td>\n",
       "    </tr>\n",
       "  </tbody>\n",
       "</table>\n",
       "</div>"
      ],
      "text/plain": [
       "                 pm25       pred\n",
       "Datetime                        \n",
       "2018-12-26  17.102352  37.228923\n",
       "2018-12-27  15.274438  37.228923\n",
       "2018-12-28  18.614863  37.228923\n",
       "2018-12-29  16.241051  37.228923\n",
       "2018-12-30  15.514396  37.228923\n",
       "2018-12-31  12.595460  37.228923\n",
       "2019-01-01  36.607400  37.228923"
      ]
     },
     "execution_count": 136,
     "metadata": {},
     "output_type": "execute_result"
    }
   ],
   "source": [
    "# Predict\n",
    "predicted = df_test.copy()\n",
    "predicted['pred'] = model_fitted.values[0]\n",
    "predicted"
   ]
  },
  {
   "cell_type": "code",
   "execution_count": 137,
   "metadata": {},
   "outputs": [
    {
     "data": {
      "image/png": "[encoded data removed]",
      "text/plain": [
       "<Figure size 1440x720 with 1 Axes>"
      ]
     },
     "metadata": {
      "needs_background": "light"
     },
     "output_type": "display_data"
    }
   ],
   "source": [
    "plot_observed_vs_predicted(observed=df_test['pm25'], \n",
    "                           predicted=predicted['pred'], \n",
    "                           num_points=50, \n",
    "                           title=model_name,\n",
    "                           label_observed='PM2.5 observed', \n",
    "                           label_predicted='PM2.5 predicted')"
   ]
  },
  {
   "cell_type": "code",
   "execution_count": 138,
   "metadata": {},
   "outputs": [
    {
     "name": "stdout",
     "output_type": "stream",
     "text": [
      "Simple Average Forecast RMSE 19.8306\n"
     ]
    }
   ],
   "source": [
    "rmse = get_rmse(observed=df_test['pm25'], predicted=predicted['pred'])\n",
    "print(f'{model_name} RMSE {rmse}')"
   ]
  },
  {
   "cell_type": "markdown",
   "metadata": {},
   "source": [
    "---\n",
    "<a id='per'></a>\n",
    "\n",
    "## Persistence Model\n",
    "The `Zero Rule algorithm` could be used for time series, but does not respect the serial correlation structure in time series datasets. The equivalent technique for use with time series dataset is the `Persistence Algorithm`.\n",
    "\n",
    "This naive forecasting technique (creating the `Persistence Model`) assumes that the next expected point is equal to the last observed point. Baseline forecasts with the persistence model quickly flesh out whether you can do significantly better. If you can’t, you’re probably working with a random walk.\n",
    "\n",
    "<img src=\"images/ts_001_naive.png\" style=\"width: 800px;\"/>\n",
    "\n",
    "The `Persistence Algorithm` uses the value at the current time step (t) to predict the expected outcome at the next time step (t+1). This satisfies the three above conditions for a baseline forecast.\n",
    "\n",
    "The Persistence Algorithm is naive. It is often called the `Naive Forecast`. It assumes nothing about the specifics of the time series problem to which it is applied. This is what makes it so easy to understand and so quick to implement and evaluate.\n",
    "\n",
    "The actual prediction and other performance measures depend on the last train data point value, and will be different for different dataset resamples and train-test split ratio. The naive method isn’t suited for datasets with high variability."
   ]
  },
  {
   "cell_type": "code",
   "execution_count": 140,
   "metadata": {},
   "outputs": [],
   "source": [
    "model_name = 'Persistence Model'"
   ]
  },
  {
   "cell_type": "markdown",
   "metadata": {},
   "source": [
    "### 24-Hour Prediction"
   ]
  },
  {
   "cell_type": "code",
   "execution_count": 141,
   "metadata": {},
   "outputs": [
    {
     "data": {
      "text/html": [
       "<div>\n",
       "<style scoped>\n",
       "    .dataframe tbody tr th:only-of-type {\n",
       "        vertical-align: middle;\n",
       "    }\n",
       "\n",
       "    .dataframe tbody tr th {\n",
       "        vertical-align: top;\n",
       "    }\n",
       "\n",
       "    .dataframe thead th {\n",
       "        text-align: right;\n",
       "    }\n",
       "</style>\n",
       "<table border=\"1\" class=\"dataframe\">\n",
       "  <thead>\n",
       "    <tr style=\"text-align: right;\">\n",
       "      <th></th>\n",
       "      <th>pm25</th>\n",
       "    </tr>\n",
       "    <tr>\n",
       "      <th>Datetime</th>\n",
       "      <th></th>\n",
       "    </tr>\n",
       "  </thead>\n",
       "  <tbody>\n",
       "    <tr>\n",
       "      <th>2008-01-01 01:00:00</th>\n",
       "      <td>92.0</td>\n",
       "    </tr>\n",
       "    <tr>\n",
       "      <th>2008-01-01 02:00:00</th>\n",
       "      <td>81.0</td>\n",
       "    </tr>\n",
       "    <tr>\n",
       "      <th>2008-01-01 03:00:00</th>\n",
       "      <td>73.0</td>\n",
       "    </tr>\n",
       "    <tr>\n",
       "      <th>2008-01-01 04:00:00</th>\n",
       "      <td>60.5</td>\n",
       "    </tr>\n",
       "    <tr>\n",
       "      <th>2008-01-01 05:00:00</th>\n",
       "      <td>61.0</td>\n",
       "    </tr>\n",
       "  </tbody>\n",
       "</table>\n",
       "</div>"
      ],
      "text/plain": [
       "                     pm25\n",
       "Datetime                 \n",
       "2008-01-01 01:00:00  92.0\n",
       "2008-01-01 02:00:00  81.0\n",
       "2008-01-01 03:00:00  73.0\n",
       "2008-01-01 04:00:00  60.5\n",
       "2008-01-01 05:00:00  61.0"
      ]
     },
     "execution_count": 141,
     "metadata": {},
     "output_type": "execute_result"
    }
   ],
   "source": [
    "df = dfh\n",
    "df.head()"
   ]
  },
  {
   "cell_type": "code",
   "execution_count": 142,
   "metadata": {},
   "outputs": [
    {
     "name": "stderr",
     "output_type": "stream",
     "text": [
      "common.py | 127 | split_df_for_ts_modelling_date_range | 01-Jun-20 17:33:52 | INFO: Observations: 96388\n",
      "common.py | 128 | split_df_for_ts_modelling_date_range | 01-Jun-20 17:33:52 | INFO: Training Observations: 96362\n",
      "common.py | 129 | split_df_for_ts_modelling_date_range | 01-Jun-20 17:33:52 | INFO: Testing Observations: 24\n",
      "common.py | 131 | split_df_for_ts_modelling_date_range | 01-Jun-20 17:33:52 | INFO: (96388, 1), (96362, 1), (24, 1), 96386\n"
     ]
    }
   ],
   "source": [
    "df_train, df_test = split_df_for_ts_modelling_date_range(df,\n",
    "                                         train_range_from=train_range_from_h,\n",
    "                                         train_range_to=train_range_to_h,\n",
    "                                         test_range_from=test_range_from_h,\n",
    "                                         test_range_to=test_range_to_h)"
   ]
  },
  {
   "cell_type": "code",
   "execution_count": 143,
   "metadata": {},
   "outputs": [
    {
     "data": {
      "text/html": [
       "<div>\n",
       "<style scoped>\n",
       "    .dataframe tbody tr th:only-of-type {\n",
       "        vertical-align: middle;\n",
       "    }\n",
       "\n",
       "    .dataframe tbody tr th {\n",
       "        vertical-align: top;\n",
       "    }\n",
       "\n",
       "    .dataframe thead th {\n",
       "        text-align: right;\n",
       "    }\n",
       "</style>\n",
       "<table border=\"1\" class=\"dataframe\">\n",
       "  <thead>\n",
       "    <tr style=\"text-align: right;\">\n",
       "      <th></th>\n",
       "      <th>pm25</th>\n",
       "    </tr>\n",
       "    <tr>\n",
       "      <th>Datetime</th>\n",
       "      <th></th>\n",
       "    </tr>\n",
       "  </thead>\n",
       "  <tbody>\n",
       "    <tr>\n",
       "      <th>2018-12-30 23:00:00</th>\n",
       "      <td>10.669</td>\n",
       "    </tr>\n",
       "  </tbody>\n",
       "</table>\n",
       "</div>"
      ],
      "text/plain": [
       "                       pm25\n",
       "Datetime                   \n",
       "2018-12-30 23:00:00  10.669"
      ]
     },
     "execution_count": 143,
     "metadata": {},
     "output_type": "execute_result"
    }
   ],
   "source": [
    "# Fit the model: Get last known observation from df_train\n",
    "model_fitted = df_train[-1:]\n",
    "model_fitted"
   ]
  },
  {
   "cell_type": "code",
   "execution_count": 144,
   "metadata": {},
   "outputs": [
    {
     "data": {
      "text/html": [
       "<div>\n",
       "<style scoped>\n",
       "    .dataframe tbody tr th:only-of-type {\n",
       "        vertical-align: middle;\n",
       "    }\n",
       "\n",
       "    .dataframe tbody tr th {\n",
       "        vertical-align: top;\n",
       "    }\n",
       "\n",
       "    .dataframe thead th {\n",
       "        text-align: right;\n",
       "    }\n",
       "</style>\n",
       "<table border=\"1\" class=\"dataframe\">\n",
       "  <thead>\n",
       "    <tr style=\"text-align: right;\">\n",
       "      <th></th>\n",
       "      <th>pm25</th>\n",
       "      <th>pred</th>\n",
       "    </tr>\n",
       "    <tr>\n",
       "      <th>Datetime</th>\n",
       "      <th></th>\n",
       "      <th></th>\n",
       "    </tr>\n",
       "  </thead>\n",
       "  <tbody>\n",
       "    <tr>\n",
       "      <th>2018-12-31 01:00:00</th>\n",
       "      <td>7.23137</td>\n",
       "      <td>10.669</td>\n",
       "    </tr>\n",
       "    <tr>\n",
       "      <th>2018-12-31 02:00:00</th>\n",
       "      <td>6.82297</td>\n",
       "      <td>10.669</td>\n",
       "    </tr>\n",
       "    <tr>\n",
       "      <th>2018-12-31 03:00:00</th>\n",
       "      <td>6.34370</td>\n",
       "      <td>10.669</td>\n",
       "    </tr>\n",
       "    <tr>\n",
       "      <th>2018-12-31 04:00:00</th>\n",
       "      <td>6.05348</td>\n",
       "      <td>10.669</td>\n",
       "    </tr>\n",
       "    <tr>\n",
       "      <th>2018-12-31 05:00:00</th>\n",
       "      <td>5.36824</td>\n",
       "      <td>10.669</td>\n",
       "    </tr>\n",
       "    <tr>\n",
       "      <th>2018-12-31 06:00:00</th>\n",
       "      <td>5.25741</td>\n",
       "      <td>10.669</td>\n",
       "    </tr>\n",
       "    <tr>\n",
       "      <th>2018-12-31 07:00:00</th>\n",
       "      <td>5.23353</td>\n",
       "      <td>10.669</td>\n",
       "    </tr>\n",
       "    <tr>\n",
       "      <th>2018-12-31 08:00:00</th>\n",
       "      <td>4.78421</td>\n",
       "      <td>10.669</td>\n",
       "    </tr>\n",
       "    <tr>\n",
       "      <th>2018-12-31 09:00:00</th>\n",
       "      <td>5.68586</td>\n",
       "      <td>10.669</td>\n",
       "    </tr>\n",
       "    <tr>\n",
       "      <th>2018-12-31 10:00:00</th>\n",
       "      <td>7.02653</td>\n",
       "      <td>10.669</td>\n",
       "    </tr>\n",
       "    <tr>\n",
       "      <th>2018-12-31 11:00:00</th>\n",
       "      <td>6.94473</td>\n",
       "      <td>10.669</td>\n",
       "    </tr>\n",
       "    <tr>\n",
       "      <th>2018-12-31 12:00:00</th>\n",
       "      <td>9.01751</td>\n",
       "      <td>10.669</td>\n",
       "    </tr>\n",
       "    <tr>\n",
       "      <th>2018-12-31 13:00:00</th>\n",
       "      <td>7.00000</td>\n",
       "      <td>10.669</td>\n",
       "    </tr>\n",
       "    <tr>\n",
       "      <th>2018-12-31 14:00:00</th>\n",
       "      <td>11.88660</td>\n",
       "      <td>10.669</td>\n",
       "    </tr>\n",
       "    <tr>\n",
       "      <th>2018-12-31 15:00:00</th>\n",
       "      <td>9.90000</td>\n",
       "      <td>10.669</td>\n",
       "    </tr>\n",
       "    <tr>\n",
       "      <th>2018-12-31 16:00:00</th>\n",
       "      <td>9.70000</td>\n",
       "      <td>10.669</td>\n",
       "    </tr>\n",
       "    <tr>\n",
       "      <th>2018-12-31 17:00:00</th>\n",
       "      <td>19.40750</td>\n",
       "      <td>10.669</td>\n",
       "    </tr>\n",
       "    <tr>\n",
       "      <th>2018-12-31 18:00:00</th>\n",
       "      <td>18.89650</td>\n",
       "      <td>10.669</td>\n",
       "    </tr>\n",
       "    <tr>\n",
       "      <th>2018-12-31 19:00:00</th>\n",
       "      <td>19.31820</td>\n",
       "      <td>10.669</td>\n",
       "    </tr>\n",
       "    <tr>\n",
       "      <th>2018-12-31 20:00:00</th>\n",
       "      <td>23.69900</td>\n",
       "      <td>10.669</td>\n",
       "    </tr>\n",
       "    <tr>\n",
       "      <th>2018-12-31 21:00:00</th>\n",
       "      <td>32.63080</td>\n",
       "      <td>10.669</td>\n",
       "    </tr>\n",
       "    <tr>\n",
       "      <th>2018-12-31 22:00:00</th>\n",
       "      <td>31.08010</td>\n",
       "      <td>10.669</td>\n",
       "    </tr>\n",
       "    <tr>\n",
       "      <th>2018-12-31 23:00:00</th>\n",
       "      <td>33.20280</td>\n",
       "      <td>10.669</td>\n",
       "    </tr>\n",
       "    <tr>\n",
       "      <th>2019-01-01 00:00:00</th>\n",
       "      <td>36.60740</td>\n",
       "      <td>10.669</td>\n",
       "    </tr>\n",
       "  </tbody>\n",
       "</table>\n",
       "</div>"
      ],
      "text/plain": [
       "                         pm25    pred\n",
       "Datetime                             \n",
       "2018-12-31 01:00:00   7.23137  10.669\n",
       "2018-12-31 02:00:00   6.82297  10.669\n",
       "2018-12-31 03:00:00   6.34370  10.669\n",
       "2018-12-31 04:00:00   6.05348  10.669\n",
       "2018-12-31 05:00:00   5.36824  10.669\n",
       "2018-12-31 06:00:00   5.25741  10.669\n",
       "2018-12-31 07:00:00   5.23353  10.669\n",
       "2018-12-31 08:00:00   4.78421  10.669\n",
       "2018-12-31 09:00:00   5.68586  10.669\n",
       "2018-12-31 10:00:00   7.02653  10.669\n",
       "2018-12-31 11:00:00   6.94473  10.669\n",
       "2018-12-31 12:00:00   9.01751  10.669\n",
       "2018-12-31 13:00:00   7.00000  10.669\n",
       "2018-12-31 14:00:00  11.88660  10.669\n",
       "2018-12-31 15:00:00   9.90000  10.669\n",
       "2018-12-31 16:00:00   9.70000  10.669\n",
       "2018-12-31 17:00:00  19.40750  10.669\n",
       "2018-12-31 18:00:00  18.89650  10.669\n",
       "2018-12-31 19:00:00  19.31820  10.669\n",
       "2018-12-31 20:00:00  23.69900  10.669\n",
       "2018-12-31 21:00:00  32.63080  10.669\n",
       "2018-12-31 22:00:00  31.08010  10.669\n",
       "2018-12-31 23:00:00  33.20280  10.669\n",
       "2019-01-01 00:00:00  36.60740  10.669"
      ]
     },
     "execution_count": 144,
     "metadata": {},
     "output_type": "execute_result"
    }
   ],
   "source": [
    "# Predict\n",
    "predicted = df_test.copy()\n",
    "predicted['pred'] = model_fitted['pm25'].values[0]\n",
    "predicted"
   ]
  },
  {
   "cell_type": "code",
   "execution_count": 145,
   "metadata": {},
   "outputs": [
    {
     "data": {
      "image/png": "[encoded data removed]",
      "text/plain": [
       "<Figure size 1440x720 with 1 Axes>"
      ]
     },
     "metadata": {
      "needs_background": "light"
     },
     "output_type": "display_data"
    }
   ],
   "source": [
    "plot_observed_vs_predicted(observed=df_test['pm25'], \n",
    "                           predicted=predicted['pred'], \n",
    "                           num_points=50, \n",
    "                           title=model_name,\n",
    "                           label_observed='PM2.5 observed', \n",
    "                           label_predicted='PM2.5 predicted')"
   ]
  },
  {
   "cell_type": "code",
   "execution_count": 147,
   "metadata": {},
   "outputs": [
    {
     "name": "stdout",
     "output_type": "stream",
     "text": [
      "Persistence Model RMSE 10.6605\n"
     ]
    }
   ],
   "source": [
    "rmse = get_rmse(observed=df_test['pm25'], predicted=predicted['pred'])\n",
    "print(f'{model_name} RMSE {rmse}')"
   ]
  },
  {
   "cell_type": "markdown",
   "metadata": {},
   "source": [
    "### 7-Day Prediction"
   ]
  },
  {
   "cell_type": "code",
   "execution_count": 148,
   "metadata": {},
   "outputs": [
    {
     "data": {
      "text/html": [
       "<div>\n",
       "<style scoped>\n",
       "    .dataframe tbody tr th:only-of-type {\n",
       "        vertical-align: middle;\n",
       "    }\n",
       "\n",
       "    .dataframe tbody tr th {\n",
       "        vertical-align: top;\n",
       "    }\n",
       "\n",
       "    .dataframe thead th {\n",
       "        text-align: right;\n",
       "    }\n",
       "</style>\n",
       "<table border=\"1\" class=\"dataframe\">\n",
       "  <thead>\n",
       "    <tr style=\"text-align: right;\">\n",
       "      <th></th>\n",
       "      <th>pm25</th>\n",
       "    </tr>\n",
       "    <tr>\n",
       "      <th>Datetime</th>\n",
       "      <th></th>\n",
       "    </tr>\n",
       "  </thead>\n",
       "  <tbody>\n",
       "    <tr>\n",
       "      <th>2008-01-01</th>\n",
       "      <td>53.586957</td>\n",
       "    </tr>\n",
       "    <tr>\n",
       "      <th>2008-01-02</th>\n",
       "      <td>30.958333</td>\n",
       "    </tr>\n",
       "    <tr>\n",
       "      <th>2008-01-03</th>\n",
       "      <td>46.104167</td>\n",
       "    </tr>\n",
       "    <tr>\n",
       "      <th>2008-01-04</th>\n",
       "      <td>42.979167</td>\n",
       "    </tr>\n",
       "    <tr>\n",
       "      <th>2008-01-05</th>\n",
       "      <td>57.312500</td>\n",
       "    </tr>\n",
       "  </tbody>\n",
       "</table>\n",
       "</div>"
      ],
      "text/plain": [
       "                 pm25\n",
       "Datetime             \n",
       "2008-01-01  53.586957\n",
       "2008-01-02  30.958333\n",
       "2008-01-03  46.104167\n",
       "2008-01-04  42.979167\n",
       "2008-01-05  57.312500"
      ]
     },
     "execution_count": 148,
     "metadata": {},
     "output_type": "execute_result"
    }
   ],
   "source": [
    "df = dfd\n",
    "df.head()"
   ]
  },
  {
   "cell_type": "code",
   "execution_count": 149,
   "metadata": {},
   "outputs": [
    {
     "name": "stderr",
     "output_type": "stream",
     "text": [
      "common.py | 127 | split_df_for_ts_modelling_date_range | 01-Jun-20 17:37:32 | INFO: Observations: 4019\n",
      "common.py | 128 | split_df_for_ts_modelling_date_range | 01-Jun-20 17:37:32 | INFO: Training Observations: 4012\n",
      "common.py | 129 | split_df_for_ts_modelling_date_range | 01-Jun-20 17:37:32 | INFO: Testing Observations: 7\n",
      "common.py | 131 | split_df_for_ts_modelling_date_range | 01-Jun-20 17:37:32 | INFO: (4019, 1), (4012, 1), (7, 1), 4019\n"
     ]
    }
   ],
   "source": [
    "df_train, df_test = split_df_for_ts_modelling_date_range(df,\n",
    "                                         train_range_from=train_range_from_d,\n",
    "                                         train_range_to=train_range_to_d,\n",
    "                                         test_range_from=test_range_from_d,\n",
    "                                         test_range_to=test_range_to_d)"
   ]
  },
  {
   "cell_type": "code",
   "execution_count": 150,
   "metadata": {},
   "outputs": [
    {
     "data": {
      "text/html": [
       "<div>\n",
       "<style scoped>\n",
       "    .dataframe tbody tr th:only-of-type {\n",
       "        vertical-align: middle;\n",
       "    }\n",
       "\n",
       "    .dataframe tbody tr th {\n",
       "        vertical-align: top;\n",
       "    }\n",
       "\n",
       "    .dataframe thead th {\n",
       "        text-align: right;\n",
       "    }\n",
       "</style>\n",
       "<table border=\"1\" class=\"dataframe\">\n",
       "  <thead>\n",
       "    <tr style=\"text-align: right;\">\n",
       "      <th></th>\n",
       "      <th>pm25</th>\n",
       "    </tr>\n",
       "    <tr>\n",
       "      <th>Datetime</th>\n",
       "      <th></th>\n",
       "    </tr>\n",
       "  </thead>\n",
       "  <tbody>\n",
       "    <tr>\n",
       "      <th>2018-12-25</th>\n",
       "      <td>15.821442</td>\n",
       "    </tr>\n",
       "  </tbody>\n",
       "</table>\n",
       "</div>"
      ],
      "text/plain": [
       "                 pm25\n",
       "Datetime             \n",
       "2018-12-25  15.821442"
      ]
     },
     "execution_count": 150,
     "metadata": {},
     "output_type": "execute_result"
    }
   ],
   "source": [
    "# Fit the model: Get last known observation from df_train\n",
    "model_fitted = df_train[-1:]\n",
    "model_fitted"
   ]
  },
  {
   "cell_type": "code",
   "execution_count": 151,
   "metadata": {},
   "outputs": [
    {
     "data": {
      "text/html": [
       "<div>\n",
       "<style scoped>\n",
       "    .dataframe tbody tr th:only-of-type {\n",
       "        vertical-align: middle;\n",
       "    }\n",
       "\n",
       "    .dataframe tbody tr th {\n",
       "        vertical-align: top;\n",
       "    }\n",
       "\n",
       "    .dataframe thead th {\n",
       "        text-align: right;\n",
       "    }\n",
       "</style>\n",
       "<table border=\"1\" class=\"dataframe\">\n",
       "  <thead>\n",
       "    <tr style=\"text-align: right;\">\n",
       "      <th></th>\n",
       "      <th>pm25</th>\n",
       "      <th>pred</th>\n",
       "    </tr>\n",
       "    <tr>\n",
       "      <th>Datetime</th>\n",
       "      <th></th>\n",
       "      <th></th>\n",
       "    </tr>\n",
       "  </thead>\n",
       "  <tbody>\n",
       "    <tr>\n",
       "      <th>2018-12-26</th>\n",
       "      <td>17.102352</td>\n",
       "      <td>15.821442</td>\n",
       "    </tr>\n",
       "    <tr>\n",
       "      <th>2018-12-27</th>\n",
       "      <td>15.274438</td>\n",
       "      <td>15.821442</td>\n",
       "    </tr>\n",
       "    <tr>\n",
       "      <th>2018-12-28</th>\n",
       "      <td>18.614863</td>\n",
       "      <td>15.821442</td>\n",
       "    </tr>\n",
       "    <tr>\n",
       "      <th>2018-12-29</th>\n",
       "      <td>16.241051</td>\n",
       "      <td>15.821442</td>\n",
       "    </tr>\n",
       "    <tr>\n",
       "      <th>2018-12-30</th>\n",
       "      <td>15.514396</td>\n",
       "      <td>15.821442</td>\n",
       "    </tr>\n",
       "    <tr>\n",
       "      <th>2018-12-31</th>\n",
       "      <td>12.595460</td>\n",
       "      <td>15.821442</td>\n",
       "    </tr>\n",
       "    <tr>\n",
       "      <th>2019-01-01</th>\n",
       "      <td>36.607400</td>\n",
       "      <td>15.821442</td>\n",
       "    </tr>\n",
       "  </tbody>\n",
       "</table>\n",
       "</div>"
      ],
      "text/plain": [
       "                 pm25       pred\n",
       "Datetime                        \n",
       "2018-12-26  17.102352  15.821442\n",
       "2018-12-27  15.274438  15.821442\n",
       "2018-12-28  18.614863  15.821442\n",
       "2018-12-29  16.241051  15.821442\n",
       "2018-12-30  15.514396  15.821442\n",
       "2018-12-31  12.595460  15.821442\n",
       "2019-01-01  36.607400  15.821442"
      ]
     },
     "execution_count": 151,
     "metadata": {},
     "output_type": "execute_result"
    }
   ],
   "source": [
    "# Predict\n",
    "predicted = df_test.copy()\n",
    "predicted['pred'] = model_fitted['pm25'].values[0]\n",
    "predicted"
   ]
  },
  {
   "cell_type": "code",
   "execution_count": 152,
   "metadata": {},
   "outputs": [
    {
     "data": {
      "image/png": "[encoded data removed]",
      "text/plain": [
       "<Figure size 1440x720 with 1 Axes>"
      ]
     },
     "metadata": {
      "needs_background": "light"
     },
     "output_type": "display_data"
    }
   ],
   "source": [
    "plot_observed_vs_predicted(observed=df_test['pm25'], \n",
    "                           predicted=predicted['pred'], \n",
    "                           num_points=50, \n",
    "                           title=model_name,\n",
    "                           label_observed='PM2.5 observed', \n",
    "                           label_predicted='PM2.5 predicted')"
   ]
  },
  {
   "cell_type": "code",
   "execution_count": 153,
   "metadata": {},
   "outputs": [
    {
     "name": "stdout",
     "output_type": "stream",
     "text": [
      "Persistence Model RMSE 8.0399\n"
     ]
    }
   ],
   "source": [
    "rmse = get_rmse(observed=df_test['pm25'], predicted=predicted['pred'])\n",
    "print(f'{model_name} RMSE {rmse}')"
   ]
  },
  {
   "cell_type": "markdown",
   "metadata": {},
   "source": [
    "---\n",
    "<a id='sma'></a>\n",
    "\n",
    "## Simple Moving Average (SMA)"
   ]
  },
  {
   "cell_type": "code",
   "execution_count": 348,
   "metadata": {},
   "outputs": [],
   "source": [
    "model_name = 'Simple Moving Average'"
   ]
  },
  {
   "cell_type": "markdown",
   "metadata": {},
   "source": [
    "### 24-Hour Prediction"
   ]
  },
  {
   "cell_type": "code",
   "execution_count": 349,
   "metadata": {},
   "outputs": [
    {
     "data": {
      "text/html": [
       "<div>\n",
       "<style scoped>\n",
       "    .dataframe tbody tr th:only-of-type {\n",
       "        vertical-align: middle;\n",
       "    }\n",
       "\n",
       "    .dataframe tbody tr th {\n",
       "        vertical-align: top;\n",
       "    }\n",
       "\n",
       "    .dataframe thead th {\n",
       "        text-align: right;\n",
       "    }\n",
       "</style>\n",
       "<table border=\"1\" class=\"dataframe\">\n",
       "  <thead>\n",
       "    <tr style=\"text-align: right;\">\n",
       "      <th></th>\n",
       "      <th>pm25</th>\n",
       "    </tr>\n",
       "    <tr>\n",
       "      <th>Datetime</th>\n",
       "      <th></th>\n",
       "    </tr>\n",
       "  </thead>\n",
       "  <tbody>\n",
       "    <tr>\n",
       "      <th>2008-01-01 01:00:00</th>\n",
       "      <td>92.0</td>\n",
       "    </tr>\n",
       "    <tr>\n",
       "      <th>2008-01-01 02:00:00</th>\n",
       "      <td>81.0</td>\n",
       "    </tr>\n",
       "    <tr>\n",
       "      <th>2008-01-01 03:00:00</th>\n",
       "      <td>73.0</td>\n",
       "    </tr>\n",
       "    <tr>\n",
       "      <th>2008-01-01 04:00:00</th>\n",
       "      <td>60.5</td>\n",
       "    </tr>\n",
       "    <tr>\n",
       "      <th>2008-01-01 05:00:00</th>\n",
       "      <td>61.0</td>\n",
       "    </tr>\n",
       "  </tbody>\n",
       "</table>\n",
       "</div>"
      ],
      "text/plain": [
       "                     pm25\n",
       "Datetime                 \n",
       "2008-01-01 01:00:00  92.0\n",
       "2008-01-01 02:00:00  81.0\n",
       "2008-01-01 03:00:00  73.0\n",
       "2008-01-01 04:00:00  60.5\n",
       "2008-01-01 05:00:00  61.0"
      ]
     },
     "execution_count": 349,
     "metadata": {},
     "output_type": "execute_result"
    }
   ],
   "source": [
    "df = dfh\n",
    "df.head()"
   ]
  },
  {
   "cell_type": "code",
   "execution_count": 350,
   "metadata": {},
   "outputs": [
    {
     "name": "stderr",
     "output_type": "stream",
     "text": [
      "common.py | 127 | split_df_for_ts_modelling_date_range | 01-Jun-20 19:25:57 | INFO: Observations: 96388\n",
      "common.py | 128 | split_df_for_ts_modelling_date_range | 01-Jun-20 19:25:57 | INFO: Training Observations: 96362\n",
      "common.py | 129 | split_df_for_ts_modelling_date_range | 01-Jun-20 19:25:57 | INFO: Testing Observations: 24\n",
      "common.py | 131 | split_df_for_ts_modelling_date_range | 01-Jun-20 19:25:57 | INFO: (96388, 1), (96362, 1), (24, 1), 96386\n"
     ]
    }
   ],
   "source": [
    "df_train, df_test = split_df_for_ts_modelling_date_range(df,\n",
    "                                         train_range_from=train_range_from_h,\n",
    "                                         train_range_to=train_range_to_h,\n",
    "                                         test_range_from=test_range_from_h,\n",
    "                                         test_range_to=test_range_to_h)"
   ]
  },
  {
   "cell_type": "code",
   "execution_count": 351,
   "metadata": {},
   "outputs": [],
   "source": [
    "# Different rolling window would be appropriate for different resamplings\n",
    "rolling_window = 6 # for H\n",
    "#rolling_window = 4 # for D"
   ]
  },
  {
   "cell_type": "code",
   "execution_count": 352,
   "metadata": {},
   "outputs": [
    {
     "data": {
      "text/plain": [
       "11.201166666667154"
      ]
     },
     "execution_count": 352,
     "metadata": {},
     "output_type": "execute_result"
    }
   ],
   "source": [
    "df_train.rolling(window=rolling_window).mean()[-1:]['pm25'][0]"
   ]
  },
  {
   "cell_type": "code",
   "execution_count": 353,
   "metadata": {},
   "outputs": [
    {
     "data": {
      "text/html": [
       "<div>\n",
       "<style scoped>\n",
       "    .dataframe tbody tr th:only-of-type {\n",
       "        vertical-align: middle;\n",
       "    }\n",
       "\n",
       "    .dataframe tbody tr th {\n",
       "        vertical-align: top;\n",
       "    }\n",
       "\n",
       "    .dataframe thead th {\n",
       "        text-align: right;\n",
       "    }\n",
       "</style>\n",
       "<table border=\"1\" class=\"dataframe\">\n",
       "  <thead>\n",
       "    <tr style=\"text-align: right;\">\n",
       "      <th></th>\n",
       "      <th>pm25</th>\n",
       "    </tr>\n",
       "    <tr>\n",
       "      <th>Datetime</th>\n",
       "      <th></th>\n",
       "    </tr>\n",
       "  </thead>\n",
       "  <tbody>\n",
       "    <tr>\n",
       "      <th>2018-12-31 01:00:00</th>\n",
       "      <td>7.23137</td>\n",
       "    </tr>\n",
       "    <tr>\n",
       "      <th>2018-12-31 02:00:00</th>\n",
       "      <td>6.82297</td>\n",
       "    </tr>\n",
       "    <tr>\n",
       "      <th>2018-12-31 03:00:00</th>\n",
       "      <td>6.34370</td>\n",
       "    </tr>\n",
       "    <tr>\n",
       "      <th>2018-12-31 04:00:00</th>\n",
       "      <td>6.05348</td>\n",
       "    </tr>\n",
       "    <tr>\n",
       "      <th>2018-12-31 05:00:00</th>\n",
       "      <td>5.36824</td>\n",
       "    </tr>\n",
       "    <tr>\n",
       "      <th>2018-12-31 06:00:00</th>\n",
       "      <td>5.25741</td>\n",
       "    </tr>\n",
       "    <tr>\n",
       "      <th>2018-12-31 07:00:00</th>\n",
       "      <td>5.23353</td>\n",
       "    </tr>\n",
       "    <tr>\n",
       "      <th>2018-12-31 08:00:00</th>\n",
       "      <td>4.78421</td>\n",
       "    </tr>\n",
       "    <tr>\n",
       "      <th>2018-12-31 09:00:00</th>\n",
       "      <td>5.68586</td>\n",
       "    </tr>\n",
       "    <tr>\n",
       "      <th>2018-12-31 10:00:00</th>\n",
       "      <td>7.02653</td>\n",
       "    </tr>\n",
       "    <tr>\n",
       "      <th>2018-12-31 11:00:00</th>\n",
       "      <td>6.94473</td>\n",
       "    </tr>\n",
       "    <tr>\n",
       "      <th>2018-12-31 12:00:00</th>\n",
       "      <td>9.01751</td>\n",
       "    </tr>\n",
       "    <tr>\n",
       "      <th>2018-12-31 13:00:00</th>\n",
       "      <td>7.00000</td>\n",
       "    </tr>\n",
       "    <tr>\n",
       "      <th>2018-12-31 14:00:00</th>\n",
       "      <td>11.88660</td>\n",
       "    </tr>\n",
       "    <tr>\n",
       "      <th>2018-12-31 15:00:00</th>\n",
       "      <td>9.90000</td>\n",
       "    </tr>\n",
       "    <tr>\n",
       "      <th>2018-12-31 16:00:00</th>\n",
       "      <td>9.70000</td>\n",
       "    </tr>\n",
       "    <tr>\n",
       "      <th>2018-12-31 17:00:00</th>\n",
       "      <td>19.40750</td>\n",
       "    </tr>\n",
       "    <tr>\n",
       "      <th>2018-12-31 18:00:00</th>\n",
       "      <td>18.89650</td>\n",
       "    </tr>\n",
       "    <tr>\n",
       "      <th>2018-12-31 19:00:00</th>\n",
       "      <td>19.31820</td>\n",
       "    </tr>\n",
       "    <tr>\n",
       "      <th>2018-12-31 20:00:00</th>\n",
       "      <td>23.69900</td>\n",
       "    </tr>\n",
       "    <tr>\n",
       "      <th>2018-12-31 21:00:00</th>\n",
       "      <td>32.63080</td>\n",
       "    </tr>\n",
       "    <tr>\n",
       "      <th>2018-12-31 22:00:00</th>\n",
       "      <td>31.08010</td>\n",
       "    </tr>\n",
       "    <tr>\n",
       "      <th>2018-12-31 23:00:00</th>\n",
       "      <td>33.20280</td>\n",
       "    </tr>\n",
       "    <tr>\n",
       "      <th>2019-01-01 00:00:00</th>\n",
       "      <td>36.60740</td>\n",
       "    </tr>\n",
       "  </tbody>\n",
       "</table>\n",
       "</div>"
      ],
      "text/plain": [
       "                         pm25\n",
       "Datetime                     \n",
       "2018-12-31 01:00:00   7.23137\n",
       "2018-12-31 02:00:00   6.82297\n",
       "2018-12-31 03:00:00   6.34370\n",
       "2018-12-31 04:00:00   6.05348\n",
       "2018-12-31 05:00:00   5.36824\n",
       "2018-12-31 06:00:00   5.25741\n",
       "2018-12-31 07:00:00   5.23353\n",
       "2018-12-31 08:00:00   4.78421\n",
       "2018-12-31 09:00:00   5.68586\n",
       "2018-12-31 10:00:00   7.02653\n",
       "2018-12-31 11:00:00   6.94473\n",
       "2018-12-31 12:00:00   9.01751\n",
       "2018-12-31 13:00:00   7.00000\n",
       "2018-12-31 14:00:00  11.88660\n",
       "2018-12-31 15:00:00   9.90000\n",
       "2018-12-31 16:00:00   9.70000\n",
       "2018-12-31 17:00:00  19.40750\n",
       "2018-12-31 18:00:00  18.89650\n",
       "2018-12-31 19:00:00  19.31820\n",
       "2018-12-31 20:00:00  23.69900\n",
       "2018-12-31 21:00:00  32.63080\n",
       "2018-12-31 22:00:00  31.08010\n",
       "2018-12-31 23:00:00  33.20280\n",
       "2019-01-01 00:00:00  36.60740"
      ]
     },
     "execution_count": 353,
     "metadata": {},
     "output_type": "execute_result"
    }
   ],
   "source": [
    "df_test"
   ]
  },
  {
   "cell_type": "code",
   "execution_count": 354,
   "metadata": {},
   "outputs": [
    {
     "data": {
      "text/plain": [
       "DatetimeIndex(['2018-12-31 01:00:00'], dtype='datetime64[ns]', name='Datetime', freq=None)"
      ]
     },
     "execution_count": 354,
     "metadata": {},
     "output_type": "execute_result"
    }
   ],
   "source": [
    "df_test[0:1].index"
   ]
  },
  {
   "cell_type": "code",
   "execution_count": 355,
   "metadata": {},
   "outputs": [
    {
     "name": "stdout",
     "output_type": "stream",
     "text": [
      "11.201166666667154\n",
      "10.613994444445012\n",
      "10.656276851852514\n",
      "9.8692396604946\n",
      "10.276846270577034\n",
      "10.547753982339872\n",
      "10.527546312729852\n",
      "10.4152762537403\n",
      "10.382156555289514\n",
      "10.336469839195681\n",
      "10.414341535645862\n",
      "10.437257413157335\n",
      "10.418841318293579\n",
      "10.400723819220865\n",
      "10.398298413467623\n",
      "10.400988723163977\n",
      "10.411741870492026\n",
      "10.411308592966387\n",
      "10.406983789601231\n",
      "10.405007534819173\n",
      "10.40572148741889\n",
      "10.40695866641077\n",
      "10.407953656951902\n",
      "10.407322288028547\n"
     ]
    }
   ],
   "source": [
    "predicted = []\n",
    "train = df_train.copy()\n",
    "\n",
    "for i in range(len(df_test)):\n",
    "    # Get the moving average for last element of train\n",
    "    pred = train.rolling(window=rolling_window).mean()[-1:]['pm25'][0]\n",
    "    # Add it as a predicted value\n",
    "    predicted.append(pred)\n",
    "    print(pred)\n",
    "    # Create a new row with the next data point index from df_test\n",
    "    train = train.append(df_test[i:i+1])\n",
    "    # Replace df_test value with predicted value\n",
    "    train.loc[df_test[i:i+1].index] = [pred]\n",
    "    \n",
    "predicted = train[-24:]"
   ]
  },
  {
   "cell_type": "code",
   "execution_count": 356,
   "metadata": {},
   "outputs": [
    {
     "data": {
      "image/png": "[encoded data removed]",
      "text/plain": [
       "<Figure size 1440x720 with 1 Axes>"
      ]
     },
     "metadata": {
      "needs_background": "light"
     },
     "output_type": "display_data"
    }
   ],
   "source": [
    "plot_observed_vs_predicted(observed=df_test['pm25'], \n",
    "                           predicted=predicted, \n",
    "                           num_points=50, \n",
    "                           title=model_name,\n",
    "                           label_observed='PM2.5 observed', \n",
    "                           label_predicted='PM2.5 predicted'\n",
    "                          )"
   ]
  },
  {
   "cell_type": "code",
   "execution_count": 357,
   "metadata": {},
   "outputs": [
    {
     "name": "stdout",
     "output_type": "stream",
     "text": [
      "Simple Moving Average RMSE 10.7495\n"
     ]
    }
   ],
   "source": [
    "rmse = get_rmse(observed=df_test['pm25'], predicted=predicted)\n",
    "print(f'{model_name} RMSE {rmse}')"
   ]
  },
  {
   "cell_type": "markdown",
   "metadata": {},
   "source": [
    "### 7-Day Prediction"
   ]
  },
  {
   "cell_type": "code",
   "execution_count": 358,
   "metadata": {},
   "outputs": [
    {
     "data": {
      "text/html": [
       "<div>\n",
       "<style scoped>\n",
       "    .dataframe tbody tr th:only-of-type {\n",
       "        vertical-align: middle;\n",
       "    }\n",
       "\n",
       "    .dataframe tbody tr th {\n",
       "        vertical-align: top;\n",
       "    }\n",
       "\n",
       "    .dataframe thead th {\n",
       "        text-align: right;\n",
       "    }\n",
       "</style>\n",
       "<table border=\"1\" class=\"dataframe\">\n",
       "  <thead>\n",
       "    <tr style=\"text-align: right;\">\n",
       "      <th></th>\n",
       "      <th>pm25</th>\n",
       "    </tr>\n",
       "    <tr>\n",
       "      <th>Datetime</th>\n",
       "      <th></th>\n",
       "    </tr>\n",
       "  </thead>\n",
       "  <tbody>\n",
       "    <tr>\n",
       "      <th>2008-01-01</th>\n",
       "      <td>53.586957</td>\n",
       "    </tr>\n",
       "    <tr>\n",
       "      <th>2008-01-02</th>\n",
       "      <td>30.958333</td>\n",
       "    </tr>\n",
       "    <tr>\n",
       "      <th>2008-01-03</th>\n",
       "      <td>46.104167</td>\n",
       "    </tr>\n",
       "    <tr>\n",
       "      <th>2008-01-04</th>\n",
       "      <td>42.979167</td>\n",
       "    </tr>\n",
       "    <tr>\n",
       "      <th>2008-01-05</th>\n",
       "      <td>57.312500</td>\n",
       "    </tr>\n",
       "  </tbody>\n",
       "</table>\n",
       "</div>"
      ],
      "text/plain": [
       "                 pm25\n",
       "Datetime             \n",
       "2008-01-01  53.586957\n",
       "2008-01-02  30.958333\n",
       "2008-01-03  46.104167\n",
       "2008-01-04  42.979167\n",
       "2008-01-05  57.312500"
      ]
     },
     "execution_count": 358,
     "metadata": {},
     "output_type": "execute_result"
    }
   ],
   "source": [
    "df = dfd\n",
    "df.head()"
   ]
  },
  {
   "cell_type": "code",
   "execution_count": 359,
   "metadata": {},
   "outputs": [
    {
     "name": "stderr",
     "output_type": "stream",
     "text": [
      "common.py | 127 | split_df_for_ts_modelling_date_range | 01-Jun-20 19:26:37 | INFO: Observations: 4019\n",
      "common.py | 128 | split_df_for_ts_modelling_date_range | 01-Jun-20 19:26:37 | INFO: Training Observations: 4012\n",
      "common.py | 129 | split_df_for_ts_modelling_date_range | 01-Jun-20 19:26:37 | INFO: Testing Observations: 7\n",
      "common.py | 131 | split_df_for_ts_modelling_date_range | 01-Jun-20 19:26:37 | INFO: (4019, 1), (4012, 1), (7, 1), 4019\n"
     ]
    }
   ],
   "source": [
    "df_train, df_test = split_df_for_ts_modelling_date_range(df,\n",
    "                                         train_range_from=train_range_from_d,\n",
    "                                         train_range_to=train_range_to_d,\n",
    "                                         test_range_from=test_range_from_d,\n",
    "                                         test_range_to=test_range_to_d)"
   ]
  },
  {
   "cell_type": "code",
   "execution_count": 360,
   "metadata": {},
   "outputs": [],
   "source": [
    "# Different rolling window would be appropriate for different resamplings\n",
    "#rolling_window = 14*24 # for H\n",
    "rolling_window = 4 # for D"
   ]
  },
  {
   "cell_type": "code",
   "execution_count": 361,
   "metadata": {},
   "outputs": [
    {
     "data": {
      "text/html": [
       "<div>\n",
       "<style scoped>\n",
       "    .dataframe tbody tr th:only-of-type {\n",
       "        vertical-align: middle;\n",
       "    }\n",
       "\n",
       "    .dataframe tbody tr th {\n",
       "        vertical-align: top;\n",
       "    }\n",
       "\n",
       "    .dataframe thead th {\n",
       "        text-align: right;\n",
       "    }\n",
       "</style>\n",
       "<table border=\"1\" class=\"dataframe\">\n",
       "  <thead>\n",
       "    <tr style=\"text-align: right;\">\n",
       "      <th></th>\n",
       "      <th>pm25</th>\n",
       "    </tr>\n",
       "    <tr>\n",
       "      <th>Datetime</th>\n",
       "      <th></th>\n",
       "    </tr>\n",
       "  </thead>\n",
       "  <tbody>\n",
       "    <tr>\n",
       "      <th>2018-12-26</th>\n",
       "      <td>17.102352</td>\n",
       "    </tr>\n",
       "    <tr>\n",
       "      <th>2018-12-27</th>\n",
       "      <td>15.274438</td>\n",
       "    </tr>\n",
       "    <tr>\n",
       "      <th>2018-12-28</th>\n",
       "      <td>18.614863</td>\n",
       "    </tr>\n",
       "    <tr>\n",
       "      <th>2018-12-29</th>\n",
       "      <td>16.241051</td>\n",
       "    </tr>\n",
       "    <tr>\n",
       "      <th>2018-12-30</th>\n",
       "      <td>15.514396</td>\n",
       "    </tr>\n",
       "    <tr>\n",
       "      <th>2018-12-31</th>\n",
       "      <td>12.595460</td>\n",
       "    </tr>\n",
       "    <tr>\n",
       "      <th>2019-01-01</th>\n",
       "      <td>36.607400</td>\n",
       "    </tr>\n",
       "  </tbody>\n",
       "</table>\n",
       "</div>"
      ],
      "text/plain": [
       "                 pm25\n",
       "Datetime             \n",
       "2018-12-26  17.102352\n",
       "2018-12-27  15.274438\n",
       "2018-12-28  18.614863\n",
       "2018-12-29  16.241051\n",
       "2018-12-30  15.514396\n",
       "2018-12-31  12.595460\n",
       "2019-01-01  36.607400"
      ]
     },
     "execution_count": 361,
     "metadata": {},
     "output_type": "execute_result"
    }
   ],
   "source": [
    "df_test"
   ]
  },
  {
   "cell_type": "code",
   "execution_count": 362,
   "metadata": {},
   "outputs": [
    {
     "name": "stdout",
     "output_type": "stream",
     "text": [
      "12.05099427083306\n",
      "13.243003046874659\n",
      "12.289154016926659\n",
      "13.351148354491658\n",
      "12.73357492228124\n",
      "12.904220085143287\n",
      "12.819524344710445\n"
     ]
    }
   ],
   "source": [
    "predicted = []\n",
    "train = df_train.copy()\n",
    "\n",
    "for i in range(len(df_test)):\n",
    "    # Get the moving average for last element of train\n",
    "    pred = train.rolling(window=rolling_window).mean()[-1:]['pm25'][0]\n",
    "    # Add it as a predicted value\n",
    "    predicted.append(pred)\n",
    "    print(pred)\n",
    "    # Create a new row with the next data point index from df_test\n",
    "    train = train.append(df_test[i:i+1])\n",
    "    # Replace df_test value with predicted value\n",
    "    train.loc[df_test[i:i+1].index] = [pred]\n",
    "    \n",
    "predicted = train[-7:]"
   ]
  },
  {
   "cell_type": "code",
   "execution_count": 363,
   "metadata": {},
   "outputs": [
    {
     "data": {
      "image/png": "[encoded data removed]",
      "text/plain": [
       "<Figure size 1440x720 with 1 Axes>"
      ]
     },
     "metadata": {
      "needs_background": "light"
     },
     "output_type": "display_data"
    }
   ],
   "source": [
    "plot_observed_vs_predicted(observed=df_test['pm25'], \n",
    "                           predicted=predicted, \n",
    "                           num_points=50, \n",
    "                           title=model_name,\n",
    "                           label_observed='PM2.5 observed', \n",
    "                           label_predicted='PM2.5 predicted')"
   ]
  },
  {
   "cell_type": "code",
   "execution_count": 364,
   "metadata": {},
   "outputs": [
    {
     "name": "stdout",
     "output_type": "stream",
     "text": [
      "Simple Moving Average RMSE 9.6488\n"
     ]
    }
   ],
   "source": [
    "rmse = get_rmse(observed=df_test['pm25'], predicted=predicted)\n",
    "print(f'{model_name} RMSE {rmse}')"
   ]
  },
  {
   "cell_type": "markdown",
   "metadata": {},
   "source": [
    "---\n",
    "<a id='ema'></a>\n",
    "\n",
    "## Exponential Moving Average"
   ]
  },
  {
   "cell_type": "code",
   "execution_count": 365,
   "metadata": {},
   "outputs": [],
   "source": [
    "model_name = 'Exponential Moving Average'"
   ]
  },
  {
   "cell_type": "markdown",
   "metadata": {},
   "source": [
    "### 24-Hour Prediction"
   ]
  },
  {
   "cell_type": "code",
   "execution_count": 366,
   "metadata": {},
   "outputs": [
    {
     "data": {
      "text/html": [
       "<div>\n",
       "<style scoped>\n",
       "    .dataframe tbody tr th:only-of-type {\n",
       "        vertical-align: middle;\n",
       "    }\n",
       "\n",
       "    .dataframe tbody tr th {\n",
       "        vertical-align: top;\n",
       "    }\n",
       "\n",
       "    .dataframe thead th {\n",
       "        text-align: right;\n",
       "    }\n",
       "</style>\n",
       "<table border=\"1\" class=\"dataframe\">\n",
       "  <thead>\n",
       "    <tr style=\"text-align: right;\">\n",
       "      <th></th>\n",
       "      <th>pm25</th>\n",
       "    </tr>\n",
       "    <tr>\n",
       "      <th>Datetime</th>\n",
       "      <th></th>\n",
       "    </tr>\n",
       "  </thead>\n",
       "  <tbody>\n",
       "    <tr>\n",
       "      <th>2008-01-01 01:00:00</th>\n",
       "      <td>92.0</td>\n",
       "    </tr>\n",
       "    <tr>\n",
       "      <th>2008-01-01 02:00:00</th>\n",
       "      <td>81.0</td>\n",
       "    </tr>\n",
       "    <tr>\n",
       "      <th>2008-01-01 03:00:00</th>\n",
       "      <td>73.0</td>\n",
       "    </tr>\n",
       "    <tr>\n",
       "      <th>2008-01-01 04:00:00</th>\n",
       "      <td>60.5</td>\n",
       "    </tr>\n",
       "    <tr>\n",
       "      <th>2008-01-01 05:00:00</th>\n",
       "      <td>61.0</td>\n",
       "    </tr>\n",
       "  </tbody>\n",
       "</table>\n",
       "</div>"
      ],
      "text/plain": [
       "                     pm25\n",
       "Datetime                 \n",
       "2008-01-01 01:00:00  92.0\n",
       "2008-01-01 02:00:00  81.0\n",
       "2008-01-01 03:00:00  73.0\n",
       "2008-01-01 04:00:00  60.5\n",
       "2008-01-01 05:00:00  61.0"
      ]
     },
     "execution_count": 366,
     "metadata": {},
     "output_type": "execute_result"
    }
   ],
   "source": [
    "df = dfh\n",
    "df.head()"
   ]
  },
  {
   "cell_type": "code",
   "execution_count": 367,
   "metadata": {},
   "outputs": [
    {
     "name": "stderr",
     "output_type": "stream",
     "text": [
      "common.py | 127 | split_df_for_ts_modelling_date_range | 01-Jun-20 19:27:11 | INFO: Observations: 96388\n",
      "common.py | 128 | split_df_for_ts_modelling_date_range | 01-Jun-20 19:27:11 | INFO: Training Observations: 96362\n",
      "common.py | 129 | split_df_for_ts_modelling_date_range | 01-Jun-20 19:27:11 | INFO: Testing Observations: 24\n",
      "common.py | 131 | split_df_for_ts_modelling_date_range | 01-Jun-20 19:27:11 | INFO: (96388, 1), (96362, 1), (24, 1), 96386\n"
     ]
    }
   ],
   "source": [
    "df_train, df_test = split_df_for_ts_modelling_date_range(df,\n",
    "                                         train_range_from=train_range_from_h,\n",
    "                                         train_range_to=train_range_to_h,\n",
    "                                         test_range_from=test_range_from_h,\n",
    "                                         test_range_to=test_range_to_h)"
   ]
  },
  {
   "cell_type": "code",
   "execution_count": 368,
   "metadata": {},
   "outputs": [],
   "source": [
    "# Different rolling window would be appropriate for different resamplings\n",
    "rolling_window = 6 # for H\n",
    "#rolling_window = 4 # for D"
   ]
  },
  {
   "cell_type": "code",
   "execution_count": 369,
   "metadata": {},
   "outputs": [
    {
     "name": "stdout",
     "output_type": "stream",
     "text": [
      "14.837553067366024\n",
      "14.837553067366024\n",
      "14.837553067366024\n",
      "14.837553067366024\n",
      "14.837553067366024\n",
      "14.837553067366024\n",
      "14.837553067366024\n",
      "14.837553067366024\n",
      "14.837553067366024\n",
      "14.837553067366024\n",
      "14.837553067366024\n",
      "14.837553067366024\n",
      "14.837553067366024\n",
      "14.837553067366024\n",
      "14.837553067366024\n",
      "14.837553067366024\n",
      "14.837553067366024\n",
      "14.837553067366024\n",
      "14.837553067366024\n",
      "14.837553067366024\n",
      "14.837553067366024\n",
      "14.837553067366024\n",
      "14.837553067366024\n",
      "14.837553067366024\n"
     ]
    }
   ],
   "source": [
    "predicted = []\n",
    "train = df_train.copy()\n",
    "\n",
    "for i in range(len(df_test)):\n",
    "    # Get the moving average (Exponentially-weighted-window) for last element of train\n",
    "    # https://pandas.pydata.org/pandas-docs/stable/user_guide/computation.html#exponentially-weighted-windows\n",
    "    pred = train.ewm(span=30, adjust=False).mean()[-1:]['pm25'][0]\n",
    "    # Add it as a predicted value\n",
    "    predicted.append(pred)\n",
    "    print(pred)\n",
    "    # Create a new row with the next data point index from df_test\n",
    "    train = train.append(df_test[i:i+1])\n",
    "    # Replace df_test value with predicted value\n",
    "    train.loc[df_test[i:i+1].index] = [pred]\n",
    "    \n",
    "predicted = train[-24:]"
   ]
  },
  {
   "cell_type": "code",
   "execution_count": 370,
   "metadata": {},
   "outputs": [
    {
     "data": {
      "image/png": "[encoded data removed]",
      "text/plain": [
       "<Figure size 1440x720 with 1 Axes>"
      ]
     },
     "metadata": {
      "needs_background": "light"
     },
     "output_type": "display_data"
    }
   ],
   "source": [
    "plot_observed_vs_predicted(observed=df_test['pm25'], \n",
    "                           predicted=predicted, \n",
    "                           num_points=50, \n",
    "                           title=model_name,\n",
    "                           label_observed='PM2.5 observed', \n",
    "                           label_predicted='PM2.5 predicted')"
   ]
  },
  {
   "cell_type": "code",
   "execution_count": 371,
   "metadata": {},
   "outputs": [
    {
     "name": "stdout",
     "output_type": "stream",
     "text": [
      "Exponential Moving Average RMSE 10.2786\n"
     ]
    }
   ],
   "source": [
    "rmse = get_rmse(observed=df_test['pm25'], predicted=predicted)\n",
    "print(f'{model_name} RMSE {rmse}')"
   ]
  },
  {
   "cell_type": "markdown",
   "metadata": {},
   "source": [
    "### 7-Day Prediction"
   ]
  },
  {
   "cell_type": "code",
   "execution_count": 372,
   "metadata": {},
   "outputs": [
    {
     "data": {
      "text/html": [
       "<div>\n",
       "<style scoped>\n",
       "    .dataframe tbody tr th:only-of-type {\n",
       "        vertical-align: middle;\n",
       "    }\n",
       "\n",
       "    .dataframe tbody tr th {\n",
       "        vertical-align: top;\n",
       "    }\n",
       "\n",
       "    .dataframe thead th {\n",
       "        text-align: right;\n",
       "    }\n",
       "</style>\n",
       "<table border=\"1\" class=\"dataframe\">\n",
       "  <thead>\n",
       "    <tr style=\"text-align: right;\">\n",
       "      <th></th>\n",
       "      <th>pm25</th>\n",
       "    </tr>\n",
       "    <tr>\n",
       "      <th>Datetime</th>\n",
       "      <th></th>\n",
       "    </tr>\n",
       "  </thead>\n",
       "  <tbody>\n",
       "    <tr>\n",
       "      <th>2008-01-01</th>\n",
       "      <td>53.586957</td>\n",
       "    </tr>\n",
       "    <tr>\n",
       "      <th>2008-01-02</th>\n",
       "      <td>30.958333</td>\n",
       "    </tr>\n",
       "    <tr>\n",
       "      <th>2008-01-03</th>\n",
       "      <td>46.104167</td>\n",
       "    </tr>\n",
       "    <tr>\n",
       "      <th>2008-01-04</th>\n",
       "      <td>42.979167</td>\n",
       "    </tr>\n",
       "    <tr>\n",
       "      <th>2008-01-05</th>\n",
       "      <td>57.312500</td>\n",
       "    </tr>\n",
       "  </tbody>\n",
       "</table>\n",
       "</div>"
      ],
      "text/plain": [
       "                 pm25\n",
       "Datetime             \n",
       "2008-01-01  53.586957\n",
       "2008-01-02  30.958333\n",
       "2008-01-03  46.104167\n",
       "2008-01-04  42.979167\n",
       "2008-01-05  57.312500"
      ]
     },
     "execution_count": 372,
     "metadata": {},
     "output_type": "execute_result"
    }
   ],
   "source": [
    "df = dfd\n",
    "df.head()"
   ]
  },
  {
   "cell_type": "code",
   "execution_count": 373,
   "metadata": {},
   "outputs": [
    {
     "name": "stderr",
     "output_type": "stream",
     "text": [
      "common.py | 127 | split_df_for_ts_modelling_date_range | 01-Jun-20 19:27:41 | INFO: Observations: 4019\n",
      "common.py | 128 | split_df_for_ts_modelling_date_range | 01-Jun-20 19:27:41 | INFO: Training Observations: 4012\n",
      "common.py | 129 | split_df_for_ts_modelling_date_range | 01-Jun-20 19:27:41 | INFO: Testing Observations: 7\n",
      "common.py | 131 | split_df_for_ts_modelling_date_range | 01-Jun-20 19:27:41 | INFO: (4019, 1), (4012, 1), (7, 1), 4019\n"
     ]
    }
   ],
   "source": [
    "df_train, df_test = split_df_for_ts_modelling_date_range(df,\n",
    "                                         train_range_from=train_range_from_d,\n",
    "                                         train_range_to=train_range_to_d,\n",
    "                                         test_range_from=test_range_from_d,\n",
    "                                         test_range_to=test_range_to_d)"
   ]
  },
  {
   "cell_type": "code",
   "execution_count": 374,
   "metadata": {},
   "outputs": [],
   "source": [
    "# Different rolling window would be appropriate for different resamplings\n",
    "#rolling_window = 6 # for H\n",
    "rolling_window = 4 # for D"
   ]
  },
  {
   "cell_type": "code",
   "execution_count": 375,
   "metadata": {},
   "outputs": [
    {
     "name": "stdout",
     "output_type": "stream",
     "text": [
      "37.54717343098751\n",
      "37.54717343098751\n",
      "37.54717343098751\n",
      "37.54717343098751\n",
      "37.54717343098751\n",
      "37.54717343098751\n",
      "37.54717343098751\n"
     ]
    }
   ],
   "source": [
    "predicted = []\n",
    "train = df_train.copy()\n",
    "\n",
    "for i in range(len(df_test)):\n",
    "    # Get the moving average (Exponentially-weighted-window) for last element of train\n",
    "    # https://pandas.pydata.org/pandas-docs/stable/user_guide/computation.html#exponentially-weighted-windows\n",
    "    pred = train.ewm(span=30, adjust=False).mean()[-1:]['pm25'][0]\n",
    "    # Add it as a predicted value\n",
    "    predicted.append(pred)\n",
    "    print(pred)\n",
    "    # Create a new row with the next data point index from df_test\n",
    "    train = train.append(df_test[i:i+1])\n",
    "    # Replace df_test value with predicted value\n",
    "    train.loc[df_test[i:i+1].index] = [pred]\n",
    "    \n",
    "predicted = train[-7:]"
   ]
  },
  {
   "cell_type": "code",
   "execution_count": 376,
   "metadata": {},
   "outputs": [
    {
     "data": {
      "image/png": "[encoded data removed]",
      "text/plain": [
       "<Figure size 1440x720 with 1 Axes>"
      ]
     },
     "metadata": {
      "needs_background": "light"
     },
     "output_type": "display_data"
    }
   ],
   "source": [
    "plot_observed_vs_predicted(observed=df_test['pm25'], \n",
    "                           predicted=predicted, \n",
    "                           num_points=50, \n",
    "                           title=model_name,\n",
    "                           label_observed='PM2.5 observed', \n",
    "                           label_predicted='PM2.5 predicted')"
   ]
  },
  {
   "cell_type": "code",
   "execution_count": 378,
   "metadata": {},
   "outputs": [
    {
     "name": "stdout",
     "output_type": "stream",
     "text": [
      "Exponential Moving Average RMSE 20.1259\n"
     ]
    }
   ],
   "source": [
    "rmse = get_rmse(observed=df_test['pm25'], predicted=predicted)\n",
    "print(f'{model_name} RMSE {rmse}')"
   ]
  },
  {
   "cell_type": "code",
   "execution_count": null,
   "metadata": {},
   "outputs": [],
   "source": []
  }
 ],
 "metadata": {
  "kernelspec": {
   "display_name": "Python 3",
   "language": "python",
   "name": "python3"
  },
  "language_info": {
   "codemirror_mode": {
    "name": "ipython",
    "version": 3
   },
   "file_extension": ".py",
   "mimetype": "text/x-python",
   "name": "python",
   "nbconvert_exporter": "python",
   "pygments_lexer": "ipython3",
   "version": "3.7.6"
  }
 },
 "nbformat": 4,
 "nbformat_minor": 4
}
