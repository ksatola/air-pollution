{
 "cells": [
  {
   "cell_type": "markdown",
   "metadata": {},
   "source": [
    "Work in Progress, version 002\n",
    "\n",
    "<img src=\"images/title.png\" alt=\"Title\" style=\"width: 800px;\"/>"
   ]
  },
  {
   "cell_type": "markdown",
   "metadata": {},
   "source": [
    "## TODOs\n",
    "1. Ustalic tytul pracy w jezyku angielskim (tytuł polski: Przewidywanie poziomu zanieczyszczenia powietrza na podstawie danych z czujników Głównego Inspektoratu Ochrony Środowiska)\n",
    "1. Tytul Angielski?: Effectiveness of different analytical techniques - statistical and machine learning models - in fine particles (PM2.5) level forecasting\n",
    "1. Cala strona tytulowa w jezyku angielskim?\n",
    "1. Sprawdzic tekst w spell-checker."
   ]
  },
  {
   "cell_type": "markdown",
   "metadata": {},
   "source": []
  },
  {
   "cell_type": "markdown",
   "metadata": {},
   "source": [
    "---\n",
    "<a id='toc'></a>\n",
    "\n",
    "## Table of Contents\n",
    "\n",
    "1. done - [Problem Statement](#smog)\n",
    "1. wip - [Research Goal, Approach and Outcome](#goal)\n",
    "1. done - [Project Environment Setup](#env)\n",
    "1. wip - [Data Preparation](#data)\n",
    "1. wip - [Exploratory Data Analysis](#eda)\n",
    "1. wip - [Modelling](#model)\n",
    "1. wip - [Results](#result)\n",
    "1. wip - [Next Steps](#next)\n",
    "1. wip - [Appendices](#append)\n",
    "1. wip - [Resources](#res)"
   ]
  },
  {
   "cell_type": "markdown",
   "metadata": {},
   "source": [
    "---\n",
    "<a id='smog'></a>\n",
    "[go up](#toc)\n",
    "\n",
    "## Problem Statement\n",
    "\n",
    "According to the *World Health Organization (WHO)*, air pollution is the biggest environmental risk to health in the *European Union (EU)* causing each year about 400 000 premature deaths, and hundreds of billions of euro in health related external costs. `Air pollution` occurs when gases, dust particles and smoke are released into the atmosphere, making it harmful to humans, infrastructure and the environment. Particulate matter, nitrogen dioxide and ground level ozone are the air pollutants responsible for most of these early deaths.\n",
    "\n",
    "We call `smog` any combination of air polution, with or without humidity. The term smog (from smoke and fog) was created in early 1900s by the British researcher and doctor H.A. Des Voeux who conducted a research on after effects of air polution problems in Glasgow and Edynburgh in autumn 1909, resulting in 1000 deaths. \n",
    "\n",
    "The history of the problem of smelly smoke produced by forges, mines and other production facilities is very old. In 1273 the first known regulation was made in London regarding forbidden use of powdered coal. Since then there were many efforts put in place to control and improve air in big European and US cities. In 1775, Percivall Pott, a well-known surgeon from London, described many cases of skin cancer of chimney sweeps and linked them to a contact with carbon black. In the industrial era, steam engines of steam locomotives, ships and factory machines became major polution contributors. In 1888, a French professor Maximilien Ringelmann, invented the first way of pollution measurement, a few years later (1906) the first electrical precipitator was made. In the 20th century, new sources of polution became apparent - cars and planes. The air polution (and associated with it global warming) is considered one of the most serious civilizational and environmental challenges of the contemporary world. \n",
    "\n",
    "There are two dimensions of Air pollution and smog - global and local. Globally, it affects global warming. Locally, it influences quality of life and health of people living in different areas.\n",
    "\n",
    "In Poland, environmental awareness started growing slowly in the mid-1950s, but mainly in academia. While the western world put a lot of effort into diversification of energy sources with the main goal of reducing coal, in Poland coal still remains the mainstay of energy source. In the public debate, the main arguments against coal usage reduction are the need of mining industry preservation and destitute society not being able to afford modern, low emission solutions. While the world was improving, many Polish regions and cities started leading in polution rankings. The quality of life - mainly during autumn and winter months - dropped drastically. Ultimately, in the 1990s consistent monitoring programms were put in place and various improvement programs were introduced (with main contribution of UE regulations and funds). Unfortunately the change happens very slowly, mainly due to people's awareness of the problem growing slowly and the limited knowledge of how the improvement should be handled efficiently.\n",
    "\n",
    "The WHO identifies `Particulate Matter (PM)`, nitrogen dioxide (NO2), sulphur dioxide (SO2) and ground-level ozone (O3) as the main air pollutants that are most harmful to human health. The most dangerous of them are `fine particles (PM2.5)` which caused about 400 000 premature deaths of EU citizens in 2014 (and similarily in every consecutive year).\n",
    "\n",
    "Smog cannot be contained by authorities or environmental services alone. It can be only tamed by everyone, including ordinary people who need to understand how bad the smog is and act to replace cacoethes of burning garbage and (low-calorie) coal resulting in harmful substances in the air. It can be tamed by by industry, another significant source of smog. In order to reduce it, we need to increase usage of ecological methods of heating but also in energy (power stations) and industrial production. Replacing old furnances with modern ones with use of air cleaners would also help. \n",
    "\n",
    "Air quality does not only depend on pollution emissions. It also depends on proximity to the source and altitude at which pollutants are released; meteorological conditions, including wind and heat; chemical transformations (reactions to sunlight, pollutant interactions); geographical conditions (topography). Air pollution emissions result mostly from human action (as stated before) but they can also result from forest fires, volcanic eruptions and wind erosion. Air pollution is natural but its extend in the modern world is not.\n",
    "\n",
    "Smog can be very sneaky. It may have greater impact on children who, when becoming adult, may suffer from deseases related to chemical compounds cumulated in their bodies. That is another reason why it is so important to eliminate smog long-term and avoid open air activities (short-term) when smog concentration outside is too high.\n",
    "\n",
    "It is not only important to reduce air pollution but also to understand current air conditions around us to passively reduce its impact on our health by limiting our exposure. This is the main reason for the research described in this dissertation - based on existing air polution sensors' measurements (collected in the Krakow area, a high pollution hotspot). Kraków struggles with very poor air quality, particularly during the winter season. Concentrations of particulate matter (PM10 and PM2.5) and benzo(a)pyrene are exceedingly high throughout the whole region.\n",
    "\n",
    "It important to find best analytical methods for predicting fine particles of particulate matter (PM2.5) level. This should help ordinary people in planning any activities in the open air and reduce impact the air pollution makes to their health."
   ]
  },
  {
   "cell_type": "markdown",
   "metadata": {},
   "source": [
    "---\n",
    "<a id='goal'></a>\n",
    "[go up](#toc)\n",
    "\n",
    "## Research Goal, Approach and Outcome"
   ]
  },
  {
   "cell_type": "markdown",
   "metadata": {},
   "source": [
    "### Research Goal\n",
    "\n",
    "The ultimate goal of this research is creation of:\n",
    "\n",
    "- An air pollution level prediction tool providing 24 hours and 7 days forecasts of particulate Matter (PM), nitrogen dioxide (NO2), sulphur dioxide (SO2) and ground-level ozone (O3) in an easy to understand and use form (web application) to be used for planning open air activities.\n",
    "- A long-term monitoring tool of air pollutants levels and trends to see if the improvement is being made in the fight for fresh air.\n",
    "\n",
    "**The goal of this dissertation is to describe efforts and method for comparison effectiveness of different analytical techniques (statistical and machine learning models) which can be used to predict fine particles (PM2.5) levels.** This is the first step in achiving the ultimate goal in an iterative way.\n",
    "\n",
    "### Approach (first iteration)\n",
    "\n",
    "The problem solution can be divided into following phases (Scientific Method):\n",
    "\n",
    "1. [Define the problem](#smog).\n",
    "1. [Research the study area](#res).\n",
    "1. [Define the goal, method and deliverables (study operationalization)](#goal).\n",
    "1. [Setup an analytical environment and best tools for the job](#env).\n",
    "1. [Collect and pre-process data](#data).\n",
    "1. [Explore and visualize data (statistical analysis)](#eda).\n",
    "1. [Evaluate and compare performance of different available analytical techniques for PM2.5 forecasting (univariate time series modelling)](#model).\n",
    "1. Implement a system (script and automate).\n",
    "1. Present results.\n",
    "1. [Define next iteration steps](#next).\n",
    " \n",
    "\n",
    "### Outcome\n",
    "\n",
    "The outcome of this phase are:\n",
    "- This dissertation, \n",
    "- Set of Jupyter notebooks documenting all analytical activities,\n",
    "- PyCharm project with reusable Python modules.\n",
    "\n",
    "All outcomes are stored and maintaned in a [Github repository](https://github.com/ksatola/air-polution) for reproducible research."
   ]
  },
  {
   "cell_type": "markdown",
   "metadata": {},
   "source": [
    "---\n",
    "<a id='env'></a>\n",
    "[go up](#toc)\n",
    "\n",
    "## Project Environment Setup"
   ]
  },
  {
   "cell_type": "markdown",
   "metadata": {},
   "source": [
    "There are a few technical options (environments) for data science project: Python, R, cloud analytical services (AWS SageMaker, Azure ML) or locally installed software like IBM SPSS or KNIME, to name a few. The approach and toolkit should be chosen based not only on the data scientist's personal preference and professional skills but mainly based on how it would fit the business problem solution' s requirements, cost and timing. How the data product is meant to be used and maintaned after it is created, by whom and how frequent are other factors which should impact technical decisions. Last but not least, it is a good practice to strive for consistency which makes the learning curve for all team members shallower, this is valid not only for a single project but also for a portfolio of all projects being executed in a company, institution or any other kind of organization.\n",
    "\n",
    "### Python\n",
    "This project's technical components will be based mainly on `Python`-related tools and modules. Mainly because most of the components needed are natively available in Python, but also because the final data product is a web app which we want to be able to customize. Building all the pieces in Python, allows full flexibility and increases the speed of combining different components. It also makes it easier to combine ready-to-use components with custom code getting us to the specified point faster.\n",
    "\n",
    "We will use a `Python virtual environment` to separate the dependencies required by this project from all other ones and a global Python configuration on a development machine.\n",
    "\n",
    "### Source Code Repository\n",
    "We will use git and its free web version ([github](https://github.com/)) to manage and share the code. `Git` is a free and open source distributed version control system designed to handle everything from small to very large projects with speed and efficiency.\n",
    "\n",
    "### Jupyter Notebook\n",
    "As a lab environment for experimentation and prototyping we will use Jupyter Notebook (or its more IDE-like version - Jupyter Lab). The `JupyterLab` is a web-based interactive development environment for Jupyter notebooks, code, and data. The `Jupyter Notebook` is an open-source web application that allows you to create and share documents that contain live code, equations, visualizations and narrative text. Uses include: data cleaning and transformation, numerical simulation, statistical modeling, data visualization, machine learning, and much more.\n",
    "\n",
    "### Integrated Development Environment (IDE)\n",
    "As for quick experimentation and work documentation Jupyter is the right choice, for Python code long-term structuring and development, we will use \"The Python IDE for Professional Developers\" - `PyCharm`. It is full-fledged integrated programming environment (IDE) with many configuration and extension options. It is a good choice for Python programming as it can be used for free (Community Edition) and supports good programming practices.\n",
    "\n",
    "The detailed instructions are covered in the [Project Environment](https://github.com/ksatola/air-polution/blob/master/010_Project_Environment_Setup.ipynb) notebook."
   ]
  },
  {
   "cell_type": "markdown",
   "metadata": {},
   "source": [
    "---\n",
    "<a id='data'></a>\n",
    "[go up](#toc)\n",
    "\n",
    "## Data Preparation"
   ]
  },
  {
   "cell_type": "markdown",
   "metadata": {},
   "source": [
    "### Extract Transform Load (ETL)\n",
    "\n",
    "For this project, two main data sources are identified as the most comprehensive:\n",
    "\n",
    "- The website of [Polish Institute of Meteorology and Water Management - National Research Institute](http://site.imgw.datatask.net/sites/default/files/IMGW_About_2019.pdf) - Instytut Meteorologii i Gospodarki Wodnej (IMGW). Among others, the [IMGW data archive](https://dane.imgw.pl/data/dane_pomiarowo_obserwacyjne/dane_meteorologiczne/terminowe/synop/) contains hourly synoptic instruments measurements and observations results (from 1960 to 2020). The synoptic data from 2001 to 2019 is dowloaded on Feb 19th, 2020.\n",
    "- The website of [Polish Inspectorate Of Environmental Protection](http://powietrze.gios.gov.pl/pjp/archives) (GIOS - Glowny Inspektorat Ochrony Srodowiska) dowloaded on Feb 18th, 2020. The data contains measurements of different air pollutants taken in Krakow area.\n",
    "\n",
    "For both sources, different web scraping and data transformation techniques were used. The ETL process is fully automated, so the data can be updated easily in the future. The details (method description, code and results) can be found in the following notebooks:\n",
    "- [ETL of IMGW weather data](https://github.com/ksatola/air-polution/blob/master/020_ETL_Weather.ipynb),\n",
    "- [ETL of GIOS air-pollution data](https://github.com/ksatola/air-polution/blob/master/025_ETL_Pollution.ipynb).\n",
    "\n",
    "In the first iteration of the project, only GIOS data is used (PM10 and PM2.5).\n",
    "\n",
    "### Datasets for Modelling\n"
   ]
  },
  {
   "cell_type": "markdown",
   "metadata": {},
   "source": [
    "---\n",
    "<a id='eda'></a>\n",
    "[go up](#toc)\n",
    "\n",
    "## Exploratory Data Analysis"
   ]
  },
  {
   "cell_type": "markdown",
   "metadata": {},
   "source": [
    "The Exploratory Data Analysis (EDA) in the first iteration of the project covers particulate matter (PM) air pollutants with a special attention to fine particles (PM2.5) which are considered as the most harmful out of all air-pollutants.\n",
    "\n",
    "The data set contains hourly measurements of particulate matter (PM10) and fine particles (PM2.5) taken in Krakow area in the years of 2008-2018. There are 96 388 observations and no missing data.\n",
    "\n"
   ]
  },
  {
   "cell_type": "code",
   "execution_count": null,
   "metadata": {},
   "outputs": [],
   "source": []
  },
  {
   "cell_type": "markdown",
   "metadata": {},
   "source": [
    "---\n",
    "<a id='model'></a>\n",
    "[go up](#toc)\n",
    "\n",
    "## Modelling\n",
    "\n",
    "### Timeseries\n",
    "\n",
    "A time series is a data sequence ordered (or indexed) by time. It is discrete, and the the interval between each point is constant.\n",
    "\n",
    "Univariate Time Series: These are datasets where only a single variable is observed at each time, such as temperature each hour. The example in the previous section is a univariate time series dataset."
   ]
  },
  {
   "cell_type": "code",
   "execution_count": null,
   "metadata": {},
   "outputs": [],
   "source": []
  },
  {
   "cell_type": "markdown",
   "metadata": {},
   "source": [
    "---\n",
    "<a id='result'></a>\n",
    "[go up](#toc)\n",
    "\n",
    "## Results"
   ]
  },
  {
   "cell_type": "code",
   "execution_count": null,
   "metadata": {},
   "outputs": [],
   "source": []
  },
  {
   "cell_type": "markdown",
   "metadata": {},
   "source": [
    "---\n",
    "<a id='next'></a>\n",
    "[go up](#toc)\n",
    "\n",
    "## Next Steps"
   ]
  },
  {
   "cell_type": "markdown",
   "metadata": {},
   "source": [
    "- wykorzystanie API – more up-to-data data access for prediction\n",
    "\t\t- dac wiecej wykresow do aplikacji\n",
    "\t\t- wzbogacenie modelu o dodatkowe predyktory (wymiana piecow, predyktory których nie ma w danych – zewnętrzne uwarunkowania)\n",
    "czynniki zewnetrze\n",
    "- Climat change\n",
    "- Nowe piece grzewcze wymiana w KRK sponsorowana\n",
    "- inne działania wplywajace na poprawe lub pogorszenie zanieczyszczenia powietrza\n",
    "- wieksza precyzja terytorialna – zamiast uśredniania, modele dyfuzji gazow żeby być bardziej precyzyjnym co do konkretnych punktów na mapie\n",
    "\n",
    "- spr. czulosc czujnikow i zakresy bledow pomiaru\n",
    "\n",
    "- Multivariate Time Series: These are datasets where two or more variables are observed at each time. Multivariate data is often more difficult to work with. It is harder to model and often many of the classical methods do not perform well.\n",
    "\n",
    "- zapytac, kiedy beda dane z 2019: http://powietrze.gios.gov.pl/pjp/archives\n",
    "- Dash app published in heroku -> zob. udemy course i heroku docs - czy wystarczy miejsca na dane?"
   ]
  },
  {
   "cell_type": "markdown",
   "metadata": {},
   "source": [
    "---\n",
    "<a id='append'></a>\n",
    "[go up](#toc)\n",
    "\n",
    "## Appendices\n",
    "\n",
    "### English - Polish Vocabulary (temporary)\n",
    "\n",
    "- carbon black (sadza)\n",
    "- electrical precipitator (filtr elektrostatyczny)\n",
    "\n",
    "- Reproducible research is the idea that data analyses, and more generally, scientific claims, are published with their data and software code so that others may verify the findings and build upon them. "
   ]
  },
  {
   "cell_type": "markdown",
   "metadata": {},
   "source": [
    "---\n",
    "<a id='res'></a>\n",
    "[go up](#toc)\n",
    "\n",
    "## Resources"
   ]
  },
  {
   "cell_type": "markdown",
   "metadata": {},
   "source": [
    "### Natural Environment\n",
    "\n",
    "1. [Air pollution: Our health still insufficiently protected](https://op.europa.eu/webpub/eca/special-reports/air-quality-23-2018/en/)\n",
    "1. [European Environment Agency (EEA): Air Pollution](https://www.eea.europa.eu/themes/air)\n",
    "1. [The European environment – state and outlook 2020](http://www.gios.gov.pl/en/eea/highlights-eea-nfp-pl/649-the-european-environment-state-and-outlook-2020)\n",
    "1. [LIFE Integrated Project \"Implementation of Air Quality Plan for Małopolska Region – Małopolska in a healthy atmosphere\"](https://powietrze.malopolska.pl/en/life-project/)\n",
    "1. [Review of evidence on health aspects of air pollution – REVIHAAP Project (Technical Report)](http://www.euro.who.int/__data/assets/pdf_file/0004/193108/REVIHAAP-Final-technical-report-final-version.pdf?ua=1)"
   ]
  },
  {
   "cell_type": "code",
   "execution_count": null,
   "metadata": {},
   "outputs": [],
   "source": []
  },
  {
   "cell_type": "code",
   "execution_count": null,
   "metadata": {},
   "outputs": [],
   "source": []
  }
 ],
 "metadata": {
  "kernelspec": {
   "display_name": "Python 3",
   "language": "python",
   "name": "python3"
  },
  "language_info": {
   "codemirror_mode": {
    "name": "ipython",
    "version": 3
   },
   "file_extension": ".py",
   "mimetype": "text/x-python",
   "name": "python",
   "nbconvert_exporter": "python",
   "pygments_lexer": "ipython3",
   "version": "3.7.6"
  }
 },
 "nbformat": 4,
 "nbformat_minor": 4
}
