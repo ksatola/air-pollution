{
 "cells": [
  {
   "cell_type": "markdown",
   "metadata": {},
   "source": [
    "```\n",
    "From: https://github.com/ksatola\n",
    "Version: 0.1.0\n",
    "```"
   ]
  },
  {
   "cell_type": "markdown",
   "metadata": {},
   "source": [
    "# Model - PM2.5 - Time Series Cross Validation"
   ]
  },
  {
   "cell_type": "markdown",
   "metadata": {},
   "source": [
    "## Contents\n",
    "\n",
    "- [Time series cross validation](#tscv)\n",
    "- [Load daily data](#data_d)\n",
    "- [Time series cross validation example](#tscv)"
   ]
  },
  {
   "cell_type": "code",
   "execution_count": 1,
   "metadata": {},
   "outputs": [],
   "source": [
    "%load_ext autoreload"
   ]
  },
  {
   "cell_type": "code",
   "execution_count": 2,
   "metadata": {},
   "outputs": [],
   "source": [
    "%autoreload 2"
   ]
  },
  {
   "cell_type": "code",
   "execution_count": 3,
   "metadata": {},
   "outputs": [],
   "source": [
    "import sys\n",
    "sys.path.insert(0, '../src')"
   ]
  },
  {
   "cell_type": "code",
   "execution_count": 4,
   "metadata": {},
   "outputs": [],
   "source": [
    "import warnings\n",
    "warnings.filterwarnings('ignore')\n",
    "warnings.simplefilter('ignore')"
   ]
  },
  {
   "cell_type": "code",
   "execution_count": 5,
   "metadata": {},
   "outputs": [],
   "source": [
    "import pandas as pd \n",
    "import numpy as np\n",
    "\n",
    "import matplotlib.pyplot as plt\n",
    "%matplotlib inline"
   ]
  },
  {
   "cell_type": "code",
   "execution_count": 6,
   "metadata": {},
   "outputs": [],
   "source": [
    "from model import (\n",
    "    split_df_for_ts_modelling_date_range\n",
    ")\n",
    "\n",
    "from model import (\n",
    "    get_pm25_data_for_modelling,\n",
    "    split_df_for_ml_modelling,\n",
    "    get_models_for_regression\n",
    ")\n",
    "\n",
    "from measure import (\n",
    "    get_rmse,\n",
    "    score_ml_models\n",
    ")\n",
    "\n",
    "from plot import (\n",
    "    plot_observed_vs_predicted\n",
    ")"
   ]
  },
  {
   "cell_type": "markdown",
   "metadata": {},
   "source": [
    "---\n",
    "<a id='tscv'></a>\n",
    "\n",
    "## Time series cross validation\n",
    "\n",
    "Always validate your cross validation by visualizing it.\n",
    "\n",
    "Because time series data is not `independent identically distributed (i.i.d.)` we cannot use the standard cross validation techniques and randomized assignment of observations to different folds (folds = blocks/chunks). To trust a score of a time series model, it is crutial to ensure that the training set does not exist in the validation set. For `time series cross validation`, we must use a technique that always use training data from the past to predict the future - the training data must always comes before the validation data.\n",
    "\n",
    "`TimeSeriesSplit` is a variation of k-fold which returns first folds as train set and the n-th fold as test set. Note that unlike standard cross-validation methods, successive training sets are supersets of those that come before them. Also, it adds all surplus data to the first training partition, which is always used to train the model. This class can be used to cross-validate time series data samples that are observed at fixed time intervals.\n",
    "\n",
    "<img src=\"images/ts_split_cv.png\" style=\"width: 800px;\"/>\n",
    "From [Cross-validation: evaluating estimator performance](https://scikit-learn.org/stable/modules/cross_validation.html#cross-validation)\n",
    "\n",
    "### Walk Forward Validation\n",
    "Walk Forward Validation procedure:\n",
    "\n",
    "1. Starting at the beginning of the time series, the minimum number of samples in the window is used to train a model.\n",
    "2. The model makes a prediction for the next time step.\n",
    "3. The prediction is stored or evaluated against the known value.\n",
    "4. The window is expanded to include the known value and the process is repeated (go to step 1.)\n",
    "\n",
    "Because this methodology involves moving along the time series one-time step at a time, it is often called `Walk Forward Testing` or `Walk Forward Validation`. Additionally, because a sliding or expanding window is used to train a model, this method is also referred to as `Rolling Window Analysis` or a `Rolling Forecast`.\n",
    "\n",
    "`Walk forward validation` is the gold standard of model evaluation. It is the k-fold cross validation of the time series world and is recommended for your time series projects. This capability is currently not available in scikit-learn, although you could contrive the same effect with a carefully configured `TimeSeriesSplit`."
   ]
  },
  {
   "cell_type": "markdown",
   "metadata": {},
   "source": [
    "---\n",
    "<a id='data_d'></a>\n",
    "\n",
    "## Load daily data"
   ]
  },
  {
   "cell_type": "code",
   "execution_count": 7,
   "metadata": {},
   "outputs": [
    {
     "name": "stderr",
     "output_type": "stream",
     "text": [
      "common.py | 42 | get_pm25_data_for_modelling | 08-Jun-20 16:19:58 | INFO: Dataframe loaded: /Users/ksatola/Documents/git/air-polution/agh/data/dfpm25_2008-2018_daily.hdf\n",
      "common.py | 43 | get_pm25_data_for_modelling | 08-Jun-20 16:19:58 | INFO: Dataframe size: (4019, 1)\n"
     ]
    },
    {
     "data": {
      "text/html": [
       "<div>\n",
       "<style scoped>\n",
       "    .dataframe tbody tr th:only-of-type {\n",
       "        vertical-align: middle;\n",
       "    }\n",
       "\n",
       "    .dataframe tbody tr th {\n",
       "        vertical-align: top;\n",
       "    }\n",
       "\n",
       "    .dataframe thead th {\n",
       "        text-align: right;\n",
       "    }\n",
       "</style>\n",
       "<table border=\"1\" class=\"dataframe\">\n",
       "  <thead>\n",
       "    <tr style=\"text-align: right;\">\n",
       "      <th></th>\n",
       "      <th>pm25</th>\n",
       "    </tr>\n",
       "    <tr>\n",
       "      <th>Datetime</th>\n",
       "      <th></th>\n",
       "    </tr>\n",
       "  </thead>\n",
       "  <tbody>\n",
       "    <tr>\n",
       "      <th>2008-01-01</th>\n",
       "      <td>53.586957</td>\n",
       "    </tr>\n",
       "    <tr>\n",
       "      <th>2008-01-02</th>\n",
       "      <td>30.958333</td>\n",
       "    </tr>\n",
       "    <tr>\n",
       "      <th>2008-01-03</th>\n",
       "      <td>46.104167</td>\n",
       "    </tr>\n",
       "    <tr>\n",
       "      <th>2008-01-04</th>\n",
       "      <td>42.979167</td>\n",
       "    </tr>\n",
       "    <tr>\n",
       "      <th>2008-01-05</th>\n",
       "      <td>57.312500</td>\n",
       "    </tr>\n",
       "  </tbody>\n",
       "</table>\n",
       "</div>"
      ],
      "text/plain": [
       "                 pm25\n",
       "Datetime             \n",
       "2008-01-01  53.586957\n",
       "2008-01-02  30.958333\n",
       "2008-01-03  46.104167\n",
       "2008-01-04  42.979167\n",
       "2008-01-05  57.312500"
      ]
     },
     "execution_count": 7,
     "metadata": {},
     "output_type": "execute_result"
    }
   ],
   "source": [
    "df = get_pm25_data_for_modelling('ts', 'd')\n",
    "df.head()"
   ]
  },
  {
   "cell_type": "markdown",
   "metadata": {},
   "source": [
    "---\n",
    "<a id='data_d'></a>\n",
    "\n",
    "## Time series cross validation example"
   ]
  },
  {
   "cell_type": "code",
   "execution_count": 8,
   "metadata": {},
   "outputs": [],
   "source": [
    "#df = df[-365:].copy()\n",
    "#df = df.reset_index(drop=True)\n",
    "\n",
    "train_range_from_d = '2008-01-01'\n",
    "train_range_to_d = '2018-12-25'\n",
    "test_range_from_d = '2018-12-26'\n",
    "test_range_to_d = None"
   ]
  },
  {
   "cell_type": "code",
   "execution_count": 9,
   "metadata": {},
   "outputs": [
    {
     "name": "stderr",
     "output_type": "stream",
     "text": [
      "common.py | 127 | split_df_for_ts_modelling_date_range | 08-Jun-20 16:20:01 | INFO: Observations: 4019\n",
      "common.py | 128 | split_df_for_ts_modelling_date_range | 08-Jun-20 16:20:01 | INFO: Training Observations: 4012\n",
      "common.py | 129 | split_df_for_ts_modelling_date_range | 08-Jun-20 16:20:01 | INFO: Testing Observations: 7\n",
      "common.py | 131 | split_df_for_ts_modelling_date_range | 08-Jun-20 16:20:01 | INFO: (4019, 1), (4012, 1), (7, 1), 4019\n"
     ]
    }
   ],
   "source": [
    "df_train, df_test = split_df_for_ts_modelling_date_range(df,\n",
    "                                         train_range_from=train_range_from_d,\n",
    "                                         train_range_to=train_range_to_d,\n",
    "                                         test_range_from=test_range_from_d,\n",
    "                                         test_range_to=test_range_to_d)"
   ]
  },
  {
   "cell_type": "code",
   "execution_count": 10,
   "metadata": {},
   "outputs": [
    {
     "name": "stdout",
     "output_type": "stream",
     "text": [
      "Observations: 2006\n",
      "Training Observations: 1003\n",
      "Testing Observations: 1003\n",
      "Observations: 3009\n",
      "Training Observations: 2006\n",
      "Testing Observations: 1003\n",
      "Observations: 4012\n",
      "Training Observations: 3009\n",
      "Testing Observations: 1003\n"
     ]
    },
    {
     "data": {
      "image/png": "[encoded data removed]",
      "text/plain": [
       "<Figure size 432x288 with 3 Axes>"
      ]
     },
     "metadata": {
      "needs_background": "light"
     },
     "output_type": "display_data"
    }
   ],
   "source": [
    "#from pandas import read_csv\n",
    "from sklearn.model_selection import TimeSeriesSplit\n",
    "#from matplotlib import pyplot\n",
    "#series = read_csv('sunspots.csv', header=0, index_col=0)\n",
    "series = df_train\n",
    "X = series.values\n",
    "splits = TimeSeriesSplit(n_splits=3)\n",
    "plt.figure(1)\n",
    "index = 1\n",
    "for train_index, test_index in splits.split(X):\n",
    "    train = X[train_index]\n",
    "    test = X[test_index]\n",
    "    print('Observations: %d' % (len(train) + len(test)))\n",
    "    print('Training Observations: %d' % (len(train)))\n",
    "    print('Testing Observations: %d' % (len(test)))\n",
    "    plt.subplot(310 + index)\n",
    "    plt.plot(train)\n",
    "    plt.plot([None for i in train] + [x for x in test])\n",
    "    index += 1\n",
    "plt.show()"
   ]
  },
  {
   "cell_type": "code",
   "execution_count": null,
   "metadata": {},
   "outputs": [],
   "source": []
  }
 ],
 "metadata": {
  "kernelspec": {
   "display_name": "Python 3",
   "language": "python",
   "name": "python3"
  },
  "language_info": {
   "codemirror_mode": {
    "name": "ipython",
    "version": 3
   },
   "file_extension": ".py",
   "mimetype": "text/x-python",
   "name": "python",
   "nbconvert_exporter": "python",
   "pygments_lexer": "ipython3",
   "version": "3.7.6"
  }
 },
 "nbformat": 4,
 "nbformat_minor": 4
}
