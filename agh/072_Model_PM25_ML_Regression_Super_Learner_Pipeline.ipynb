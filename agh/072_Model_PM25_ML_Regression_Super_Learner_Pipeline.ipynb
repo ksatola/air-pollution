{
 "cells": [
  {
   "cell_type": "markdown",
   "metadata": {},
   "source": [
    "# Models stacking pipeline"
   ]
  },
  {
   "cell_type": "code",
   "execution_count": 1,
   "metadata": {},
   "outputs": [],
   "source": [
    "import sys\n",
    "sys.path.insert(0, '../src')"
   ]
  },
  {
   "cell_type": "code",
   "execution_count": 2,
   "metadata": {},
   "outputs": [],
   "source": [
    "import warnings\n",
    "warnings.filterwarnings('ignore')\n",
    "warnings.simplefilter('ignore')"
   ]
  },
  {
   "cell_type": "code",
   "execution_count": 3,
   "metadata": {},
   "outputs": [],
   "source": [
    "import pandas as pd\n",
    "import numpy as np\n",
    "\n",
    "import matplotlib.pyplot as plt\n",
    "%matplotlib inline\n",
    "\n",
    "import json\n",
    "from typing import Dict\n",
    "\n",
    "from sklearn.model_selection import train_test_split\n",
    "\n",
    "from sklearn.base import BaseEstimator\n",
    "from sklearn.ensemble import AdaBoostRegressor\n",
    "from sklearn.ensemble import BaggingRegressor\n",
    "from sklearn.ensemble import ExtraTreesRegressor\n",
    "from sklearn.ensemble import RandomForestRegressor\n",
    "from sklearn.linear_model import ElasticNet\n",
    "from sklearn.linear_model import LinearRegression\n",
    "from sklearn.neighbors import KNeighborsRegressor\n",
    "from sklearn.svm import SVR\n",
    "from sklearn.tree import DecisionTreeRegressor\n",
    "\n",
    "from sklearn.model_selection import KFold\n",
    "from sklearn.model_selection import cross_val_score\n",
    "from sklearn.model_selection import GridSearchCV\n",
    "from sklearn.model_selection import RandomizedSearchCV\n",
    "from sklearn.metrics import mean_squared_error\n",
    "\n",
    "from model import (\n",
    "    get_pm25_data_for_modelling,\n",
    "    #split_df_for_ts_modelling_percentage,\n",
    "    #split_df_for_ts_modelling_date_range\n",
    ")"
   ]
  },
  {
   "cell_type": "markdown",
   "metadata": {},
   "source": [
    "## Get data"
   ]
  },
  {
   "cell_type": "code",
   "execution_count": 4,
   "metadata": {},
   "outputs": [],
   "source": [
    "def read_json(json_path: str) -> Dict:\n",
    "    \"\"\"\n",
    "    Reads JSON file.\n",
    "    :param json_path: full path to JSON file\n",
    "    :return: Python dictionary\n",
    "    \"\"\"\n",
    "    with open(json_path, 'r') as infile:\n",
    "        return json.load(infile)"
   ]
  },
  {
   "cell_type": "code",
   "execution_count": 5,
   "metadata": {},
   "outputs": [],
   "source": [
    "# Data files: https://github.com/ksatola/air-polution/tree/master/agh/data\n",
    "\n",
    "def get_pm25_data_for_modelling(model_type: str = 'ml',\n",
    "                                forecast_type: str = 'h') -> pd.DataFrame:\n",
    "    \"\"\"\n",
    "    Reads HDF file with analytical view prepared for time series or machine learning modelling.\n",
    "    :param model_type: 'ts' for time series analytical model or 'ml' for machine learning model\n",
    "    :param forecast_type: 'd' for daily or 'h' for hourly data\n",
    "    :return: pandas DataFrame\n",
    "    \"\"\"\n",
    "    config = read_json('../config/pm25_model.json')\n",
    "    data_folder = config['data_folder']\n",
    "\n",
    "    if model_type == 'ml':\n",
    "        if forecast_type == 'h':\n",
    "            data_file_hdf = data_folder + 'dfpm25_2008-2018_ml_24hours_lags.hdf'\n",
    "        else:\n",
    "            data_file_hdf = data_folder + 'dfpm25_2008-2018_ml_7days_lags.hdf'\n",
    "    else:\n",
    "        if forecast_type == 'h':\n",
    "            data_file_hdf = data_folder + 'dfpm25_2008-2018_hourly.hdf'\n",
    "        else:\n",
    "            data_file_hdf = data_folder + 'dfpm25_2008-2018_daily.hdf'\n",
    "\n",
    "    df = pd.read_hdf(path_or_buf=data_file_hdf, key=\"df\")\n",
    "    #logger.info(f'Dataframe loaded: {data_file_hdf}')\n",
    "    #logger.info(f'Dataframe size: {df.shape}')\n",
    "    print(f'Dataframe loaded: {data_file_hdf}')\n",
    "    print(f'Dataframe size: {df.shape}')\n",
    "\n",
    "    return df"
   ]
  },
  {
   "cell_type": "code",
   "execution_count": 6,
   "metadata": {},
   "outputs": [
    {
     "name": "stdout",
     "output_type": "stream",
     "text": [
      "Dataframe loaded: /Users/ksatola/Documents/git/air-polution/agh/data/dfpm25_2008-2018_ml_7days_lags.hdf\n",
      "Dataframe size: (4014, 13)\n"
     ]
    },
    {
     "data": {
      "text/html": [
       "<div>\n",
       "<style scoped>\n",
       "    .dataframe tbody tr th:only-of-type {\n",
       "        vertical-align: middle;\n",
       "    }\n",
       "\n",
       "    .dataframe tbody tr th {\n",
       "        vertical-align: top;\n",
       "    }\n",
       "\n",
       "    .dataframe thead th {\n",
       "        text-align: right;\n",
       "    }\n",
       "</style>\n",
       "<table border=\"1\" class=\"dataframe\">\n",
       "  <thead>\n",
       "    <tr style=\"text-align: right;\">\n",
       "      <th></th>\n",
       "      <th>t</th>\n",
       "      <th>t-1</th>\n",
       "      <th>t-3</th>\n",
       "      <th>t-4</th>\n",
       "      <th>t-5</th>\n",
       "      <th>month</th>\n",
       "      <th>day</th>\n",
       "      <th>hour</th>\n",
       "      <th>dayofyear</th>\n",
       "      <th>weekofyear</th>\n",
       "      <th>dayofweek</th>\n",
       "      <th>quarter</th>\n",
       "      <th>season</th>\n",
       "    </tr>\n",
       "  </thead>\n",
       "  <tbody>\n",
       "    <tr>\n",
       "      <th>0</th>\n",
       "      <td>4.290823</td>\n",
       "      <td>7.381350</td>\n",
       "      <td>5.134971</td>\n",
       "      <td>-16.374909</td>\n",
       "      <td>-47.645172</td>\n",
       "      <td>1</td>\n",
       "      <td>6</td>\n",
       "      <td>0</td>\n",
       "      <td>6</td>\n",
       "      <td>1</td>\n",
       "      <td>6</td>\n",
       "      <td>1</td>\n",
       "      <td>1</td>\n",
       "    </tr>\n",
       "    <tr>\n",
       "      <th>1</th>\n",
       "      <td>13.625808</td>\n",
       "      <td>4.290823</td>\n",
       "      <td>17.628909</td>\n",
       "      <td>5.134971</td>\n",
       "      <td>-16.374909</td>\n",
       "      <td>1</td>\n",
       "      <td>7</td>\n",
       "      <td>0</td>\n",
       "      <td>7</td>\n",
       "      <td>2</td>\n",
       "      <td>0</td>\n",
       "      <td>1</td>\n",
       "      <td>1</td>\n",
       "    </tr>\n",
       "    <tr>\n",
       "      <th>2</th>\n",
       "      <td>-21.621035</td>\n",
       "      <td>13.625808</td>\n",
       "      <td>7.381350</td>\n",
       "      <td>17.628909</td>\n",
       "      <td>5.134971</td>\n",
       "      <td>1</td>\n",
       "      <td>8</td>\n",
       "      <td>0</td>\n",
       "      <td>8</td>\n",
       "      <td>2</td>\n",
       "      <td>1</td>\n",
       "      <td>1</td>\n",
       "      <td>1</td>\n",
       "    </tr>\n",
       "    <tr>\n",
       "      <th>3</th>\n",
       "      <td>8.678291</td>\n",
       "      <td>-21.621035</td>\n",
       "      <td>4.290823</td>\n",
       "      <td>7.381350</td>\n",
       "      <td>17.628909</td>\n",
       "      <td>1</td>\n",
       "      <td>9</td>\n",
       "      <td>0</td>\n",
       "      <td>9</td>\n",
       "      <td>2</td>\n",
       "      <td>2</td>\n",
       "      <td>1</td>\n",
       "      <td>1</td>\n",
       "    </tr>\n",
       "    <tr>\n",
       "      <th>4</th>\n",
       "      <td>11.641890</td>\n",
       "      <td>8.678291</td>\n",
       "      <td>13.625808</td>\n",
       "      <td>4.290823</td>\n",
       "      <td>7.381350</td>\n",
       "      <td>1</td>\n",
       "      <td>10</td>\n",
       "      <td>0</td>\n",
       "      <td>10</td>\n",
       "      <td>2</td>\n",
       "      <td>3</td>\n",
       "      <td>1</td>\n",
       "      <td>1</td>\n",
       "    </tr>\n",
       "  </tbody>\n",
       "</table>\n",
       "</div>"
      ],
      "text/plain": [
       "           t        t-1        t-3        t-4        t-5  month  day  hour  \\\n",
       "0   4.290823   7.381350   5.134971 -16.374909 -47.645172      1    6     0   \n",
       "1  13.625808   4.290823  17.628909   5.134971 -16.374909      1    7     0   \n",
       "2 -21.621035  13.625808   7.381350  17.628909   5.134971      1    8     0   \n",
       "3   8.678291 -21.621035   4.290823   7.381350  17.628909      1    9     0   \n",
       "4  11.641890   8.678291  13.625808   4.290823   7.381350      1   10     0   \n",
       "\n",
       "   dayofyear  weekofyear  dayofweek  quarter  season  \n",
       "0          6           1          6        1       1  \n",
       "1          7           2          0        1       1  \n",
       "2          8           2          1        1       1  \n",
       "3          9           2          2        1       1  \n",
       "4         10           2          3        1       1  "
      ]
     },
     "execution_count": 6,
     "metadata": {},
     "output_type": "execute_result"
    }
   ],
   "source": [
    "dfd = get_pm25_data_for_modelling('ml', 'd')\n",
    "dfd.head()"
   ]
  },
  {
   "cell_type": "markdown",
   "metadata": {},
   "source": [
    "## Train test split"
   ]
  },
  {
   "cell_type": "code",
   "execution_count": 7,
   "metadata": {},
   "outputs": [],
   "source": [
    "def split_df_for_ml_modelling(data: pd.DataFrame, \n",
    "                              target_col: str = 't', \n",
    "                              train_size: float = 0.8) -> (pd.DataFrame, \n",
    "                                                           pd.DataFrame, \n",
    "                                                           pd.DataFrame, \n",
    "                                                           pd.DataFrame):\n",
    "    \"\"\"\n",
    "    Splits pandas DataFrame (columns as features, rows as observations) into train/test split \n",
    "    data frames separately for independent and dependent features.\n",
    "    :param data: pandas DataFrame\n",
    "    :param target_col: name of the target column\n",
    "    :param train_size: train/test split ratio, 0-1, specifies how much data should be but in the\n",
    "    train data set\n",
    "    :return: tuple of four pandas DataFrames: X_train, X_test, y_train, y_test\n",
    "    \"\"\"\n",
    "    # Split dataset into independent variables dataset columns and dependent variable column\n",
    "    # X = df.iloc[:, 1:]\n",
    "    # y = df.iloc[:, :1]\n",
    "    X = data.copy()\n",
    "    y = X.pop(target_col)\n",
    "\n",
    "    # Train test split\n",
    "    X_train, X_test, y_train, y_test = train_test_split(X, y,\n",
    "                                                        test_size=train_size,\n",
    "                                                        random_state=123)\n",
    "    return X_train, X_test, y_train, y_test"
   ]
  },
  {
   "cell_type": "code",
   "execution_count": 8,
   "metadata": {},
   "outputs": [],
   "source": [
    "# Train test split\n",
    "X_train, X_test, y_train, y_test = split_df_for_ml_modelling(data=dfd, \n",
    "                                                             target_col='t', \n",
    "                                                             train_size=0.02) # train_size=0.00024"
   ]
  },
  {
   "cell_type": "code",
   "execution_count": 9,
   "metadata": {},
   "outputs": [
    {
     "data": {
      "text/plain": [
       "(3933, 12)"
      ]
     },
     "execution_count": 9,
     "metadata": {},
     "output_type": "execute_result"
    }
   ],
   "source": [
    "X_train.shape"
   ]
  },
  {
   "cell_type": "code",
   "execution_count": 10,
   "metadata": {},
   "outputs": [
    {
     "data": {
      "text/plain": [
       "(81, 12)"
      ]
     },
     "execution_count": 10,
     "metadata": {},
     "output_type": "execute_result"
    }
   ],
   "source": [
    "X_test.shape"
   ]
  },
  {
   "cell_type": "markdown",
   "metadata": {},
   "source": [
    "## Models initialization"
   ]
  },
  {
   "cell_type": "code",
   "execution_count": 11,
   "metadata": {},
   "outputs": [],
   "source": [
    "def get_models_for_regression() -> list:\n",
    "    \"\"\"\n",
    "    Defines a list of regression models to be used in the modelling.\n",
    "    :return: list of base sklearn models\n",
    "    \"\"\"\n",
    "    models = [LinearRegression(),\n",
    "              ElasticNet(),\n",
    "              SVR(gamma='scale'),\n",
    "              DecisionTreeRegressor(),\n",
    "              KNeighborsRegressor(),\n",
    "              AdaBoostRegressor(),\n",
    "              BaggingRegressor(n_estimators=10),\n",
    "              RandomForestRegressor(n_estimators=10),\n",
    "              ExtraTreesRegressor(n_estimators=10)\n",
    "              ]\n",
    "    return models"
   ]
  },
  {
   "cell_type": "code",
   "execution_count": 12,
   "metadata": {},
   "outputs": [
    {
     "name": "stdout",
     "output_type": "stream",
     "text": [
      "('LinearRegression', LinearRegression(copy_X=True, fit_intercept=True, n_jobs=None, normalize=False))\n",
      "('ElasticNet', ElasticNet(alpha=1.0, copy_X=True, fit_intercept=True, l1_ratio=0.5,\n",
      "           max_iter=1000, normalize=False, positive=False, precompute=False,\n",
      "           random_state=None, selection='cyclic', tol=0.0001, warm_start=False))\n",
      "('SVR', SVR(C=1.0, cache_size=200, coef0=0.0, degree=3, epsilon=0.1, gamma='scale',\n",
      "    kernel='rbf', max_iter=-1, shrinking=True, tol=0.001, verbose=False))\n",
      "('DecisionTreeRegressor', DecisionTreeRegressor(ccp_alpha=0.0, criterion='mse', max_depth=None,\n",
      "                      max_features=None, max_leaf_nodes=None,\n",
      "                      min_impurity_decrease=0.0, min_impurity_split=None,\n",
      "                      min_samples_leaf=1, min_samples_split=2,\n",
      "                      min_weight_fraction_leaf=0.0, presort='deprecated',\n",
      "                      random_state=None, splitter='best'))\n",
      "('KNeighborsRegressor', KNeighborsRegressor(algorithm='auto', leaf_size=30, metric='minkowski',\n",
      "                    metric_params=None, n_jobs=None, n_neighbors=5, p=2,\n",
      "                    weights='uniform'))\n",
      "('AdaBoostRegressor', AdaBoostRegressor(base_estimator=None, learning_rate=1.0, loss='linear',\n",
      "                  n_estimators=50, random_state=None))\n",
      "('BaggingRegressor', BaggingRegressor(base_estimator=None, bootstrap=True, bootstrap_features=False,\n",
      "                 max_features=1.0, max_samples=1.0, n_estimators=10,\n",
      "                 n_jobs=None, oob_score=False, random_state=None, verbose=0,\n",
      "                 warm_start=False))\n",
      "('RandomForestRegressor', RandomForestRegressor(bootstrap=True, ccp_alpha=0.0, criterion='mse',\n",
      "                      max_depth=None, max_features='auto', max_leaf_nodes=None,\n",
      "                      max_samples=None, min_impurity_decrease=0.0,\n",
      "                      min_impurity_split=None, min_samples_leaf=1,\n",
      "                      min_samples_split=2, min_weight_fraction_leaf=0.0,\n",
      "                      n_estimators=10, n_jobs=None, oob_score=False,\n",
      "                      random_state=None, verbose=0, warm_start=False))\n",
      "('ExtraTreesRegressor', ExtraTreesRegressor(bootstrap=False, ccp_alpha=0.0, criterion='mse',\n",
      "                    max_depth=None, max_features='auto', max_leaf_nodes=None,\n",
      "                    max_samples=None, min_impurity_decrease=0.0,\n",
      "                    min_impurity_split=None, min_samples_leaf=1,\n",
      "                    min_samples_split=2, min_weight_fraction_leaf=0.0,\n",
      "                    n_estimators=10, n_jobs=None, oob_score=False,\n",
      "                    random_state=None, verbose=0, warm_start=False))\n"
     ]
    }
   ],
   "source": [
    "# Define regression models in scope\n",
    "reg_models = get_models_for_regression()\n",
    "models = []\n",
    "\n",
    "for model in reg_models:\n",
    "    item = (type(model).__name__, model)\n",
    "    models.append(item)\n",
    "    print(item)"
   ]
  },
  {
   "cell_type": "markdown",
   "metadata": {},
   "source": [
    "## Initial ranking"
   ]
  },
  {
   "cell_type": "code",
   "execution_count": 13,
   "metadata": {},
   "outputs": [],
   "source": [
    "def score_ml_models(X_train: pd.DataFrame,\n",
    "                    y_train: pd.DataFrame,\n",
    "                    models: list,\n",
    "                    n_splits: int,\n",
    "                    metric: str,\n",
    "                    metric_label: str) -> (list, list, list):\n",
    "    \"\"\"\n",
    "    Calculates a metric for a dataset and list of models.\n",
    "    :param X_train: pandas DataFrame with independent variables\n",
    "    :param y_train: pandas DataFrame with dependent variable\n",
    "    :param models: list of models\n",
    "    :param n_splits: number of splits for kFold cross validation\n",
    "    :param metric: scoring name as defined in\n",
    "    https://scikit-learn.org/stable/modules/model_evaluation.html\n",
    "    :param metric_label: label for the scoring name\n",
    "    :return: tuple of three lists: output strings, cross validation results for each model,\n",
    "    model name\n",
    "    \"\"\"\n",
    "    names = []\n",
    "    results = []\n",
    "    output = []\n",
    "\n",
    "    for name, model in models:\n",
    "        names.append(name)\n",
    "        try:\n",
    "        # Not all scoring metrics are available for all models\n",
    "            kfold = KFold(n_splits=n_splits)\n",
    "            cv_results = cross_val_score(model, X_train, y_train, cv=kfold, scoring=metric)\n",
    "            results.append(cv_results)\n",
    "            output.append(\n",
    "            f'{name}, {metric_label} {-cv_results.mean()}, (std. dev. {cv_results.std()})')\n",
    "        except:\n",
    "            output.append(f'{name} {metric_label} metric unavailable)')\n",
    "\n",
    "    return output, results, names"
   ]
  },
  {
   "cell_type": "code",
   "execution_count": 14,
   "metadata": {},
   "outputs": [
    {
     "name": "stdout",
     "output_type": "stream",
     "text": [
      "LinearRegression, RMSE 13.143886676634612, (std. dev. 0.42758394413212353)\n",
      "ElasticNet, RMSE 13.131853794028634, (std. dev. 0.43576815454789974)\n",
      "SVR, RMSE 13.823720574691311, (std. dev. 0.2945517705423598)\n",
      "DecisionTreeRegressor, RMSE 19.15617659638259, (std. dev. 0.8308203555667868)\n",
      "KNeighborsRegressor, RMSE 14.588892279746142, (std. dev. 0.4463272629786315)\n",
      "AdaBoostRegressor, RMSE 13.98362680122381, (std. dev. 0.24964742384039304)\n",
      "BaggingRegressor, RMSE 14.298376666984037, (std. dev. 0.2468847093716878)\n",
      "RandomForestRegressor, RMSE 14.392480519903694, (std. dev. 0.45607276871301794)\n",
      "ExtraTreesRegressor, RMSE 14.393524860652239, (std. dev. 0.4362151151877618)\n",
      "CPU times: user 5.7 s, sys: 255 ms, total: 5.95 s\n",
      "Wall time: 5.18 s\n"
     ]
    }
   ],
   "source": [
    "%%time\n",
    "# Perform initial ranking\n",
    "scores, results, names = score_ml_models(X_train=X_train,\n",
    "                                         y_train=y_train,\n",
    "                                         models=models,\n",
    "                                         n_splits = 5,\n",
    "                                         metric='neg_root_mean_squared_error',\n",
    "                                         metric_label=\"RMSE\")\n",
    "for score in scores:\n",
    "    print(score)"
   ]
  },
  {
   "cell_type": "code",
   "execution_count": 15,
   "metadata": {},
   "outputs": [
    {
     "data": {
      "image/png": "[encoded data removed]",
      "text/plain": [
       "<Figure size 1296x576 with 1 Axes>"
      ]
     },
     "metadata": {
      "needs_background": "light"
     },
     "output_type": "display_data"
    }
   ],
   "source": [
    "# Compare Algorithms\n",
    "fig = plt.figure(figsize=(18, 8))\n",
    "fig.suptitle('Algorithms Comparison - RMSE')\n",
    "ax = fig.add_subplot(111)\n",
    "plt.boxplot(results)\n",
    "ax.set_xticklabels(names)\n",
    "plt.savefig('images/ml_comparison_rmse_d.png')\n",
    "plt.show();"
   ]
  },
  {
   "cell_type": "markdown",
   "metadata": {},
   "source": [
    "## Hyper-parameter Tuning (2 methods & 3 exemplary models)"
   ]
  },
  {
   "cell_type": "code",
   "execution_count": 16,
   "metadata": {},
   "outputs": [
    {
     "name": "stdout",
     "output_type": "stream",
     "text": [
      "CPU times: user 10 µs, sys: 4 µs, total: 14 µs\n",
      "Wall time: 16 µs\n"
     ]
    }
   ],
   "source": [
    "%%time\n",
    "# LinearRegression\n",
    "param_grid = {\n",
    "    \"alpha\": [0.0001, 0.001, 0.01, 0.1, 1],\n",
    "    \"l1_ratio\": np.arange(0.0, 1.0, 0.1),\n",
    "    \"max_iter\": [1, 10, 100, 1000],\n",
    "    \"fit_intercept\": [True, False],\n",
    "    \"selection\": [\"cyclic\", \"random\"]\n",
    "}\n",
    "model = models[1][1]"
   ]
  },
  {
   "cell_type": "code",
   "execution_count": 17,
   "metadata": {},
   "outputs": [],
   "source": [
    "def perform_grid_search_cv2(X_train, y_train, model, param_grid, scoring, num_folds = 6, seed = 123):\n",
    "\n",
    "    kfold = KFold(n_splits=num_folds, random_state=seed)\n",
    "    grid = GridSearchCV(estimator=model, param_grid=param_grid, scoring=scoring, cv=kfold)\n",
    "    grid_result = grid.fit(X_train, y_train)\n",
    "\n",
    "    means = grid_result.cv_results_['mean_test_score'] \n",
    "    stds = grid_result.cv_results_['std_test_score'] \n",
    "    params = grid_result.cv_results_['params']\n",
    "\n",
    "    #for mean, stdev, param in zip(means, stds, params):\n",
    "        #print(\"{:0.2f} ({:0.2f}) with: {}\".format(mean, stdev, param))\n",
    "    #print('-------')\n",
    "    print(f'Best: {grid_result.best_score_} using {grid_result.best_params_}')"
   ]
  },
  {
   "cell_type": "code",
   "execution_count": 18,
   "metadata": {},
   "outputs": [
    {
     "name": "stdout",
     "output_type": "stream",
     "text": [
      "Best: -13.125668218478436 using {'alpha': 1, 'fit_intercept': False, 'l1_ratio': 0.7000000000000001, 'max_iter': 10, 'selection': 'random'}\n",
      "CPU times: user 2min 7s, sys: 14.7 s, total: 2min 22s\n",
      "Wall time: 36 s\n"
     ]
    }
   ],
   "source": [
    "%%time\n",
    "perform_grid_search_cv2(X_train=X_train, \n",
    "                        y_train=y_train, \n",
    "                        model=model, \n",
    "                        param_grid=param_grid, \n",
    "                        scoring='neg_root_mean_squared_error', \n",
    "                        num_folds=6, \n",
    "                        seed=123)"
   ]
  },
  {
   "cell_type": "code",
   "execution_count": 19,
   "metadata": {},
   "outputs": [
    {
     "name": "stdout",
     "output_type": "stream",
     "text": [
      "CPU times: user 31 µs, sys: 4 µs, total: 35 µs\n",
      "Wall time: 10 µs\n"
     ]
    }
   ],
   "source": [
    "%%time\n",
    "# AdaBoostRegressor\n",
    "param_grid = {\n",
    "    \"base_estimator\": [models[0][1]],\n",
    "    \"n_estimators\": [100, 200],#, 500, 1000, 5000, 10000],\n",
    "    \"loss\": [\"linear\"]#, \"square\", \"exponential\"]\n",
    "}\n",
    "model = models[5][1]"
   ]
  },
  {
   "cell_type": "code",
   "execution_count": 20,
   "metadata": {},
   "outputs": [],
   "source": [
    "def perform_random_search_cv2(X_train, y_train, model, param_grid, scoring, num_folds = 6, seed = 123):\n",
    "\n",
    "    kfold = KFold(n_splits=num_folds, random_state=seed)\n",
    "    grid = RandomizedSearchCV(estimator=model,\n",
    "                            param_distributions=param_grid,\n",
    "                            scoring=scoring,\n",
    "                            verbose=1, \n",
    "                            n_jobs=-1,\n",
    "                            n_iter=1000)\n",
    "    grid_result = grid.fit(X_train, y_train)\n",
    "\n",
    "    means = grid_result.cv_results_['mean_test_score'] \n",
    "    stds = grid_result.cv_results_['std_test_score'] \n",
    "    params = grid_result.cv_results_['params']\n",
    "\n",
    "    #for mean, stdev, param in zip(means, stds, params):\n",
    "        #print(\"{:0.2f} ({:0.2f}) with: {}\".format(mean, stdev, param))\n",
    "    #print('-------')\n",
    "    print(f'Best: {grid_result.best_score_} using {grid_result.best_params_}')"
   ]
  },
  {
   "cell_type": "code",
   "execution_count": 21,
   "metadata": {},
   "outputs": [
    {
     "name": "stdout",
     "output_type": "stream",
     "text": [
      "Fitting 5 folds for each of 2 candidates, totalling 10 fits\n"
     ]
    },
    {
     "name": "stderr",
     "output_type": "stream",
     "text": [
      "[Parallel(n_jobs=-1)]: Using backend LokyBackend with 8 concurrent workers.\n"
     ]
    },
    {
     "name": "stdout",
     "output_type": "stream",
     "text": [
      "Best: -13.280370252663058 using {'n_estimators': 200, 'loss': 'linear', 'base_estimator': LinearRegression(copy_X=True, fit_intercept=True, n_jobs=None, normalize=False)}\n",
      "CPU times: user 253 ms, sys: 137 ms, total: 390 ms\n",
      "Wall time: 1.59 s\n"
     ]
    },
    {
     "name": "stderr",
     "output_type": "stream",
     "text": [
      "[Parallel(n_jobs=-1)]: Done   6 out of  10 | elapsed:    1.5s remaining:    1.0s\n",
      "[Parallel(n_jobs=-1)]: Done  10 out of  10 | elapsed:    1.5s finished\n"
     ]
    }
   ],
   "source": [
    "%%time\n",
    "#AdaBoostRegressor - Random Search\n",
    "perform_random_search_cv2(X_train=X_train, \n",
    "                        y_train=y_train, \n",
    "                        model=model, \n",
    "                        param_grid=param_grid, \n",
    "                        scoring='neg_root_mean_squared_error', \n",
    "                        num_folds=6, \n",
    "                        seed=123)"
   ]
  },
  {
   "cell_type": "code",
   "execution_count": 22,
   "metadata": {},
   "outputs": [
    {
     "name": "stdout",
     "output_type": "stream",
     "text": [
      "CPU times: user 21 µs, sys: 41 µs, total: 62 µs\n",
      "Wall time: 15 µs\n"
     ]
    }
   ],
   "source": [
    "%%time\n",
    "# BaggingRegressor\n",
    "param_grid = {\n",
    "    \"base_estimator\": [models[0][1]],\n",
    "    \"n_estimators\": [100, 200],#, 500, 1000, 5000, 10000],\n",
    "    \"bootstrap\": [True, False],\n",
    "    \"n_jobs\": [-1]\n",
    "}\n",
    "model = models[6][1]"
   ]
  },
  {
   "cell_type": "code",
   "execution_count": 23,
   "metadata": {},
   "outputs": [
    {
     "name": "stderr",
     "output_type": "stream",
     "text": [
      "[Parallel(n_jobs=-1)]: Using backend LokyBackend with 8 concurrent workers.\n"
     ]
    },
    {
     "name": "stdout",
     "output_type": "stream",
     "text": [
      "Fitting 5 folds for each of 4 candidates, totalling 20 fits\n",
      "Best: -13.141751073262611 using {'n_jobs': -1, 'n_estimators': 100, 'bootstrap': True, 'base_estimator': LinearRegression(copy_X=True, fit_intercept=True, n_jobs=None, normalize=False)}\n",
      "CPU times: user 132 ms, sys: 75.9 ms, total: 207 ms\n",
      "Wall time: 2.3 s\n"
     ]
    },
    {
     "name": "stderr",
     "output_type": "stream",
     "text": [
      "[Parallel(n_jobs=-1)]: Done  20 out of  20 | elapsed:    2.2s finished\n"
     ]
    }
   ],
   "source": [
    "%%time\n",
    "# BaggingRegressor - Random Search\n",
    "perform_random_search_cv2(X_train=X_train, \n",
    "                        y_train=y_train, \n",
    "                        model=model, \n",
    "                        param_grid=param_grid, \n",
    "                        scoring='neg_root_mean_squared_error', \n",
    "                        num_folds=6, \n",
    "                        seed=123)"
   ]
  },
  {
   "cell_type": "markdown",
   "metadata": {},
   "source": [
    "## Evaluate best models on test dataset"
   ]
  },
  {
   "cell_type": "code",
   "execution_count": 24,
   "metadata": {},
   "outputs": [
    {
     "name": "stdout",
     "output_type": "stream",
     "text": [
      "('LinearRegression', LinearRegression(copy_X=True,\n",
      "                 fit_intercept={'alpha': 0.1, 'fit_intercept': True,\n",
      "                                'l1_ratio': 0.9, 'max_iter': 10,\n",
      "                                'selection': 'cyclic'},\n",
      "                 n_jobs=None, normalize=False))\n",
      "('BaggingRegressor', BaggingRegressor(base_estimator=LinearRegression(copy_X=True,\n",
      "                                                 fit_intercept=True,\n",
      "                                                 n_jobs=None, normalize=False),\n",
      "                 bootstrap=True, bootstrap_features=False, max_features=1.0,\n",
      "                 max_samples=1.0, n_estimators=500, n_jobs=-1, oob_score=False,\n",
      "                 random_state=None, verbose=0, warm_start=False))\n"
     ]
    }
   ],
   "source": [
    "best_models = [\n",
    "    LinearRegression({'selection': 'cyclic', 'max_iter': 10, 'l1_ratio': 0.9, 'fit_intercept': True, 'alpha': 0.1}),\n",
    "    #ElasticNet(**{'alpha': 0.1, 'fit_intercept': True, 'l1_ratio': 0.9, 'max_iter': 10, 'selection': 'cyclic'}),\n",
    "    BaggingRegressor(**{'base_estimator': LinearRegression(copy_X=True, fit_intercept=True, n_jobs=None, normalize=False), 'bootstrap': True, 'n_estimators': 500, 'n_jobs': -1}),\n",
    "    #RandomForestRegressor(**{'n_jobs': -1, 'n_estimators': 500, 'min_samples_leaf': 4, 'max_features': 'auto', 'max_depth': 10, 'ccp_alpha': 0}),\n",
    "    #ExtraTreesRegressor(**{'n_jobs': -1, 'n_estimators': 500, 'min_samples_leaf': 4, 'max_depth': 20, 'ccp_alpha': 0})\n",
    "]\n",
    "\n",
    "models = []\n",
    "\n",
    "for model in best_models:\n",
    "    item = (type(model).__name__, model)\n",
    "    models.append(item)\n",
    "    print(item)"
   ]
  },
  {
   "cell_type": "code",
   "execution_count": 25,
   "metadata": {},
   "outputs": [
    {
     "name": "stdout",
     "output_type": "stream",
     "text": [
      "LinearRegression, RMSE 13.048955489499978, (std. dev. 1.579505939681471)\n",
      "BaggingRegressor, RMSE 12.956500052057915, (std. dev. 1.4879616402005373)\n"
     ]
    }
   ],
   "source": [
    "scores, results, names = score_ml_models(X_train=X_test,\n",
    "                                         y_train=y_test,\n",
    "                                         models=models,\n",
    "                                         n_splits = 5,\n",
    "                                         metric='neg_root_mean_squared_error',\n",
    "                                         metric_label=\"RMSE\")\n",
    "\n",
    "for score in scores:\n",
    "    print(score)"
   ]
  },
  {
   "cell_type": "markdown",
   "metadata": {},
   "source": [
    "## Super learner (stacking)"
   ]
  },
  {
   "cell_type": "code",
   "execution_count": 26,
   "metadata": {},
   "outputs": [
    {
     "name": "stdout",
     "output_type": "stream",
     "text": [
      "LinearRegression\n",
      "BaggingRegressor\n"
     ]
    }
   ],
   "source": [
    "# Define regression models in scope\n",
    "models = best_models\n",
    "\n",
    "for model in models:\n",
    "    print(type(model).__name__)"
   ]
  },
  {
   "cell_type": "markdown",
   "metadata": {},
   "source": [
    "## Analytical view for the Super learner (based on predictions of basic models)"
   ]
  },
  {
   "cell_type": "code",
   "execution_count": 27,
   "metadata": {},
   "outputs": [],
   "source": [
    "def get_analytical_view_for_meta_model(X_train: pd.DataFrame,\n",
    "                                       y_train: pd.DataFrame,\n",
    "                                       models: list,\n",
    "                                       n_splits: int = 10\n",
    "                                       ) -> (pd.DataFrame, pd.DataFrame):\n",
    "    \"\"\"\n",
    "    Builds an analytical view based on kFold predictions of base models to be used by another\n",
    "    model (out-of-fold predictions).\n",
    "    :param X_train: input variables (pandas DataFrame)\n",
    "    :param y_train: target variables (pandas DataFrame)\n",
    "    :param models: list of base models\n",
    "    :param n_splits: number of KFold splits\n",
    "    :return: tuple of two pandas DataFrames, one with new input variables, and second with\n",
    "    corresponding target variables (a copy of y_train)\n",
    "    \"\"\"\n",
    "\n",
    "    # Define split of data\n",
    "    kfold = KFold(n_splits=n_splits, shuffle=True)\n",
    "\n",
    "    # Prepare empty data frame with column names (columns as models)\n",
    "    columns = [type(model).__name__ for model in models]\n",
    "    # and add target column\n",
    "    columns = columns.append(y_train.columns[0])\n",
    "    meta_X = pd.DataFrame(columns=columns)\n",
    "\n",
    "    cv_fold_number = 1\n",
    "\n",
    "    for train_indices, test_indices in kfold.split(X_train):\n",
    "        #logger.debug(f'train: {train_indices}, len: {len(train_indices)}')\n",
    "        #logger.debug(f'test: {test_indices}, len: {len(test_indices)}')\n",
    "\n",
    "        #logger.info(f'CV fold number -> {cv_fold_number}')\n",
    "        print(f'CV fold number -> {cv_fold_number}')\n",
    "        cv_fold_number += 1\n",
    "\n",
    "        # Get data\n",
    "        train_X, test_X = X_train.iloc[train_indices], X_train.iloc[test_indices]\n",
    "        train_y, test_y = y_train.iloc[train_indices], y_train.iloc[test_indices]\n",
    "        #logger.debug(f'train_indices {train_indices.shape}')\n",
    "        #logger.debug(f'test_indices {test_indices.shape}')\n",
    "\n",
    "        # Add target variable\n",
    "        fold_yhats = test_y.copy()\n",
    "\n",
    "        # Fit and make predictions with each sub-model\n",
    "        for model in models:\n",
    "            model_name = type(model).__name__\n",
    "            model.fit(train_X, train_y)\n",
    "            yhat = model.predict(test_X)\n",
    "            #logger.info(model_name)\n",
    "            #logger.debug(f'train_X.shape {train_X.shape}')\n",
    "            #logger.debug(f'train_y.shape {train_y.shape}')\n",
    "            #logger.debug(f'yhat.shape {yhat.shape}')\n",
    "            print(model_name)\n",
    "\n",
    "            # Build fold-level results data frame, models as features\n",
    "            fold_yhats[f'{model_name}'] = yhat\n",
    "\n",
    "        #logger.debug(f'meta_X shape {meta_X.shape}')\n",
    "        meta_X = pd.concat([meta_X, fold_yhats])\n",
    "\n",
    "    # Take the target variable out from the dataset\n",
    "    meta_y = meta_X.pop(y_train.columns[0]).to_frame()\n",
    "\n",
    "    return meta_X, meta_y"
   ]
  },
  {
   "cell_type": "code",
   "execution_count": 28,
   "metadata": {},
   "outputs": [
    {
     "data": {
      "text/html": [
       "<div>\n",
       "<style scoped>\n",
       "    .dataframe tbody tr th:only-of-type {\n",
       "        vertical-align: middle;\n",
       "    }\n",
       "\n",
       "    .dataframe tbody tr th {\n",
       "        vertical-align: top;\n",
       "    }\n",
       "\n",
       "    .dataframe thead th {\n",
       "        text-align: right;\n",
       "    }\n",
       "</style>\n",
       "<table border=\"1\" class=\"dataframe\">\n",
       "  <thead>\n",
       "    <tr style=\"text-align: right;\">\n",
       "      <th></th>\n",
       "      <th>t</th>\n",
       "    </tr>\n",
       "  </thead>\n",
       "  <tbody>\n",
       "    <tr>\n",
       "      <th>565</th>\n",
       "      <td>1.986208</td>\n",
       "    </tr>\n",
       "    <tr>\n",
       "      <th>3510</th>\n",
       "      <td>0.543645</td>\n",
       "    </tr>\n",
       "    <tr>\n",
       "      <th>2845</th>\n",
       "      <td>-19.756946</td>\n",
       "    </tr>\n",
       "    <tr>\n",
       "      <th>380</th>\n",
       "      <td>11.018518</td>\n",
       "    </tr>\n",
       "    <tr>\n",
       "      <th>809</th>\n",
       "      <td>-4.554063</td>\n",
       "    </tr>\n",
       "    <tr>\n",
       "      <th>...</th>\n",
       "      <td>...</td>\n",
       "    </tr>\n",
       "    <tr>\n",
       "      <th>1122</th>\n",
       "      <td>25.192456</td>\n",
       "    </tr>\n",
       "    <tr>\n",
       "      <th>1346</th>\n",
       "      <td>0.237439</td>\n",
       "    </tr>\n",
       "    <tr>\n",
       "      <th>3454</th>\n",
       "      <td>-2.599563</td>\n",
       "    </tr>\n",
       "    <tr>\n",
       "      <th>3437</th>\n",
       "      <td>-2.691479</td>\n",
       "    </tr>\n",
       "    <tr>\n",
       "      <th>3582</th>\n",
       "      <td>0.175861</td>\n",
       "    </tr>\n",
       "  </tbody>\n",
       "</table>\n",
       "<p>3933 rows × 1 columns</p>\n",
       "</div>"
      ],
      "text/plain": [
       "              t\n",
       "565    1.986208\n",
       "3510   0.543645\n",
       "2845 -19.756946\n",
       "380   11.018518\n",
       "809   -4.554063\n",
       "...         ...\n",
       "1122  25.192456\n",
       "1346   0.237439\n",
       "3454  -2.599563\n",
       "3437  -2.691479\n",
       "3582   0.175861\n",
       "\n",
       "[3933 rows x 1 columns]"
      ]
     },
     "execution_count": 28,
     "metadata": {},
     "output_type": "execute_result"
    }
   ],
   "source": [
    "y_train.to_frame()"
   ]
  },
  {
   "cell_type": "code",
   "execution_count": 29,
   "metadata": {},
   "outputs": [
    {
     "name": "stdout",
     "output_type": "stream",
     "text": [
      "CV fold number -> 1\n",
      "LinearRegression\n",
      "BaggingRegressor\n",
      "CV fold number -> 2\n",
      "LinearRegression\n",
      "BaggingRegressor\n",
      "CV fold number -> 3\n",
      "LinearRegression\n",
      "BaggingRegressor\n",
      "CV fold number -> 4\n",
      "LinearRegression\n",
      "BaggingRegressor\n",
      "CV fold number -> 5\n",
      "LinearRegression\n",
      "BaggingRegressor\n",
      "CV fold number -> 6\n",
      "LinearRegression\n",
      "BaggingRegressor\n",
      "CV fold number -> 7\n",
      "LinearRegression\n",
      "BaggingRegressor\n",
      "CV fold number -> 8\n",
      "LinearRegression\n",
      "BaggingRegressor\n",
      "CV fold number -> 9\n",
      "LinearRegression\n",
      "BaggingRegressor\n",
      "CV fold number -> 10\n",
      "LinearRegression\n",
      "BaggingRegressor\n",
      "CPU times: user 2.29 s, sys: 191 ms, total: 2.48 s\n",
      "Wall time: 4.84 s\n"
     ]
    }
   ],
   "source": [
    "%%time\n",
    "meta_X, meta_y = get_analytical_view_for_meta_model(X_train, y_train.to_frame(), models, n_splits=10)"
   ]
  },
  {
   "cell_type": "code",
   "execution_count": 30,
   "metadata": {},
   "outputs": [
    {
     "data": {
      "text/html": [
       "<div>\n",
       "<style scoped>\n",
       "    .dataframe tbody tr th:only-of-type {\n",
       "        vertical-align: middle;\n",
       "    }\n",
       "\n",
       "    .dataframe tbody tr th {\n",
       "        vertical-align: top;\n",
       "    }\n",
       "\n",
       "    .dataframe thead th {\n",
       "        text-align: right;\n",
       "    }\n",
       "</style>\n",
       "<table border=\"1\" class=\"dataframe\">\n",
       "  <thead>\n",
       "    <tr style=\"text-align: right;\">\n",
       "      <th></th>\n",
       "      <th>LinearRegression</th>\n",
       "      <th>BaggingRegressor</th>\n",
       "    </tr>\n",
       "  </thead>\n",
       "  <tbody>\n",
       "    <tr>\n",
       "      <th>380</th>\n",
       "      <td>9.520451</td>\n",
       "      <td>9.465197</td>\n",
       "    </tr>\n",
       "    <tr>\n",
       "      <th>1700</th>\n",
       "      <td>-0.985653</td>\n",
       "      <td>-1.054339</td>\n",
       "    </tr>\n",
       "    <tr>\n",
       "      <th>602</th>\n",
       "      <td>1.731567</td>\n",
       "      <td>1.803878</td>\n",
       "    </tr>\n",
       "    <tr>\n",
       "      <th>2415</th>\n",
       "      <td>-0.092566</td>\n",
       "      <td>-0.061413</td>\n",
       "    </tr>\n",
       "    <tr>\n",
       "      <th>2256</th>\n",
       "      <td>0.607761</td>\n",
       "      <td>0.584574</td>\n",
       "    </tr>\n",
       "  </tbody>\n",
       "</table>\n",
       "</div>"
      ],
      "text/plain": [
       "      LinearRegression  BaggingRegressor\n",
       "380           9.520451          9.465197\n",
       "1700         -0.985653         -1.054339\n",
       "602           1.731567          1.803878\n",
       "2415         -0.092566         -0.061413\n",
       "2256          0.607761          0.584574"
      ]
     },
     "execution_count": 30,
     "metadata": {},
     "output_type": "execute_result"
    }
   ],
   "source": [
    "meta_X.head()"
   ]
  },
  {
   "cell_type": "code",
   "execution_count": 31,
   "metadata": {},
   "outputs": [
    {
     "data": {
      "text/html": [
       "<div>\n",
       "<style scoped>\n",
       "    .dataframe tbody tr th:only-of-type {\n",
       "        vertical-align: middle;\n",
       "    }\n",
       "\n",
       "    .dataframe tbody tr th {\n",
       "        vertical-align: top;\n",
       "    }\n",
       "\n",
       "    .dataframe thead th {\n",
       "        text-align: right;\n",
       "    }\n",
       "</style>\n",
       "<table border=\"1\" class=\"dataframe\">\n",
       "  <thead>\n",
       "    <tr style=\"text-align: right;\">\n",
       "      <th></th>\n",
       "      <th>t</th>\n",
       "    </tr>\n",
       "  </thead>\n",
       "  <tbody>\n",
       "    <tr>\n",
       "      <th>380</th>\n",
       "      <td>11.018518</td>\n",
       "    </tr>\n",
       "    <tr>\n",
       "      <th>1700</th>\n",
       "      <td>-8.015220</td>\n",
       "    </tr>\n",
       "    <tr>\n",
       "      <th>602</th>\n",
       "      <td>4.828153</td>\n",
       "    </tr>\n",
       "    <tr>\n",
       "      <th>2415</th>\n",
       "      <td>-4.309594</td>\n",
       "    </tr>\n",
       "    <tr>\n",
       "      <th>2256</th>\n",
       "      <td>18.147460</td>\n",
       "    </tr>\n",
       "  </tbody>\n",
       "</table>\n",
       "</div>"
      ],
      "text/plain": [
       "              t\n",
       "380   11.018518\n",
       "1700  -8.015220\n",
       "602    4.828153\n",
       "2415  -4.309594\n",
       "2256  18.147460"
      ]
     },
     "execution_count": 31,
     "metadata": {},
     "output_type": "execute_result"
    }
   ],
   "source": [
    "meta_y.head()"
   ]
  },
  {
   "cell_type": "markdown",
   "metadata": {},
   "source": [
    "## Modelling"
   ]
  },
  {
   "cell_type": "code",
   "execution_count": 32,
   "metadata": {},
   "outputs": [],
   "source": [
    "def fit_base_models(X_train: pd.DataFrame,\n",
    "                    y_train: pd.DataFrame,\n",
    "                    models) -> list:\n",
    "    \"\"\"\n",
    "    Fits all base models on the training dataset.\n",
    "    :param X_train: input variables (pandas DataFrame)\n",
    "    :param y_train: target variables (pandas DataFrame)\n",
    "    :param models: list of base models\n",
    "    :return: list of fitted sklearn models\n",
    "    \"\"\"\n",
    "    for model in models:\n",
    "        model.fit(X_train, y_train)\n",
    "\n",
    "    return models"
   ]
  },
  {
   "cell_type": "code",
   "execution_count": 33,
   "metadata": {},
   "outputs": [
    {
     "name": "stdout",
     "output_type": "stream",
     "text": [
      "CPU times: user 64.4 ms, sys: 10.1 ms, total: 74.5 ms\n",
      "Wall time: 363 ms\n"
     ]
    }
   ],
   "source": [
    "%%time\n",
    "# Fit base models on entire training dataset\n",
    "models = fit_base_models(X_train, y_train, models)"
   ]
  },
  {
   "cell_type": "code",
   "execution_count": 34,
   "metadata": {},
   "outputs": [],
   "source": [
    "def fit_meta_model(X_train: pd.DataFrame,\n",
    "                   y_train: pd.DataFrame,\n",
    "                   meta_model: BaseEstimator = LinearRegression()) -> BaseEstimator:\n",
    "    \"\"\"\n",
    "    Fits a meta model on the training dataset.\n",
    "    :param X_train: input variables (pandas DataFrame)\n",
    "    :param y_train: target variables (pandas DataFrame)\n",
    "    :param meta_model: sklearn regression estimator class\n",
    "    :return: fitted sklearn model\n",
    "    \"\"\"\n",
    "    model = meta_model\n",
    "    model.fit(X_train, y_train)\n",
    "    return model"
   ]
  },
  {
   "cell_type": "code",
   "execution_count": 35,
   "metadata": {},
   "outputs": [
    {
     "name": "stdout",
     "output_type": "stream",
     "text": [
      "CPU times: user 3.1 ms, sys: 906 µs, total: 4.01 ms\n",
      "Wall time: 3.16 ms\n"
     ]
    }
   ],
   "source": [
    "%%time\n",
    "# Fit the meta model (using sklearn.linear_model.LinearRegression)\n",
    "meta_model = fit_meta_model(meta_X, meta_y)"
   ]
  },
  {
   "cell_type": "code",
   "execution_count": 36,
   "metadata": {},
   "outputs": [],
   "source": [
    "def get_rmse(observed: pd.Series, predicted: pd.Series) -> np.float:\n",
    "    \"\"\"\n",
    "    Calculates RMSE - Root Mean Squared Error between two series\n",
    "    :param observed: pandas series with observed values (the truth)\n",
    "    :param predicted: pandas series with predicted values\n",
    "    :return: RMSE value\n",
    "    \"\"\"\n",
    "    mse = mean_squared_error(observed, predicted)\n",
    "    rmse = round(np.sqrt(mse), 4)\n",
    "    return rmse"
   ]
  },
  {
   "cell_type": "code",
   "execution_count": 37,
   "metadata": {},
   "outputs": [],
   "source": [
    "def evaluate_models(X_test: pd.DataFrame, y_test: pd.DataFrame, models: list) -> None:\n",
    "    \"\"\"\n",
    "    Evaluates a list of models on a dataset using RMSE (Root Mean Squared Error).\n",
    "    :param X_test: input variables (pandas DataFrame)\n",
    "    :param y_test: target variables (pandas DataFrame)\n",
    "    :param models: list of base models\n",
    "    :return: None\n",
    "    \"\"\"\n",
    "    for model in models:\n",
    "        yhat = model.predict(X_test)\n",
    "        #logger.info(f'{model.__class__.__name__} RMSE {get_rmse(y_test, yhat)}')\n",
    "        print(f'{model.__class__.__name__} RMSE {get_rmse(y_test, yhat)}')"
   ]
  },
  {
   "cell_type": "code",
   "execution_count": 38,
   "metadata": {},
   "outputs": [
    {
     "name": "stdout",
     "output_type": "stream",
     "text": [
      "LinearRegression RMSE 11.305\n",
      "BaggingRegressor RMSE 11.3016\n"
     ]
    }
   ],
   "source": [
    "# Evaluate the base models on the holdout (test) dataset\n",
    "evaluate_models(X_test, y_test, models)"
   ]
  },
  {
   "cell_type": "code",
   "execution_count": 39,
   "metadata": {},
   "outputs": [],
   "source": [
    "def predict_with_super_learner(X_test: pd.DataFrame,\n",
    "                               y_test: pd.DataFrame,\n",
    "                               models: list,\n",
    "                               meta_model: BaseEstimator) -> (pd.DataFrame, pd.DataFrame):\n",
    "    \"\"\"\n",
    "    Makes predictions with stacked (meta) model.\n",
    "    :param X_test: input variables (pandas DataFrame)\n",
    "    :param y_test: target variables (pandas DataFrame)\n",
    "    :param models: list of trained base models\n",
    "    :param meta_model: sklearn model used for stacking\n",
    "    :return: tuple of two pandas DataFrames, one with meta-model predictions, and second with\n",
    "    corresponding target variables (a copy of y_test)\n",
    "    \"\"\"\n",
    "    # yhats = y_test.copy()\n",
    "\n",
    "    # Prepare empty data frame with column names (columns as models)\n",
    "    columns = [type(model).__name__ for model in models]\n",
    "    # and add target column\n",
    "    columns = columns.append(y_test.columns[0])\n",
    "    models_yhat = pd.DataFrame(columns=columns)\n",
    "\n",
    "    # Add target variable\n",
    "    yhats = y_test.copy()\n",
    "\n",
    "    for model in models:\n",
    "        model_name = type(model).__name__\n",
    "        yhat = model.predict(X_test)\n",
    "        #logger.info(model_name)\n",
    "        print(model_name)\n",
    "        #logger.debug(f'yhat.shape {yhat.shape}')\n",
    "\n",
    "        # Build results data frame, models as features\n",
    "        yhats[f'{model_name}'] = yhat\n",
    "\n",
    "    models_yhat = pd.concat([models_yhat, yhats])\n",
    "    # Take the target variable out from the dataset\n",
    "    meta_target = models_yhat.pop(y_test.columns[0]).to_frame()\n",
    "\n",
    "    # Predict\n",
    "    meta_yhat = meta_model.predict(models_yhat)\n",
    "\n",
    "    return meta_yhat, meta_target"
   ]
  },
  {
   "cell_type": "markdown",
   "metadata": {},
   "source": [
    "## Predict with Super learner (on test data)"
   ]
  },
  {
   "cell_type": "code",
   "execution_count": 40,
   "metadata": {},
   "outputs": [
    {
     "name": "stdout",
     "output_type": "stream",
     "text": [
      "LinearRegression\n",
      "BaggingRegressor\n",
      "Super Learner RMSE 11.2233\n"
     ]
    }
   ],
   "source": [
    "# Use the super learner (base and meta models) to make predictions on the holdout dataset \n",
    "# and evaluate the performance of the approach\n",
    "meta_yhat, meta_target = predict_with_super_learner(X_test, y_test.to_frame(), models, meta_model)\n",
    "print(f'Super Learner RMSE {get_rmse(y_test, meta_yhat)}')"
   ]
  },
  {
   "cell_type": "code",
   "execution_count": null,
   "metadata": {},
   "outputs": [],
   "source": []
  }
 ],
 "metadata": {
  "kernelspec": {
   "display_name": "Python 3",
   "language": "python",
   "name": "python3"
  },
  "language_info": {
   "codemirror_mode": {
    "name": "ipython",
    "version": 3
   },
   "file_extension": ".py",
   "mimetype": "text/x-python",
   "name": "python",
   "nbconvert_exporter": "python",
   "pygments_lexer": "ipython3",
   "version": "3.7.6"
  }
 },
 "nbformat": 4,
 "nbformat_minor": 4
}
