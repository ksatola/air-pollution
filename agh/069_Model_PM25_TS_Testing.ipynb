{
 "cells": [
  {
   "cell_type": "markdown",
   "metadata": {},
   "source": [
    "```\n",
    "From: https://github.com/ksatola\n",
    "Version: 0.1.0\n",
    "```"
   ]
  },
  {
   "cell_type": "markdown",
   "metadata": {},
   "source": [
    "# Model - PM2.5 - Autoregression (AR)"
   ]
  },
  {
   "cell_type": "markdown",
   "metadata": {},
   "source": [
    "## Contents\n",
    "\n",
    "- [Autoregression (AR) modelling](#base)\n",
    "- Hourly forecast\n",
    "    - [Load hourly data](#data_h)\n",
    "    - [Modelling (train, predict/validate)](#model_h)\n",
    "- Daily forecast\n",
    "    - [Load daily data](#data_d)\n",
    "    - [Modelling](#model_d)"
   ]
  },
  {
   "cell_type": "code",
   "execution_count": 37,
   "metadata": {},
   "outputs": [
    {
     "name": "stdout",
     "output_type": "stream",
     "text": [
      "The autoreload extension is already loaded. To reload it, use:\n",
      "  %reload_ext autoreload\n"
     ]
    }
   ],
   "source": [
    "%load_ext autoreload"
   ]
  },
  {
   "cell_type": "code",
   "execution_count": 38,
   "metadata": {},
   "outputs": [],
   "source": [
    "%autoreload 2"
   ]
  },
  {
   "cell_type": "code",
   "execution_count": 39,
   "metadata": {},
   "outputs": [],
   "source": [
    "import sys\n",
    "sys.path.insert(0, '../src')"
   ]
  },
  {
   "cell_type": "code",
   "execution_count": 40,
   "metadata": {},
   "outputs": [],
   "source": [
    "import warnings\n",
    "warnings.filterwarnings('ignore')"
   ]
  },
  {
   "cell_type": "code",
   "execution_count": 41,
   "metadata": {},
   "outputs": [],
   "source": [
    "import pandas as pd \n",
    "import numpy as np\n",
    "\n",
    "from pandas.plotting import lag_plot\n",
    "from pandas.plotting import autocorrelation_plot\n",
    "\n",
    "from statsmodels.graphics.tsaplots import plot_acf\n",
    "\n",
    "from statsmodels.tsa.ar_model import AR\n",
    "from statsmodels.tsa.arima_model import ARIMA\n",
    "from statsmodels.tsa.arima_model import ARMA\n",
    "\n",
    "import matplotlib.pyplot as plt\n",
    "%matplotlib inline"
   ]
  },
  {
   "cell_type": "code",
   "execution_count": 43,
   "metadata": {},
   "outputs": [
    {
     "ename": "ImportError",
     "evalue": "cannot import name 'get_mean_folds_rmse_for_n_prediction_points' from 'measure' (../src/measure/__init__.py)",
     "output_type": "error",
     "traceback": [
      "\u001b[0;31m---------------------------------------------------------------------------\u001b[0m",
      "\u001b[0;31mImportError\u001b[0m                               Traceback (most recent call last)",
      "\u001b[0;32m<ipython-input-43-bb8ccd0ae658>\u001b[0m in \u001b[0;36m<module>\u001b[0;34m\u001b[0m\n\u001b[1;32m      7\u001b[0m )\n\u001b[1;32m      8\u001b[0m \u001b[0;34m\u001b[0m\u001b[0m\n\u001b[0;32m----> 9\u001b[0;31m from measure import (\n\u001b[0m\u001b[1;32m     10\u001b[0m     \u001b[0mget_model_power\u001b[0m\u001b[0;34m,\u001b[0m\u001b[0;34m\u001b[0m\u001b[0;34m\u001b[0m\u001b[0m\n\u001b[1;32m     11\u001b[0m     \u001b[0mget_rmse\u001b[0m\u001b[0;34m,\u001b[0m\u001b[0;34m\u001b[0m\u001b[0;34m\u001b[0m\u001b[0m\n",
      "\u001b[0;31mImportError\u001b[0m: cannot import name 'get_mean_folds_rmse_for_n_prediction_points' from 'measure' (../src/measure/__init__.py)"
     ]
    }
   ],
   "source": [
    "from model import (\n",
    "    get_pm25_data_for_modelling,\n",
    "    get_best_arima_params_for_time_series,\n",
    "    get_df_for_lags_columns,\n",
    "    split_df_for_ts_modelling_offset,\n",
    "    predict_ar\n",
    ")\n",
    "\n",
    "from measure import (\n",
    "    get_model_power,\n",
    "    get_rmse,\n",
    "    walk_forward_ts_model_validation,\n",
    "    get_mean_folds_rmse_for_n_prediction_points,\n",
    "    prepare_data_for_visualization\n",
    ")\n",
    "\n",
    "from plot import (\n",
    "    #plot_train_test_predicted,\n",
    "    plot_observed_vs_predicted,\n",
    "    plot_observations_to_predictions_relationship,\n",
    "    #fit_theoretical_dist_and_plot,\n",
    "    plot_observed_vs_predicted_with_error\n",
    ")\n",
    "\n",
    "from stats import (\n",
    "    adfuller_test\n",
    ")\n",
    "\n",
    "from logger import logger"
   ]
  },
  {
   "cell_type": "markdown",
   "metadata": {},
   "source": [
    "---\n",
    "<a id='base'></a>\n",
    "\n",
    "## Autoregression (AR) modelling\n",
    "\n",
    "Autoregression modeling is a modeling technique used for time series data that assumes linear continuation of the series so that previous values in the time series can be used to predict futures values. \n",
    "\n",
    "Autoregression technique is similar to linear regression where, you’re taking all of the previous data points to build a model to predict a future data point using a simple linear model. With the autoregression model, your’e using previous data points and using them to predict future data point(s) but with multiple lag variables."
   ]
  },
  {
   "cell_type": "markdown",
   "metadata": {},
   "source": [
    "---\n",
    "<a id='data_h'></a>\n",
    "\n",
    "## Load hourly data"
   ]
  },
  {
   "cell_type": "code",
   "execution_count": 10,
   "metadata": {},
   "outputs": [
    {
     "name": "stderr",
     "output_type": "stream",
     "text": [
      "common.py | 42 | get_pm25_data_for_modelling | 08-Jun-20 22:00:09 | INFO: Dataframe loaded: /Users/ksatola/Documents/git/air-pollution/agh/data/dfpm25_2008-2018_hourly.hdf\n",
      "common.py | 43 | get_pm25_data_for_modelling | 08-Jun-20 22:00:09 | INFO: Dataframe size: (96388, 1)\n"
     ]
    },
    {
     "data": {
      "text/html": [
       "<div>\n",
       "<style scoped>\n",
       "    .dataframe tbody tr th:only-of-type {\n",
       "        vertical-align: middle;\n",
       "    }\n",
       "\n",
       "    .dataframe tbody tr th {\n",
       "        vertical-align: top;\n",
       "    }\n",
       "\n",
       "    .dataframe thead th {\n",
       "        text-align: right;\n",
       "    }\n",
       "</style>\n",
       "<table border=\"1\" class=\"dataframe\">\n",
       "  <thead>\n",
       "    <tr style=\"text-align: right;\">\n",
       "      <th></th>\n",
       "      <th>pm25</th>\n",
       "    </tr>\n",
       "    <tr>\n",
       "      <th>Datetime</th>\n",
       "      <th></th>\n",
       "    </tr>\n",
       "  </thead>\n",
       "  <tbody>\n",
       "    <tr>\n",
       "      <th>2008-01-01 01:00:00</th>\n",
       "      <td>92.0</td>\n",
       "    </tr>\n",
       "    <tr>\n",
       "      <th>2008-01-01 02:00:00</th>\n",
       "      <td>81.0</td>\n",
       "    </tr>\n",
       "    <tr>\n",
       "      <th>2008-01-01 03:00:00</th>\n",
       "      <td>73.0</td>\n",
       "    </tr>\n",
       "    <tr>\n",
       "      <th>2008-01-01 04:00:00</th>\n",
       "      <td>60.5</td>\n",
       "    </tr>\n",
       "    <tr>\n",
       "      <th>2008-01-01 05:00:00</th>\n",
       "      <td>61.0</td>\n",
       "    </tr>\n",
       "  </tbody>\n",
       "</table>\n",
       "</div>"
      ],
      "text/plain": [
       "                     pm25\n",
       "Datetime                 \n",
       "2008-01-01 01:00:00  92.0\n",
       "2008-01-01 02:00:00  81.0\n",
       "2008-01-01 03:00:00  73.0\n",
       "2008-01-01 04:00:00  60.5\n",
       "2008-01-01 05:00:00  61.0"
      ]
     },
     "execution_count": 10,
     "metadata": {},
     "output_type": "execute_result"
    }
   ],
   "source": [
    "dfh = get_pm25_data_for_modelling('ts', 'h')\n",
    "dfh.head()"
   ]
  },
  {
   "cell_type": "code",
   "execution_count": 11,
   "metadata": {},
   "outputs": [],
   "source": [
    "df = dfh.copy()"
   ]
  },
  {
   "cell_type": "code",
   "execution_count": 12,
   "metadata": {},
   "outputs": [],
   "source": [
    "model_name = 'AR'"
   ]
  },
  {
   "cell_type": "code",
   "execution_count": 13,
   "metadata": {},
   "outputs": [],
   "source": [
    "# Define first past/future cutoff point in time offset (1 year of data)\n",
    "cut_off_offset = 365*24 # for hourly data\n",
    "#cut_off_offset = 365 # for daily data\n",
    "\n",
    "# Predict for X points\n",
    "n_pred_points = 24 # for hourly data\n",
    "#n_pred_points = 7 # for daily data\n",
    "\n",
    "# https://pandas.pydata.org/pandas-docs/stable/user_guide/timeseries.html#offset-aliases\n",
    "period = 'H' # for hourly data\n",
    "#period = 'D' # for daily data"
   ]
  },
  {
   "cell_type": "markdown",
   "metadata": {},
   "source": [
    "### Train test split"
   ]
  },
  {
   "cell_type": "code",
   "execution_count": 14,
   "metadata": {},
   "outputs": [
    {
     "name": "stderr",
     "output_type": "stream",
     "text": [
      "common.py | 159 | split_df_for_ts_modelling_offset | 08-Jun-20 22:00:15 | INFO: Observations: 96388\n",
      "common.py | 160 | split_df_for_ts_modelling_offset | 08-Jun-20 22:00:15 | INFO: Training Observations: 87627\n",
      "common.py | 161 | split_df_for_ts_modelling_offset | 08-Jun-20 22:00:15 | INFO: Testing Observations: 8760\n",
      "common.py | 163 | split_df_for_ts_modelling_offset | 08-Jun-20 22:00:15 | INFO: (96388, 1), (87627, 1), (8760, 1), 96387\n"
     ]
    }
   ],
   "source": [
    "# Create train / test datasets (with the offset of cut_off_offset datapoints from the end)\n",
    "df_train, df_test = split_df_for_ts_modelling_offset(data=df, cut_off_offset=cut_off_offset, period=period)"
   ]
  },
  {
   "cell_type": "markdown",
   "metadata": {},
   "source": [
    "---\n",
    "<a id='model_h'></a>\n",
    "\n",
    "## Modelling (train, predict/validate)\n",
    "\n",
    "In statistical time series models, fitting the model means estimating its paraneters. In case of AR model, the only parameter to estimate is number of autocorrelated lags."
   ]
  },
  {
   "cell_type": "code",
   "execution_count": 15,
   "metadata": {},
   "outputs": [],
   "source": [
    "%%time\n",
    "# Train the model\n",
    "model = AR(df_train)\n",
    "model_fitted = model.fit()"
   ]
  },
  {
   "cell_type": "markdown",
   "metadata": {},
   "source": [
    "In the above, we are simply creating a testing and training dataset and then creating and fitting our AR() model. The AR() function tries to estimate the number of lags for the prediction. Once you’ve fit the model, you can look at the chosen lag and parameters of the model using some simple print statements."
   ]
  },
  {
   "cell_type": "code",
   "execution_count": 16,
   "metadata": {},
   "outputs": [
    {
     "data": {
      "text/plain": [
       "<statsmodels.tsa.ar_model.ARResultsWrapper at 0x12d607f10>"
      ]
     },
     "execution_count": 16,
     "metadata": {},
     "output_type": "execute_result"
    }
   ],
   "source": [
    "model_fitted"
   ]
  },
  {
   "cell_type": "code",
   "execution_count": 17,
   "metadata": {},
   "outputs": [
    {
     "name": "stdout",
     "output_type": "stream",
     "text": [
      "The lag value chose is: 65\n"
     ]
    }
   ],
   "source": [
    "print(f'The lag value chose is: {model_fitted.k_ar}')"
   ]
  },
  {
   "cell_type": "code",
   "execution_count": 18,
   "metadata": {},
   "outputs": [
    {
     "name": "stdout",
     "output_type": "stream",
     "text": [
      "The coefficients of the model are:\n",
      " const       0.699417\n",
      "L1.pm25     1.217328\n",
      "L2.pm25    -0.221059\n",
      "L3.pm25    -0.015971\n",
      "L4.pm25    -0.037128\n",
      "              ...   \n",
      "L61.pm25    0.005867\n",
      "L62.pm25   -0.009427\n",
      "L63.pm25    0.008593\n",
      "L64.pm25   -0.017767\n",
      "L65.pm25    0.023927\n",
      "Length: 66, dtype: float64\n"
     ]
    }
   ],
   "source": [
    "print(f'The coefficients of the model are:\\n {model_fitted.params}')"
   ]
  },
  {
   "cell_type": "code",
   "execution_count": 24,
   "metadata": {},
   "outputs": [
    {
     "name": "stdout",
     "output_type": "stream",
     "text": [
      "8760\n",
      "                     observed  predicted      error  abs_error\n",
      "Datetime                                                      \n",
      "2018-01-01 01:00:00  84.90085  18.256931  66.643919  66.643919\n",
      "2018-01-01 02:00:00  67.44355  15.665441  51.778109  51.778109\n",
      "2018-01-01 03:00:00  76.66860  15.485031  61.183569  61.183569\n",
      "2018-01-01 04:00:00  64.96090  15.694880  49.266020  49.266020\n",
      "2018-01-01 05:00:00  64.14875  17.793727  46.355023  46.355023\n",
      "2018-01-01 06:00:00  76.06410  19.353774  56.710326  56.710326\n",
      "2018-01-01 07:00:00  69.19180  20.815613  48.376187  48.376187\n",
      "2018-01-01 08:00:00  48.51735  20.968488  27.548862  27.548862\n",
      "2018-01-01 09:00:00  45.92715  20.423024  25.504126  25.504126\n",
      "2018-01-01 10:00:00  44.19595  18.709182  25.486768  25.486768\n",
      "2018-01-01 11:00:00  39.27865  17.533684  21.744966  21.744966\n",
      "2018-01-01 12:00:00  32.61625  16.494254  16.121996  16.121996\n",
      "2018-01-01 13:00:00  34.09440  16.915910  17.178490  17.178490\n",
      "2018-01-01 14:00:00  33.51795  17.853081  15.664869  15.664869\n",
      "2018-01-01 15:00:00  41.24420  19.380832  21.863368  21.863368\n",
      "2018-01-01 16:00:00  49.08765  21.370328  27.717322  27.717322\n",
      "2018-01-01 17:00:00  51.24645  24.365030  26.881420  26.881420\n",
      "2018-01-01 18:00:00  41.64520  27.020634  14.624566  14.624566\n",
      "2018-01-01 19:00:00  40.98405  29.396926  11.587124  11.587124\n",
      "2018-01-01 20:00:00  45.36865  30.724681  14.643969  14.643969\n",
      "2018-01-01 21:00:00  58.24830  31.317142  26.931158  26.931158\n",
      "2018-01-01 22:00:00  63.21335  30.628366  32.584984  32.584984\n",
      "2018-01-01 23:00:00  78.28435  29.582203  48.702147  48.702147\n",
      "2018-01-02 00:00:00  91.30400  27.710736  63.593264  63.593264\n",
      "CPU times: user 21min 30s, sys: 6 s, total: 21min 36s\n",
      "Wall time: 21min 47s\n"
     ]
    }
   ],
   "source": [
    "%%time\n",
    "# Validate result on test\n",
    "# Creates 365*60*24 models for hourly data, or 365*7 models for hourly data\n",
    "fold_results = walk_forward_ts_model_validation(data=df, \n",
    "                                         col_name='pm25', \n",
    "                                         model_params=model_fitted.params[:], \n",
    "                                         cut_off_offset=cut_off_offset, \n",
    "                                         n_pred_points=n_pred_points, \n",
    "                                         n_folds=-1)\n",
    "print(len(fold_results))\n",
    "print(fold_results[0])"
   ]
  },
  {
   "cell_type": "code",
   "execution_count": null,
   "metadata": {},
   "outputs": [],
   "source": [
    "8760\n",
    "                     observed  predicted      error  abs_error\n",
    "Datetime                                                      \n",
    "2018-01-01 01:00:00  84.90085  18.256931  66.643919  66.643919\n",
    "2018-01-01 02:00:00  67.44355  15.665441  51.778109  51.778109\n",
    "2018-01-01 03:00:00  76.66860  15.485031  61.183569  61.183569\n",
    "2018-01-01 04:00:00  64.96090  15.694880  49.266020  49.266020\n",
    "2018-01-01 05:00:00  64.14875  17.793727  46.355023  46.355023\n",
    "2018-01-01 06:00:00  76.06410  19.353774  56.710326  56.710326\n",
    "2018-01-01 07:00:00  69.19180  20.815613  48.376187  48.376187\n",
    "2018-01-01 08:00:00  48.51735  20.968488  27.548862  27.548862\n",
    "2018-01-01 09:00:00  45.92715  20.423024  25.504126  25.504126\n",
    "2018-01-01 10:00:00  44.19595  18.709182  25.486768  25.486768\n",
    "2018-01-01 11:00:00  39.27865  17.533684  21.744966  21.744966\n",
    "2018-01-01 12:00:00  32.61625  16.494254  16.121996  16.121996\n",
    "2018-01-01 13:00:00  34.09440  16.915910  17.178490  17.178490\n",
    "2018-01-01 14:00:00  33.51795  17.853081  15.664869  15.664869\n",
    "2018-01-01 15:00:00  41.24420  19.380832  21.863368  21.863368\n",
    "2018-01-01 16:00:00  49.08765  21.370328  27.717322  27.717322\n",
    "2018-01-01 17:00:00  51.24645  24.365030  26.881420  26.881420\n",
    "2018-01-01 18:00:00  41.64520  27.020634  14.624566  14.624566\n",
    "2018-01-01 19:00:00  40.98405  29.396926  11.587124  11.587124\n",
    "2018-01-01 20:00:00  45.36865  30.724681  14.643969  14.643969\n",
    "2018-01-01 21:00:00  58.24830  31.317142  26.931158  26.931158\n",
    "2018-01-01 22:00:00  63.21335  30.628366  32.584984  32.584984\n",
    "2018-01-01 23:00:00  78.28435  29.582203  48.702147  48.702147\n",
    "2018-01-02 00:00:00  91.30400  27.710736  63.593264  63.593264\n",
    "CPU times: user 21min 30s, sys: 6 s, total: 21min 36s\n",
    "Wall time: 21min 47s"
   ]
  },
  {
   "cell_type": "code",
   "execution_count": 25,
   "metadata": {},
   "outputs": [
    {
     "name": "stderr",
     "output_type": "stream",
     "text": [
      "[autoreload of measure failed: Traceback (most recent call last):\n",
      "  File \"/usr/local/lib/python3.7/site-packages/IPython/extensions/autoreload.py\", line 245, in check\n",
      "    superreload(m, reload, self.old_objects)\n",
      "  File \"/usr/local/lib/python3.7/site-packages/IPython/extensions/autoreload.py\", line 434, in superreload\n",
      "    module = reload(module)\n",
      "  File \"/usr/local/Cellar/python/3.7.6_1/Frameworks/Python.framework/Versions/3.7/lib/python3.7/imp.py\", line 314, in reload\n",
      "    return importlib.reload(module)\n",
      "  File \"/usr/local/Cellar/python/3.7.6_1/Frameworks/Python.framework/Versions/3.7/lib/python3.7/importlib/__init__.py\", line 169, in reload\n",
      "    _bootstrap._exec(spec, module)\n",
      "  File \"<frozen importlib._bootstrap>\", line 630, in _exec\n",
      "  File \"<frozen importlib._bootstrap_external>\", line 728, in exec_module\n",
      "  File \"<frozen importlib._bootstrap>\", line 219, in _call_with_frames_removed\n",
      "  File \"../src/measure/__init__.py\", line 13, in <module>\n",
      "    from .validation import (\n",
      "ImportError: cannot import name 'get_mean_folds_rmse_for_n_prediction_points' from 'measure.validation' (../src/measure/validation.py)\n",
      "]\n"
     ]
    },
    {
     "ename": "NameError",
     "evalue": "name 'get_mean_folds_rmse_for_n_prediction_points' is not defined",
     "output_type": "error",
     "traceback": [
      "\u001b[0;31m---------------------------------------------------------------------------\u001b[0m",
      "\u001b[0;31mNameError\u001b[0m                                 Traceback (most recent call last)",
      "\u001b[0;32m<timed exec>\u001b[0m in \u001b[0;36m<module>\u001b[0;34m\u001b[0m\n",
      "\u001b[0;31mNameError\u001b[0m: name 'get_mean_folds_rmse_for_n_prediction_points' is not defined"
     ]
    }
   ],
   "source": [
    "%%time\n",
    "# Returns a list of mean folds RMSE for n_pred_points (starting at 1 point forecast)\n",
    "res = get_mean_folds_rmse_for_n_prediction_points(fold_results=fold_results, n_pred_points=n_pred_points)\n",
    "res"
   ]
  },
  {
   "cell_type": "code",
   "execution_count": null,
   "metadata": {},
   "outputs": [],
   "source": [
    "observed, predicted, error = prepare_data_for_visualization(fold_results=fold_results, \n",
    "                                   show_n_points_of_forecast=show_n_points_of_forecast, \n",
    "                                   n_pred_points=n_pred_points)"
   ]
  },
  {
   "cell_type": "code",
   "execution_count": null,
   "metadata": {},
   "outputs": [],
   "source": [
    "# Zooming\n",
    "start_date = '2018-11'\n",
    "end_date = '2018-11-30'"
   ]
  },
  {
   "cell_type": "code",
   "execution_count": null,
   "metadata": {},
   "outputs": [],
   "source": [
    "plot_observed_vs_predicted(observed=observed[start_date:end_date],\n",
    "                           predicted=predicted[start_date:end_date],\n",
    "                           num_points=cut_off_offset,\n",
    "                           title=model_name,\n",
    "                           label_observed='PM2.5 observed',\n",
    "                           label_predicted='PM2.5 predicted',\n",
    "                           show_grid = True,\n",
    "                           save_path='images/pm25_obs_vs_pred_365_h_ref_simple_averageXXXREMOVE.png')"
   ]
  },
  {
   "cell_type": "code",
   "execution_count": null,
   "metadata": {},
   "outputs": [],
   "source": [
    "# Zooming\n",
    "start_date = '2018-11'\n",
    "end_date = '2018-11-30'"
   ]
  },
  {
   "cell_type": "code",
   "execution_count": null,
   "metadata": {},
   "outputs": [],
   "source": [
    "plot_observed_vs_predicted_with_error(observed=observed[start_date:end_date],\n",
    "                                      predicted=predicted[start_date:end_date],\n",
    "                                      error=error[start_date:end_date],\n",
    "                                      num_points=cut_off_offset,\n",
    "                                      title=model_name,\n",
    "                                      label_observed='PM2.5 observed',\n",
    "                                      label_predicted='PM2.5 predicted', \n",
    "                                      label_error='Mean RMSE predition on test data',\n",
    "                                      show_grid = True,\n",
    "                                      save_path='images/pm25_obs_vs_pred_365_h_ref_simple_averageXXXREMOVE.png')"
   ]
  },
  {
   "cell_type": "code",
   "execution_count": null,
   "metadata": {},
   "outputs": [],
   "source": [
    "# Zooming\n",
    "start_date = '2018-11'\n",
    "end_date = '2018-11-30'"
   ]
  },
  {
   "cell_type": "code",
   "execution_count": null,
   "metadata": {},
   "outputs": [],
   "source": [
    "plot_observed_vs_predicted_with_error(observed=observed[start_date:end_date],\n",
    "                                      predicted=predicted[start_date:end_date],\n",
    "                                      error=error[start_date:end_date],\n",
    "                                      num_points=cut_off_offset,\n",
    "                                      title=model_name,\n",
    "                                      label_observed='PM2.5 observed',\n",
    "                                      label_predicted='PM2.5 predicted', \n",
    "                                      label_error='Mean RMSE predition on test data',\n",
    "                                      show_grid = True,\n",
    "                                      save_path='images/pm25_obs_vs_pred_365_h_ref_simple_averageXXXREMOVE.png')"
   ]
  },
  {
   "cell_type": "code",
   "execution_count": null,
   "metadata": {},
   "outputs": [],
   "source": []
  },
  {
   "cell_type": "code",
   "execution_count": null,
   "metadata": {},
   "outputs": [],
   "source": [
    "from datetime import datetime"
   ]
  },
  {
   "cell_type": "code",
   "execution_count": null,
   "metadata": {},
   "outputs": [],
   "source": [
    "# make in sample predictions \n",
    "#predictions = model_fitted.predict(start=len(df_train), end=len(df_train) + len(df_test) - 1, dynamic=False)\n",
    "predictions = model_fitted.predict(start=datetime(2017, 1, 1), end=datetime(2019, 1, 1), dynamic=False)"
   ]
  },
  {
   "cell_type": "code",
   "execution_count": null,
   "metadata": {},
   "outputs": [],
   "source": [
    "predictions.shape"
   ]
  },
  {
   "cell_type": "code",
   "execution_count": null,
   "metadata": {},
   "outputs": [],
   "source": [
    "plot_observed_vs_predicted(observed=df_train, \n",
    "                           predicted=predictions, \n",
    "                           num_points=cut_off_offset*2, \n",
    "                           title=model_name,\n",
    "                           label_observed='PM2.5 observed', \n",
    "                           label_predicted='PM2.5 predicted', \n",
    "                           save_path='images/pm25_obs_vs_pred_365_h_ref_simple_averageXXXREMOVE.png')"
   ]
  },
  {
   "cell_type": "code",
   "execution_count": null,
   "metadata": {},
   "outputs": [],
   "source": [
    "predictions"
   ]
  },
  {
   "cell_type": "code",
   "execution_count": null,
   "metadata": {},
   "outputs": [],
   "source": [
    "https://machinelearningmastery.com/make-manual-predictions-arima-models-python/"
   ]
  },
  {
   "cell_type": "code",
   "execution_count": null,
   "metadata": {},
   "outputs": [],
   "source": [
    "# Make out of sample predictions (on a test set)\n",
    "\n"
   ]
  },
  {
   "cell_type": "code",
   "execution_count": null,
   "metadata": {},
   "outputs": [],
   "source": [
    "get_df_for_lags_columns(data=df, col_name='pm25', n_lags=10, remove_nans=True).head(10+1)"
   ]
  },
  {
   "cell_type": "code",
   "execution_count": null,
   "metadata": {},
   "outputs": [],
   "source": [
    "model = ARIMA(df_train, order=(1,0,0))\n",
    "model_fit = model.fit()\n",
    "ar_coef = model_fit.arparams\n",
    "predict(ar_coef, df_test)"
   ]
  },
  {
   "cell_type": "code",
   "execution_count": null,
   "metadata": {},
   "outputs": [],
   "source": [
    "#history = [x for x in df_train]\n",
    "#print(history)\n",
    "predictions = []\n",
    "\n",
    "for t in range(len(df_test)):\n",
    "    model = ARIMA(df_train, order=(1,0,0))\n",
    "    model_fit = model.fit()\n",
    "    ar_coef = model_fit.arparams\n",
    "    \n",
    "    yhat = predict(ar_coef, history)\n",
    "    predictions.append(yhat)\n",
    "    obs = df_test[t]\n",
    "    history.append(obs)\n",
    "    print('>predicted=%.3f, expected=%.3f' % (yhat, obs))\n",
    "\n",
    "rmse = sqrt(mean_squared_error(test, predictions))\n",
    "print('Test RMSE: %.3f' % rmse)"
   ]
  },
  {
   "cell_type": "code",
   "execution_count": null,
   "metadata": {},
   "outputs": [],
   "source": []
  },
  {
   "cell_type": "code",
   "execution_count": null,
   "metadata": {},
   "outputs": [],
   "source": []
  },
  {
   "cell_type": "code",
   "execution_count": null,
   "metadata": {},
   "outputs": [],
   "source": []
  },
  {
   "cell_type": "code",
   "execution_count": null,
   "metadata": {},
   "outputs": [],
   "source": [
    "model.params"
   ]
  },
  {
   "cell_type": "code",
   "execution_count": null,
   "metadata": {},
   "outputs": [],
   "source": [
    "series = df_train['pm25']\n",
    "test_series = df_test['pm25']\n",
    "\n",
    "print(series)\n",
    "\n",
    "model_fitted = ARIMA(series, order).fit()\n",
    "print(model_fitted.params)\n",
    "\n",
    "test_model = ARIMA(test_series, order).fit()\n",
    "test_model.predict()#, start=0, end=len(test_series)-1)"
   ]
  },
  {
   "cell_type": "code",
   "execution_count": null,
   "metadata": {},
   "outputs": [],
   "source": [
    "#%%time\n",
    "# Make out of sample predictions (on a test set)\n",
    "#p = model_fitted.k_ar\n",
    "#p = 3\n",
    "order = (3, 0, 0)\n",
    "train_model = ARIMA(df_train, order=order).fit()\n",
    "test_model = ARIMA(df_test, order=order).fit()\n",
    "#predictions = \n",
    "test_model.predict(test_model.params)"
   ]
  },
  {
   "cell_type": "code",
   "execution_count": null,
   "metadata": {},
   "outputs": [],
   "source": [
    "df_test['pm25'].head()"
   ]
  },
  {
   "cell_type": "code",
   "execution_count": null,
   "metadata": {},
   "outputs": [],
   "source": [
    "predictions.head()"
   ]
  },
  {
   "cell_type": "code",
   "execution_count": null,
   "metadata": {},
   "outputs": [],
   "source": [
    "(df_test.shape, predictions.shape)"
   ]
  },
  {
   "cell_type": "code",
   "execution_count": null,
   "metadata": {},
   "outputs": [],
   "source": []
  },
  {
   "cell_type": "code",
   "execution_count": null,
   "metadata": {},
   "outputs": [],
   "source": []
  },
  {
   "cell_type": "code",
   "execution_count": null,
   "metadata": {},
   "outputs": [],
   "source": []
  },
  {
   "cell_type": "code",
   "execution_count": null,
   "metadata": {},
   "outputs": [],
   "source": []
  },
  {
   "cell_type": "code",
   "execution_count": null,
   "metadata": {},
   "outputs": [],
   "source": []
  },
  {
   "cell_type": "code",
   "execution_count": null,
   "metadata": {},
   "outputs": [],
   "source": [
    "plot_observed_vs_predicted(observed=df_test, \n",
    "                           predicted=predictions, \n",
    "                           num_points=cut_off_offset, \n",
    "                           title=model_name,\n",
    "                           label_observed='PM2.5 observed', \n",
    "                           label_predicted='PM2.5 predicted', \n",
    "                           save_path='images/pm25_obs_vs_pred_365_h_ref_simple_averageXXXXXXDELETE.png')"
   ]
  },
  {
   "cell_type": "markdown",
   "metadata": {},
   "source": [
    "---\n",
    "<a id='model_h'></a>\n",
    "\n",
    "## Modellingxxx"
   ]
  },
  {
   "cell_type": "markdown",
   "metadata": {},
   "source": [
    "In statistical time series models, fitting the model means estimating its paraneters. In case of AR model, the only parameter to estimate is number of autocorrelated lags"
   ]
  },
  {
   "cell_type": "code",
   "execution_count": null,
   "metadata": {},
   "outputs": [],
   "source": [
    "%%time\n",
    "# Find best parameters (grid-search)\n",
    "best_results = get_best_arima_params_for_time_series(data=df, \n",
    "                                                     seasonal=False, \n",
    "                                                     max_param_range_p=5, \n",
    "                                                     max_param_range_d=0, \n",
    "                                                     max_param_range_q=0) # AR model"
   ]
  },
  {
   "cell_type": "code",
   "execution_count": null,
   "metadata": {},
   "outputs": [],
   "source": [
    "best_results"
   ]
  },
  {
   "cell_type": "code",
   "execution_count": null,
   "metadata": {},
   "outputs": [],
   "source": [
    "SARIMAX(5, 0, 0) - AIC:687066.8937108214\n",
    "Best model is ARIMA(5, 0, 0) with AIC of 687066.8937108214\n",
    "CPU times: user 20.8 s, sys: 2.4 s, total: 23.2 s\n",
    "Wall time: 8.14 s"
   ]
  },
  {
   "cell_type": "code",
   "execution_count": null,
   "metadata": {},
   "outputs": [],
   "source": [
    "# Estimating model\n",
    "\n",
    "# Fit an AR(5) model\n",
    "model = ARMA(df, order=(5,0))\n",
    "result = model.fit()  # use fit() to estimate model\n",
    "\n",
    "# Estimated parameters\n",
    "print(result.summary())\n",
    "\n",
    "# True parameters\n",
    "print(f'True parameters:\\n{result.params}')"
   ]
  },
  {
   "cell_type": "markdown",
   "metadata": {},
   "source": [
    "**Estimated parameters are close to true parameters. All AR coefficients are statistically significant.**"
   ]
  },
  {
   "cell_type": "code",
   "execution_count": null,
   "metadata": {},
   "outputs": [],
   "source": [
    "df.tail(24)"
   ]
  },
  {
   "cell_type": "code",
   "execution_count": null,
   "metadata": {},
   "outputs": [],
   "source": [
    "# https://www.statsmodels.org/dev/generated/statsmodels.tsa.arima_model.ARMAResults.predict.html#statsmodels.tsa.arima_model.ARMAResults.predict\n",
    "# dynamic = use in-sample predictions\n",
    "pred = result.predict(start='2018-12-31 01:00:00', end='2019-01-01 00:00:00', dynamic=False)\n",
    "pred"
   ]
  },
  {
   "cell_type": "code",
   "execution_count": null,
   "metadata": {},
   "outputs": [],
   "source": [
    "# Forecasting (in sample)\n",
    "# Start the forecast 24 data points before the end of the point series\n",
    "\n",
    "result.plot_predict(start='2018-12-31 01:00:00', end='2019-01-01 00:00:00', dynamic=False)\n",
    "plt.show();"
   ]
  },
  {
   "cell_type": "code",
   "execution_count": null,
   "metadata": {},
   "outputs": [],
   "source": [
    "# Forecasting (out of sample)\n",
    "forecast = result.forecast(24)\n",
    "plt.plot(forecast[0])\n",
    "#plt.ylim(0, 40)\n",
    "plt.show();"
   ]
  },
  {
   "cell_type": "code",
   "execution_count": null,
   "metadata": {},
   "outputs": [],
   "source": [
    "observed = df.iloc[-24:, 0]\n",
    "predicted = pred\n",
    "\n",
    "plot_observed_vs_predicted(observed=observed, \n",
    "                           predicted=predicted, \n",
    "                           num_points=125,\n",
    "                           title=\"AR Forecast\",\n",
    "                           label_observed='Observations', \n",
    "                           label_predicted='Predictions')"
   ]
  },
  {
   "cell_type": "code",
   "execution_count": null,
   "metadata": {},
   "outputs": [],
   "source": [
    "plot_observations_to_predictions_relationship(observed=observed, \n",
    "                                         predicted=predicted, \n",
    "                                         title=\"AR(5)\",\n",
    "                                         label_observed='Observations',\n",
    "                                         label_predicted='Predictions')"
   ]
  },
  {
   "cell_type": "code",
   "execution_count": null,
   "metadata": {},
   "outputs": [],
   "source": [
    "rmse, r = get_model_power(df.iloc[-24:, 0], pred)\n",
    "print(f'Naive forecast RMSE: {rmse:.4f}')\n",
    "print(f'Naive forecast correlation coefficient of the observed-to-predicted values percent change: {r:.4f}')"
   ]
  },
  {
   "cell_type": "markdown",
   "metadata": {},
   "source": [
    "---\n",
    "<a id='data_d'></a>\n",
    "\n",
    "## Load daily data"
   ]
  },
  {
   "cell_type": "code",
   "execution_count": null,
   "metadata": {},
   "outputs": [],
   "source": [
    "data_file = data_path + 'dfpm25_2008-2018_daily.hdf'\n",
    "\n",
    "df = pd.read_hdf(path_or_buf=data_file, key=\"df\")\n",
    "print(f'Dataframe size: {df.shape}')\n",
    "df.head()"
   ]
  },
  {
   "cell_type": "markdown",
   "metadata": {},
   "source": [
    "---\n",
    "<a id='diag_d'></a>\n",
    "\n",
    "## Diagnostics"
   ]
  },
  {
   "cell_type": "code",
   "execution_count": null,
   "metadata": {},
   "outputs": [],
   "source": [
    "# Plot the time series against its lag\n",
    "lag_plot(df)\n",
    "plt.show();"
   ]
  },
  {
   "cell_type": "code",
   "execution_count": null,
   "metadata": {},
   "outputs": [],
   "source": [
    "# Calculate autocorrelation coefficient\n",
    "#values = pd.DataFrame(vacation.values)\n",
    "df1 = pd.concat([df, df.shift(1)], axis=1)\n",
    "df1.columns = ['t', 't-1']\n",
    "#df1.head()\n",
    "df1.corr(method='pearson')"
   ]
  },
  {
   "cell_type": "code",
   "execution_count": null,
   "metadata": {},
   "outputs": [],
   "source": [
    "# Plot the autocorrelation plot of the dataset\n",
    "plt.figure(figsize=(10, 6))\n",
    "autocorrelation_plot(df)\n",
    "plt.show();"
   ]
  },
  {
   "cell_type": "code",
   "execution_count": null,
   "metadata": {},
   "outputs": [],
   "source": [
    "# Plot the AutoCorrelation Function, using candle sticks\n",
    "plt.figure(figsize=(12, 6))\n",
    "fig, (ax) = plt.subplots(1, 1, figsize=(20, 8))\n",
    "plot_acf(df, ax=ax, lags=200)\n",
    "plt.show();"
   ]
  },
  {
   "cell_type": "markdown",
   "metadata": {},
   "source": [
    "---\n",
    "<a id='model_d'></a>\n",
    "\n",
    "## Modelling"
   ]
  },
  {
   "cell_type": "code",
   "execution_count": null,
   "metadata": {},
   "outputs": [],
   "source": [
    "%%time\n",
    "# Find best parameters (grid-search)\n",
    "best_results = get_best_arima_params_for_time_series(data=df, \n",
    "                                                     seasonal=False, \n",
    "                                                     max_param_range_p=5, \n",
    "                                                     max_param_range_d=0, \n",
    "                                                     max_param_range_q=0) # AR model"
   ]
  },
  {
   "cell_type": "code",
   "execution_count": null,
   "metadata": {},
   "outputs": [],
   "source": [
    "best_results"
   ]
  },
  {
   "cell_type": "code",
   "execution_count": null,
   "metadata": {},
   "outputs": [],
   "source": [
    "# Estimating model\n",
    "\n",
    "# Fit an AR(5) model\n",
    "model = ARMA(df, order=(5,0))\n",
    "result = model.fit()  # use fit() to estimate model\n",
    "\n",
    "# Estimated parameters\n",
    "print(result.summary())\n",
    "\n",
    "# True parameters\n",
    "print(f'True parameters:{result.params}')"
   ]
  },
  {
   "cell_type": "markdown",
   "metadata": {},
   "source": [
    "**Estimated parameters are close to true parameters. All AR coefficients but L4 are statistically significant.**"
   ]
  },
  {
   "cell_type": "code",
   "execution_count": null,
   "metadata": {},
   "outputs": [],
   "source": [
    "df.tail(7)"
   ]
  },
  {
   "cell_type": "code",
   "execution_count": null,
   "metadata": {},
   "outputs": [],
   "source": [
    "# https://www.statsmodels.org/dev/generated/statsmodels.tsa.arima_model.ARMAResults.predict.html#statsmodels.tsa.arima_model.ARMAResults.predict\n",
    "# dynamic = use in-sample predictions\n",
    "pred = result.predict(start='2018-12-26', end='2019-01-01', dynamic=False)\n",
    "pred"
   ]
  },
  {
   "cell_type": "code",
   "execution_count": null,
   "metadata": {},
   "outputs": [],
   "source": [
    "# Forecasting (in-sample)\n",
    "# Start the forecast 7 data points before the end of the point series\n",
    "\n",
    "result.plot_predict(start='2018-12-26', end='2019-01-08', dynamic=False)\n",
    "plt.show();"
   ]
  },
  {
   "cell_type": "code",
   "execution_count": null,
   "metadata": {},
   "outputs": [],
   "source": [
    "# Forecasting (out of sample)\n",
    "forecast = result.forecast(7)\n",
    "plt.plot(forecast[0])\n",
    "#plt.ylim(0, 40)\n",
    "plt.show();"
   ]
  },
  {
   "cell_type": "code",
   "execution_count": null,
   "metadata": {},
   "outputs": [],
   "source": [
    "observed = df.iloc[-7:, 0]\n",
    "predicted = pred\n",
    "\n",
    "plot_observed_vs_predicted(observed=observed, \n",
    "                           predicted=predicted, \n",
    "                           num_points=125,\n",
    "                           title=\"AR Forecast\",\n",
    "                           label_observed='Observations', \n",
    "                           label_predicted='Predictions')"
   ]
  },
  {
   "cell_type": "code",
   "execution_count": null,
   "metadata": {},
   "outputs": [],
   "source": [
    "plot_observations_to_predictions_relationship(observed=observed, \n",
    "                                         predicted=predicted, \n",
    "                                         title=\"AR(5)\",\n",
    "                                         label_observed='Observations',\n",
    "                                         label_predicted='Predictions')"
   ]
  },
  {
   "cell_type": "code",
   "execution_count": null,
   "metadata": {},
   "outputs": [],
   "source": [
    "rmse, r = get_model_power(df.iloc[-7:, 0], pred)\n",
    "print(f'Naive forecast RMSE: {rmse:.4f}')\n",
    "print(f'Naive forecast correlation coefficient of the observed-to-predicted values percent change: {r:.4f}')"
   ]
  },
  {
   "cell_type": "code",
   "execution_count": null,
   "metadata": {},
   "outputs": [],
   "source": []
  }
 ],
 "metadata": {
  "kernelspec": {
   "display_name": "Python 3",
   "language": "python",
   "name": "python3"
  },
  "language_info": {
   "codemirror_mode": {
    "name": "ipython",
    "version": 3
   },
   "file_extension": ".py",
   "mimetype": "text/x-python",
   "name": "python",
   "nbconvert_exporter": "python",
   "pygments_lexer": "ipython3",
   "version": "3.7.6"
  }
 },
 "nbformat": 4,
 "nbformat_minor": 4
}
